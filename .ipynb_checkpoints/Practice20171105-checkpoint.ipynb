{
 "cells": [
  {
   "cell_type": "code",
   "execution_count": 78,
   "metadata": {
    "collapsed": false
   },
   "outputs": [],
   "source": [
    "import pandas\n",
    "orders = pandas.read_csv('https://raw.githubusercontent.com/ywchiu/tibamepy/master/data/purchase_order.tab', sep='\\t', header=None)"
   ]
  },
  {
   "cell_type": "code",
   "execution_count": 81,
   "metadata": {
    "collapsed": false
   },
   "outputs": [
    {
     "data": {
      "text/html": [
       "<div>\n",
       "<table border=\"1\" class=\"dataframe\">\n",
       "  <thead>\n",
       "    <tr style=\"text-align: right;\">\n",
       "      <th></th>\n",
       "      <th>Time</th>\n",
       "      <th>Action</th>\n",
       "      <th>User</th>\n",
       "      <th>Product</th>\n",
       "      <th>Quantity</th>\n",
       "      <th>Price</th>\n",
       "    </tr>\n",
       "  </thead>\n",
       "  <tbody>\n",
       "    <tr>\n",
       "      <th>0</th>\n",
       "      <td>2015-07-01 00:00:01</td>\n",
       "      <td>order</td>\n",
       "      <td>U312622727</td>\n",
       "      <td>P0006944501</td>\n",
       "      <td>1</td>\n",
       "      <td>1069.0</td>\n",
       "    </tr>\n",
       "    <tr>\n",
       "      <th>1</th>\n",
       "      <td>2015-07-01 00:00:03</td>\n",
       "      <td>order</td>\n",
       "      <td>U239012343</td>\n",
       "      <td>P0006018073</td>\n",
       "      <td>1</td>\n",
       "      <td>1680.0</td>\n",
       "    </tr>\n",
       "    <tr>\n",
       "      <th>2</th>\n",
       "      <td>2015-07-01 00:00:19</td>\n",
       "      <td>order</td>\n",
       "      <td>U10007697373</td>\n",
       "      <td>P0002267974</td>\n",
       "      <td>1</td>\n",
       "      <td>285.0</td>\n",
       "    </tr>\n",
       "    <tr>\n",
       "      <th>3</th>\n",
       "      <td>2015-07-01 00:01:10</td>\n",
       "      <td>order</td>\n",
       "      <td>U296328517</td>\n",
       "      <td>P0016144236</td>\n",
       "      <td>1</td>\n",
       "      <td>550.0</td>\n",
       "    </tr>\n",
       "    <tr>\n",
       "      <th>4</th>\n",
       "      <td>2015-07-01 00:01:36</td>\n",
       "      <td>order</td>\n",
       "      <td>U300884570</td>\n",
       "      <td>P0014516980122</td>\n",
       "      <td>1</td>\n",
       "      <td>249.0</td>\n",
       "    </tr>\n",
       "  </tbody>\n",
       "</table>\n",
       "</div>"
      ],
      "text/plain": [
       "                  Time Action          User         Product  Quantity   Price\n",
       "0  2015-07-01 00:00:01  order    U312622727     P0006944501         1  1069.0\n",
       "1  2015-07-01 00:00:03  order    U239012343     P0006018073         1  1680.0\n",
       "2  2015-07-01 00:00:19  order  U10007697373     P0002267974         1   285.0\n",
       "3  2015-07-01 00:01:10  order    U296328517     P0016144236         1   550.0\n",
       "4  2015-07-01 00:01:36  order    U300884570  P0014516980122         1   249.0"
      ]
     },
     "execution_count": 81,
     "metadata": {},
     "output_type": "execute_result"
    }
   ],
   "source": [
    "orders.columns = ['Time','Action','User','Product', 'Quantity', 'Price']\n",
    "orders.head()"
   ]
  },
  {
   "cell_type": "code",
   "execution_count": null,
   "metadata": {
    "collapsed": true
   },
   "outputs": [],
   "source": []
  },
  {
   "cell_type": "code",
   "execution_count": 82,
   "metadata": {
    "collapsed": false
   },
   "outputs": [
    {
     "name": "stdout",
     "output_type": "stream",
     "text": [
      "<class 'pandas.core.frame.DataFrame'>\n",
      "RangeIndex: 54772 entries, 0 to 54771\n",
      "Data columns (total 6 columns):\n",
      "Time        54772 non-null datetime64[ns]\n",
      "Action      54772 non-null object\n",
      "User        54772 non-null object\n",
      "Product     54772 non-null object\n",
      "Quantity    54772 non-null int64\n",
      "Price       54721 non-null float64\n",
      "dtypes: datetime64[ns](1), float64(1), int64(1), object(3)\n",
      "memory usage: 2.5+ MB\n"
     ]
    }
   ],
   "source": [
    "orders['Time'] = pandas.to_datetime(orders['Time'])\n",
    "orders.info()"
   ]
  },
  {
   "cell_type": "code",
   "execution_count": 1,
   "metadata": {
    "collapsed": false
   },
   "outputs": [
    {
     "name": "stdout",
     "output_type": "stream",
     "text": [
      "WARNING *** file size (2662336) not 512 + multiple of sector size (512)\n"
     ]
    },
    {
     "data": {
      "text/html": [
       "<div>\n",
       "<table border=\"1\" class=\"dataframe\">\n",
       "  <thead>\n",
       "    <tr style=\"text-align: right;\">\n",
       "      <th></th>\n",
       "      <th>時間(月)</th>\n",
       "      <th>行業</th>\n",
       "      <th>受僱員工人數</th>\n",
       "      <th>每人每月薪資</th>\n",
       "      <th>經常性\n",
       "薪資</th>\n",
       "      <th>非經常性薪資</th>\n",
       "      <th>加班費</th>\n",
       "      <th>平均\n",
       "工時</th>\n",
       "      <th>正常\n",
       "工時</th>\n",
       "      <th>加班\n",
       "工時</th>\n",
       "    </tr>\n",
       "  </thead>\n",
       "  <tbody>\n",
       "    <tr>\n",
       "      <th>NaN</th>\n",
       "      <td>97/1</td>\n",
       "      <td>工業及服務業</td>\n",
       "      <td>6621763</td>\n",
       "      <td>65740</td>\n",
       "      <td>36804</td>\n",
       "      <td>28936</td>\n",
       "      <td>1502</td>\n",
       "      <td>188.0</td>\n",
       "      <td>178.9</td>\n",
       "      <td>9.1</td>\n",
       "    </tr>\n",
       "    <tr>\n",
       "      <th>NaN</th>\n",
       "      <td>97/1</td>\n",
       "      <td>工業部門</td>\n",
       "      <td>3056248</td>\n",
       "      <td>65834</td>\n",
       "      <td>35249</td>\n",
       "      <td>30585</td>\n",
       "      <td>2512</td>\n",
       "      <td>193.5</td>\n",
       "      <td>177.9</td>\n",
       "      <td>15.6</td>\n",
       "    </tr>\n",
       "    <tr>\n",
       "      <th>NaN</th>\n",
       "      <td>97/1</td>\n",
       "      <td>服務業部門</td>\n",
       "      <td>3565515</td>\n",
       "      <td>65660</td>\n",
       "      <td>38138</td>\n",
       "      <td>27522</td>\n",
       "      <td>636</td>\n",
       "      <td>183.4</td>\n",
       "      <td>179.8</td>\n",
       "      <td>3.6</td>\n",
       "    </tr>\n",
       "    <tr>\n",
       "      <th>NaN</th>\n",
       "      <td>97/1</td>\n",
       "      <td>礦業及土石採取業</td>\n",
       "      <td>4817</td>\n",
       "      <td>75724</td>\n",
       "      <td>39973</td>\n",
       "      <td>35751</td>\n",
       "      <td>1062</td>\n",
       "      <td>190.6</td>\n",
       "      <td>185.6</td>\n",
       "      <td>5.0</td>\n",
       "    </tr>\n",
       "    <tr>\n",
       "      <th>NaN</th>\n",
       "      <td>97/1</td>\n",
       "      <td>製造業</td>\n",
       "      <td>2568373</td>\n",
       "      <td>67400</td>\n",
       "      <td>34621</td>\n",
       "      <td>32779</td>\n",
       "      <td>2774</td>\n",
       "      <td>195.2</td>\n",
       "      <td>177.7</td>\n",
       "      <td>17.5</td>\n",
       "    </tr>\n",
       "  </tbody>\n",
       "</table>\n",
       "</div>"
      ],
      "text/plain": [
       "    時間(月)        行業   受僱員工人數  每人每月薪資  經常性\\n薪資 非經常性薪資   加班費  平均\\n工時  正常\\n工時  \\\n",
       "NaN  97/1    工業及服務業  6621763   65740    36804  28936  1502   188.0   178.9   \n",
       "NaN  97/1      工業部門  3056248   65834    35249  30585  2512   193.5   177.9   \n",
       "NaN  97/1     服務業部門  3565515   65660    38138  27522   636   183.4   179.8   \n",
       "NaN  97/1  礦業及土石採取業     4817   75724    39973  35751  1062   190.6   185.6   \n",
       "NaN  97/1       製造業  2568373   67400    34621  32779  2774   195.2   177.7   \n",
       "\n",
       "    加班\\n工時  \n",
       "NaN    9.1  \n",
       "NaN   15.6  \n",
       "NaN    3.6  \n",
       "NaN    5.0  \n",
       "NaN   17.5  "
      ]
     },
     "execution_count": 1,
     "metadata": {},
     "output_type": "execute_result"
    }
   ],
   "source": [
    "import pandas\n",
    "salary = pandas.read_excel('https://raw.githubusercontent.com/ywchiu/tibamepy/master/data/salary2.xls')\n",
    "salary.head()"
   ]
  },
  {
   "cell_type": "code",
   "execution_count": 2,
   "metadata": {
    "collapsed": false
   },
   "outputs": [
    {
     "data": {
      "text/plain": [
       "415055"
      ]
     },
     "execution_count": 2,
     "metadata": {},
     "output_type": "execute_result"
    }
   ],
   "source": [
    "salary['每人每月薪資'].max()"
   ]
  },
  {
   "cell_type": "code",
   "execution_count": 3,
   "metadata": {
    "collapsed": false
   },
   "outputs": [
    {
     "data": {
      "text/plain": [
       "Index(['時間(月)', '行業', '受僱員工人數', '每人每月薪資', '經常性\\n薪資', '非經常性薪資', '加班費', '平均\\n工時',\n",
       "       '正常\\n工時', '加班\\n工時'],\n",
       "      dtype='object')"
      ]
     },
     "execution_count": 3,
     "metadata": {},
     "output_type": "execute_result"
    }
   ],
   "source": [
    "salary.columns"
   ]
  },
  {
   "cell_type": "code",
   "execution_count": 4,
   "metadata": {
    "collapsed": false
   },
   "outputs": [
    {
     "data": {
      "text/html": [
       "<div>\n",
       "<table border=\"1\" class=\"dataframe\">\n",
       "  <thead>\n",
       "    <tr style=\"text-align: right;\">\n",
       "      <th></th>\n",
       "      <th>時間(月)</th>\n",
       "      <th>行業</th>\n",
       "      <th>受僱員工人數</th>\n",
       "      <th>每人每月薪資</th>\n",
       "      <th>經常性\n",
       "薪資</th>\n",
       "      <th>非經常性薪資</th>\n",
       "      <th>加班費</th>\n",
       "      <th>平均\n",
       "工時</th>\n",
       "      <th>正常\n",
       "工時</th>\n",
       "      <th>加班\n",
       "工時</th>\n",
       "    </tr>\n",
       "  </thead>\n",
       "  <tbody>\n",
       "    <tr>\n",
       "      <th>NaN</th>\n",
       "      <td>106/2</td>\n",
       "      <td>其他保險及退休基金輔助業</td>\n",
       "      <td>465</td>\n",
       "      <td>84937</td>\n",
       "      <td>84059</td>\n",
       "      <td>878</td>\n",
       "      <td>878</td>\n",
       "      <td>146.9</td>\n",
       "      <td>144.0</td>\n",
       "      <td>2.9</td>\n",
       "    </tr>\n",
       "    <tr>\n",
       "      <th>NaN</th>\n",
       "      <td>106/1</td>\n",
       "      <td>其他保險及退休基金輔助業</td>\n",
       "      <td>463</td>\n",
       "      <td>187783</td>\n",
       "      <td>84023</td>\n",
       "      <td>103760</td>\n",
       "      <td>1146</td>\n",
       "      <td>147.9</td>\n",
       "      <td>143.8</td>\n",
       "      <td>4.1</td>\n",
       "    </tr>\n",
       "    <tr>\n",
       "      <th>NaN</th>\n",
       "      <td>106/3</td>\n",
       "      <td>其他保險及退休基金輔助業</td>\n",
       "      <td>465</td>\n",
       "      <td>84644</td>\n",
       "      <td>83994</td>\n",
       "      <td>650</td>\n",
       "      <td>650</td>\n",
       "      <td>188.6</td>\n",
       "      <td>186.5</td>\n",
       "      <td>2.1</td>\n",
       "    </tr>\n",
       "  </tbody>\n",
       "</table>\n",
       "</div>"
      ],
      "text/plain": [
       "     時間(月)            行業  受僱員工人數  每人每月薪資  經常性\\n薪資  非經常性薪資   加班費  平均\\n工時  \\\n",
       "NaN  106/2  其他保險及退休基金輔助業     465   84937    84059     878   878   146.9   \n",
       "NaN  106/1  其他保險及退休基金輔助業     463  187783    84023  103760  1146   147.9   \n",
       "NaN  106/3  其他保險及退休基金輔助業     465   84644    83994     650   650   188.6   \n",
       "\n",
       "     正常\\n工時 加班\\n工時  \n",
       "NaN   144.0    2.9  \n",
       "NaN   143.8    4.1  \n",
       "NaN   186.5    2.1  "
      ]
     },
     "execution_count": 4,
     "metadata": {},
     "output_type": "execute_result"
    }
   ],
   "source": [
    "salary.sort_values('經常性\\n薪資', ascending =False).head(3)"
   ]
  },
  {
   "cell_type": "code",
   "execution_count": 5,
   "metadata": {
    "collapsed": false
   },
   "outputs": [
    {
     "data": {
      "text/plain": [
       "行業\n",
       "其他保險及退休基金輔助業    77506.517241\n",
       "電力供應業           69555.060345\n",
       "海洋水運業           67587.112069\n",
       "Name: 經常性\\n薪資, dtype: float64"
      ]
     },
     "execution_count": 5,
     "metadata": {},
     "output_type": "execute_result"
    }
   ],
   "source": [
    "salary.groupby('行業')['經常性\\n薪資'].mean().sort_values(ascending=False).head(3)"
   ]
  },
  {
   "cell_type": "code",
   "execution_count": 6,
   "metadata": {
    "collapsed": false
   },
   "outputs": [],
   "source": [
    "banking = salary[salary['行業']=='銀行業'][['時間(月)','經常性\\n薪資']]"
   ]
  },
  {
   "cell_type": "code",
   "execution_count": 7,
   "metadata": {
    "collapsed": true
   },
   "outputs": [
    {
     "data": {
      "text/html": [
       "<div>\n",
       "<table border=\"1\" class=\"dataframe\">\n",
       "  <thead>\n",
       "    <tr style=\"text-align: right;\">\n",
       "      <th></th>\n",
       "      <th>時間(月)</th>\n",
       "      <th>經常性\n",
       "薪資</th>\n",
       "    </tr>\n",
       "    <tr>\n",
       "      <th>時間(月)</th>\n",
       "      <th></th>\n",
       "      <th></th>\n",
       "    </tr>\n",
       "  </thead>\n",
       "  <tbody>\n",
       "    <tr>\n",
       "      <th>97/1</th>\n",
       "      <td>97/1</td>\n",
       "      <td>55286</td>\n",
       "    </tr>\n",
       "    <tr>\n",
       "      <th>97/2</th>\n",
       "      <td>97/2</td>\n",
       "      <td>57662</td>\n",
       "    </tr>\n",
       "    <tr>\n",
       "      <th>97/3</th>\n",
       "      <td>97/3</td>\n",
       "      <td>55512</td>\n",
       "    </tr>\n",
       "    <tr>\n",
       "      <th>97/4</th>\n",
       "      <td>97/4</td>\n",
       "      <td>56605</td>\n",
       "    </tr>\n",
       "    <tr>\n",
       "      <th>97/5</th>\n",
       "      <td>97/5</td>\n",
       "      <td>56517</td>\n",
       "    </tr>\n",
       "    <tr>\n",
       "      <th>97/6</th>\n",
       "      <td>97/6</td>\n",
       "      <td>56488</td>\n",
       "    </tr>\n",
       "    <tr>\n",
       "      <th>97/7</th>\n",
       "      <td>97/7</td>\n",
       "      <td>57265</td>\n",
       "    </tr>\n",
       "    <tr>\n",
       "      <th>97/8</th>\n",
       "      <td>97/8</td>\n",
       "      <td>57697</td>\n",
       "    </tr>\n",
       "    <tr>\n",
       "      <th>97/9</th>\n",
       "      <td>97/9</td>\n",
       "      <td>57433</td>\n",
       "    </tr>\n",
       "    <tr>\n",
       "      <th>97/10</th>\n",
       "      <td>97/10</td>\n",
       "      <td>57145</td>\n",
       "    </tr>\n",
       "    <tr>\n",
       "      <th>97/11</th>\n",
       "      <td>97/11</td>\n",
       "      <td>57562</td>\n",
       "    </tr>\n",
       "    <tr>\n",
       "      <th>97/12</th>\n",
       "      <td>97/12</td>\n",
       "      <td>57498</td>\n",
       "    </tr>\n",
       "    <tr>\n",
       "      <th>98/1</th>\n",
       "      <td>98/1</td>\n",
       "      <td>57647</td>\n",
       "    </tr>\n",
       "    <tr>\n",
       "      <th>98/2</th>\n",
       "      <td>98/2</td>\n",
       "      <td>57871</td>\n",
       "    </tr>\n",
       "    <tr>\n",
       "      <th>98/3</th>\n",
       "      <td>98/3</td>\n",
       "      <td>57934</td>\n",
       "    </tr>\n",
       "    <tr>\n",
       "      <th>98/4</th>\n",
       "      <td>98/4</td>\n",
       "      <td>58257</td>\n",
       "    </tr>\n",
       "    <tr>\n",
       "      <th>98/5</th>\n",
       "      <td>98/5</td>\n",
       "      <td>58408</td>\n",
       "    </tr>\n",
       "    <tr>\n",
       "      <th>98/6</th>\n",
       "      <td>98/6</td>\n",
       "      <td>58211</td>\n",
       "    </tr>\n",
       "    <tr>\n",
       "      <th>98/7</th>\n",
       "      <td>98/7</td>\n",
       "      <td>58381</td>\n",
       "    </tr>\n",
       "    <tr>\n",
       "      <th>98/8</th>\n",
       "      <td>98/8</td>\n",
       "      <td>59152</td>\n",
       "    </tr>\n",
       "    <tr>\n",
       "      <th>98/9</th>\n",
       "      <td>98/9</td>\n",
       "      <td>58425</td>\n",
       "    </tr>\n",
       "    <tr>\n",
       "      <th>98/10</th>\n",
       "      <td>98/10</td>\n",
       "      <td>58708</td>\n",
       "    </tr>\n",
       "    <tr>\n",
       "      <th>98/11</th>\n",
       "      <td>98/11</td>\n",
       "      <td>58817</td>\n",
       "    </tr>\n",
       "    <tr>\n",
       "      <th>98/12</th>\n",
       "      <td>98/12</td>\n",
       "      <td>58619</td>\n",
       "    </tr>\n",
       "    <tr>\n",
       "      <th>99/1</th>\n",
       "      <td>99/1</td>\n",
       "      <td>58869</td>\n",
       "    </tr>\n",
       "    <tr>\n",
       "      <th>99/2</th>\n",
       "      <td>99/2</td>\n",
       "      <td>59435</td>\n",
       "    </tr>\n",
       "    <tr>\n",
       "      <th>99/3</th>\n",
       "      <td>99/3</td>\n",
       "      <td>58956</td>\n",
       "    </tr>\n",
       "    <tr>\n",
       "      <th>99/4</th>\n",
       "      <td>99/4</td>\n",
       "      <td>59517</td>\n",
       "    </tr>\n",
       "    <tr>\n",
       "      <th>99/5</th>\n",
       "      <td>99/5</td>\n",
       "      <td>60239</td>\n",
       "    </tr>\n",
       "    <tr>\n",
       "      <th>99/6</th>\n",
       "      <td>99/6</td>\n",
       "      <td>59494</td>\n",
       "    </tr>\n",
       "    <tr>\n",
       "      <th>...</th>\n",
       "      <td>...</td>\n",
       "      <td>...</td>\n",
       "    </tr>\n",
       "    <tr>\n",
       "      <th>104/3</th>\n",
       "      <td>104/3</td>\n",
       "      <td>63695</td>\n",
       "    </tr>\n",
       "    <tr>\n",
       "      <th>104/4</th>\n",
       "      <td>104/4</td>\n",
       "      <td>65167</td>\n",
       "    </tr>\n",
       "    <tr>\n",
       "      <th>104/5</th>\n",
       "      <td>104/5</td>\n",
       "      <td>64772</td>\n",
       "    </tr>\n",
       "    <tr>\n",
       "      <th>104/6</th>\n",
       "      <td>104/6</td>\n",
       "      <td>64321</td>\n",
       "    </tr>\n",
       "    <tr>\n",
       "      <th>104/7</th>\n",
       "      <td>104/7</td>\n",
       "      <td>65138</td>\n",
       "    </tr>\n",
       "    <tr>\n",
       "      <th>104/8</th>\n",
       "      <td>104/8</td>\n",
       "      <td>64369</td>\n",
       "    </tr>\n",
       "    <tr>\n",
       "      <th>104/9</th>\n",
       "      <td>104/9</td>\n",
       "      <td>63846</td>\n",
       "    </tr>\n",
       "    <tr>\n",
       "      <th>104/10</th>\n",
       "      <td>104/10</td>\n",
       "      <td>63779</td>\n",
       "    </tr>\n",
       "    <tr>\n",
       "      <th>104/11</th>\n",
       "      <td>104/11</td>\n",
       "      <td>63958</td>\n",
       "    </tr>\n",
       "    <tr>\n",
       "      <th>104/12</th>\n",
       "      <td>104/12</td>\n",
       "      <td>63968</td>\n",
       "    </tr>\n",
       "    <tr>\n",
       "      <th>105/1</th>\n",
       "      <td>105/1</td>\n",
       "      <td>64700</td>\n",
       "    </tr>\n",
       "    <tr>\n",
       "      <th>105/2</th>\n",
       "      <td>105/2</td>\n",
       "      <td>63488</td>\n",
       "    </tr>\n",
       "    <tr>\n",
       "      <th>105/3</th>\n",
       "      <td>105/3</td>\n",
       "      <td>64494</td>\n",
       "    </tr>\n",
       "    <tr>\n",
       "      <th>105/4</th>\n",
       "      <td>105/4</td>\n",
       "      <td>65375</td>\n",
       "    </tr>\n",
       "    <tr>\n",
       "      <th>105/5</th>\n",
       "      <td>105/5</td>\n",
       "      <td>64982</td>\n",
       "    </tr>\n",
       "    <tr>\n",
       "      <th>105/6</th>\n",
       "      <td>105/6</td>\n",
       "      <td>64313</td>\n",
       "    </tr>\n",
       "    <tr>\n",
       "      <th>105/7</th>\n",
       "      <td>105/7</td>\n",
       "      <td>64499</td>\n",
       "    </tr>\n",
       "    <tr>\n",
       "      <th>105/8</th>\n",
       "      <td>105/8</td>\n",
       "      <td>64243</td>\n",
       "    </tr>\n",
       "    <tr>\n",
       "      <th>105/9</th>\n",
       "      <td>105/9</td>\n",
       "      <td>64021</td>\n",
       "    </tr>\n",
       "    <tr>\n",
       "      <th>105/10</th>\n",
       "      <td>105/10</td>\n",
       "      <td>64086</td>\n",
       "    </tr>\n",
       "    <tr>\n",
       "      <th>105/11</th>\n",
       "      <td>105/11</td>\n",
       "      <td>64607</td>\n",
       "    </tr>\n",
       "    <tr>\n",
       "      <th>105/12</th>\n",
       "      <td>105/12</td>\n",
       "      <td>64327</td>\n",
       "    </tr>\n",
       "    <tr>\n",
       "      <th>106/1</th>\n",
       "      <td>106/1</td>\n",
       "      <td>64795</td>\n",
       "    </tr>\n",
       "    <tr>\n",
       "      <th>106/2</th>\n",
       "      <td>106/2</td>\n",
       "      <td>64259</td>\n",
       "    </tr>\n",
       "    <tr>\n",
       "      <th>106/3</th>\n",
       "      <td>106/3</td>\n",
       "      <td>64173</td>\n",
       "    </tr>\n",
       "    <tr>\n",
       "      <th>106/4</th>\n",
       "      <td>106/4</td>\n",
       "      <td>64908</td>\n",
       "    </tr>\n",
       "    <tr>\n",
       "      <th>106/5</th>\n",
       "      <td>106/5</td>\n",
       "      <td>65176</td>\n",
       "    </tr>\n",
       "    <tr>\n",
       "      <th>106/6</th>\n",
       "      <td>106/6</td>\n",
       "      <td>64622</td>\n",
       "    </tr>\n",
       "    <tr>\n",
       "      <th>106/7</th>\n",
       "      <td>106/7</td>\n",
       "      <td>65007</td>\n",
       "    </tr>\n",
       "    <tr>\n",
       "      <th>106/8</th>\n",
       "      <td>106/8</td>\n",
       "      <td>64430</td>\n",
       "    </tr>\n",
       "  </tbody>\n",
       "</table>\n",
       "<p>116 rows × 2 columns</p>\n",
       "</div>"
      ],
      "text/plain": [
       "         時間(月)  經常性\\n薪資\n",
       "時間(月)                  \n",
       "97/1      97/1    55286\n",
       "97/2      97/2    57662\n",
       "97/3      97/3    55512\n",
       "97/4      97/4    56605\n",
       "97/5      97/5    56517\n",
       "97/6      97/6    56488\n",
       "97/7      97/7    57265\n",
       "97/8      97/8    57697\n",
       "97/9      97/9    57433\n",
       "97/10    97/10    57145\n",
       "97/11    97/11    57562\n",
       "97/12    97/12    57498\n",
       "98/1      98/1    57647\n",
       "98/2      98/2    57871\n",
       "98/3      98/3    57934\n",
       "98/4      98/4    58257\n",
       "98/5      98/5    58408\n",
       "98/6      98/6    58211\n",
       "98/7      98/7    58381\n",
       "98/8      98/8    59152\n",
       "98/9      98/9    58425\n",
       "98/10    98/10    58708\n",
       "98/11    98/11    58817\n",
       "98/12    98/12    58619\n",
       "99/1      99/1    58869\n",
       "99/2      99/2    59435\n",
       "99/3      99/3    58956\n",
       "99/4      99/4    59517\n",
       "99/5      99/5    60239\n",
       "99/6      99/6    59494\n",
       "...        ...      ...\n",
       "104/3    104/3    63695\n",
       "104/4    104/4    65167\n",
       "104/5    104/5    64772\n",
       "104/6    104/6    64321\n",
       "104/7    104/7    65138\n",
       "104/8    104/8    64369\n",
       "104/9    104/9    63846\n",
       "104/10  104/10    63779\n",
       "104/11  104/11    63958\n",
       "104/12  104/12    63968\n",
       "105/1    105/1    64700\n",
       "105/2    105/2    63488\n",
       "105/3    105/3    64494\n",
       "105/4    105/4    65375\n",
       "105/5    105/5    64982\n",
       "105/6    105/6    64313\n",
       "105/7    105/7    64499\n",
       "105/8    105/8    64243\n",
       "105/9    105/9    64021\n",
       "105/10  105/10    64086\n",
       "105/11  105/11    64607\n",
       "105/12  105/12    64327\n",
       "106/1    106/1    64795\n",
       "106/2    106/2    64259\n",
       "106/3    106/3    64173\n",
       "106/4    106/4    64908\n",
       "106/5    106/5    65176\n",
       "106/6    106/6    64622\n",
       "106/7    106/7    65007\n",
       "106/8    106/8    64430\n",
       "\n",
       "[116 rows x 2 columns]"
      ]
     },
     "execution_count": 7,
     "metadata": {},
     "output_type": "execute_result"
    }
   ],
   "source": [
    "banking.index = banking['時間(月)']\n",
    "banking"
   ]
  },
  {
   "cell_type": "code",
   "execution_count": 8,
   "metadata": {
    "collapsed": false
   },
   "outputs": [
    {
     "name": "stdout",
     "output_type": "stream",
     "text": [
      "Populating the interactive namespace from numpy and matplotlib\n"
     ]
    },
    {
     "data": {
      "image/png": "[encoded data removed]",
      "text/plain": [
       "<matplotlib.figure.Figure at 0x9c9f7f0>"
      ]
     },
     "metadata": {},
     "output_type": "display_data"
    }
   ],
   "source": [
    "%pylab inline\n",
    "banking['經常性\\n薪資'].plot(kind='line')\n",
    "pylab.savefig('banking.png')"
   ]
  },
  {
   "cell_type": "code",
   "execution_count": 18,
   "metadata": {
    "collapsed": false
   },
   "outputs": [],
   "source": [
    "orders.to_csv('orders.csv')"
   ]
  },
  {
   "cell_type": "code",
   "execution_count": 14,
   "metadata": {
    "collapsed": true
   },
   "outputs": [],
   "source": [
    "banking.to_csv('banking.csv')"
   ]
  },
  {
   "cell_type": "code",
   "execution_count": 15,
   "metadata": {
    "collapsed": true
   },
   "outputs": [],
   "source": [
    "orders.to_csv('orders.csv', sep = '\\t')"
   ]
  },
  {
   "cell_type": "code",
   "execution_count": 17,
   "metadata": {
    "collapsed": true
   },
   "outputs": [],
   "source": [
    "orders.to_csv('orders.csv', sep='\\t', chunksize=1000)"
   ]
  },
  {
   "cell_type": "code",
   "execution_count": 19,
   "metadata": {
    "collapsed": true
   },
   "outputs": [],
   "source": [
    "orders.to_csv('orders.csv', chunksize=1000)"
   ]
  },
  {
   "cell_type": "code",
   "execution_count": 21,
   "metadata": {
    "collapsed": true
   },
   "outputs": [],
   "source": [
    "orders.to_excel('orders.xlsx')"
   ]
  },
  {
   "cell_type": "code",
   "execution_count": 22,
   "metadata": {
    "collapsed": false
   },
   "outputs": [
    {
     "data": {
      "text/plain": [
       "'{\"Time\":{\"0\":1435708801000,\"1\":1435708803000,\"2\":1435708819000,\"3\":1435708870000,\"4\":1435708896000},\"Action\":{\"0\":\"order\",\"1\":\"order\",\"2\":\"order\",\"3\":\"order\",\"4\":\"order\"},\"User\":{\"0\":\"U312622727\",\"1\":\"U239012343\",\"2\":\"U10007697373\",\"3\":\"U296328517\",\"4\":\"U300884570\"},\"Product\":{\"0\":\"P0006944501\",\"1\":\"P0006018073\",\"2\":\"P0002267974\",\"3\":\"P0016144236\",\"4\":\"P0014516980122\"},\"Quantity\":{\"0\":1,\"1\":1,\"2\":1,\"3\":1,\"4\":1},\"Price\":{\"0\":1069.0,\"1\":1680.0,\"2\":285.0,\"3\":550.0,\"4\":249.0}}'"
      ]
     },
     "execution_count": 22,
     "metadata": {},
     "output_type": "execute_result"
    }
   ],
   "source": [
    "orders.head().to_json()"
   ]
  },
  {
   "cell_type": "code",
   "execution_count": 24,
   "metadata": {
    "collapsed": false
   },
   "outputs": [
    {
     "data": {
      "text/plain": [
       "'{\"0\":{\"Time\":1435708801000,\"Action\":\"order\",\"User\":\"U312622727\",\"Product\":\"P0006944501\",\"Quantity\":1,\"Price\":1069.0},\"1\":{\"Time\":1435708803000,\"Action\":\"order\",\"User\":\"U239012343\",\"Product\":\"P0006018073\",\"Quantity\":1,\"Price\":1680.0},\"2\":{\"Time\":1435708819000,\"Action\":\"order\",\"User\":\"U10007697373\",\"Product\":\"P0002267974\",\"Quantity\":1,\"Price\":285.0},\"3\":{\"Time\":1435708870000,\"Action\":\"order\",\"User\":\"U296328517\",\"Product\":\"P0016144236\",\"Quantity\":1,\"Price\":550.0},\"4\":{\"Time\":1435708896000,\"Action\":\"order\",\"User\":\"U300884570\",\"Product\":\"P0014516980122\",\"Quantity\":1,\"Price\":249.0}}'"
      ]
     },
     "execution_count": 24,
     "metadata": {},
     "output_type": "execute_result"
    }
   ],
   "source": [
    "orders.head().T.to_json()"
   ]
  },
  {
   "cell_type": "code",
   "execution_count": 48,
   "metadata": {
    "collapsed": true
   },
   "outputs": [],
   "source": [
    "orders.head().to_clipboard()"
   ]
  },
  {
   "cell_type": "code",
   "execution_count": 49,
   "metadata": {
    "collapsed": false
   },
   "outputs": [
    {
     "data": {
      "text/html": [
       "<div>\n",
       "<table border=\"1\" class=\"dataframe\">\n",
       "  <thead>\n",
       "    <tr style=\"text-align: right;\">\n",
       "      <th></th>\n",
       "      <th></th>\n",
       "      <th>0</th>\n",
       "      <th>1</th>\n",
       "      <th>2</th>\n",
       "      <th>3</th>\n",
       "      <th>4</th>\n",
       "      <th>5</th>\n",
       "    </tr>\n",
       "  </thead>\n",
       "  <tbody>\n",
       "    <tr>\n",
       "      <th>0</th>\n",
       "      <th>2015-07-01</th>\n",
       "      <td>00:00:01</td>\n",
       "      <td>order</td>\n",
       "      <td>U312622727</td>\n",
       "      <td>P0006944501</td>\n",
       "      <td>1</td>\n",
       "      <td>1069.0</td>\n",
       "    </tr>\n",
       "    <tr>\n",
       "      <th>1</th>\n",
       "      <th>2015-07-01</th>\n",
       "      <td>00:00:03</td>\n",
       "      <td>order</td>\n",
       "      <td>U239012343</td>\n",
       "      <td>P0006018073</td>\n",
       "      <td>1</td>\n",
       "      <td>1680.0</td>\n",
       "    </tr>\n",
       "    <tr>\n",
       "      <th>2</th>\n",
       "      <th>2015-07-01</th>\n",
       "      <td>00:00:19</td>\n",
       "      <td>order</td>\n",
       "      <td>U10007697373</td>\n",
       "      <td>P0002267974</td>\n",
       "      <td>1</td>\n",
       "      <td>285.0</td>\n",
       "    </tr>\n",
       "    <tr>\n",
       "      <th>3</th>\n",
       "      <th>2015-07-01</th>\n",
       "      <td>00:01:10</td>\n",
       "      <td>order</td>\n",
       "      <td>U296328517</td>\n",
       "      <td>P0016144236</td>\n",
       "      <td>1</td>\n",
       "      <td>550.0</td>\n",
       "    </tr>\n",
       "    <tr>\n",
       "      <th>4</th>\n",
       "      <th>2015-07-01</th>\n",
       "      <td>00:01:36</td>\n",
       "      <td>order</td>\n",
       "      <td>U300884570</td>\n",
       "      <td>P0014516980122</td>\n",
       "      <td>1</td>\n",
       "      <td>249.0</td>\n",
       "    </tr>\n",
       "  </tbody>\n",
       "</table>\n",
       "</div>"
      ],
      "text/plain": [
       "                     0      1             2               3  4       5\n",
       "0 2015-07-01  00:00:01  order    U312622727     P0006944501  1  1069.0\n",
       "1 2015-07-01  00:00:03  order    U239012343     P0006018073  1  1680.0\n",
       "2 2015-07-01  00:00:19  order  U10007697373     P0002267974  1   285.0\n",
       "3 2015-07-01  00:01:10  order    U296328517     P0016144236  1   550.0\n",
       "4 2015-07-01  00:01:36  order    U300884570  P0014516980122  1   249.0"
      ]
     },
     "execution_count": 49,
     "metadata": {},
     "output_type": "execute_result"
    }
   ],
   "source": [
    "import pandas\n",
    "df1 = pandas.read_clipboard()\n",
    "df1"
   ]
  },
  {
   "cell_type": "code",
   "execution_count": 53,
   "metadata": {
    "collapsed": false,
    "scrolled": true
   },
   "outputs": [],
   "source": [
    "#product_list = pandas.read_clipboard(header=None)\n",
    "#product_items = product_list[0].tolist()\n",
    "product_list = pandas.read_clipboard()\n",
    "product_items = product_list['']"
   ]
  },
  {
   "cell_type": "code",
   "execution_count": 77,
   "metadata": {
    "collapsed": false
   },
   "outputs": [
    {
     "data": {
      "text/html": [
       "<div>\n",
       "<table border=\"1\" class=\"dataframe\">\n",
       "  <thead>\n",
       "    <tr style=\"text-align: right;\">\n",
       "      <th></th>\n",
       "      <th></th>\n",
       "      <th>0</th>\n",
       "      <th>1</th>\n",
       "      <th>2</th>\n",
       "      <th>3</th>\n",
       "      <th>4</th>\n",
       "      <th>5</th>\n",
       "    </tr>\n",
       "  </thead>\n",
       "  <tbody>\n",
       "    <tr>\n",
       "      <th>0</th>\n",
       "      <th>2015-07-01</th>\n",
       "      <td>00:00:01</td>\n",
       "      <td>order</td>\n",
       "      <td>U312622727</td>\n",
       "      <td>P0006944501</td>\n",
       "      <td>1</td>\n",
       "      <td>1069.0</td>\n",
       "    </tr>\n",
       "    <tr>\n",
       "      <th>1</th>\n",
       "      <th>2015-07-01</th>\n",
       "      <td>00:00:03</td>\n",
       "      <td>order</td>\n",
       "      <td>U239012343</td>\n",
       "      <td>P0006018073</td>\n",
       "      <td>1</td>\n",
       "      <td>1680.0</td>\n",
       "    </tr>\n",
       "    <tr>\n",
       "      <th>2</th>\n",
       "      <th>2015-07-01</th>\n",
       "      <td>00:00:19</td>\n",
       "      <td>order</td>\n",
       "      <td>U10007697373</td>\n",
       "      <td>P0002267974</td>\n",
       "      <td>1</td>\n",
       "      <td>285.0</td>\n",
       "    </tr>\n",
       "    <tr>\n",
       "      <th>3</th>\n",
       "      <th>2015-07-01</th>\n",
       "      <td>00:01:10</td>\n",
       "      <td>order</td>\n",
       "      <td>U296328517</td>\n",
       "      <td>P0016144236</td>\n",
       "      <td>1</td>\n",
       "      <td>550.0</td>\n",
       "    </tr>\n",
       "    <tr>\n",
       "      <th>4</th>\n",
       "      <th>2015-07-01</th>\n",
       "      <td>00:01:36</td>\n",
       "      <td>order</td>\n",
       "      <td>U300884570</td>\n",
       "      <td>P0014516980122</td>\n",
       "      <td>1</td>\n",
       "      <td>249.0</td>\n",
       "    </tr>\n",
       "  </tbody>\n",
       "</table>\n",
       "</div>"
      ],
      "text/plain": [
       "                     0      1             2               3  4       5\n",
       "0 2015-07-01  00:00:01  order    U312622727     P0006944501  1  1069.0\n",
       "1 2015-07-01  00:00:03  order    U239012343     P0006018073  1  1680.0\n",
       "2 2015-07-01  00:00:19  order  U10007697373     P0002267974  1   285.0\n",
       "3 2015-07-01  00:01:10  order    U296328517     P0016144236  1   550.0\n",
       "4 2015-07-01  00:01:36  order    U300884570  P0014516980122  1   249.0"
      ]
     },
     "execution_count": 77,
     "metadata": {},
     "output_type": "execute_result"
    }
   ],
   "source": [
    "product_list"
   ]
  },
  {
   "cell_type": "code",
   "execution_count": 57,
   "metadata": {
    "collapsed": true
   },
   "outputs": [
    {
     "name": "stderr",
     "output_type": "stream",
     "text": [
      "C:\\Users\\Allen\\Anaconda3\\lib\\site-packages\\requests\\packages\\urllib3\\connectionpool.py:838: InsecureRequestWarning: Unverified HTTPS request is being made. Adding certificate verification is strongly advised. See: https://urllib3.readthedocs.io/en/latest/security.html\n",
      "  InsecureRequestWarning)\n"
     ]
    }
   ],
   "source": [
    "import requests\n",
    "headers ={\n",
    "    'user-agent':'Mozilla/5.0 (Windows NT 6.1; WOW64) AppleWebKit/537.36 (KHTML, like Gecko) Chrome/61.0.3163.100 Safari/537.36 OPR/48.0.2685.52'\n",
    "}\n",
    "res = requests.post('https://goodinfo.tw/StockInfo/StockBzPerformance.asp?STOCK_ID=2330', headers=headers, verify=False)"
   ]
  },
  {
   "cell_type": "code",
   "execution_count": 58,
   "metadata": {
    "collapsed": true
   },
   "outputs": [
    {
     "data": {
      "text/plain": [
       "'\\r\\n<!doctype html PUBLIC \"-//W3C//DTD XHTML 1.0 Transitional//EN\" \"http://www.w3.org/TR/xhtml1/DTD/xhtml1-transitional.dtd\">\\r\\n<html lang=\"zh-Hant\">\\r\\n<head>\\r\\n\\r\\n<meta http-equiv=\"Content-Type\" content=\"text/html; charset=utf-8\">\\r\\n<meta name=\"copyright\" content=\"股豐資訊有限公司\">\\r\\n<meta name=\"keywords\" content=\"2330,台積電,經營績效,獲利,營業收入,營業毛利率,淨利率,股東權益報酬率,ROE,資產報酬率,ROA,每股盈餘EPS,每股淨值BPS,現金股票股利,殖利率\">\\r\\n<meta name=\"description\" content=\"(2330) 台積電 歷年財報評比,股票成交價格,成交量,獲利能力(如:營業收入,淨利,營業毛利率,淨利率),股東權益報酬率ROE,資產報酬率ROA,每股盈餘EPS,每股淨值BPS,現金股利,股票股利,殖利率 等交易資料統計\">\\r\\n<meta name=\"viewport\" content=\"width=device-width\">\\r\\n<title>(2330) 台積電歷年經營績效統計 - 合併財報 - Goodinfo!台灣股市資訊網</title>\\r\\n\\r\\n<link rel=\"stylesheet\" type=\"text/css\" href=\"../Library/css/normalize201_UTF-8.css\"/>\\r\\n<link rel=\"stylesheet\" type=\"text/css\" href=\"../Library/css/Public_UTF-8.css\"/>\\r\\n\\r\\n<script type=\"text/javascript\" charset=\"utf-8\" src=\"StockLib/initial.asp\"></script>\\r\\n<script type=\"text/javascript\" charset=\"utf-8\" src=\"StockLib/util.asp\"></script>\\r\\n<script type=\"text/javascript\" charset=\"utf-8\" src=\"StockLib/cookie.asp\"></script>\\r\\n<script type=\"text/javascript\" charset=\"utf-8\" src=\"StockLib/ChartClass.asp\"></script>\\r\\n<script type=\"text/javascript\" charset=\"utf-8\" src=\"StockLib/ChartFunction.asp\"></script>\\r\\n\\r\\n</head>\\r\\n\\r\\n<body OnResize=\"SaveScreenSize();RepaintStockChart(StockPainter);\" style=\"font-size:11pt;min-width:1000px;\">\\r\\n\\r\\n<!-- Title -->\\r\\n<table class=\\'none_tbl\\' width=\\'1000px\\' border=\\'0px\\' cellspacing=\\'0px\\' cellpadding=\\'0px\\' style=\\'font-size:11pt;\\' align=\\'center\\'>  <tr height=\\'8px\\'><td colspan=\\'3\\'></td></tr>  <tr height=\\'42px\\'><td class=\\'head_td\\' style=\\'padding-left:16px\\'><table><tr><td><a target=\\'_self\\' href=\\'index.asp\\' style=\\'color:black;text-decoration:none;font-family:Impact;font-size:23pt;\\'><nobr>Goodinfo!</nobr></a></td><td style=\\'padding-left:3px;padding-top:4px;\\'><a target=\\'_self\\' href=\\'index.asp\\' style=\\'color:black;text-decoration:none;font-family:新細明體;font-size:17pt;font-weight:bold;\\'><nobr>台灣股市資訊網</nobr></a></td></tr></table></td><td class=\\'head_td\\' style=\\'padding-top:6px;\\'><nobr><a class=\\'link_blue\\' target=\\'_self\\' href=\\'StockList.asp\\'>股票代號/名稱</a>&nbsp;&nbsp;<form id=\\'frmStockSearch\\' style=\\'margin-top:0px;margin-bottom:0px;display: inline;\\' target=\\'_self\\' method=\\'post\\' onsubmit=\\'txtStockCode.blur(); return CheckStockID();\\' action=\\'\\'><input type=\\'text\\' id=\\'txtStockCode\\' size=\\'18\\' maxlength=\\'10\\'  OnFocus=\"jsp:if (txtStockCode.style.color != \\'black\\') {txtStockCode.value = \\'\\'; txtStockCode.style.color = \\'black\\';}\"  OnBlur=\"jsp:if (String(txtStockCode.value).trim() == \\'\\') {txtStockCode.value = \\'股票代號/名稱/關鍵字\\'; txtStockCode.style.color = \\'gray\\';}\"  value=\\'股票代號/名稱/關鍵字\\' style=\\'color:gray;\\'>&nbsp;&nbsp;<input type=\\'submit\\' value=\\'股票查詢\\'><input type=\\'hidden\\' name=\\'cx\\' value=\\'partner-pub-6082610302230142:2112592968\\' /><input type=\\'hidden\\' name=\\'cof\\' value=\\'FORID:10\\' /><input type=\\'hidden\\' name=\\'ie\\' value=\\'UTF-8\\' /><input type=\\'hidden\\' name=\\'q\\' value=\\'\\' id=\\'txtGoogleSearchQ\\' /></form></nobr></td><td class=\\'head_td\\' align=\\'right\\' style=\\'padding-top:7px\\'><table><tr><td align=\\'right\\' width=\\'90px\\' valign=\\'middle\\' style=\\'padding:3px 0 0 0;\\'><nobr><b title=\\'選擇以facebook或google帳號登入,\\r以啟用下列個人化功能：\\r1.我的自選股\\r2.我的自訂欄位\\r3.K線圖參數設定\\'>選擇登入方式</b>&nbsp;</nobr></td><td width=\\'23px\\' align=\\'center\\' style=\\'padding:0\\' valign=\\'middle\\'><a target=\\'_self\\' id=\\'linkLoginGoogle\\' href=\\'login.asp?STEP=LOGIN&NO_EXPIRE=T&LOGIN_SITE=Google\\'><img title=\\'使用google帳號登入,\\r以啟用下列個人化功能：\\r1.我的自選股\\r2.我的自訂欄位\\r3.K線圖參數設定\\' border=\\'0\\' height=\\'20px\\' src=\\'image/social_google_box.png\\'></a></td><td width=\\'23px\\' align=\\'center\\' style=\\'padding:0\\' valign=\\'middle\\'><a target=\\'_self\\' id=\\'linkLoginFacebook\\' href=\\'login.asp?STEP=LOGIN&NO_EXPIRE=T&LOGIN_SITE=Facebook\\'><img title=\\'使用facebook帳號登入,\\r以啟用下列個人化功能：\\r1.我的自選股\\r2.我的自訂欄位\\r3.K線圖參數設定\\' border=\\'0\\' height=\\'20px\\' src=\\'image/facebookicon.png\\'></a></td><td width=\\'16px\\'></td></tr></table></td></tr><tr height=\\'6px\\'><td colspan=\\'3\\'></td></tr><tr height=\\'90px\\' align=\\'center\\' valign=\\'middle\\'><td colspan=\\'3\\'><table class=\\'none_tbl\\'  style=\\'\\' width=\\'100%\\' height=\\'90px\\' border=\\'0px\\' cellpadding=\\'0px\\' cellspacing=\\'0px\\'><tr><td align=\\'center\\' valign=\\'middle\\'><div id=\\'div-gpt-ad-TW_STOCKBZPERFORMANCE-0\\' style=\\'width:970px;text-align:center;\\'></div></td></tr></table><script type=\\'text/javascript\\'>  googletag.cmd.push(function() {    googletag.defineSlot(\\'/166795457/TW_StockBzPerformance_970x90\\', [970,90], \\'div-gpt-ad-TW_STOCKBZPERFORMANCE-0\\').addService(googletag.pubads());    googletag.pubads().enableSingleRequest();    googletag.enableServices();    googletag.display(\\'div-gpt-ad-TW_STOCKBZPERFORMANCE-0\\');  });</script></td></tr><tr height=\\'6px\\'><td colspan=\\'3\\'></td></tr></table><script type=\\'text/javascript\\'>    function CheckStockID() {          var objInput = frmStockSearch.txtStockCode;          if (String(objInput.value).trim() == \\'\\' || objInput.value == \\'股票代號/名稱/關鍵字\\' && objInput.style.color == \\'gray\\') {              objInput.style.color = \\'red\\';              objInput.value = \\'查詢字串不可空白\\';              return false;          };          objInput.style.color = \\'gray\\';          var result = ExecuteAsp(\\'CheckStockID.asp\\',\\'CALL=AJAX&FUNC=QRY_STOCK&CHK_STR=\\'+encodeURIComponent(objInput.value));          if (result.result) {              var oJSON = JSON.parse(result.responseText);              if (oJSON.ReturnCode == \\'0\\') {                  frmStockSearch.action = oJSON.ActivePage;                  return true;              } else if (oJSON.ReturnCode == \\'2\\') {                  frmStockSearch.action = oJSON.ActivePage;                  return true;              } else if (oJSON.ReturnCode == \\'1\\') {                  objInput.style.color = \\'red\\';                  objInput.value = \\'此股票不存在\\';              } else {                  objInput.style.color = \\'red\\';                  objInput.value = \\'不明錯誤\\';              }          };          return false;     } </script>\\r\\n\\r\\n<!-- Main Frame -->\\r\\n<table border=\"0\" width=\"1000\" cellspacing=\"0\" cellpadding=\"0\" style=\"font-size: 9pt\" align=\\'center\\'>\\r\\n  <tr valign=\"top\">\\r\\n    <td width=\"180px\">\\r\\n      <table class=\\'none_tbl\\' width=\\'100%\\' border=\\'0\\' cellpadding=\\'0\\' cellspacing=\\'0\\' bgcolor=\\'white\\'>  <tr valign=\\'top\\'><td width=\\'50%\\' align=\\'left\\'>    <table width=\\'99%\\' border=\\'0\\' cellspacing=\\'1\\' bgcolor=\\'#EBF7FF\\' style=\\'font-size: 11pt\\'>      <tr height=\\'22px\\' align=\\'center\\'><td class=\\'head_td\\' bgcolor=\\'#cde2e5\\' style=\\'font-size:10pt\\'>基本分析</td></tr>      <tr height=\\'22px\\'><td>&nbsp;<a class=\\'link_blue\\' href=\\'StockDetail.asp?STOCK_ID=2330\\'>個股市況</a></td></tr>      <tr height=\\'22px\\'><td>&nbsp;<a class=\\'link_orange\\' href=\\'StockBzPerformance.asp?STOCK_ID=2330\\'>經營績效</a></td></tr>      <tr height=\\'22px\\'><td>&nbsp;<a class=\\'link_blue\\' href=\\'StockAssetsStatus.asp?STOCK_ID=2330\\'\\'>資產狀況</a></td></tr>      <tr height=\\'22px\\'><td>&nbsp;<a class=\\'link_blue\\' href=\\'StockCashFlow.asp?STOCK_ID=2330\\'\\'>現金流量</a></td></tr>      <tr height=\\'22px\\'><td>&nbsp;<a class=\\'link_blue\\' href=\\'ShowSaleMonChart.asp?STOCK_ID=2330\\'>每月營收</a></td></tr>      <tr height=\\'22px\\'><td>&nbsp;<a class=\\'link_blue\\' href=\\'ShowSaleMonProdChart.asp?STOCK_ID=2330\\'>產品營收</a></td></tr>      <tr height=\\'22px\\'><td>&nbsp;<a class=\\'link_blue\\' href=\\'BasicInfo.asp?STOCK_ID=2330\\'>基本資料</a></td></tr>      <tr height=\\'22px\\'><td>&nbsp;<a class=\\'link_blue\\' href=\\'StockAnnounceList.asp?START_DT=2017%2F10%2F10&END_DT=2017%2F11%2F9&STOCK_ID=2330\\'>新聞及公告</a></td></tr>      <tr height=\\'22px\\' align=\\'center\\'><td class=\\'head_td\\' bgcolor=\\'#cde2e5\\' colspan=\\'2\\' style=\\'font-size:10pt\\'>股東權益</td></tr>      <tr height=\\'22px\\'><td>&nbsp;<a class=\\'link_blue\\' href=\\'StockHolderSchedule.asp?STOCK_ID=2330\\'>股東會日程</a></td></tr>      <tr height=\\'22px\\'><td>&nbsp;<a class=\\'link_blue\\' href=\\'StockDividendPolicy.asp?STOCK_ID=2330\\'>股利政策</a></td></tr>      <tr height=\\'22px\\'><td>&nbsp;<a class=\\'link_blue\\' href=\\'StockDividendSchedule.asp?STOCK_ID=2330\\'>除權息日程</a></td></tr>      <tr height=\\'22px\\'><td>&nbsp;<a class=\\'link_blue\\' href=\\'MarginPauseSchedule.asp?STOCK_ID=2330\\'>停資停券日</a></td></tr>      <tr height=\\'22px\\' align=\\'center\\'><td class=\\'head_td\\' bgcolor=\\'#cde2e5\\' colspan=\\'2\\' style=\\'font-size:10pt\\'>財務報表</td></tr>      <tr height=\\'22px\\'><td>&nbsp;<a class=\\'link_blue\\' href=\\'StockFinDetail.asp?RPT_CAT=BS_M_QUAR&STOCK_ID=2330\\'>資產負債表</a></td></tr>      <tr height=\\'22px\\'><td>&nbsp;<a class=\\'link_blue\\' href=\\'StockFinDetail.asp?RPT_CAT=IS_M_QUAR_ACC&STOCK_ID=2330\\'>損益表</a></td></tr>      <tr height=\\'22px\\'><td>&nbsp;<a class=\\'link_blue\\' href=\\'StockFinDetail.asp?RPT_CAT=CF_M_QUAR_ACC&STOCK_ID=2330\\'>現金流量表</a></td></tr>      <tr height=\\'22px\\'><td>&nbsp;<a class=\\'link_blue\\' href=\\'StockFinDetail.asp?RPT_CAT=XX_M_QUAR_ACC&STOCK_ID=2330\\'>財務比率表</a></td></tr>      <tr height=\\'22px\\'><td>&nbsp;<a class=\\'link_blue\\' href=\\'StockFinGrade.asp?STOCK_ID=2330\\'>財務評分表</a></td></tr>      <tr height=\\'22px\\'><td>&nbsp;<a class=\\'link_blue\\' href=\\'StockFinCompare.asp?STOCK0=2330\\'>財報比較</a></td></tr>    </table>  </td><td width=\\'50%\\' align=\\'right\\'>    <table width=\\'99%\\' border=\\'0\\' cellspacing=\\'1\\' bgcolor=\\'#EBF7FF\\' style=\\'font-size: 11pt\\'>      <tr height=\\'22px\\' align=\\'center\\'><td class=\\'head_td\\' bgcolor=\\'#cde2e5\\' colspan=\\'2\\' style=\\'font-size:10pt\\'>籌碼分析</td></tr>      <tr height=\\'22px\\'><td>&nbsp;<a class=\\'link_blue\\' href=\\'ShowBuySaleChart.asp?STOCK_ID=2330&CHT_CAT=DATE\\'>法人買賣</a></td></tr>      <tr height=\\'22px\\'><td>&nbsp;<a class=\\'link_blue\\' href=\\'ShowBearishChart.asp?STOCK_ID=2330&CHT_CAT=DATE\\'>融資融券</a></td></tr>      <tr height=\\'22px\\'><td>&nbsp;<a class=\\'link_blue\\' href=\\'DayTrading.asp?STOCK_ID=2330\\'>現股當沖</a></td></tr>      <tr height=\\'22px\\'><td>&nbsp;<a class=\\'link_blue\\' href=\\'EquityDistributionCatHis.asp?STOCK_ID=2330\\'>股東結構</a></td></tr>      <tr height=\\'22px\\'><td>&nbsp;<a class=\\'link_blue\\' href=\\'EquityDistributionClassHis.asp?STOCK_ID=2330\\'>持股分級</a></td></tr>      <tr height=\\'22px\\'><td>&nbsp;<a class=\\'link_blue\\' href=\\'StockDirectorSharehold.asp?STOCK_ID=2330\\'>董監持股</a></td></tr>      <tr height=\\'22px\\'><td>&nbsp;<a class=\\'link_blue\\' href=\\'EquityTransfer.asp?STOCK_ID=2330\\'>申報轉讓</a></td></tr>      <tr height=\\'22px\\' align=\\'center\\'><td class=\\'head_td\\' bgcolor=\\'#cde2e5\\' colspan=\\'2\\' style=\\'font-size:10pt\\'>技術分析</td></tr>      <tr height=\\'22px\\'><td>&nbsp;<a class=\\'link_blue\\' href=\\'ShowK_Chart.asp?STOCK_ID=2330&CHT_CAT2=DATE\\'>個股K線圖</a></td></tr>      <tr height=\\'22px\\'><td>&nbsp;<a class=\\'link_blue\\' href=\\'ShowK_ChartCompare.asp?STOCK_ID=2330&STOCK_ID2=&CHT_CAT2=DATE\\'>K線比較圖</a></td></tr>      <tr height=\\'22px\\'><td>&nbsp;<a style=\\'font-size:10pt\\' class=\\'link_blue\\' href=\\'ShowK_ChartFlow.asp?RPT_CAT=PER&STOCK_ID=2330&CHT_CAT=WEEK\\'>本益比河流圖</a></td></tr>      <tr height=\\'22px\\'><td>&nbsp;<a style=\\'font-size:10pt\\' class=\\'link_blue\\' href=\\'ShowK_ChartFlow.asp?RPT_CAT=PBR&STOCK_ID=2330&CHT_CAT=WEEK\\'>本淨比河流圖</a></td></tr>      <tr height=\\'22px\\'><td>&nbsp;<a style=\\'font-size:10pt\\' class=\\'link_blue\\' href=\\'ShowK_ChartFlow.asp?RPT_CAT=DR%5F3M&STOCK_ID=2330&CHT_CAT=WEEK\\'>乖離率河流圖</a></td></tr>      <tr height=\\'22px\\'><td>&nbsp;<a class=\\'link_blue\\' href=\\'StockHisAnaQuar.asp?STOCK_ID=2330\\'>季漲跌統計</a></td></tr>      <tr height=\\'22px\\'><td>&nbsp;<a class=\\'link_blue\\' href=\\'StockHisAnaMonth.asp?STOCK_ID=2330\\'>月漲跌統計</a></td></tr>      <tr height=\\'22px\\' align=\\'center\\'><td class=\\'head_td\\' bgcolor=\\'#cde2e5\\' colspan=\\'2\\' style=\\'font-size:10pt\\'>其他</td></tr>      <tr height=\\'22px\\'><td><nobr>&nbsp;<a class=\\'link_blue\\' href=\\'StockIdxDetail.asp?STOCK_ID=%E5%8A%A0%E6%AC%8A%E6%8C%87%E6%95%B8\\'>上市大盤</a></nobr></td></tr>      <tr height=\\'22px\\'><td><nobr>&nbsp;<a class=\\'link_blue\\' href=\\'StockIdxDetail.asp?STOCK_ID=%E6%AB%83%E8%B2%B7%E6%8C%87%E6%95%B8\\'>上櫃大盤</a></nobr></td></tr>      <tr height=\\'22px\\'><td>&nbsp;<a class=\\'link_blue\\' href=\\'CheckStockID.asp?FUNC=LAST_STOCK&CHK_STR=2330\\'>上一檔股票</a></td></tr>      <tr height=\\'22px\\'><td>&nbsp;<a class=\\'link_blue\\' href=\\'CheckStockID.asp?FUNC=NEXT_STOCK&CHK_STR=2330\\'>下一檔股票</a></td></tr>    </table>  </td></tr></table>\\r\\n      <div id=\\'StickyAD\\' style=\\'position:relative;top:0px;left:0px;padding:8px 0 0 0;\\'><table class=\\'none_tbl\\'  style=\\'\\' width=\\'100%\\' height=\\'600px\\' border=\\'0px\\' cellpadding=\\'0px\\' cellspacing=\\'0px\\'><tr><td align=\\'center\\' valign=\\'middle\\'><div id=\\'div-gpt-ad-TW_STOCKBZPERFORMANCE-3\\' style=\\'width:160px;text-align:center;\\'></div></td></tr></table><script type=\\'text/javascript\\'>  googletag.cmd.push(function() {    googletag.defineSlot(\\'/166795457/TW_StockBzPerformance_160x600\\', [160,600], \\'div-gpt-ad-TW_STOCKBZPERFORMANCE-3\\').addService(googletag.pubads());    googletag.pubads().enableSingleRequest();    googletag.enableServices();    googletag.display(\\'div-gpt-ad-TW_STOCKBZPERFORMANCE-3\\');  });</script></div>\\r\\n    </td>\\r\\n    <td width=\"8px\"></td>\\r\\n    <td>\\r\\n      <table width=\\'100%\\' border=\"0\" cellspacing=\"0\" cellpadding=\"0\" style=\"font-size: 9pt\" align=\\'center\\'>\\r\\n        <!--tr valign=\\'top\\'><td colspan=\\'3\\'></td></tr-->\\r\\n        <tr valign=\\'top\\'>\\r\\n          <td>\\r\\n            <!--p style=\\'margin-top: 6px; margin-bottom: 0px\\'></p-->\\r\\n            <table width=\\'100%\\' border=\\'0\\' cellspacing=\\'0\\' cellpadding=\\'0\\' align=\\'center\\' valing=\\'top\\' bgcolor=\\'white\\'>  <tr valign=\\'top\\' align=\\'center\\'><td><table class=\\'std_tbl\\' border=\\'0\\' cellspacing=\\'0\\' cellpadding=\\'0\\' style=\\'width:100%; font-size:11pt;\\'>  <tr bgcolor=\\'#cde2e5\\' valign=\\'bottom\\' height=\\'30px\\' align=\\'left\\'>    <td class=\\'head_td\\' style=\\'padding-bottom:2px;\\' colspan=\\'7\\'>&nbsp;&nbsp;&nbsp;&nbsp;&nbsp;&nbsp;      <span style=\\'color:blue;font-size:14pt;font-weight:bold;\\'><a class=\\'link_blue\\' href=\\'StockDetail.asp?STOCK_ID=2330\\'>2330&nbsp;台積電</a></span>&nbsp;&nbsp;&nbsp;&nbsp;&nbsp;<span style=\\'cursor:default;font-size:9pt;color:red\\' title=\\'股價超過歷年平均高點, 已超越平均高點125%\\r\\n(歷年股價平均最高:106.91元, 最低:72.24元)\\'>股價過高</span>&nbsp;&nbsp;&nbsp;&nbsp;&nbsp;<span style=\\'cursor:default;font-size:9pt;color:red\\' title=\\'PBR超過歷年平均高點, 已超越平均高點21%\\r\\n(歷年PBR平均最高:3.85倍, 最低:2.6倍)\\'>PBR過高</span>&nbsp;&nbsp;&nbsp;&nbsp;&nbsp;    &nbsp;&nbsp;&nbsp;&nbsp;&nbsp;&nbsp;&nbsp;&nbsp;    <span style=\\'font-size:9pt;color:gray;\\'>資料日期: 11/09</span></td>  </tr>  <tr align=\\'center\\' valign=\\'middle\\' bgcolor=\\'#e7f3ff\\' height=\\'26px\\'>    <td width=\\'11%\\'><nobr>成交價</nobr></td>    <td width=\\'11%\\'><nobr>漲跌價</nobr></td>    <td width=\\'11%\\'><nobr>漲跌幅</nobr></td>    <td width=\\'11%\\'><nobr>昨收</nobr></td>    <td width=\\'11%\\'><nobr>開盤價</nobr></td>    <td width=\\'9%\\'><nobr>最高價</nobr></td>    <td width=\\'9%\\'><nobr>最低價</nobr></td>  </tr>  <tr align=\\'center\\' bgcolor=\\'white\\' height=\\'26px\\'>    <td style=\\'font-weight:bold;color:green\\'>241</td>    <td style=\\'color:green\\'>-1.5</td>    <td style=\\'color:green\\'>-0.62%</td>    <td>242.5</td>    <td style=\\'color:green\\'>240.5</td>    <td style=\\'color:red\\'>243</td>    <td style=\\'color:green\\'>240</td>  </tr>  <tr align=\\'center\\' valign=\\'middle\\' bgcolor=\\'#e7f3ff\\' height=\\'26px\\'>    <td><nobr>成交張數</nobr></td>    <td><nobr>成交金額</nobr></td>    <td><nobr>成交筆數</nobr></td>    <td><nobr>成交均張</nobr></td>    <td><nobr>成交均價</nobr></td>    <td><nobr>PER</nobr></td>    <td><nobr>PBR</nobr></td>  </tr>  <tr align=\\'center\\' bgcolor=\\'white\\' height=\\'26px\\'>    <td>20,314</td>    <td><nobr>48.98&nbsp;億</nobr></td>    <td>6,336</td>    <td><nobr>3.2&nbsp;張/筆</nobr></td>    <td><nobr>241.13&nbsp;元</nobr></td>    <td>17.92</td>    <td>4.66</td>  </tr>  <tr align=\\'center\\' valign=\\'middle\\' bgcolor=\\'#e7f3ff\\' height=\\'26px\\'>    <td><nobr>昨日張數</nobr></td>    <td><nobr>昨日金額</nobr></td>    <td><nobr>昨日筆數</nobr></td>    <td><nobr>昨日均張</nobr></td>    <td><nobr>昨日均價</nobr></td>    <td colspan=\\'2\\'><nobr>昨漲跌價&nbsp;(幅)</nobr></td>  </tr>  <tr align=\\'center\\' bgcolor=\\'white\\' height=\\'26px\\'>    <td>14,579</td>    <td><nobr>35.36&nbsp;億</nobr></td>    <td>4,610</td>    <td><nobr>3.2&nbsp;張/筆</nobr></td>    <td><nobr>242.57&nbsp;元</nobr></td>    <td colspan=\\'2\\' style=\\'color:green\\'><nobr>-1.5&nbsp;(-0.61%)</nobr></td></tr>  <tr bgcolor=\\'#cde2e5\\' style=\\'font-size:10pt\\' valign=\\'top\\' align=\\'left\\' height=\\'32px\\'>    <td colspan=\\'7\\' class=\\'head_td\\'><p style=\\'margin:6px 0 3px 6px\\'>連漲連跌統計:&nbsp;<font style=\\'color:green\\'>連2跌&nbsp;&nbsp;(&nbsp;-3元&nbsp;/&nbsp;-1.23%)</font>&nbsp;&nbsp;&nbsp;&nbsp;&nbsp;&nbsp;<a style=\\'font-size:10pt;\\' class=\\'link_red\\' target=\\'_self\\' href=\\'StockFinGrade.asp?STOCK_ID=2330&RPT_CAT=M_YEAR\\'>最新年報評分:&nbsp;91分</a>&nbsp;&nbsp;&nbsp;<span style=\\'font-size:10pt;color:red\\'>平均年報評分:&nbsp;91分</span>&nbsp;&nbsp;&nbsp;&nbsp;&nbsp;<span style=\\'font-size:10pt;color:blue\\'><a class=\\'link_blue\\' target=\\'_self\\' href=\\'StockIdxDetail.asp?STOCK_ID=%E5%8A%A0%E6%AC%8A%E6%8C%87%E6%95%B8\\'>上市指數</a>: </span><span style=\\'font-size:10pt;color:green\\'>10743.27&nbsp;(-75.72&nbsp;/&nbsp;-0.7%)</span></p></td></tr></table></td></tr></table>\\r\\n            <p style=\\'margin-top:0px;margin-bottom:8px\\'></p>\\r\\n            <table class=\\'none_tbl\\'  style=\\'\\' width=\\'100%\\' height=\\'90px\\' border=\\'0px\\' cellpadding=\\'0px\\' cellspacing=\\'0px\\'><tr><td align=\\'center\\' valign=\\'middle\\'><div id=\\'div-gpt-ad-TW_STOCKBZPERFORMANCE-1\\' style=\\'width:728px;text-align:center;\\'></div></td></tr></table><script type=\\'text/javascript\\'>  googletag.cmd.push(function() {    googletag.defineSlot(\\'/166795457/TW_StockBzPerformance_728x90_頁內\\', [728,90], \\'div-gpt-ad-TW_STOCKBZPERFORMANCE-1\\').addService(googletag.pubads());    googletag.pubads().enableSingleRequest();    googletag.enableServices();    googletag.display(\\'div-gpt-ad-TW_STOCKBZPERFORMANCE-1\\');  });</script>\\r\\n            <p style=\\'margin-top:0px;margin-bottom:8px\\'></p>\\r\\n<table class=\\'solid_1_padding_3_0_tbl\\' width=\\'100%\\' border=\\'0\\' cellpadding=\\'0\\' cellspacing=\\'0\\' style=\\'font-size:10pt;table-layout:fixed;\\'>  <tr bgcolor=\\'#cde2e5\\' height=\\'25\\'>    <td class=\\'head_td\\' colspan=\\'13\\' align=\\'center\\'><table class=\\'none_tbl\\' width=\\'100%\\' border=\\'0\\' cellpadding=\\'0\\' cellspacing=\\'0\\'><tr><td width=\\'20%\\' style=\\'font-size:8pt;color:gray;\\' valign=\\'bottom\\'><nobr>&nbsp;*&nbsp;資料統計期間：1991 ~ 2016年(共26年)</nobr></td><td width=\\'60%\\' style=\\'color:blue;font-size:12pt;font-weight:bold;\\' align=\\'center\\'><nobr>&nbsp;2330 台積電&nbsp;&nbsp;歷年平均經營績效統計&nbsp;(合併)&nbsp;</nobr></td><td width=\\'20%\\' align=\\'right\\' style=\\'font-size:9pt;color:blue\\' valign=\\'bottom\\'><nobr><form action=\\'StockBzPerformance.asp\\' target=\\'_self\\' method=\\'get\\' style=\\'margin:0px;display:inline;\\'><input type=\\'submit\\' id=\\'btnBzPerformanceAvgQry\\' style=\\'display:none\\' value=\\'查詢\\'><input type=\\'text\\' style=\\'display:none\\' name=\\'STOCK_ID\\' value=\\'2330\\'><select name=\\'YEAR_PERIOD\\' style=\\'font-size:10pt\\' OnChange=\\'jsp:btnBzPerformanceAvgQry.click();\\'><option value=\\'9999\\' selected>歷年平均</option><option value=\\'20\\' >近20年平均</option><option value=\\'15\\' >近15年平均</option><option value=\\'10\\' >近10年平均</option><option value=\\'5\\' >近5年平均</option><option value=\\'3\\' >近3年平均</option><option value=\\'1\\' >近1年平均</option></select>&nbsp;<select name=\\'RPT_CAT\\' style=\\'font-size:10pt\\' OnChange=\\'jsp:btnBzPerformanceAvgQry.click();\\'><option value=\\'M_QUAR\\' >合併季報</option><option value=\\'M_QUAR_ACC\\' >合併累計季報</option><option value=\\'M_YEAR\\' selected>合併年報</option><option value=\\'QUAR\\' >非合併季報</option><option value=\\'QUAR_ACC\\' >非合併累計季報</option><option value=\\'YEAR\\' >非合併年報</option></select>&nbsp;&nbsp;</form></nobr></td></tr></table></td></tr>  <tr align=\\'center\\' bgcolor=\\'#e7f3ff\\' height=\\'23px\\'>    <td rowspan=\\'2\\'><nobr style=\\'color:red\\'>目前股價</nobr><br><nobr style=\\'color:green\\'>241&nbsp;元</nobr></td>    <td colspan=\\'2\\'><nobr>成交價統計(元)</nobr></td>    <td colspan=\\'2\\'><nobr>漲跌均價統計</nobr></td>    <td colspan=\\'2\\'><nobr>成交量統計(張)</nobr></td>    <td colspan=\\'2\\'><nobr>營業收入統計(億)</nobr></td>    <td colspan=\\'2\\'><nobr>稅後淨利統計(億)</nobr></td>    <td colspan=\\'2\\'><nobr>獲利率統計</nobr></td>  </tr>  <tr align=\\'center\\' bgcolor=\\'#e7f3ff\\' height=\\'23px\\'>    <td title=\\'各年度最低股價統計值\\'><nobr>最低價</nobr></td>    <td title=\\'各年度最高股價統計值\\'><nobr>最高價</nobr></td>    <td title=\\'各年度股價漲跌價統計值\\'><nobr>漲跌(元)</nobr></td>    <td title=\\'各年度股價漲跌幅統計值\\'><nobr>漲跌(%)</nobr></td>    <td title=\\'各年度最低成交量統計值\\'><nobr>最低量</nobr></td>    <td title=\\'各年度最高成交量統計值\\'><nobr>最高量</nobr></td>    <td title=\\'歷年營業收入平均值\\'><nobr>平均營收</nobr></td>    <td title=\\'歷年營業收入成長率平均值\\'><nobr>年成長</nobr></td>    <td title=\\'歷年淨利平均值\\'><nobr>平均淨利</nobr></td>    <td title=\\'歷年淨利成長率平均值\\'><nobr>年成長</nobr></td>    <td title=\\'歷年營業毛利率平均值\\'><nobr>毛利率</nobr></td>    <td title=\\'歷年淨利率平均值\\'><nobr>淨利率</nobr></td>  </tr><tr align=\\'center\\' bgcolor=\\'white\\' height=\\'23px\\' OnMouseOver=\\'this.style.background=\"#FFF0DA\";\\' OnMouseOut=\\'this.style.background=\"white\";\\'>  <td title=\\'參考股本與時間因素,將歷年資料予以加權後再平均,使計算結果更趨近於近期情況\\'><nobr>加權平均</nobr></td>  <td>72.24</td>  <td>106.91</td>  <td style=\\'color:red\\'>+9.28</td>  <td style=\\'color:red\\'>+11.82</td>  <td>6,928</td>  <td>292,226</td>  <td>5,029.1</td>  <td style=\\'color:red\\'>+12.3%</td>  <td >1,619.9</td>  <td style=\\'color:red\\'>+13.2%</td>  <td >47.5%</td>  <td >32.2%</td></tr><tr align=\\'center\\' bgcolor=\\'white\\' height=\\'23px\\' OnMouseOver=\\'this.style.background=\"#FFF0DA\";\\' OnMouseOut=\\'this.style.background=\"white\";\\'>  <td title=\\'以一般方式直接將歷年資料加以平均\\'><nobr>一般平均</nobr></td>  <td>65.06</td>  <td>120.24</td>  <td style=\\'color:red\\'>+3.72</td>  <td style=\\'color:red\\'>+11.86</td>  <td>5,610</td>  <td>255,191</td>  <td>3,410.0</td>  <td style=\\'color:red\\'>+13.3%</td>  <td >931.3</td>  <td style=\\'color:red\\'>+14.3%</td>  <td >46.4%</td>  <td >27.3%</td></tr>  <tr align=\\'center\\' bgcolor=\\'#e7f3ff\\' height=\\'23px\\'>    <td rowspan=\\'2\\'><nobr style=\\'color:red\\'>目前淨值</nobr><br><nobr style=\\'color:green\\'>51.74&nbsp;元</nobr></td>    <td colspan=\\'2\\' title=\\'股東權益報酬率\\'><nobr>ROE統計</nobr></td>    <td colspan=\\'2\\' title=\\'資產報酬率\\'><nobr>ROA統計</nobr></td>    <td colspan=\\'2\\' title=\\'每股稅後盈餘統計\\'><nobr>稅後EPS年均值</nobr></td>    <td colspan=\\'2\\' title=\\'本益比統計\\'><nobr>PER統計</nobr></td>    <td colspan=\\'2\\' title=\\'每股淨值統計\\'><nobr>BPS年均值</nobr></td>    <td colspan=\\'2\\' title=\\'股價淨值比統計\\'><nobr>PBR統計</nobr></td>  </tr>  <tr align=\\'center\\' bgcolor=\\'#e7f3ff\\' height=\\'23px\\'>    <td title=\\'歷年股東權益報酬率平均值\\'><nobr>ROE (%)</nobr></td>    <td title=\\'歷年股東權益報酬率成長狀況統計\\'><nobr>成長 (%)</nobr></td>    <td title=\\'歷年資產報酬率平均值\\'><nobr>ROA (%)</nobr></td>    <td title=\\'歷年資產報酬率成長狀況統計\\'><nobr>成長 (%)</nobr></td>    <td title=\\'歷年每股稅後盈餘平均值\\'><nobr>EPS (元)</nobr></td>    <td title=\\'歷年每股稅後盈餘成長平均值\\'><nobr>成長 (元)</nobr></td>    <td title=\\'歷年股價最低值 / 該年度EPS = 平均最低本益比\\'><nobr>最低</nobr></td>    <td title=\\'歷年股價最高值 / 該年度EPS = 平均最高本益比\\'><nobr>最高</nobr></td>    <td title=\\'歷年每股淨值平均\\'><nobr>BPS (元)</nobr></td>    <td title=\\'歷年每股淨值成長率平均值\\'><nobr>成長 (元)</nobr></td>    <td title=\\'歷年股價最低值 / 該年度BPS = 平均最低股價淨值比\\'><nobr>最低</nobr></td>    <td title=\\'歷年股價最高值 / 該年度BPS = 平均最高股價淨值比\\'><nobr>最高</nobr></td>  </tr><tr align=\\'center\\' bgcolor=\\'white\\' height=\\'23px\\' OnMouseOver=\\'this.style.background=\"#FFF0DA\";\\' OnMouseOut=\\'this.style.background=\"white\";\\'>  <td title=\\'參考股本與時間因素,將歷年資料予以加權後再平均,使計算結果更趨近於近期情況\\'>加權平均</td>  <td >23.6</td>  <td style=\\'color:red\\'>+0.3</td>  <td  >18.3</td>  <td style=\\'color:red\\'>+0.2</td>  <td >6.43</td>  <td style=\\'color:red\\'>+0.72</td>  <td >11.23</td>  <td >16.62</td>  <td>28.03</td>  <td style=\\'color:red\\'>+2.87</td>  <td>2.58</td>  <td>3.81</td></tr><tr align=\\'center\\' bgcolor=\\'white\\' height=\\'23px\\' OnMouseOver=\\'this.style.background=\"#FFF0DA\";\\' OnMouseOut=\\'this.style.background=\"white\";\\'>  <td title=\\'以一般方式直接將歷年資料加以平均\\'>一般平均</td>  <td >23.3</td>  <td style=\\'color:green\\'>-0.6</td>  <td  >17.3</td>  <td style=\\'color:green\\'>-0.3</td>  <td >5.51</td>  <td style=\\'color:red\\'>+0.47</td>  <td >11.82</td>  <td >21.84</td>  <td>22.41</td>  <td style=\\'color:red\\'>+1.68</td>  <td>2.9</td>  <td>5.37</td></tr>  <tr align=\\'center\\' bgcolor=\\'#e7f3ff\\' height=\\'23px\\'>    <td rowspan=\\'2\\'><nobr style=\\'color:red\\'>16年EPS</nobr><br><nobr style=\\'color:green\\'>12.89&nbsp;元</nobr></td>    <td colspan=\\'2\\'><nobr>股票股利</nobr></td>    <td colspan=\\'2\\'><nobr>現金股利</nobr></td>    <td colspan=\\'2\\'><nobr>股利合計</nobr></td>    <td colspan=\\'2\\'><nobr>股票殖利率</nobr></td>    <td colspan=\\'2\\'><nobr>現金殖利率</nobr></td>    <td colspan=\\'2\\'><nobr>合計殖利率</nobr></td>  </tr>  <tr align=\\'center\\' bgcolor=\\'#e7f3ff\\' height=\\'23px\\'>    <td title=\\'歷年股票股利平均值\\'><nobr>(元)</nobr></td>    <td title=\\'歷年股票股利成長數平均值\\'><nobr>成長 (元)</nobr></td>    <td title=\\'歷年現金股利平均值\\'><nobr>(元)</nobr></td>    <td title=\\'歷年現金股利成長數平均值\\'><nobr>成長 (元)</nobr></td>    <td title=\\'歷年股利總和平均值\\'><nobr>(元)</nobr></td>    <td title=\\'歷年股利總和成長數平均值\\'><nobr>成長 (元)</nobr></td>    <td title=\\'歷年股票股利 / 該年度股價最低值 = 平均最高股票殖利率\\'><nobr>最高</nobr></td>    <td title=\\'歷年股票股利 / 該年度股價最高值 = 平均最低股票殖利率\\'><nobr>最低</nobr></td>    <td title=\\'歷年現金股利 / 該年度股價最低值 = 平均最高現金殖利率\\'><nobr>最高</nobr></td>    <td title=\\'歷年現金股利 / 該年度股價最高值 = 平均最低現金殖利率\\'><nobr>最低</nobr></td>    <td title=\\'歷年股利合計 / 該年度股價最低值 = 平均最高合計殖利率\\'><nobr>最高</nobr></td>    <td title=\\'歷年股利合計 / 該年度股價最高值 = 平均最低合計殖利率\\'><nobr>最低</nobr></td>  </tr><tr align=\\'center\\' bgcolor=\\'white\\' height=\\'23px\\'  OnMouseOver=\\'this.style.background=\"#FFF0DA\";\\'  OnMouseOut=\\'this.style.background=\"white\";\\'>  <td title=\\'參考股本與時間因素,將歷年資料予以加權後再平均,使計算結果更趨近於近期情況\\'>加權平均</td>  <td>0.28</td>  <td style=\\'color:green\\'>-0.12</td>  <td>3.31</td>  <td style=\\'color:red\\'>+0.47</td>  <td>3.59</td>  <td style=\\'color:red\\'>+0.35</td>  <td>0.39%</td>  <td>0.26%</td>  <td>4.58%</td>  <td>3.09%</td>  <td>4.96%</td>  <td>3.35%</td></tr><tr align=\\'center\\' bgcolor=\\'white\\' height=\\'23px\\'  OnMouseOver=\\'this.style.background=\"#FFF0DA\";\\'  OnMouseOut=\\'this.style.background=\"white\";\\'>  <td title=\\'以一般方式直接將歷年資料加以平均\\'>一般平均</td>  <td>1.64</td>  <td style=\\'color:green\\'>-0.02</td>  <td>1.84</td>  <td style=\\'color:red\\'>+0.28</td>  <td>3.48</td>  <td style=\\'color:red\\'>+0.26</td>  <td>2.52%</td>  <td>1.37%</td>  <td>2.82%</td>  <td>1.53%</td>  <td>5.34%</td>  <td>2.89%</td></tr></table>\\r\\n            <p style=\\'margin-top:0px;margin-bottom:8px\\'></p>\\r\\n            <!--<p style=\\'color:gray; margin-top:4px; margin-bottom:0px; font-size: 9pt\\'>&nbsp;* 配合國際財務報導準則(IFRSs), 本站之財報顯示改以合併報表為預設值, 若使用者欲查詢早期無合併財報之資料, 請以「非合併財報」選項查詢。</p>-->\\r\\n            <!--<p style=\\'color:gray; margin-top:0px; margin-bottom:0px; font-size: 9pt\\'>&nbsp;* 因證交所早期並未強制上市櫃公司編製合併財報, 故早期之合併財報會有部分「無資料」之情形, 請使用者多加留意。</p>-->\\r\\n\\t\\t\\t<table class=\\'solid_1_padding_3_2_tbl\\' width=\\'100%\\' border=\\'0\\' cellpadding=\\'0\\' cellspacing=\\'0\\'>  <tr bgcolor=\\'#cde2e5\\'><td class=\\'head_td\\'>    <table class=\\'none_tbl\\' width=\\'100%\\' border=\\'0\\' cellpadding=\\'0\\' cellspacing=\\'0\\'><tr>      <td width=\\'20%\\'></td><td width=\\'60%\\' style=\\'color:blue;font-size:12pt;font-weight:bold;\\' align=\\'center\\'><nobr>2330 台積電&nbsp;&nbsp;歷年經營績效詳細資料&nbsp;(合併)</nobr></td><td width=\\'20%\\' align=\\'right\\' style=\\'font-size:9pt;color:blue\\' valign=\\'bottom\\'><nobr>&nbsp;&nbsp;&nbsp;&nbsp;<form action=\\'StockBzPerformance.asp\\' target=\\'_self\\' method=\\'get\\' style=\\'margin:0px;display:inline;\\'><input type=\\'submit\\' id=\\'btnBzPerformanceQry\\' style=\\'display:none\\' value=\\'查詢\\'><input type=\\'text\\' style=\\'display:none\\' name=\\'STOCK_ID\\' value=\\'2330\\'><input type=\\'text\\' style=\\'display:none\\' name=\\'YEAR_PERIOD\\' value=\\'9999\\'><select name=\\'RPT_CAT\\' style=\\'font-size:10pt\\' OnChange=\\'jsp:btnBzPerformanceQry.click();\\'><option value=\\'M_QUAR\\' >合併季報</option><option value=\\'M_QUAR_ACC\\' >合併累計季報</option><option value=\\'M_YEAR\\' selected>合併年報</option><option value=\\'QUAR\\' >非合併季報</option><option value=\\'QUAR_ACC\\' >非合併累計季報</option><option value=\\'YEAR\\' >非合併年報</option></select>&nbsp;&nbsp;&nbsp;&nbsp;</form></nobr></td>    </tr></table>  </td></tr><tr align=\\'center\\' bgcolor=\\'white\\' valign=\\'middle\\' height=\\'551px\\'><td style=\\'padding:0\\'><div id=\\'IMG_LOADING\\'><img border=\\'0\\' src=\\'image/loading.gif\\'></div><canvas id=\"StockCanvas\" height=\\'550px\\' width=\\'810px\\' style=\"display:none;z-index:0;border:0 solid #69c\"><p style=\\'font-size:12pt;color:red;margin-top:240px;margin-bottom:240px\\'>很抱歉，您的瀏覽器不支援 html5 所設計之繪圖功能，<br>請改用 IE9、google chrome 或 firefox 等瀏覽器，以支援此功能。</p></canvas><div id=\"debug\"></div><script type=\"text/javascript\" src=\"StockBzPerformanceData.asp?STOCK_ID=2330&STOCK_NM=%E5%8F%B0%E7%A9%8D%E9%9B%BB&STOCK_CAT=%E4%B8%80%E8%88%AC&MARKET_CAT=%E4%B8%8A%E5%B8%82&YEAR_PERIOD=9999&RPT_CAT=M%5FYEAR&SESSION_VAL=005%2E5927997\"></script></td></tr></table>\\r\\n            <p style=\\'margin-top:0px;margin-bottom:8px\\'></p>\\r\\n            <table class=\\'none_tbl\\'  style=\\'\\' width=\\'100%\\' height=\\'90px\\' border=\\'0px\\' cellpadding=\\'0px\\' cellspacing=\\'0px\\'><tr><td align=\\'center\\' valign=\\'middle\\'><div id=\\'div-gpt-ad-TW_STOCKBZPERFORMANCE-2\\' style=\\'width:728px;text-align:center;\\'></div></td></tr></table><script type=\\'text/javascript\\'>  googletag.cmd.push(function() {    googletag.defineSlot(\\'/166795457/TW_StockBzPerformance_728x90_頁首\\', [728,90], \\'div-gpt-ad-TW_STOCKBZPERFORMANCE-2\\').addService(googletag.pubads());    googletag.pubads().enableSingleRequest();    googletag.enableServices();    googletag.display(\\'div-gpt-ad-TW_STOCKBZPERFORMANCE-2\\');  });</script>\\r\\n            <p style=\\'margin-top:0px;margin-bottom:8px\\'></p>\\r\\n\\t\\t\\t<div id=\\'txtFinDetailData\\'><table class=\\'solid_1_padding_3_2_tbl\\' width=\\'100%\\' border=\\'0\\' cellpadding=\\'0\\' cellspacing=\\'0\\' bgcolor=\\'#C2CCD3\\' style=\\'font-size:10pt;\\'><tr bgcolor=\\'#cde2e5\\' valign=\\'bottom\\'><td><table class=\\'none_tbl\\' width=\\'100%\\'><tr><td><input type=\\'button\\' value=\\'獲利指標\\' onclick=\"ChgFinDetailSheet(this);\" style=\\'color:blue;font-weight:bold;\\'><input type=\\'button\\' value=\\'年增統計\\' onclick=\"ChgFinDetailSheet(this);\" ><input type=\\'button\\' value=\\'股利統計\\' onclick=\"ChgFinDetailSheet(this);\" ><input type=\\'button\\' value=\\'PER/PBR\\' onclick=\"ChgFinDetailSheet(this);\" ><nobr id=\\'txtFinDetailLoading\\' style=\\'color:gray;display:none;\\'>&nbsp;&nbsp;(&nbsp;資料載入中......&nbsp;)</nobr></td><td align=\\'right\\'><input type=\\'button\\' value=\\'匯出XLS\\' onclick=\"export2xls(divFinDetail.innerHTML,\\'BzPerformance.xls\\');\">&nbsp;<input type=\\'button\\' value=\\'匯出HTML\\' onclick=\"export2html(divFinDetail.innerHTML,\\'BzPerformance.html\\');\">&nbsp;&nbsp;&nbsp;&nbsp;</td></tr></table></td></tr></table><script language=\\'javascript\\'>function ChgFinDetailSheet(obj) {    if (obj.style.color == \\'blue\\') { return; }    ReloadReport(\\'StockBzPerformance.asp?STOCK_ID=2330&YEAR_PERIOD=9999&RPT_CAT=M%5FYEAR&STEP=DATA&SHEET=\\'+encodeURIComponent(obj.value),txtFinDetailData,txtFinDetailLoading);}</script><div style=\\'position:relative;width:812px;\\'><div id=\\'divFinDetail\\' style=\\'overflow-x:auto;overflow-y:hidden;border:solid #C2CCD3 0px;display:;\\'><table class=\\'solid_1_padding_3_0_tbl\\' width=\\'100%\\' style=\\'font-size:10pt;line-height:16px;\\'><thead><tr align=\\'center\\' bgcolor=\\'#cde2e5\\' height=\\'23px\\'><td rowspan=\\'2\\'><nobr>年度</nobr></td><td rowspan=\\'2\\'><nobr>股本<br>(億)</nobr></td><td rowspan=\\'2\\'><nobr>財報<br>評分</nobr></td><td colspan=\\'4\\'><nobr>年度股價(元)</nobr></td><td colspan=\\'5\\'><nobr>獲利金額(億)</nobr></td><td colspan=\\'4\\'><nobr>獲利率(%)</nobr></td><td rowspan=\\'2\\'><nobr>ROE<br>(%)</nobr></td><td rowspan=\\'2\\'><nobr>ROA<br>(%)</nobr></td><td colspan=\\'2\\'><nobr>EPS(元)</nobr></td><td rowspan=\\'2\\'><nobr>BPS<br>(元)</nobr></td></tr><tr align=\\'center\\' bgcolor=\\'#cde2e5\\' height=\\'40px\\'><td><nobr>收盤</nobr></td><td title=\\'年度平均收盤價\\'><nobr>平均</nobr></td><td><nobr>漲跌</nobr></td><td><nobr>漲跌<br>(%)</nobr></td><td><nobr>營業<br>收入</nobr></td><td><nobr>營業<br>毛利</nobr></td><td><nobr>營業<br>利益</nobr></td><td><nobr>業外<br>損益</nobr></td><td><nobr>稅後<br>淨利</nobr></td><td><nobr>營業<br>毛利</nobr></td><td><nobr>營業<br>利益</nobr></td><td><nobr>業外<br>損益</nobr></td><td><nobr>稅後<br>淨利</nobr></td><td><nobr>稅後<br>EPS</nobr></td><td><nobr>成長<br>(元)</nobr></td></tr></thead><tr id=\\'row0\\' align=\\'center\\' bgcolor=\\'white\\' height=\\'23px\\'  OnMouseOver=\"ChgBGColor([\\'rowh0\\',\\'row0\\'],\\'#FFF0DA\\');\"  OnMouseOut=\"ChgBGColor([\\'rowh0\\',\\'row0\\'],\\'white\\');\"><td><nobr>17Q2</nobr></td><td><nobr><a title=\\'查看2017Q2資產負債表\\' class=\\'link_black\\' href=\\'StockFinDetail.asp?RPT_CAT=BS_M_QUAR&LAST_RPT_CAT=BS_M_QUAR&STOCK_ID=2330&QRY_TIME=20172\\' target=\\'_self\\'>2,593</a></nobr></td><td><nobr><a title=\\'查看2017Q2財報評分\\' class=\\'link_red\\' href=\\'StockFinGrade.asp?STOCK_ID=2330&QRY_TIME=20172&RPT_CAT=M_QUAR\\' target=\\'_self\\'>94</a></nobr></td><td><nobr><a title=\\'查看個股日K線圖\\' class=\\'link_black\\' href=\\'ShowK_Chart.asp?STOCK_ID=2330&CHT_NM=%E5%80%8B%E8%82%A1K%E7%B7%9A%E5%9C%96&CHT_CAT=%E6%97%A5%E7%B7%9A%E5%9C%96&CHT_CAT2=DATE\\' target=\\'_self\\'>241</a></nobr></td><td><nobr><a title=\\'查看個股日K線圖\\' class=\\'link_black\\' href=\\'ShowK_Chart.asp?STOCK_ID=2330&CHT_NM=%E5%80%8B%E8%82%A1K%E7%B7%9A%E5%9C%96&CHT_CAT=%E6%97%A5%E7%B7%9A%E5%9C%96&CHT_CAT2=DATE\\' target=\\'_self\\'>206</a></nobr></td><td><nobr><a title=\\'查看個股日K線圖\\' class=\\'link_red\\' href=\\'ShowK_Chart.asp?STOCK_ID=2330&CHT_NM=%E5%80%8B%E8%82%A1K%E7%B7%9A%E5%9C%96&CHT_CAT=%E6%97%A5%E7%B7%9A%E5%9C%96&CHT_CAT2=DATE\\' target=\\'_self\\'>+59.5</a></nobr></td><td><nobr><a title=\\'查看個股日K線圖\\' class=\\'link_red\\' href=\\'ShowK_Chart.asp?STOCK_ID=2330&CHT_NM=%E5%80%8B%E8%82%A1K%E7%B7%9A%E5%9C%96&CHT_CAT=%E6%97%A5%E7%B7%9A%E5%9C%96&CHT_CAT2=DATE\\' target=\\'_self\\'>+32.8</a></nobr></td><td><nobr><a title=\\'查看2017Q2損益表\\' class=\\'link_black\\' href=\\'StockFinDetail.asp?RPT_CAT=IS_M_QUAR&LAST_RPT_CAT=IS_M_QUAR&STOCK_ID=2330&QRY_TIME=20172\\' target=\\'_self\\'>4,478</a></nobr></td><td><nobr><a title=\\'查看2017Q2損益表\\' class=\\'link_black\\' href=\\'StockFinDetail.asp?RPT_CAT=IS_M_QUAR&LAST_RPT_CAT=IS_M_QUAR&STOCK_ID=2330&QRY_TIME=20172\\' target=\\'_self\\'>2,302</a></nobr></td><td><nobr><a title=\\'查看2017Q2損益表\\' class=\\'link_black\\' href=\\'StockFinDetail.asp?RPT_CAT=IS_M_QUAR&LAST_RPT_CAT=IS_M_QUAR&STOCK_ID=2330&QRY_TIME=20172\\' target=\\'_self\\'>1,786</a></nobr></td><td><nobr><a title=\\'查看2017Q2損益表\\' class=\\'link_black\\' href=\\'StockFinDetail.asp?RPT_CAT=IS_M_QUAR&LAST_RPT_CAT=IS_M_QUAR&STOCK_ID=2330&QRY_TIME=20172\\' target=\\'_self\\'>53.3</a></nobr></td><td><nobr><a title=\\'查看2017Q2損益表\\' class=\\'link_black\\' href=\\'StockFinDetail.asp?RPT_CAT=IS_M_QUAR&LAST_RPT_CAT=IS_M_QUAR&STOCK_ID=2330&QRY_TIME=20172\\' target=\\'_self\\'>1,539</a></nobr></td><td><nobr><a title=\\'查看2017Q2財務比率表\\' class=\\'link_black\\' href=\\'StockFinDetail.asp?RPT_CAT=XX_M_QUAR&LAST_RPT_CAT=XX_M_QUAR&STOCK_ID=2330&QRY_TIME=20172\\' target=\\'_self\\'>51.4</a></nobr></td><td><nobr><a title=\\'查看2017Q2財務比率表\\' class=\\'link_black\\' href=\\'StockFinDetail.asp?RPT_CAT=XX_M_QUAR&LAST_RPT_CAT=XX_M_QUAR&STOCK_ID=2330&QRY_TIME=20172\\' target=\\'_self\\'>39.9</a></nobr></td><td><nobr><a title=\\'查看2017Q2財務比率表\\' class=\\'link_black\\' href=\\'StockFinDetail.asp?RPT_CAT=XX_M_QUAR&LAST_RPT_CAT=XX_M_QUAR&STOCK_ID=2330&QRY_TIME=20172\\' target=\\'_self\\'>1.19</a></nobr></td><td><nobr><a title=\\'查看2017Q2財務比率表\\' class=\\'link_black\\' href=\\'StockFinDetail.asp?RPT_CAT=XX_M_QUAR&LAST_RPT_CAT=XX_M_QUAR&STOCK_ID=2330&QRY_TIME=20172\\' target=\\'_self\\'>34.4</a></nobr></td><td><nobr><a title=\\'查看2017Q2財務比率表\\' class=\\'link_black\\' style=\\'line-height:10pt;\\' href=\\'StockFinDetail.asp?RPT_CAT=XX_M_QUAR_ACC&LAST_RPT_CAT=XX_M_QUAR_ACC&STOCK_ID=2330&QRY_TIME=20172\\' target=\\'_self\\'>22.5</a><div style=\\'font-size:8pt;color:gray;line-height:8pt;\\'>(年估)</div></nobr></td><td><nobr><a title=\\'查看2017Q2財務比率表\\' class=\\'link_black\\' style=\\'line-height:10pt;\\' href=\\'StockFinDetail.asp?RPT_CAT=XX_M_QUAR_ACC&LAST_RPT_CAT=XX_M_QUAR_ACC&STOCK_ID=2330&QRY_TIME=20172\\' target=\\'_self\\'>15.9</a><div style=\\'font-size:8pt;color:gray;line-height:8pt;\\'>(年估)</div></nobr></td><td><nobr><a title=\\'查看2017Q2財務比率表\\' class=\\'link_black\\' href=\\'StockFinDetail.asp?RPT_CAT=XX_M_QUAR&LAST_RPT_CAT=XX_M_QUAR&STOCK_ID=2330&QRY_TIME=20172\\' target=\\'_self\\'>5.94</a></nobr></td><td><nobr><a title=\\'查看2017Q2財務比率表\\' class=\\'link_red\\' href=\\'StockFinDetail.asp?RPT_CAT=XX_M_QUAR&LAST_RPT_CAT=XX_M_QUAR&STOCK_ID=2330&QRY_TIME=20172\\' target=\\'_self\\'>+0.65</a></nobr></td><td><nobr><a title=\\'查看2017Q2資產負債表\\' class=\\'link_black\\' href=\\'StockFinDetail.asp?RPT_CAT=BS_M_QUAR&LAST_RPT_CAT=BS_M_QUAR&STOCK_ID=2330&QRY_TIME=20172\\' target=\\'_self\\'>51.74</a></nobr></td></tr><tr id=\\'row1\\' align=\\'center\\' bgcolor=\\'#EBF7FF\\' height=\\'23px\\'  OnMouseOver=\"ChgBGColor([\\'rowh1\\',\\'row1\\'],\\'#FFF0DA\\');\"  OnMouseOut=\"ChgBGColor([\\'rowh1\\',\\'row1\\'],\\'#EBF7FF\\');\"><td><nobr>2016</nobr></td><td><nobr><a title=\\'查看2016資產負債表\\' class=\\'link_black\\' href=\\'StockFinDetail.asp?RPT_CAT=BS_M_YEAR&LAST_RPT_CAT=BS_M_YEAR&STOCK_ID=2330&QRY_TIME=2016\\' target=\\'_self\\'>2,593</a></nobr></td><td><nobr><a title=\\'查看2016財報評分\\' class=\\'link_red\\' href=\\'StockFinGrade.asp?STOCK_ID=2330&QRY_TIME=2016&RPT_CAT=M_YEAR\\' target=\\'_self\\'>91</a></nobr></td><td><nobr><a title=\\'查看個股日K線圖\\' class=\\'link_black\\' href=\\'ShowK_Chart.asp?STOCK_ID=2330&CHT_NM=%E5%80%8B%E8%82%A1K%E7%B7%9A%E5%9C%96&CHT_CAT=%E6%97%A5%E7%B7%9A%E5%9C%96&CHT_CAT2=DATE\\' target=\\'_self\\'>181.5</a></nobr></td><td><nobr><a title=\\'查看個股日K線圖\\' class=\\'link_black\\' href=\\'ShowK_Chart.asp?STOCK_ID=2330&CHT_NM=%E5%80%8B%E8%82%A1K%E7%B7%9A%E5%9C%96&CHT_CAT=%E6%97%A5%E7%B7%9A%E5%9C%96&CHT_CAT2=DATE\\' target=\\'_self\\'>166</a></nobr></td><td><nobr><a title=\\'查看個股日K線圖\\' class=\\'link_red\\' href=\\'ShowK_Chart.asp?STOCK_ID=2330&CHT_NM=%E5%80%8B%E8%82%A1K%E7%B7%9A%E5%9C%96&CHT_CAT=%E6%97%A5%E7%B7%9A%E5%9C%96&CHT_CAT2=DATE\\' target=\\'_self\\'>+38.5</a></nobr></td><td><nobr><a title=\\'查看個股日K線圖\\' class=\\'link_red\\' href=\\'ShowK_Chart.asp?STOCK_ID=2330&CHT_NM=%E5%80%8B%E8%82%A1K%E7%B7%9A%E5%9C%96&CHT_CAT=%E6%97%A5%E7%B7%9A%E5%9C%96&CHT_CAT2=DATE\\' target=\\'_self\\'>+26.9</a></nobr></td><td><nobr><a title=\\'查看2016損益表\\' class=\\'link_black\\' href=\\'StockFinDetail.asp?RPT_CAT=IS_M_YEAR&LAST_RPT_CAT=IS_M_YEAR&STOCK_ID=2330&QRY_TIME=2016\\' target=\\'_self\\'>9,479</a></nobr></td><td><nobr><a title=\\'查看2016損益表\\' class=\\'link_black\\' href=\\'StockFinDetail.asp?RPT_CAT=IS_M_YEAR&LAST_RPT_CAT=IS_M_YEAR&STOCK_ID=2330&QRY_TIME=2016\\' target=\\'_self\\'>4,748</a></nobr></td><td><nobr><a title=\\'查看2016損益表\\' class=\\'link_black\\' href=\\'StockFinDetail.asp?RPT_CAT=IS_M_YEAR&LAST_RPT_CAT=IS_M_YEAR&STOCK_ID=2330&QRY_TIME=2016\\' target=\\'_self\\'>3,780</a></nobr></td><td><nobr><a title=\\'查看2016損益表\\' class=\\'link_black\\' href=\\'StockFinDetail.asp?RPT_CAT=IS_M_YEAR&LAST_RPT_CAT=IS_M_YEAR&STOCK_ID=2330&QRY_TIME=2016\\' target=\\'_self\\'>80</a></nobr></td><td><nobr><a title=\\'查看2016損益表\\' class=\\'link_black\\' href=\\'StockFinDetail.asp?RPT_CAT=IS_M_YEAR&LAST_RPT_CAT=IS_M_YEAR&STOCK_ID=2330&QRY_TIME=2016\\' target=\\'_self\\'>3,342</a></nobr></td><td><nobr><a title=\\'查看2016財務比率表\\' class=\\'link_black\\' href=\\'StockFinDetail.asp?RPT_CAT=XX_M_YEAR&LAST_RPT_CAT=XX_M_YEAR&STOCK_ID=2330&QRY_TIME=2016\\' target=\\'_self\\'>50.1</a></nobr></td><td><nobr><a title=\\'查看2016財務比率表\\' class=\\'link_black\\' href=\\'StockFinDetail.asp?RPT_CAT=XX_M_YEAR&LAST_RPT_CAT=XX_M_YEAR&STOCK_ID=2330&QRY_TIME=2016\\' target=\\'_self\\'>39.9</a></nobr></td><td><nobr><a title=\\'查看2016財務比率表\\' class=\\'link_black\\' href=\\'StockFinDetail.asp?RPT_CAT=XX_M_YEAR&LAST_RPT_CAT=XX_M_YEAR&STOCK_ID=2330&QRY_TIME=2016\\' target=\\'_self\\'>0.84</a></nobr></td><td><nobr><a title=\\'查看2016財務比率表\\' class=\\'link_black\\' href=\\'StockFinDetail.asp?RPT_CAT=XX_M_YEAR&LAST_RPT_CAT=XX_M_YEAR&STOCK_ID=2330&QRY_TIME=2016\\' target=\\'_self\\'>35.3</a></nobr></td><td><nobr><a title=\\'查看2016財務比率表\\' class=\\'link_black\\' href=\\'StockFinDetail.asp?RPT_CAT=XX_M_YEAR&LAST_RPT_CAT=XX_M_YEAR&STOCK_ID=2330&QRY_TIME=2016\\' target=\\'_self\\'>25.6</a></nobr></td><td><nobr><a title=\\'查看2016財務比率表\\' class=\\'link_black\\' href=\\'StockFinDetail.asp?RPT_CAT=XX_M_YEAR&LAST_RPT_CAT=XX_M_YEAR&STOCK_ID=2330&QRY_TIME=2016\\' target=\\'_self\\'>18.9</a></nobr></td><td><nobr><a title=\\'查看2016財務比率表\\' class=\\'link_black\\' href=\\'StockFinDetail.asp?RPT_CAT=XX_M_YEAR&LAST_RPT_CAT=XX_M_YEAR&STOCK_ID=2330&QRY_TIME=2016\\' target=\\'_self\\'>12.89</a></nobr></td><td><nobr><a title=\\'查看2016財務比率表\\' class=\\'link_red\\' href=\\'StockFinDetail.asp?RPT_CAT=XX_M_YEAR&LAST_RPT_CAT=XX_M_YEAR&STOCK_ID=2330&QRY_TIME=2016\\' target=\\'_self\\'>+1.07</a></nobr></td><td><nobr><a title=\\'查看2016資產負債表\\' class=\\'link_black\\' href=\\'StockFinDetail.asp?RPT_CAT=BS_M_YEAR&LAST_RPT_CAT=BS_M_YEAR&STOCK_ID=2330&QRY_TIME=2016\\' target=\\'_self\\'>53.58</a></nobr></td></tr><tr id=\\'row2\\' align=\\'center\\' bgcolor=\\'white\\' height=\\'23px\\'  OnMouseOver=\"ChgBGColor([\\'rowh2\\',\\'row2\\'],\\'#FFF0DA\\');\"  OnMouseOut=\"ChgBGColor([\\'rowh2\\',\\'row2\\'],\\'white\\');\"><td><nobr>2015</nobr></td><td><nobr><a title=\\'查看2015資產負債表\\' class=\\'link_black\\' href=\\'StockFinDetail.asp?RPT_CAT=BS_M_YEAR&LAST_RPT_CAT=BS_M_YEAR&STOCK_ID=2330&QRY_TIME=2015\\' target=\\'_self\\'>2,593</a></nobr></td><td><nobr><a title=\\'查看2015財報評分\\' class=\\'link_red\\' href=\\'StockFinGrade.asp?STOCK_ID=2330&QRY_TIME=2015&RPT_CAT=M_YEAR\\' target=\\'_self\\'>94</a></nobr></td><td><nobr><a title=\\'查看個股日K線圖\\' class=\\'link_black\\' href=\\'ShowK_Chart.asp?STOCK_ID=2330&CHT_NM=%E5%80%8B%E8%82%A1K%E7%B7%9A%E5%9C%96&CHT_CAT=%E6%97%A5%E7%B7%9A%E5%9C%96&CHT_CAT2=DATE\\' target=\\'_self\\'>143</a></nobr></td><td><nobr><a title=\\'查看個股日K線圖\\' class=\\'link_black\\' href=\\'ShowK_Chart.asp?STOCK_ID=2330&CHT_NM=%E5%80%8B%E8%82%A1K%E7%B7%9A%E5%9C%96&CHT_CAT=%E6%97%A5%E7%B7%9A%E5%9C%96&CHT_CAT2=DATE\\' target=\\'_self\\'>140</a></nobr></td><td><nobr><a title=\\'查看個股日K線圖\\' class=\\'link_red\\' href=\\'ShowK_Chart.asp?STOCK_ID=2330&CHT_NM=%E5%80%8B%E8%82%A1K%E7%B7%9A%E5%9C%96&CHT_CAT=%E6%97%A5%E7%B7%9A%E5%9C%96&CHT_CAT2=DATE\\' target=\\'_self\\'>+2</a></nobr></td><td><nobr><a title=\\'查看個股日K線圖\\' class=\\'link_red\\' href=\\'ShowK_Chart.asp?STOCK_ID=2330&CHT_NM=%E5%80%8B%E8%82%A1K%E7%B7%9A%E5%9C%96&CHT_CAT=%E6%97%A5%E7%B7%9A%E5%9C%96&CHT_CAT2=DATE\\' target=\\'_self\\'>+1.4</a></nobr></td><td><nobr><a title=\\'查看2015損益表\\' class=\\'link_black\\' href=\\'StockFinDetail.asp?RPT_CAT=IS_M_YEAR&LAST_RPT_CAT=IS_M_YEAR&STOCK_ID=2330&QRY_TIME=2015\\' target=\\'_self\\'>8,435</a></nobr></td><td><nobr><a title=\\'查看2015損益表\\' class=\\'link_black\\' href=\\'StockFinDetail.asp?RPT_CAT=IS_M_YEAR&LAST_RPT_CAT=IS_M_YEAR&STOCK_ID=2330&QRY_TIME=2015\\' target=\\'_self\\'>4,104</a></nobr></td><td><nobr><a title=\\'查看2015損益表\\' class=\\'link_black\\' href=\\'StockFinDetail.asp?RPT_CAT=IS_M_YEAR&LAST_RPT_CAT=IS_M_YEAR&STOCK_ID=2330&QRY_TIME=2015\\' target=\\'_self\\'>3,200</a></nobr></td><td><nobr><a title=\\'查看2015損益表\\' class=\\'link_black\\' href=\\'StockFinDetail.asp?RPT_CAT=IS_M_YEAR&LAST_RPT_CAT=IS_M_YEAR&STOCK_ID=2330&QRY_TIME=2015\\' target=\\'_self\\'>304</a></nobr></td><td><nobr><a title=\\'查看2015損益表\\' class=\\'link_black\\' href=\\'StockFinDetail.asp?RPT_CAT=IS_M_YEAR&LAST_RPT_CAT=IS_M_YEAR&STOCK_ID=2330&QRY_TIME=2015\\' target=\\'_self\\'>3,066</a></nobr></td><td><nobr><a title=\\'查看2015財務比率表\\' class=\\'link_black\\' href=\\'StockFinDetail.asp?RPT_CAT=XX_M_YEAR&LAST_RPT_CAT=XX_M_YEAR&STOCK_ID=2330&QRY_TIME=2015\\' target=\\'_self\\'>48.7</a></nobr></td><td><nobr><a title=\\'查看2015財務比率表\\' class=\\'link_black\\' href=\\'StockFinDetail.asp?RPT_CAT=XX_M_YEAR&LAST_RPT_CAT=XX_M_YEAR&STOCK_ID=2330&QRY_TIME=2015\\' target=\\'_self\\'>37.9</a></nobr></td><td><nobr><a title=\\'查看2015財務比率表\\' class=\\'link_black\\' href=\\'StockFinDetail.asp?RPT_CAT=XX_M_YEAR&LAST_RPT_CAT=XX_M_YEAR&STOCK_ID=2330&QRY_TIME=2015\\' target=\\'_self\\'>3.6</a></nobr></td><td><nobr><a title=\\'查看2015財務比率表\\' class=\\'link_black\\' href=\\'StockFinDetail.asp?RPT_CAT=XX_M_YEAR&LAST_RPT_CAT=XX_M_YEAR&STOCK_ID=2330&QRY_TIME=2015\\' target=\\'_self\\'>36.3</a></nobr></td><td><nobr><a title=\\'查看2015財務比率表\\' class=\\'link_black\\' href=\\'StockFinDetail.asp?RPT_CAT=XX_M_YEAR&LAST_RPT_CAT=XX_M_YEAR&STOCK_ID=2330&QRY_TIME=2015\\' target=\\'_self\\'>27</a></nobr></td><td><nobr><a title=\\'查看2015財務比率表\\' class=\\'link_black\\' href=\\'StockFinDetail.asp?RPT_CAT=XX_M_YEAR&LAST_RPT_CAT=XX_M_YEAR&STOCK_ID=2330&QRY_TIME=2015\\' target=\\'_self\\'>19.4</a></nobr></td><td><nobr><a title=\\'查看2015財務比率表\\' class=\\'link_black\\' href=\\'StockFinDetail.asp?RPT_CAT=XX_M_YEAR&LAST_RPT_CAT=XX_M_YEAR&STOCK_ID=2330&QRY_TIME=2015\\' target=\\'_self\\'>11.82</a></nobr></td><td><nobr><a title=\\'查看2015財務比率表\\' class=\\'link_red\\' href=\\'StockFinDetail.asp?RPT_CAT=XX_M_YEAR&LAST_RPT_CAT=XX_M_YEAR&STOCK_ID=2330&QRY_TIME=2015\\' target=\\'_self\\'>+1.64</a></nobr></td><td><nobr><a title=\\'查看2015資產負債表\\' class=\\'link_black\\' href=\\'StockFinDetail.asp?RPT_CAT=BS_M_YEAR&LAST_RPT_CAT=BS_M_YEAR&STOCK_ID=2330&QRY_TIME=2015\\' target=\\'_self\\'>47.11</a></nobr></td></tr><tr id=\\'row3\\' align=\\'center\\' bgcolor=\\'#EBF7FF\\' height=\\'23px\\'  OnMouseOver=\"ChgBGColor([\\'rowh3\\',\\'row3\\'],\\'#FFF0DA\\');\"  OnMouseOut=\"ChgBGColor([\\'rowh3\\',\\'row3\\'],\\'#EBF7FF\\');\"><td><nobr>2014</nobr></td><td><nobr><a title=\\'查看2014資產負債表\\' class=\\'link_black\\' href=\\'StockFinDetail.asp?RPT_CAT=BS_M_YEAR&LAST_RPT_CAT=BS_M_YEAR&STOCK_ID=2330&QRY_TIME=2014\\' target=\\'_self\\'>2,593</a></nobr></td><td><nobr><a title=\\'查看2014財報評分\\' class=\\'link_red\\' href=\\'StockFinGrade.asp?STOCK_ID=2330&QRY_TIME=2014&RPT_CAT=M_YEAR\\' target=\\'_self\\'>91</a></nobr></td><td><nobr><a title=\\'查看個股日K線圖\\' class=\\'link_black\\' href=\\'ShowK_Chart.asp?STOCK_ID=2330&CHT_NM=%E5%80%8B%E8%82%A1K%E7%B7%9A%E5%9C%96&CHT_CAT=%E6%97%A5%E7%B7%9A%E5%9C%96&CHT_CAT2=DATE\\' target=\\'_self\\'>141</a></nobr></td><td><nobr><a title=\\'查看個股日K線圖\\' class=\\'link_black\\' href=\\'ShowK_Chart.asp?STOCK_ID=2330&CHT_NM=%E5%80%8B%E8%82%A1K%E7%B7%9A%E5%9C%96&CHT_CAT=%E6%97%A5%E7%B7%9A%E5%9C%96&CHT_CAT2=DATE\\' target=\\'_self\\'>123</a></nobr></td><td><nobr><a title=\\'查看個股日K線圖\\' class=\\'link_red\\' href=\\'ShowK_Chart.asp?STOCK_ID=2330&CHT_NM=%E5%80%8B%E8%82%A1K%E7%B7%9A%E5%9C%96&CHT_CAT=%E6%97%A5%E7%B7%9A%E5%9C%96&CHT_CAT2=DATE\\' target=\\'_self\\'>+35.5</a></nobr></td><td><nobr><a title=\\'查看個股日K線圖\\' class=\\'link_red\\' href=\\'ShowK_Chart.asp?STOCK_ID=2330&CHT_NM=%E5%80%8B%E8%82%A1K%E7%B7%9A%E5%9C%96&CHT_CAT=%E6%97%A5%E7%B7%9A%E5%9C%96&CHT_CAT2=DATE\\' target=\\'_self\\'>+33.6</a></nobr></td><td><nobr><a title=\\'查看2014損益表\\' class=\\'link_black\\' href=\\'StockFinDetail.asp?RPT_CAT=IS_M_YEAR&LAST_RPT_CAT=IS_M_YEAR&STOCK_ID=2330&QRY_TIME=2014\\' target=\\'_self\\'>7,628</a></nobr></td><td><nobr><a title=\\'查看2014損益表\\' class=\\'link_black\\' href=\\'StockFinDetail.asp?RPT_CAT=IS_M_YEAR&LAST_RPT_CAT=IS_M_YEAR&STOCK_ID=2330&QRY_TIME=2014\\' target=\\'_self\\'>3,777</a></nobr></td><td><nobr><a title=\\'查看2014損益表\\' class=\\'link_black\\' href=\\'StockFinDetail.asp?RPT_CAT=IS_M_YEAR&LAST_RPT_CAT=IS_M_YEAR&STOCK_ID=2330&QRY_TIME=2014\\' target=\\'_self\\'>2,959</a></nobr></td><td><nobr><a title=\\'查看2014損益表\\' class=\\'link_black\\' href=\\'StockFinDetail.asp?RPT_CAT=IS_M_YEAR&LAST_RPT_CAT=IS_M_YEAR&STOCK_ID=2330&QRY_TIME=2014\\' target=\\'_self\\'>62.1</a></nobr></td><td><nobr><a title=\\'查看2014損益表\\' class=\\'link_black\\' href=\\'StockFinDetail.asp?RPT_CAT=IS_M_YEAR&LAST_RPT_CAT=IS_M_YEAR&STOCK_ID=2330&QRY_TIME=2014\\' target=\\'_self\\'>2,639</a></nobr></td><td><nobr><a title=\\'查看2014財務比率表\\' class=\\'link_black\\' href=\\'StockFinDetail.asp?RPT_CAT=XX_M_YEAR&LAST_RPT_CAT=XX_M_YEAR&STOCK_ID=2330&QRY_TIME=2014\\' target=\\'_self\\'>49.5</a></nobr></td><td><nobr><a title=\\'查看2014財務比率表\\' class=\\'link_black\\' href=\\'StockFinDetail.asp?RPT_CAT=XX_M_YEAR&LAST_RPT_CAT=XX_M_YEAR&STOCK_ID=2330&QRY_TIME=2014\\' target=\\'_self\\'>38.8</a></nobr></td><td><nobr><a title=\\'查看2014財務比率表\\' class=\\'link_black\\' href=\\'StockFinDetail.asp?RPT_CAT=XX_M_YEAR&LAST_RPT_CAT=XX_M_YEAR&STOCK_ID=2330&QRY_TIME=2014\\' target=\\'_self\\'>0.81</a></nobr></td><td><nobr><a title=\\'查看2014財務比率表\\' class=\\'link_black\\' href=\\'StockFinDetail.asp?RPT_CAT=XX_M_YEAR&LAST_RPT_CAT=XX_M_YEAR&STOCK_ID=2330&QRY_TIME=2014\\' target=\\'_self\\'>34.6</a></nobr></td><td><nobr><a title=\\'查看2014財務比率表\\' class=\\'link_black\\' href=\\'StockFinDetail.asp?RPT_CAT=XX_M_YEAR&LAST_RPT_CAT=XX_M_YEAR&STOCK_ID=2330&QRY_TIME=2014\\' target=\\'_self\\'>27.9</a></nobr></td><td><nobr><a title=\\'查看2014財務比率表\\' class=\\'link_black\\' href=\\'StockFinDetail.asp?RPT_CAT=XX_M_YEAR&LAST_RPT_CAT=XX_M_YEAR&STOCK_ID=2330&QRY_TIME=2014\\' target=\\'_self\\'>19.1</a></nobr></td><td><nobr><a title=\\'查看2014財務比率表\\' class=\\'link_black\\' href=\\'StockFinDetail.asp?RPT_CAT=XX_M_YEAR&LAST_RPT_CAT=XX_M_YEAR&STOCK_ID=2330&QRY_TIME=2014\\' target=\\'_self\\'>10.18</a></nobr></td><td><nobr><a title=\\'查看2014財務比率表\\' class=\\'link_red\\' href=\\'StockFinDetail.asp?RPT_CAT=XX_M_YEAR&LAST_RPT_CAT=XX_M_YEAR&STOCK_ID=2330&QRY_TIME=2014\\' target=\\'_self\\'>+2.92</a></nobr></td><td><nobr><a title=\\'查看2014資產負債表\\' class=\\'link_black\\' href=\\'StockFinDetail.asp?RPT_CAT=BS_M_YEAR&LAST_RPT_CAT=BS_M_YEAR&STOCK_ID=2330&QRY_TIME=2014\\' target=\\'_self\\'>40.32</a></nobr></td></tr><tr id=\\'row4\\' align=\\'center\\' bgcolor=\\'white\\' height=\\'23px\\'  OnMouseOver=\"ChgBGColor([\\'rowh4\\',\\'row4\\'],\\'#FFF0DA\\');\"  OnMouseOut=\"ChgBGColor([\\'rowh4\\',\\'row4\\'],\\'white\\');\"><td><nobr>2013</nobr></td><td><nobr><a title=\\'查看2013資產負債表\\' class=\\'link_black\\' href=\\'StockFinDetail.asp?RPT_CAT=BS_M_YEAR&LAST_RPT_CAT=BS_M_YEAR&STOCK_ID=2330&QRY_TIME=2013\\' target=\\'_self\\'>2,593</a></nobr></td><td><nobr><a title=\\'查看2013財報評分\\' class=\\'link_red\\' href=\\'StockFinGrade.asp?STOCK_ID=2330&QRY_TIME=2013&RPT_CAT=M_YEAR\\' target=\\'_self\\'>89</a></nobr></td><td><nobr><a title=\\'查看個股日K線圖\\' class=\\'link_black\\' href=\\'ShowK_Chart.asp?STOCK_ID=2330&CHT_NM=%E5%80%8B%E8%82%A1K%E7%B7%9A%E5%9C%96&CHT_CAT=%E6%97%A5%E7%B7%9A%E5%9C%96&CHT_CAT2=DATE\\' target=\\'_self\\'>105.5</a></nobr></td><td><nobr><a title=\\'查看個股日K線圖\\' class=\\'link_black\\' href=\\'ShowK_Chart.asp?STOCK_ID=2330&CHT_NM=%E5%80%8B%E8%82%A1K%E7%B7%9A%E5%9C%96&CHT_CAT=%E6%97%A5%E7%B7%9A%E5%9C%96&CHT_CAT2=DATE\\' target=\\'_self\\'>104</a></nobr></td><td><nobr><a title=\\'查看個股日K線圖\\' class=\\'link_red\\' href=\\'ShowK_Chart.asp?STOCK_ID=2330&CHT_NM=%E5%80%8B%E8%82%A1K%E7%B7%9A%E5%9C%96&CHT_CAT=%E6%97%A5%E7%B7%9A%E5%9C%96&CHT_CAT2=DATE\\' target=\\'_self\\'>+8.5</a></nobr></td><td><nobr><a title=\\'查看個股日K線圖\\' class=\\'link_red\\' href=\\'ShowK_Chart.asp?STOCK_ID=2330&CHT_NM=%E5%80%8B%E8%82%A1K%E7%B7%9A%E5%9C%96&CHT_CAT=%E6%97%A5%E7%B7%9A%E5%9C%96&CHT_CAT2=DATE\\' target=\\'_self\\'>+8.8</a></nobr></td><td><nobr><a title=\\'查看2013損益表\\' class=\\'link_black\\' href=\\'StockFinDetail.asp?RPT_CAT=IS_M_YEAR&LAST_RPT_CAT=IS_M_YEAR&STOCK_ID=2330&QRY_TIME=2013\\' target=\\'_self\\'>5,970</a></nobr></td><td><nobr><a title=\\'查看2013損益表\\' class=\\'link_black\\' href=\\'StockFinDetail.asp?RPT_CAT=IS_M_YEAR&LAST_RPT_CAT=IS_M_YEAR&STOCK_ID=2330&QRY_TIME=2013\\' target=\\'_self\\'>2,809</a></nobr></td><td><nobr><a title=\\'查看2013損益表\\' class=\\'link_black\\' href=\\'StockFinDetail.asp?RPT_CAT=IS_M_YEAR&LAST_RPT_CAT=IS_M_YEAR&STOCK_ID=2330&QRY_TIME=2013\\' target=\\'_self\\'>2,094</a></nobr></td><td><nobr><a title=\\'查看2013損益表\\' class=\\'link_black\\' href=\\'StockFinDetail.asp?RPT_CAT=IS_M_YEAR&LAST_RPT_CAT=IS_M_YEAR&STOCK_ID=2330&QRY_TIME=2013\\' target=\\'_self\\'>60.6</a></nobr></td><td><nobr><a title=\\'查看2013損益表\\' class=\\'link_black\\' href=\\'StockFinDetail.asp?RPT_CAT=IS_M_YEAR&LAST_RPT_CAT=IS_M_YEAR&STOCK_ID=2330&QRY_TIME=2013\\' target=\\'_self\\'>1,881</a></nobr></td><td><nobr><a title=\\'查看2013財務比率表\\' class=\\'link_black\\' href=\\'StockFinDetail.asp?RPT_CAT=XX_M_YEAR&LAST_RPT_CAT=XX_M_YEAR&STOCK_ID=2330&QRY_TIME=2013\\' target=\\'_self\\'>47.1</a></nobr></td><td><nobr><a title=\\'查看2013財務比率表\\' class=\\'link_black\\' href=\\'StockFinDetail.asp?RPT_CAT=XX_M_YEAR&LAST_RPT_CAT=XX_M_YEAR&STOCK_ID=2330&QRY_TIME=2013\\' target=\\'_self\\'>35.1</a></nobr></td><td><nobr><a title=\\'查看2013財務比率表\\' class=\\'link_black\\' href=\\'StockFinDetail.asp?RPT_CAT=XX_M_YEAR&LAST_RPT_CAT=XX_M_YEAR&STOCK_ID=2330&QRY_TIME=2013\\' target=\\'_self\\'>1.01</a></nobr></td><td><nobr><a title=\\'查看2013財務比率表\\' class=\\'link_black\\' href=\\'StockFinDetail.asp?RPT_CAT=XX_M_YEAR&LAST_RPT_CAT=XX_M_YEAR&STOCK_ID=2330&QRY_TIME=2013\\' target=\\'_self\\'>31.5</a></nobr></td><td><nobr><a title=\\'查看2013財務比率表\\' class=\\'link_black\\' href=\\'StockFinDetail.asp?RPT_CAT=XX_M_YEAR&LAST_RPT_CAT=XX_M_YEAR&STOCK_ID=2330&QRY_TIME=2013\\' target=\\'_self\\'>23.9</a></nobr></td><td><nobr><a title=\\'查看2013財務比率表\\' class=\\'link_black\\' href=\\'StockFinDetail.asp?RPT_CAT=XX_M_YEAR&LAST_RPT_CAT=XX_M_YEAR&STOCK_ID=2330&QRY_TIME=2013\\' target=\\'_self\\'>17</a></nobr></td><td><nobr><a title=\\'查看2013財務比率表\\' class=\\'link_black\\' href=\\'StockFinDetail.asp?RPT_CAT=XX_M_YEAR&LAST_RPT_CAT=XX_M_YEAR&STOCK_ID=2330&QRY_TIME=2013\\' target=\\'_self\\'>7.26</a></nobr></td><td><nobr><a title=\\'查看2013財務比率表\\' class=\\'link_red\\' href=\\'StockFinDetail.asp?RPT_CAT=XX_M_YEAR&LAST_RPT_CAT=XX_M_YEAR&STOCK_ID=2330&QRY_TIME=2013\\' target=\\'_self\\'>+0.85</a></nobr></td><td><nobr><a title=\\'查看2013資產負債表\\' class=\\'link_black\\' href=\\'StockFinDetail.asp?RPT_CAT=BS_M_YEAR&LAST_RPT_CAT=BS_M_YEAR&STOCK_ID=2330&QRY_TIME=2013\\' target=\\'_self\\'>32.69</a></nobr></td></tr><tr id=\\'row5\\' align=\\'center\\' bgcolor=\\'#EBF7FF\\' height=\\'23px\\'  OnMouseOver=\"ChgBGColor([\\'rowh5\\',\\'row5\\'],\\'#FFF0DA\\');\"  OnMouseOut=\"ChgBGColor([\\'rowh5\\',\\'row5\\'],\\'#EBF7FF\\');\"><td><nobr>2012</nobr></td><td><nobr><a title=\\'查看2012資產負債表\\' class=\\'link_black\\' href=\\'StockFinDetail.asp?RPT_CAT=BS_M_YEAR&LAST_RPT_CAT=BS_M_YEAR&STOCK_ID=2330&QRY_TIME=2012\\' target=\\'_self\\'>2,592</a></nobr></td><td><nobr><a title=\\'查看2012財報評分\\' class=\\'link_red\\' href=\\'StockFinGrade.asp?STOCK_ID=2330&QRY_TIME=2012&RPT_CAT=M_YEAR\\' target=\\'_self\\'>94</a></nobr></td><td><nobr><a title=\\'查看個股日K線圖\\' class=\\'link_black\\' href=\\'ShowK_Chart.asp?STOCK_ID=2330&CHT_NM=%E5%80%8B%E8%82%A1K%E7%B7%9A%E5%9C%96&CHT_CAT=%E6%97%A5%E7%B7%9A%E5%9C%96&CHT_CAT2=DATE\\' target=\\'_self\\'>97</a></nobr></td><td><nobr><a title=\\'查看個股日K線圖\\' class=\\'link_black\\' href=\\'ShowK_Chart.asp?STOCK_ID=2330&CHT_NM=%E5%80%8B%E8%82%A1K%E7%B7%9A%E5%9C%96&CHT_CAT=%E6%97%A5%E7%B7%9A%E5%9C%96&CHT_CAT2=DATE\\' target=\\'_self\\'>84.1</a></nobr></td><td><nobr><a title=\\'查看個股日K線圖\\' class=\\'link_red\\' href=\\'ShowK_Chart.asp?STOCK_ID=2330&CHT_NM=%E5%80%8B%E8%82%A1K%E7%B7%9A%E5%9C%96&CHT_CAT=%E6%97%A5%E7%B7%9A%E5%9C%96&CHT_CAT2=DATE\\' target=\\'_self\\'>+21.2</a></nobr></td><td><nobr><a title=\\'查看個股日K線圖\\' class=\\'link_red\\' href=\\'ShowK_Chart.asp?STOCK_ID=2330&CHT_NM=%E5%80%8B%E8%82%A1K%E7%B7%9A%E5%9C%96&CHT_CAT=%E6%97%A5%E7%B7%9A%E5%9C%96&CHT_CAT2=DATE\\' target=\\'_self\\'>+28</a></nobr></td><td><nobr><a title=\\'查看2012損益表\\' class=\\'link_black\\' href=\\'StockFinDetail.asp?RPT_CAT=IS_M_YEAR&LAST_RPT_CAT=IS_M_YEAR&STOCK_ID=2330&QRY_TIME=2012\\' target=\\'_self\\'>5,062</a></nobr></td><td><nobr><a title=\\'查看2012損益表\\' class=\\'link_black\\' href=\\'StockFinDetail.asp?RPT_CAT=IS_M_YEAR&LAST_RPT_CAT=IS_M_YEAR&STOCK_ID=2330&QRY_TIME=2012\\' target=\\'_self\\'>2,436</a></nobr></td><td><nobr><a title=\\'查看2012損益表\\' class=\\'link_black\\' href=\\'StockFinDetail.asp?RPT_CAT=IS_M_YEAR&LAST_RPT_CAT=IS_M_YEAR&STOCK_ID=2330&QRY_TIME=2012\\' target=\\'_self\\'>1,811</a></nobr></td><td><nobr><a title=\\'查看2012損益表\\' class=\\'link_black\\' href=\\'StockFinDetail.asp?RPT_CAT=IS_M_YEAR&LAST_RPT_CAT=IS_M_YEAR&STOCK_ID=2330&QRY_TIME=2012\\' target=\\'_self\\'>4.97</a></nobr></td><td><nobr><a title=\\'查看2012損益表\\' class=\\'link_black\\' href=\\'StockFinDetail.asp?RPT_CAT=IS_M_YEAR&LAST_RPT_CAT=IS_M_YEAR&STOCK_ID=2330&QRY_TIME=2012\\' target=\\'_self\\'>1,662</a></nobr></td><td><nobr><a title=\\'查看2012財務比率表\\' class=\\'link_black\\' href=\\'StockFinDetail.asp?RPT_CAT=XX_M_YEAR&LAST_RPT_CAT=XX_M_YEAR&STOCK_ID=2330&QRY_TIME=2012\\' target=\\'_self\\'>48.1</a></nobr></td><td><nobr><a title=\\'查看2012財務比率表\\' class=\\'link_black\\' href=\\'StockFinDetail.asp?RPT_CAT=XX_M_YEAR&LAST_RPT_CAT=XX_M_YEAR&STOCK_ID=2330&QRY_TIME=2012\\' target=\\'_self\\'>35.8</a></nobr></td><td><nobr><a title=\\'查看2012財務比率表\\' class=\\'link_black\\' href=\\'StockFinDetail.asp?RPT_CAT=XX_M_YEAR&LAST_RPT_CAT=XX_M_YEAR&STOCK_ID=2330&QRY_TIME=2012\\' target=\\'_self\\'>0.1</a></nobr></td><td><nobr><a title=\\'查看2012財務比率表\\' class=\\'link_black\\' href=\\'StockFinDetail.asp?RPT_CAT=XX_M_YEAR&LAST_RPT_CAT=XX_M_YEAR&STOCK_ID=2330&QRY_TIME=2012\\' target=\\'_self\\'>32.8</a></nobr></td><td><nobr><a title=\\'查看2012財務比率表\\' class=\\'link_black\\' href=\\'StockFinDetail.asp?RPT_CAT=XX_M_YEAR&LAST_RPT_CAT=XX_M_YEAR&STOCK_ID=2330&QRY_TIME=2012\\' target=\\'_self\\'>24.4</a></nobr></td><td><nobr><a title=\\'查看2012財務比率表\\' class=\\'link_black\\' href=\\'StockFinDetail.asp?RPT_CAT=XX_M_YEAR&LAST_RPT_CAT=XX_M_YEAR&STOCK_ID=2330&QRY_TIME=2012\\' target=\\'_self\\'>19.2</a></nobr></td><td><nobr><a title=\\'查看2012財務比率表\\' class=\\'link_black\\' href=\\'StockFinDetail.asp?RPT_CAT=XX_M_YEAR&LAST_RPT_CAT=XX_M_YEAR&STOCK_ID=2330&QRY_TIME=2012\\' target=\\'_self\\'>6.41</a></nobr></td><td><nobr><a title=\\'查看2012財務比率表\\' class=\\'link_red\\' href=\\'StockFinDetail.asp?RPT_CAT=XX_M_YEAR&LAST_RPT_CAT=XX_M_YEAR&STOCK_ID=2330&QRY_TIME=2012\\' target=\\'_self\\'>+1.23</a></nobr></td><td><nobr><a title=\\'查看2012資產負債表\\' class=\\'link_black\\' href=\\'StockFinDetail.asp?RPT_CAT=BS_M_YEAR&LAST_RPT_CAT=BS_M_YEAR&STOCK_ID=2330&QRY_TIME=2012\\' target=\\'_self\\'>27.9</a></nobr></td></tr><tr id=\\'row6\\' align=\\'center\\' bgcolor=\\'white\\' height=\\'23px\\'  OnMouseOver=\"ChgBGColor([\\'rowh6\\',\\'row6\\'],\\'#FFF0DA\\');\"  OnMouseOut=\"ChgBGColor([\\'rowh6\\',\\'row6\\'],\\'white\\');\"><td><nobr>2011</nobr></td><td><nobr><a title=\\'查看2011資產負債表\\' class=\\'link_black\\' href=\\'StockFinDetail.asp?RPT_CAT=BS_M_YEAR&LAST_RPT_CAT=BS_M_YEAR&STOCK_ID=2330&QRY_TIME=2011\\' target=\\'_self\\'>2,592</a></nobr></td><td><nobr><a title=\\'查看2011財報評分\\' class=\\'link_red\\' href=\\'StockFinGrade.asp?STOCK_ID=2330&QRY_TIME=2011&RPT_CAT=M_YEAR\\' target=\\'_self\\'>94</a></nobr></td><td><nobr><a title=\\'查看個股日K線圖\\' class=\\'link_black\\' href=\\'ShowK_Chart.asp?STOCK_ID=2330&CHT_NM=%E5%80%8B%E8%82%A1K%E7%B7%9A%E5%9C%96&CHT_CAT=%E6%97%A5%E7%B7%9A%E5%9C%96&CHT_CAT2=DATE\\' target=\\'_self\\'>75.8</a></nobr></td><td><nobr><a title=\\'查看個股日K線圖\\' class=\\'link_black\\' href=\\'ShowK_Chart.asp?STOCK_ID=2330&CHT_NM=%E5%80%8B%E8%82%A1K%E7%B7%9A%E5%9C%96&CHT_CAT=%E6%97%A5%E7%B7%9A%E5%9C%96&CHT_CAT2=DATE\\' target=\\'_self\\'>72.1</a></nobr></td><td><nobr><a title=\\'查看個股日K線圖\\' class=\\'link_red\\' href=\\'ShowK_Chart.asp?STOCK_ID=2330&CHT_NM=%E5%80%8B%E8%82%A1K%E7%B7%9A%E5%9C%96&CHT_CAT=%E6%97%A5%E7%B7%9A%E5%9C%96&CHT_CAT2=DATE\\' target=\\'_self\\'>+4.8</a></nobr></td><td><nobr><a title=\\'查看個股日K線圖\\' class=\\'link_red\\' href=\\'ShowK_Chart.asp?STOCK_ID=2330&CHT_NM=%E5%80%8B%E8%82%A1K%E7%B7%9A%E5%9C%96&CHT_CAT=%E6%97%A5%E7%B7%9A%E5%9C%96&CHT_CAT2=DATE\\' target=\\'_self\\'>+6.8</a></nobr></td><td><nobr><a title=\\'查看2011損益表\\' class=\\'link_black\\' href=\\'StockFinDetail.asp?RPT_CAT=IS_M_YEAR&LAST_RPT_CAT=IS_M_YEAR&STOCK_ID=2330&QRY_TIME=2011\\' target=\\'_self\\'>4,271</a></nobr></td><td><nobr><a title=\\'查看2011損益表\\' class=\\'link_black\\' href=\\'StockFinDetail.asp?RPT_CAT=IS_M_YEAR&LAST_RPT_CAT=IS_M_YEAR&STOCK_ID=2330&QRY_TIME=2011\\' target=\\'_self\\'>1,941</a></nobr></td><td><nobr><a title=\\'查看2011損益表\\' class=\\'link_black\\' href=\\'StockFinDetail.asp?RPT_CAT=IS_M_YEAR&LAST_RPT_CAT=IS_M_YEAR&STOCK_ID=2330&QRY_TIME=2011\\' target=\\'_self\\'>1,416</a></nobr></td><td><nobr><a title=\\'查看2011損益表\\' class=\\'link_black\\' href=\\'StockFinDetail.asp?RPT_CAT=IS_M_YEAR&LAST_RPT_CAT=IS_M_YEAR&STOCK_ID=2330&QRY_TIME=2011\\' target=\\'_self\\'>35.9</a></nobr></td><td><nobr><a title=\\'查看2011損益表\\' class=\\'link_black\\' href=\\'StockFinDetail.asp?RPT_CAT=IS_M_YEAR&LAST_RPT_CAT=IS_M_YEAR&STOCK_ID=2330&QRY_TIME=2011\\' target=\\'_self\\'>1,342</a></nobr></td><td><nobr><a title=\\'查看2011財務比率表\\' class=\\'link_black\\' href=\\'StockFinDetail.asp?RPT_CAT=XX_M_YEAR&LAST_RPT_CAT=XX_M_YEAR&STOCK_ID=2330&QRY_TIME=2011\\' target=\\'_self\\'>45.5</a></nobr></td><td><nobr><a title=\\'查看2011財務比率表\\' class=\\'link_black\\' href=\\'StockFinDetail.asp?RPT_CAT=XX_M_YEAR&LAST_RPT_CAT=XX_M_YEAR&STOCK_ID=2330&QRY_TIME=2011\\' target=\\'_self\\'>33.1</a></nobr></td><td><nobr><a title=\\'查看2011財務比率表\\' class=\\'link_black\\' href=\\'StockFinDetail.asp?RPT_CAT=XX_M_YEAR&LAST_RPT_CAT=XX_M_YEAR&STOCK_ID=2330&QRY_TIME=2011\\' target=\\'_self\\'>0.84</a></nobr></td><td><nobr><a title=\\'查看2011財務比率表\\' class=\\'link_black\\' href=\\'StockFinDetail.asp?RPT_CAT=XX_M_YEAR&LAST_RPT_CAT=XX_M_YEAR&STOCK_ID=2330&QRY_TIME=2011\\' target=\\'_self\\'>31.5</a></nobr></td><td><nobr><a title=\\'查看2011財務比率表\\' class=\\'link_black\\' href=\\'StockFinDetail.asp?RPT_CAT=XX_M_YEAR&LAST_RPT_CAT=XX_M_YEAR&STOCK_ID=2330&QRY_TIME=2011\\' target=\\'_self\\'>22.2</a></nobr></td><td><nobr><a title=\\'查看2011財務比率表\\' class=\\'link_black\\' href=\\'StockFinDetail.asp?RPT_CAT=XX_M_YEAR&LAST_RPT_CAT=XX_M_YEAR&STOCK_ID=2330&QRY_TIME=2011\\' target=\\'_self\\'>18</a></nobr></td><td><nobr><a title=\\'查看2011財務比率表\\' class=\\'link_black\\' href=\\'StockFinDetail.asp?RPT_CAT=XX_M_YEAR&LAST_RPT_CAT=XX_M_YEAR&STOCK_ID=2330&QRY_TIME=2011\\' target=\\'_self\\'>5.18</a></nobr></td><td><nobr><a title=\\'查看2011財務比率表\\' class=\\'link_green\\' href=\\'StockFinDetail.asp?RPT_CAT=XX_M_YEAR&LAST_RPT_CAT=XX_M_YEAR&STOCK_ID=2330&QRY_TIME=2011\\' target=\\'_self\\'>-1.06</a></nobr></td><td><nobr><a title=\\'查看2011資產負債表\\' class=\\'link_black\\' href=\\'StockFinDetail.asp?RPT_CAT=BS_M_YEAR&LAST_RPT_CAT=BS_M_YEAR&STOCK_ID=2330&QRY_TIME=2011\\' target=\\'_self\\'>24.29</a></nobr></td></tr><tr id=\\'row7\\' align=\\'center\\' bgcolor=\\'#EBF7FF\\' height=\\'23px\\'  OnMouseOver=\"ChgBGColor([\\'rowh7\\',\\'row7\\'],\\'#FFF0DA\\');\"  OnMouseOut=\"ChgBGColor([\\'rowh7\\',\\'row7\\'],\\'#EBF7FF\\');\"><td><nobr>2010</nobr></td><td><nobr><a title=\\'查看2010資產負債表\\' class=\\'link_black\\' href=\\'StockFinDetail.asp?RPT_CAT=BS_M_YEAR&LAST_RPT_CAT=BS_M_YEAR&STOCK_ID=2330&QRY_TIME=2010\\' target=\\'_self\\'>2,591</a></nobr></td><td><nobr><a title=\\'查看2010財報評分\\' class=\\'link_red\\' href=\\'StockFinGrade.asp?STOCK_ID=2330&QRY_TIME=2010&RPT_CAT=M_YEAR\\' target=\\'_self\\'>96</a></nobr></td><td><nobr><a title=\\'查看個股日K線圖\\' class=\\'link_black\\' href=\\'ShowK_Chart.asp?STOCK_ID=2330&CHT_NM=%E5%80%8B%E8%82%A1K%E7%B7%9A%E5%9C%96&CHT_CAT=%E6%97%A5%E7%B7%9A%E5%9C%96&CHT_CAT2=DATE\\' target=\\'_self\\'>71</a></nobr></td><td><nobr><a title=\\'查看個股日K線圖\\' class=\\'link_black\\' href=\\'ShowK_Chart.asp?STOCK_ID=2330&CHT_NM=%E5%80%8B%E8%82%A1K%E7%B7%9A%E5%9C%96&CHT_CAT=%E6%97%A5%E7%B7%9A%E5%9C%96&CHT_CAT2=DATE\\' target=\\'_self\\'>62</a></nobr></td><td><nobr><a title=\\'查看個股日K線圖\\' class=\\'link_red\\' href=\\'ShowK_Chart.asp?STOCK_ID=2330&CHT_NM=%E5%80%8B%E8%82%A1K%E7%B7%9A%E5%9C%96&CHT_CAT=%E6%97%A5%E7%B7%9A%E5%9C%96&CHT_CAT2=DATE\\' target=\\'_self\\'>+6.5</a></nobr></td><td><nobr><a title=\\'查看個股日K線圖\\' class=\\'link_red\\' href=\\'ShowK_Chart.asp?STOCK_ID=2330&CHT_NM=%E5%80%8B%E8%82%A1K%E7%B7%9A%E5%9C%96&CHT_CAT=%E6%97%A5%E7%B7%9A%E5%9C%96&CHT_CAT2=DATE\\' target=\\'_self\\'>+10.1</a></nobr></td><td><nobr><a title=\\'查看2010損益表\\' class=\\'link_black\\' href=\\'StockFinDetail.asp?RPT_CAT=IS_M_YEAR&LAST_RPT_CAT=IS_M_YEAR&STOCK_ID=2330&QRY_TIME=2010\\' target=\\'_self\\'>4,195</a></nobr></td><td><nobr><a title=\\'查看2010損益表\\' class=\\'link_black\\' href=\\'StockFinDetail.asp?RPT_CAT=IS_M_YEAR&LAST_RPT_CAT=IS_M_YEAR&STOCK_ID=2330&QRY_TIME=2010\\' target=\\'_self\\'>2,071</a></nobr></td><td><nobr><a title=\\'查看2010損益表\\' class=\\'link_black\\' href=\\'StockFinDetail.asp?RPT_CAT=IS_M_YEAR&LAST_RPT_CAT=IS_M_YEAR&STOCK_ID=2330&QRY_TIME=2010\\' target=\\'_self\\'>1,592</a></nobr></td><td><nobr><a title=\\'查看2010損益表\\' class=\\'link_black\\' href=\\'StockFinDetail.asp?RPT_CAT=IS_M_YEAR&LAST_RPT_CAT=IS_M_YEAR&STOCK_ID=2330&QRY_TIME=2010\\' target=\\'_self\\'>111</a></nobr></td><td><nobr><a title=\\'查看2010損益表\\' class=\\'link_black\\' href=\\'StockFinDetail.asp?RPT_CAT=IS_M_YEAR&LAST_RPT_CAT=IS_M_YEAR&STOCK_ID=2330&QRY_TIME=2010\\' target=\\'_self\\'>1,616</a></nobr></td><td><nobr><a title=\\'查看2010財務比率表\\' class=\\'link_black\\' href=\\'StockFinDetail.asp?RPT_CAT=XX_M_YEAR&LAST_RPT_CAT=XX_M_YEAR&STOCK_ID=2330&QRY_TIME=2010\\' target=\\'_self\\'>49.4</a></nobr></td><td><nobr><a title=\\'查看2010財務比率表\\' class=\\'link_black\\' href=\\'StockFinDetail.asp?RPT_CAT=XX_M_YEAR&LAST_RPT_CAT=XX_M_YEAR&STOCK_ID=2330&QRY_TIME=2010\\' target=\\'_self\\'>37.9</a></nobr></td><td><nobr><a title=\\'查看2010財務比率表\\' class=\\'link_black\\' href=\\'StockFinDetail.asp?RPT_CAT=XX_M_YEAR&LAST_RPT_CAT=XX_M_YEAR&STOCK_ID=2330&QRY_TIME=2010\\' target=\\'_self\\'>2.64</a></nobr></td><td><nobr><a title=\\'查看2010財務比率表\\' class=\\'link_black\\' href=\\'StockFinDetail.asp?RPT_CAT=XX_M_YEAR&LAST_RPT_CAT=XX_M_YEAR&STOCK_ID=2330&QRY_TIME=2010\\' target=\\'_self\\'>38.7</a></nobr></td><td><nobr><a title=\\'查看2010財務比率表\\' class=\\'link_black\\' href=\\'StockFinDetail.asp?RPT_CAT=XX_M_YEAR&LAST_RPT_CAT=XX_M_YEAR&STOCK_ID=2330&QRY_TIME=2010\\' target=\\'_self\\'>30.1</a></nobr></td><td><nobr><a title=\\'查看2010財務比率表\\' class=\\'link_black\\' href=\\'StockFinDetail.asp?RPT_CAT=XX_M_YEAR&LAST_RPT_CAT=XX_M_YEAR&STOCK_ID=2330&QRY_TIME=2010\\' target=\\'_self\\'>24.7</a></nobr></td><td><nobr><a title=\\'查看2010財務比率表\\' class=\\'link_black\\' href=\\'StockFinDetail.asp?RPT_CAT=XX_M_YEAR&LAST_RPT_CAT=XX_M_YEAR&STOCK_ID=2330&QRY_TIME=2010\\' target=\\'_self\\'>6.24</a></nobr></td><td><nobr><a title=\\'查看2010財務比率表\\' class=\\'link_red\\' href=\\'StockFinDetail.asp?RPT_CAT=XX_M_YEAR&LAST_RPT_CAT=XX_M_YEAR&STOCK_ID=2330&QRY_TIME=2010\\' target=\\'_self\\'>+2.79</a></nobr></td><td><nobr><a title=\\'查看2010資產負債表\\' class=\\'link_black\\' href=\\'StockFinDetail.asp?RPT_CAT=BS_M_YEAR&LAST_RPT_CAT=BS_M_YEAR&STOCK_ID=2330&QRY_TIME=2010\\' target=\\'_self\\'>22.16</a></nobr></td></tr><tr id=\\'row8\\' align=\\'center\\' bgcolor=\\'white\\' height=\\'23px\\'  OnMouseOver=\"ChgBGColor([\\'rowh8\\',\\'row8\\'],\\'#FFF0DA\\');\"  OnMouseOut=\"ChgBGColor([\\'rowh8\\',\\'row8\\'],\\'white\\');\"><td><nobr>2009</nobr></td><td><nobr><a title=\\'查看2009資產負債表\\' class=\\'link_black\\' href=\\'StockFinDetail.asp?RPT_CAT=BS_M_YEAR&LAST_RPT_CAT=BS_M_YEAR&STOCK_ID=2330&QRY_TIME=2009\\' target=\\'_self\\'>2,590</a></nobr></td><td><nobr><a title=\\'查看2009財報評分\\' class=\\'link_red\\' href=\\'StockFinGrade.asp?STOCK_ID=2330&QRY_TIME=2009&RPT_CAT=M_YEAR\\' target=\\'_self\\'>91</a></nobr></td><td><nobr><a title=\\'查看個股日K線圖\\' class=\\'link_black\\' href=\\'ShowK_Chart.asp?STOCK_ID=2330&CHT_NM=%E5%80%8B%E8%82%A1K%E7%B7%9A%E5%9C%96&CHT_CAT=%E6%97%A5%E7%B7%9A%E5%9C%96&CHT_CAT2=DATE\\' target=\\'_self\\'>64.5</a></nobr></td><td><nobr><a title=\\'查看個股日K線圖\\' class=\\'link_black\\' href=\\'ShowK_Chart.asp?STOCK_ID=2330&CHT_NM=%E5%80%8B%E8%82%A1K%E7%B7%9A%E5%9C%96&CHT_CAT=%E6%97%A5%E7%B7%9A%E5%9C%96&CHT_CAT2=DATE\\' target=\\'_self\\'>55.5</a></nobr></td><td><nobr><a title=\\'查看個股日K線圖\\' class=\\'link_red\\' href=\\'ShowK_Chart.asp?STOCK_ID=2330&CHT_NM=%E5%80%8B%E8%82%A1K%E7%B7%9A%E5%9C%96&CHT_CAT=%E6%97%A5%E7%B7%9A%E5%9C%96&CHT_CAT2=DATE\\' target=\\'_self\\'>+20.1</a></nobr></td><td><nobr><a title=\\'查看個股日K線圖\\' class=\\'link_red\\' href=\\'ShowK_Chart.asp?STOCK_ID=2330&CHT_NM=%E5%80%8B%E8%82%A1K%E7%B7%9A%E5%9C%96&CHT_CAT=%E6%97%A5%E7%B7%9A%E5%9C%96&CHT_CAT2=DATE\\' target=\\'_self\\'>+45.3</a></nobr></td><td><nobr><a title=\\'查看2009損益表\\' class=\\'link_black\\' href=\\'StockFinDetail.asp?RPT_CAT=IS_M_YEAR&LAST_RPT_CAT=IS_M_YEAR&STOCK_ID=2330&QRY_TIME=2009\\' target=\\'_self\\'>2,957</a></nobr></td><td><nobr><a title=\\'查看2009損益表\\' class=\\'link_black\\' href=\\'StockFinDetail.asp?RPT_CAT=IS_M_YEAR&LAST_RPT_CAT=IS_M_YEAR&STOCK_ID=2330&QRY_TIME=2009\\' target=\\'_self\\'>1,293</a></nobr></td><td><nobr><a title=\\'查看2009損益表\\' class=\\'link_black\\' href=\\'StockFinDetail.asp?RPT_CAT=IS_M_YEAR&LAST_RPT_CAT=IS_M_YEAR&STOCK_ID=2330&QRY_TIME=2009\\' target=\\'_self\\'>920</a></nobr></td><td><nobr><a title=\\'查看2009損益表\\' class=\\'link_black\\' href=\\'StockFinDetail.asp?RPT_CAT=IS_M_YEAR&LAST_RPT_CAT=IS_M_YEAR&STOCK_ID=2330&QRY_TIME=2009\\' target=\\'_self\\'>35</a></nobr></td><td><nobr><a title=\\'查看2009損益表\\' class=\\'link_black\\' href=\\'StockFinDetail.asp?RPT_CAT=IS_M_YEAR&LAST_RPT_CAT=IS_M_YEAR&STOCK_ID=2330&QRY_TIME=2009\\' target=\\'_self\\'>892</a></nobr></td><td><nobr><a title=\\'查看2009財務比率表\\' class=\\'link_black\\' href=\\'StockFinDetail.asp?RPT_CAT=XX_M_YEAR&LAST_RPT_CAT=XX_M_YEAR&STOCK_ID=2330&QRY_TIME=2009\\' target=\\'_self\\'>43.7</a></nobr></td><td><nobr><a title=\\'查看2009財務比率表\\' class=\\'link_black\\' href=\\'StockFinDetail.asp?RPT_CAT=XX_M_YEAR&LAST_RPT_CAT=XX_M_YEAR&STOCK_ID=2330&QRY_TIME=2009\\' target=\\'_self\\'>31.1</a></nobr></td><td><nobr><a title=\\'查看2009財務比率表\\' class=\\'link_black\\' href=\\'StockFinDetail.asp?RPT_CAT=XX_M_YEAR&LAST_RPT_CAT=XX_M_YEAR&STOCK_ID=2330&QRY_TIME=2009\\' target=\\'_self\\'>1.18</a></nobr></td><td><nobr><a title=\\'查看2009財務比率表\\' class=\\'link_black\\' href=\\'StockFinDetail.asp?RPT_CAT=XX_M_YEAR&LAST_RPT_CAT=XX_M_YEAR&STOCK_ID=2330&QRY_TIME=2009\\' target=\\'_self\\'>30.3</a></nobr></td><td><nobr><a title=\\'查看2009財務比率表\\' class=\\'link_black\\' href=\\'StockFinDetail.asp?RPT_CAT=XX_M_YEAR&LAST_RPT_CAT=XX_M_YEAR&STOCK_ID=2330&QRY_TIME=2009\\' target=\\'_self\\'>18.3</a></nobr></td><td><nobr><a title=\\'查看2009財務比率表\\' class=\\'link_black\\' href=\\'StockFinDetail.asp?RPT_CAT=XX_M_YEAR&LAST_RPT_CAT=XX_M_YEAR&STOCK_ID=2330&QRY_TIME=2009\\' target=\\'_self\\'>15.5</a></nobr></td><td><nobr><a title=\\'查看2009財務比率表\\' class=\\'link_black\\' href=\\'StockFinDetail.asp?RPT_CAT=XX_M_YEAR&LAST_RPT_CAT=XX_M_YEAR&STOCK_ID=2330&QRY_TIME=2009\\' target=\\'_self\\'>3.45</a></nobr></td><td><nobr><a title=\\'查看2009財務比率表\\' class=\\'link_green\\' href=\\'StockFinDetail.asp?RPT_CAT=XX_M_YEAR&LAST_RPT_CAT=XX_M_YEAR&STOCK_ID=2330&QRY_TIME=2009\\' target=\\'_self\\'>-0.41</a></nobr></td><td><nobr><a title=\\'查看2009資產負債表\\' class=\\'link_black\\' href=\\'StockFinDetail.asp?RPT_CAT=BS_M_YEAR&LAST_RPT_CAT=BS_M_YEAR&STOCK_ID=2330&QRY_TIME=2009\\' target=\\'_self\\'>19.11</a></nobr></td></tr><tr id=\\'row9\\' align=\\'center\\' bgcolor=\\'#EBF7FF\\' height=\\'23px\\'  OnMouseOver=\"ChgBGColor([\\'rowh9\\',\\'row9\\'],\\'#FFF0DA\\');\"  OnMouseOut=\"ChgBGColor([\\'rowh9\\',\\'row9\\'],\\'#EBF7FF\\');\"><td><nobr>2008</nobr></td><td><nobr><a title=\\'查看2008資產負債表\\' class=\\'link_black\\' href=\\'StockFinDetail.asp?RPT_CAT=BS_M_YEAR&LAST_RPT_CAT=BS_M_YEAR&STOCK_ID=2330&QRY_TIME=2008\\' target=\\'_self\\'>2,563</a></nobr></td><td><nobr><a title=\\'查看2008財報評分\\' class=\\'link_red\\' href=\\'StockFinGrade.asp?STOCK_ID=2330&QRY_TIME=2008&RPT_CAT=M_YEAR\\' target=\\'_self\\'>94</a></nobr></td><td><nobr><a title=\\'查看個股日K線圖\\' class=\\'link_black\\' href=\\'ShowK_Chart.asp?STOCK_ID=2330&CHT_NM=%E5%80%8B%E8%82%A1K%E7%B7%9A%E5%9C%96&CHT_CAT=%E6%97%A5%E7%B7%9A%E5%9C%96&CHT_CAT2=DATE\\' target=\\'_self\\'>44.4</a></nobr></td><td><nobr><a title=\\'查看個股日K線圖\\' class=\\'link_black\\' href=\\'ShowK_Chart.asp?STOCK_ID=2330&CHT_NM=%E5%80%8B%E8%82%A1K%E7%B7%9A%E5%9C%96&CHT_CAT=%E6%97%A5%E7%B7%9A%E5%9C%96&CHT_CAT2=DATE\\' target=\\'_self\\'>56.4</a></nobr></td><td><nobr><a title=\\'查看個股日K線圖\\' class=\\'link_green\\' href=\\'ShowK_Chart.asp?STOCK_ID=2330&CHT_NM=%E5%80%8B%E8%82%A1K%E7%B7%9A%E5%9C%96&CHT_CAT=%E6%97%A5%E7%B7%9A%E5%9C%96&CHT_CAT2=DATE\\' target=\\'_self\\'>-17.6</a></nobr></td><td><nobr><a title=\\'查看個股日K線圖\\' class=\\'link_green\\' href=\\'ShowK_Chart.asp?STOCK_ID=2330&CHT_NM=%E5%80%8B%E8%82%A1K%E7%B7%9A%E5%9C%96&CHT_CAT=%E6%97%A5%E7%B7%9A%E5%9C%96&CHT_CAT2=DATE\\' target=\\'_self\\'>-28.4</a></nobr></td><td><nobr><a title=\\'查看2008損益表\\' class=\\'link_black\\' href=\\'StockFinDetail.asp?RPT_CAT=IS_M_YEAR&LAST_RPT_CAT=IS_M_YEAR&STOCK_ID=2330&QRY_TIME=2008\\' target=\\'_self\\'>3,332</a></nobr></td><td><nobr><a title=\\'查看2008損益表\\' class=\\'link_black\\' href=\\'StockFinDetail.asp?RPT_CAT=IS_M_YEAR&LAST_RPT_CAT=IS_M_YEAR&STOCK_ID=2330&QRY_TIME=2008\\' target=\\'_self\\'>1,417</a></nobr></td><td><nobr><a title=\\'查看2008損益表\\' class=\\'link_black\\' href=\\'StockFinDetail.asp?RPT_CAT=IS_M_YEAR&LAST_RPT_CAT=IS_M_YEAR&STOCK_ID=2330&QRY_TIME=2008\\' target=\\'_self\\'>1,044</a></nobr></td><td><nobr><a title=\\'查看2008損益表\\' class=\\'link_black\\' href=\\'StockFinDetail.asp?RPT_CAT=IS_M_YEAR&LAST_RPT_CAT=IS_M_YEAR&STOCK_ID=2330&QRY_TIME=2008\\' target=\\'_self\\'>70.4</a></nobr></td><td><nobr><a title=\\'查看2008損益表\\' class=\\'link_black\\' href=\\'StockFinDetail.asp?RPT_CAT=IS_M_YEAR&LAST_RPT_CAT=IS_M_YEAR&STOCK_ID=2330&QRY_TIME=2008\\' target=\\'_self\\'>999</a></nobr></td><td><nobr><a title=\\'查看2008財務比率表\\' class=\\'link_black\\' href=\\'StockFinDetail.asp?RPT_CAT=XX_M_YEAR&LAST_RPT_CAT=XX_M_YEAR&STOCK_ID=2330&QRY_TIME=2008\\' target=\\'_self\\'>42.5</a></nobr></td><td><nobr><a title=\\'查看2008財務比率表\\' class=\\'link_black\\' href=\\'StockFinDetail.asp?RPT_CAT=XX_M_YEAR&LAST_RPT_CAT=XX_M_YEAR&STOCK_ID=2330&QRY_TIME=2008\\' target=\\'_self\\'>31.3</a></nobr></td><td><nobr><a title=\\'查看2008財務比率表\\' class=\\'link_black\\' href=\\'StockFinDetail.asp?RPT_CAT=XX_M_YEAR&LAST_RPT_CAT=XX_M_YEAR&STOCK_ID=2330&QRY_TIME=2008\\' target=\\'_self\\'>2.11</a></nobr></td><td><nobr><a title=\\'查看2008財務比率表\\' class=\\'link_black\\' href=\\'StockFinDetail.asp?RPT_CAT=XX_M_YEAR&LAST_RPT_CAT=XX_M_YEAR&STOCK_ID=2330&QRY_TIME=2008\\' target=\\'_self\\'>30.2</a></nobr></td><td><nobr><a title=\\'查看2008財務比率表\\' class=\\'link_black\\' href=\\'StockFinDetail.asp?RPT_CAT=XX_M_YEAR&LAST_RPT_CAT=XX_M_YEAR&STOCK_ID=2330&QRY_TIME=2008\\' target=\\'_self\\'>20.7</a></nobr></td><td><nobr><a title=\\'查看2008財務比率表\\' class=\\'link_black\\' href=\\'StockFinDetail.asp?RPT_CAT=XX_M_YEAR&LAST_RPT_CAT=XX_M_YEAR&STOCK_ID=2330&QRY_TIME=2008\\' target=\\'_self\\'>17.8</a></nobr></td><td><nobr><a title=\\'查看2008財務比率表\\' class=\\'link_black\\' href=\\'StockFinDetail.asp?RPT_CAT=XX_M_YEAR&LAST_RPT_CAT=XX_M_YEAR&STOCK_ID=2330&QRY_TIME=2008\\' target=\\'_self\\'>3.86</a></nobr></td><td><nobr><a title=\\'查看2008財務比率表\\' class=\\'link_green\\' href=\\'StockFinDetail.asp?RPT_CAT=XX_M_YEAR&LAST_RPT_CAT=XX_M_YEAR&STOCK_ID=2330&QRY_TIME=2008\\' target=\\'_self\\'>-0.28</a></nobr></td><td><nobr><a title=\\'查看2008資產負債表\\' class=\\'link_black\\' href=\\'StockFinDetail.asp?RPT_CAT=BS_M_YEAR&LAST_RPT_CAT=BS_M_YEAR&STOCK_ID=2330&QRY_TIME=2008\\' target=\\'_self\\'>18.59</a></nobr></td></tr><tr id=\\'row10\\' align=\\'center\\' bgcolor=\\'white\\' height=\\'23px\\'  OnMouseOver=\"ChgBGColor([\\'rowh10\\',\\'row10\\'],\\'#FFF0DA\\');\"  OnMouseOut=\"ChgBGColor([\\'rowh10\\',\\'row10\\'],\\'white\\');\"><td><nobr>2007</nobr></td><td><nobr><a title=\\'查看2007資產負債表\\' class=\\'link_black\\' href=\\'StockFinDetail.asp?RPT_CAT=BS_M_YEAR&LAST_RPT_CAT=BS_M_YEAR&STOCK_ID=2330&QRY_TIME=2007\\' target=\\'_self\\'>2,643</a></nobr></td><td><nobr><a title=\\'查看2007財報評分\\' class=\\'link_red\\' href=\\'StockFinGrade.asp?STOCK_ID=2330&QRY_TIME=2007&RPT_CAT=M_YEAR\\' target=\\'_self\\'>94</a></nobr></td><td><nobr><a title=\\'查看個股日K線圖\\' class=\\'link_black\\' href=\\'ShowK_Chart.asp?STOCK_ID=2330&CHT_NM=%E5%80%8B%E8%82%A1K%E7%B7%9A%E5%9C%96&CHT_CAT=%E6%97%A5%E7%B7%9A%E5%9C%96&CHT_CAT2=DATE\\' target=\\'_self\\'>62</a></nobr></td><td><nobr><a title=\\'查看個股日K線圖\\' class=\\'link_black\\' href=\\'ShowK_Chart.asp?STOCK_ID=2330&CHT_NM=%E5%80%8B%E8%82%A1K%E7%B7%9A%E5%9C%96&CHT_CAT=%E6%97%A5%E7%B7%9A%E5%9C%96&CHT_CAT2=DATE\\' target=\\'_self\\'>65.5</a></nobr></td><td><nobr><a title=\\'查看個股日K線圖\\' class=\\'link_green\\' href=\\'ShowK_Chart.asp?STOCK_ID=2330&CHT_NM=%E5%80%8B%E8%82%A1K%E7%B7%9A%E5%9C%96&CHT_CAT=%E6%97%A5%E7%B7%9A%E5%9C%96&CHT_CAT2=DATE\\' target=\\'_self\\'>-5.5</a></nobr></td><td><nobr><a title=\\'查看個股日K線圖\\' class=\\'link_green\\' href=\\'ShowK_Chart.asp?STOCK_ID=2330&CHT_NM=%E5%80%8B%E8%82%A1K%E7%B7%9A%E5%9C%96&CHT_CAT=%E6%97%A5%E7%B7%9A%E5%9C%96&CHT_CAT2=DATE\\' target=\\'_self\\'>-8.1</a></nobr></td><td><nobr><a title=\\'查看2007損益表\\' class=\\'link_black\\' href=\\'StockFinDetail.asp?RPT_CAT=IS_M_YEAR&LAST_RPT_CAT=IS_M_YEAR&STOCK_ID=2330&QRY_TIME=2007\\' target=\\'_self\\'>3,226</a></nobr></td><td><nobr><a title=\\'查看2007損益表\\' class=\\'link_black\\' href=\\'StockFinDetail.asp?RPT_CAT=IS_M_YEAR&LAST_RPT_CAT=IS_M_YEAR&STOCK_ID=2330&QRY_TIME=2007\\' target=\\'_self\\'>1,424</a></nobr></td><td><nobr><a title=\\'查看2007損益表\\' class=\\'link_black\\' href=\\'StockFinDetail.asp?RPT_CAT=IS_M_YEAR&LAST_RPT_CAT=IS_M_YEAR&STOCK_ID=2330&QRY_TIME=2007\\' target=\\'_self\\'>1,117</a></nobr></td><td><nobr><a title=\\'查看2007損益表\\' class=\\'link_black\\' href=\\'StockFinDetail.asp?RPT_CAT=IS_M_YEAR&LAST_RPT_CAT=IS_M_YEAR&STOCK_ID=2330&QRY_TIME=2007\\' target=\\'_self\\'>99.2</a></nobr></td><td><nobr><a title=\\'查看2007損益表\\' class=\\'link_black\\' href=\\'StockFinDetail.asp?RPT_CAT=IS_M_YEAR&LAST_RPT_CAT=IS_M_YEAR&STOCK_ID=2330&QRY_TIME=2007\\' target=\\'_self\\'>1,092</a></nobr></td><td><nobr><a title=\\'查看2007財務比率表\\' class=\\'link_black\\' href=\\'StockFinDetail.asp?RPT_CAT=XX_M_YEAR&LAST_RPT_CAT=XX_M_YEAR&STOCK_ID=2330&QRY_TIME=2007\\' target=\\'_self\\'>44.1</a></nobr></td><td><nobr><a title=\\'查看2007財務比率表\\' class=\\'link_black\\' href=\\'StockFinDetail.asp?RPT_CAT=XX_M_YEAR&LAST_RPT_CAT=XX_M_YEAR&STOCK_ID=2330&QRY_TIME=2007\\' target=\\'_self\\'>34.6</a></nobr></td><td><nobr><a title=\\'查看2007財務比率表\\' class=\\'link_black\\' href=\\'StockFinDetail.asp?RPT_CAT=XX_M_YEAR&LAST_RPT_CAT=XX_M_YEAR&STOCK_ID=2330&QRY_TIME=2007\\' target=\\'_self\\'>3.07</a></nobr></td><td><nobr><a title=\\'查看2007財務比率表\\' class=\\'link_black\\' href=\\'StockFinDetail.asp?RPT_CAT=XX_M_YEAR&LAST_RPT_CAT=XX_M_YEAR&STOCK_ID=2330&QRY_TIME=2007\\' target=\\'_self\\'>34.1</a></nobr></td><td><nobr><a title=\\'查看2007財務比率表\\' class=\\'link_black\\' href=\\'StockFinDetail.asp?RPT_CAT=XX_M_YEAR&LAST_RPT_CAT=XX_M_YEAR&STOCK_ID=2330&QRY_TIME=2007\\' target=\\'_self\\'>22</a></nobr></td><td><nobr><a title=\\'查看2007財務比率表\\' class=\\'link_black\\' href=\\'StockFinDetail.asp?RPT_CAT=XX_M_YEAR&LAST_RPT_CAT=XX_M_YEAR&STOCK_ID=2330&QRY_TIME=2007\\' target=\\'_self\\'>19</a></nobr></td><td><nobr><a title=\\'查看2007財務比率表\\' class=\\'link_black\\' href=\\'StockFinDetail.asp?RPT_CAT=XX_M_YEAR&LAST_RPT_CAT=XX_M_YEAR&STOCK_ID=2330&QRY_TIME=2007\\' target=\\'_self\\'>4.14</a></nobr></td><td><nobr><a title=\\'查看2007財務比率表\\' class=\\'link_green\\' href=\\'StockFinDetail.asp?RPT_CAT=XX_M_YEAR&LAST_RPT_CAT=XX_M_YEAR&STOCK_ID=2330&QRY_TIME=2007\\' target=\\'_self\\'>-0.79</a></nobr></td><td><nobr><a title=\\'查看2007資產負債表\\' class=\\'link_black\\' href=\\'StockFinDetail.asp?RPT_CAT=BS_M_YEAR&LAST_RPT_CAT=BS_M_YEAR&STOCK_ID=2330&QRY_TIME=2007\\' target=\\'_self\\'>19.03</a></nobr></td></tr><tr id=\\'row11\\' align=\\'center\\' bgcolor=\\'#EBF7FF\\' height=\\'23px\\'  OnMouseOver=\"ChgBGColor([\\'rowh11\\',\\'row11\\'],\\'#FFF0DA\\');\"  OnMouseOut=\"ChgBGColor([\\'rowh11\\',\\'row11\\'],\\'#EBF7FF\\');\"><td><nobr>2006</nobr></td><td><nobr><a title=\\'查看2006資產負債表\\' class=\\'link_black\\' href=\\'StockFinDetail.asp?RPT_CAT=BS_M_YEAR&LAST_RPT_CAT=BS_M_YEAR&STOCK_ID=2330&QRY_TIME=2006\\' target=\\'_self\\'>2,583</a></nobr></td><td><nobr><a title=\\'查看2006財報評分\\' class=\\'link_red\\' href=\\'StockFinGrade.asp?STOCK_ID=2330&QRY_TIME=2006&RPT_CAT=M_YEAR\\' target=\\'_self\\'>96</a></nobr></td><td><nobr><a title=\\'查看個股日K線圖\\' class=\\'link_black\\' href=\\'ShowK_Chart.asp?STOCK_ID=2330&CHT_NM=%E5%80%8B%E8%82%A1K%E7%B7%9A%E5%9C%96&CHT_CAT=%E6%97%A5%E7%B7%9A%E5%9C%96&CHT_CAT2=DATE\\' target=\\'_self\\'>67.5</a></nobr></td><td><nobr><a title=\\'查看個股日K線圖\\' class=\\'link_black\\' href=\\'ShowK_Chart.asp?STOCK_ID=2330&CHT_NM=%E5%80%8B%E8%82%A1K%E7%B7%9A%E5%9C%96&CHT_CAT=%E6%97%A5%E7%B7%9A%E5%9C%96&CHT_CAT2=DATE\\' target=\\'_self\\'>61.3</a></nobr></td><td><nobr><a title=\\'查看個股日K線圖\\' class=\\'link_red\\' href=\\'ShowK_Chart.asp?STOCK_ID=2330&CHT_NM=%E5%80%8B%E8%82%A1K%E7%B7%9A%E5%9C%96&CHT_CAT=%E6%97%A5%E7%B7%9A%E5%9C%96&CHT_CAT2=DATE\\' target=\\'_self\\'>+5</a></nobr></td><td><nobr><a title=\\'查看個股日K線圖\\' class=\\'link_red\\' href=\\'ShowK_Chart.asp?STOCK_ID=2330&CHT_NM=%E5%80%8B%E8%82%A1K%E7%B7%9A%E5%9C%96&CHT_CAT=%E6%97%A5%E7%B7%9A%E5%9C%96&CHT_CAT2=DATE\\' target=\\'_self\\'>+8</a></nobr></td><td><nobr><a title=\\'查看2006損益表\\' class=\\'link_black\\' href=\\'StockFinDetail.asp?RPT_CAT=IS_M_YEAR&LAST_RPT_CAT=IS_M_YEAR&STOCK_ID=2330&QRY_TIME=2006\\' target=\\'_self\\'>3,174</a></nobr></td><td><nobr><a title=\\'查看2006損益表\\' class=\\'link_black\\' href=\\'StockFinDetail.asp?RPT_CAT=IS_M_YEAR&LAST_RPT_CAT=IS_M_YEAR&STOCK_ID=2330&QRY_TIME=2006\\' target=\\'_self\\'>1,558</a></nobr></td><td><nobr><a title=\\'查看2006損益表\\' class=\\'link_black\\' href=\\'StockFinDetail.asp?RPT_CAT=IS_M_YEAR&LAST_RPT_CAT=IS_M_YEAR&STOCK_ID=2330&QRY_TIME=2006\\' target=\\'_self\\'>1,273</a></nobr></td><td><nobr><a title=\\'查看2006損益表\\' class=\\'link_black\\' href=\\'StockFinDetail.asp?RPT_CAT=IS_M_YEAR&LAST_RPT_CAT=IS_M_YEAR&STOCK_ID=2330&QRY_TIME=2006\\' target=\\'_self\\'>61</a></nobr></td><td><nobr><a title=\\'查看2006損益表\\' class=\\'link_black\\' href=\\'StockFinDetail.asp?RPT_CAT=IS_M_YEAR&LAST_RPT_CAT=IS_M_YEAR&STOCK_ID=2330&QRY_TIME=2006\\' target=\\'_self\\'>1,270</a></nobr></td><td><nobr><a title=\\'查看2006財務比率表\\' class=\\'link_black\\' href=\\'StockFinDetail.asp?RPT_CAT=XX_M_YEAR&LAST_RPT_CAT=XX_M_YEAR&STOCK_ID=2330&QRY_TIME=2006\\' target=\\'_self\\'>49.1</a></nobr></td><td><nobr><a title=\\'查看2006財務比率表\\' class=\\'link_black\\' href=\\'StockFinDetail.asp?RPT_CAT=XX_M_YEAR&LAST_RPT_CAT=XX_M_YEAR&STOCK_ID=2330&QRY_TIME=2006\\' target=\\'_self\\'>40.1</a></nobr></td><td><nobr><a title=\\'查看2006財務比率表\\' class=\\'link_black\\' href=\\'StockFinDetail.asp?RPT_CAT=XX_M_YEAR&LAST_RPT_CAT=XX_M_YEAR&STOCK_ID=2330&QRY_TIME=2006\\' target=\\'_self\\'>1.92</a></nobr></td><td><nobr><a title=\\'查看2006財務比率表\\' class=\\'link_black\\' href=\\'StockFinDetail.asp?RPT_CAT=XX_M_YEAR&LAST_RPT_CAT=XX_M_YEAR&STOCK_ID=2330&QRY_TIME=2006\\' target=\\'_self\\'>40.1</a></nobr></td><td><nobr><a title=\\'查看2006財務比率表\\' class=\\'link_black\\' href=\\'StockFinDetail.asp?RPT_CAT=XX_M_YEAR&LAST_RPT_CAT=XX_M_YEAR&STOCK_ID=2330&QRY_TIME=2006\\' target=\\'_self\\'>26.6</a></nobr></td><td><nobr><a title=\\'查看2006財務比率表\\' class=\\'link_black\\' href=\\'StockFinDetail.asp?RPT_CAT=XX_M_YEAR&LAST_RPT_CAT=XX_M_YEAR&STOCK_ID=2330&QRY_TIME=2006\\' target=\\'_self\\'>23</a></nobr></td><td><nobr><a title=\\'查看2006財務比率表\\' class=\\'link_black\\' href=\\'StockFinDetail.asp?RPT_CAT=XX_M_YEAR&LAST_RPT_CAT=XX_M_YEAR&STOCK_ID=2330&QRY_TIME=2006\\' target=\\'_self\\'>4.93</a></nobr></td><td><nobr><a title=\\'查看2006財務比率表\\' class=\\'link_red\\' href=\\'StockFinDetail.asp?RPT_CAT=XX_M_YEAR&LAST_RPT_CAT=XX_M_YEAR&STOCK_ID=2330&QRY_TIME=2006\\' target=\\'_self\\'>+1.14</a></nobr></td><td><nobr><a title=\\'查看2006資產負債表\\' class=\\'link_black\\' href=\\'StockFinDetail.asp?RPT_CAT=BS_M_YEAR&LAST_RPT_CAT=BS_M_YEAR&STOCK_ID=2330&QRY_TIME=2006\\' target=\\'_self\\'>19.69</a></nobr></td></tr><tr id=\\'row12\\' align=\\'center\\' bgcolor=\\'white\\' height=\\'23px\\'  OnMouseOver=\"ChgBGColor([\\'rowh12\\',\\'row12\\'],\\'#FFF0DA\\');\"  OnMouseOut=\"ChgBGColor([\\'rowh12\\',\\'row12\\'],\\'white\\');\"><td><nobr>2005</nobr></td><td><nobr><a title=\\'查看2005資產負債表\\' class=\\'link_black\\' href=\\'StockFinDetail.asp?RPT_CAT=BS_M_YEAR&LAST_RPT_CAT=BS_M_YEAR&STOCK_ID=2330&QRY_TIME=2005\\' target=\\'_self\\'>2,473</a></nobr></td><td><nobr><a title=\\'查看2005財報評分\\' class=\\'link_red\\' href=\\'StockFinGrade.asp?STOCK_ID=2330&QRY_TIME=2005&RPT_CAT=M_YEAR\\' target=\\'_self\\'>94</a></nobr></td><td><nobr><a title=\\'查看個股日K線圖\\' class=\\'link_black\\' href=\\'ShowK_Chart.asp?STOCK_ID=2330&CHT_NM=%E5%80%8B%E8%82%A1K%E7%B7%9A%E5%9C%96&CHT_CAT=%E6%97%A5%E7%B7%9A%E5%9C%96&CHT_CAT2=DATE\\' target=\\'_self\\'>62.5</a></nobr></td><td><nobr><a title=\\'查看個股日K線圖\\' class=\\'link_black\\' href=\\'ShowK_Chart.asp?STOCK_ID=2330&CHT_NM=%E5%80%8B%E8%82%A1K%E7%B7%9A%E5%9C%96&CHT_CAT=%E6%97%A5%E7%B7%9A%E5%9C%96&CHT_CAT2=DATE\\' target=\\'_self\\'>54.1</a></nobr></td><td><nobr><a title=\\'查看個股日K線圖\\' class=\\'link_red\\' href=\\'ShowK_Chart.asp?STOCK_ID=2330&CHT_NM=%E5%80%8B%E8%82%A1K%E7%B7%9A%E5%9C%96&CHT_CAT=%E6%97%A5%E7%B7%9A%E5%9C%96&CHT_CAT2=DATE\\' target=\\'_self\\'>+12</a></nobr></td><td><nobr><a title=\\'查看個股日K線圖\\' class=\\'link_red\\' href=\\'ShowK_Chart.asp?STOCK_ID=2330&CHT_NM=%E5%80%8B%E8%82%A1K%E7%B7%9A%E5%9C%96&CHT_CAT=%E6%97%A5%E7%B7%9A%E5%9C%96&CHT_CAT2=DATE\\' target=\\'_self\\'>+23.8</a></nobr></td><td><nobr><a title=\\'查看2005損益表\\' class=\\'link_black\\' href=\\'StockFinDetail.asp?RPT_CAT=IS_M_YEAR&LAST_RPT_CAT=IS_M_YEAR&STOCK_ID=2330&QRY_TIME=2005\\' target=\\'_self\\'>2,666</a></nobr></td><td><nobr><a title=\\'查看2005損益表\\' class=\\'link_black\\' href=\\'StockFinDetail.asp?RPT_CAT=IS_M_YEAR&LAST_RPT_CAT=IS_M_YEAR&STOCK_ID=2330&QRY_TIME=2005\\' target=\\'_self\\'>1,182</a></nobr></td><td><nobr><a title=\\'查看2005損益表\\' class=\\'link_black\\' href=\\'StockFinDetail.asp?RPT_CAT=IS_M_YEAR&LAST_RPT_CAT=IS_M_YEAR&STOCK_ID=2330&QRY_TIME=2005\\' target=\\'_self\\'>910</a></nobr></td><td><nobr><a title=\\'查看2005損益表\\' class=\\'link_black\\' href=\\'StockFinDetail.asp?RPT_CAT=IS_M_YEAR&LAST_RPT_CAT=IS_M_YEAR&STOCK_ID=2330&QRY_TIME=2005\\' target=\\'_self\\'>32.9</a></nobr></td><td><nobr><a title=\\'查看2005損益表\\' class=\\'link_black\\' href=\\'StockFinDetail.asp?RPT_CAT=IS_M_YEAR&LAST_RPT_CAT=IS_M_YEAR&STOCK_ID=2330&QRY_TIME=2005\\' target=\\'_self\\'>936</a></nobr></td><td><nobr><a title=\\'查看2005財務比率表\\' class=\\'link_black\\' href=\\'StockFinDetail.asp?RPT_CAT=XX_M_YEAR&LAST_RPT_CAT=XX_M_YEAR&STOCK_ID=2330&QRY_TIME=2005\\' target=\\'_self\\'>44.3</a></nobr></td><td><nobr><a title=\\'查看2005財務比率表\\' class=\\'link_black\\' href=\\'StockFinDetail.asp?RPT_CAT=XX_M_YEAR&LAST_RPT_CAT=XX_M_YEAR&STOCK_ID=2330&QRY_TIME=2005\\' target=\\'_self\\'>34.1</a></nobr></td><td><nobr><a title=\\'查看2005財務比率表\\' class=\\'link_black\\' href=\\'StockFinDetail.asp?RPT_CAT=XX_M_YEAR&LAST_RPT_CAT=XX_M_YEAR&STOCK_ID=2330&QRY_TIME=2005\\' target=\\'_self\\'>1.24</a></nobr></td><td><nobr><a title=\\'查看2005財務比率表\\' class=\\'link_black\\' href=\\'StockFinDetail.asp?RPT_CAT=XX_M_YEAR&LAST_RPT_CAT=XX_M_YEAR&STOCK_ID=2330&QRY_TIME=2005\\' target=\\'_self\\'>35.1</a></nobr></td><td><nobr><a title=\\'查看2005財務比率表\\' class=\\'link_black\\' href=\\'StockFinDetail.asp?RPT_CAT=XX_M_YEAR&LAST_RPT_CAT=XX_M_YEAR&STOCK_ID=2330&QRY_TIME=2005\\' target=\\'_self\\'>22.2</a></nobr></td><td><nobr><a title=\\'查看2005財務比率表\\' class=\\'link_black\\' href=\\'StockFinDetail.asp?RPT_CAT=XX_M_YEAR&LAST_RPT_CAT=XX_M_YEAR&STOCK_ID=2330&QRY_TIME=2005\\' target=\\'_self\\'>18.4</a></nobr></td><td><nobr><a title=\\'查看2005財務比率表\\' class=\\'link_black\\' href=\\'StockFinDetail.asp?RPT_CAT=XX_M_YEAR&LAST_RPT_CAT=XX_M_YEAR&STOCK_ID=2330&QRY_TIME=2005\\' target=\\'_self\\'>3.79</a></nobr></td><td><nobr><a title=\\'查看2005財務比率表\\' class=\\'link_green\\' href=\\'StockFinDetail.asp?RPT_CAT=XX_M_YEAR&LAST_RPT_CAT=XX_M_YEAR&STOCK_ID=2330&QRY_TIME=2005\\' target=\\'_self\\'>-0.18</a></nobr></td><td><nobr><a title=\\'查看2005資產負債表\\' class=\\'link_black\\' href=\\'StockFinDetail.asp?RPT_CAT=BS_M_YEAR&LAST_RPT_CAT=BS_M_YEAR&STOCK_ID=2330&QRY_TIME=2005\\' target=\\'_self\\'>18.04</a></nobr></td></tr><tr id=\\'row13\\' align=\\'center\\' bgcolor=\\'#EBF7FF\\' height=\\'23px\\'  OnMouseOver=\"ChgBGColor([\\'rowh13\\',\\'row13\\'],\\'#FFF0DA\\');\"  OnMouseOut=\"ChgBGColor([\\'rowh13\\',\\'row13\\'],\\'#EBF7FF\\');\"><td><nobr>2004</nobr></td><td><nobr><a title=\\'查看2004資產負債表\\' class=\\'link_black\\' href=\\'StockFinDetail.asp?RPT_CAT=BS_M_YEAR&LAST_RPT_CAT=BS_M_YEAR&STOCK_ID=2330&QRY_TIME=2004\\' target=\\'_self\\'>2,325</a></nobr></td><td><nobr><a title=\\'查看2004財報評分\\' class=\\'link_red\\' href=\\'StockFinGrade.asp?STOCK_ID=2330&QRY_TIME=2004&RPT_CAT=M_YEAR\\' target=\\'_self\\'>89</a></nobr></td><td><nobr><a title=\\'查看個股日K線圖\\' class=\\'link_black\\' href=\\'ShowK_Chart.asp?STOCK_ID=2330&CHT_NM=%E5%80%8B%E8%82%A1K%E7%B7%9A%E5%9C%96&CHT_CAT=%E6%97%A5%E7%B7%9A%E5%9C%96&CHT_CAT2=DATE\\' target=\\'_self\\'>50.5</a></nobr></td><td><nobr><a title=\\'查看個股日K線圖\\' class=\\'link_black\\' href=\\'ShowK_Chart.asp?STOCK_ID=2330&CHT_NM=%E5%80%8B%E8%82%A1K%E7%B7%9A%E5%9C%96&CHT_CAT=%E6%97%A5%E7%B7%9A%E5%9C%96&CHT_CAT2=DATE\\' target=\\'_self\\'>52.4</a></nobr></td><td><nobr><a title=\\'查看個股日K線圖\\' class=\\'link_green\\' href=\\'ShowK_Chart.asp?STOCK_ID=2330&CHT_NM=%E5%80%8B%E8%82%A1K%E7%B7%9A%E5%9C%96&CHT_CAT=%E6%97%A5%E7%B7%9A%E5%9C%96&CHT_CAT2=DATE\\' target=\\'_self\\'>-13</a></nobr></td><td><nobr><a title=\\'查看個股日K線圖\\' class=\\'link_green\\' href=\\'ShowK_Chart.asp?STOCK_ID=2330&CHT_NM=%E5%80%8B%E8%82%A1K%E7%B7%9A%E5%9C%96&CHT_CAT=%E6%97%A5%E7%B7%9A%E5%9C%96&CHT_CAT2=DATE\\' target=\\'_self\\'>-20.5</a></nobr></td><td><nobr><a title=\\'查看2004損益表\\' class=\\'link_black\\' href=\\'StockFinDetail.asp?RPT_CAT=IS_M_YEAR&LAST_RPT_CAT=IS_M_YEAR&STOCK_ID=2330&QRY_TIME=2004\\' target=\\'_self\\'>2,572</a></nobr></td><td><nobr><a title=\\'查看2004損益表\\' class=\\'link_black\\' href=\\'StockFinDetail.asp?RPT_CAT=IS_M_YEAR&LAST_RPT_CAT=IS_M_YEAR&STOCK_ID=2330&QRY_TIME=2004\\' target=\\'_self\\'>1,158</a></nobr></td><td><nobr><a title=\\'查看2004損益表\\' class=\\'link_black\\' href=\\'StockFinDetail.asp?RPT_CAT=IS_M_YEAR&LAST_RPT_CAT=IS_M_YEAR&STOCK_ID=2330&QRY_TIME=2004\\' target=\\'_self\\'>885</a></nobr></td><td><nobr><a title=\\'查看2004損益表\\' class=\\'link_black\\' href=\\'StockFinDetail.asp?RPT_CAT=IS_M_YEAR&LAST_RPT_CAT=IS_M_YEAR&STOCK_ID=2330&QRY_TIME=2004\\' target=\\'_self\\'>34.8</a></nobr></td><td><nobr><a title=\\'查看2004損益表\\' class=\\'link_black\\' href=\\'StockFinDetail.asp?RPT_CAT=IS_M_YEAR&LAST_RPT_CAT=IS_M_YEAR&STOCK_ID=2330&QRY_TIME=2004\\' target=\\'_self\\'>923</a></nobr></td><td><nobr><a title=\\'查看2004財務比率表\\' class=\\'link_black\\' href=\\'StockFinDetail.asp?RPT_CAT=XX_M_YEAR&LAST_RPT_CAT=XX_M_YEAR&STOCK_ID=2330&QRY_TIME=2004\\' target=\\'_self\\'>45</a></nobr></td><td><nobr><a title=\\'查看2004財務比率表\\' class=\\'link_black\\' href=\\'StockFinDetail.asp?RPT_CAT=XX_M_YEAR&LAST_RPT_CAT=XX_M_YEAR&STOCK_ID=2330&QRY_TIME=2004\\' target=\\'_self\\'>34.4</a></nobr></td><td><nobr><a title=\\'查看2004財務比率表\\' class=\\'link_black\\' href=\\'StockFinDetail.asp?RPT_CAT=XX_M_YEAR&LAST_RPT_CAT=XX_M_YEAR&STOCK_ID=2330&QRY_TIME=2004\\' target=\\'_self\\'>1.35</a></nobr></td><td><nobr><a title=\\'查看2004財務比率表\\' class=\\'link_black\\' href=\\'StockFinDetail.asp?RPT_CAT=XX_M_YEAR&LAST_RPT_CAT=XX_M_YEAR&STOCK_ID=2330&QRY_TIME=2004\\' target=\\'_self\\'>35.9</a></nobr></td><td><nobr><a title=\\'查看2004財務比率表\\' class=\\'link_black\\' href=\\'StockFinDetail.asp?RPT_CAT=XX_M_YEAR&LAST_RPT_CAT=XX_M_YEAR&STOCK_ID=2330&QRY_TIME=2004\\' target=\\'_self\\'>25.3</a></nobr></td><td><nobr><a title=\\'查看2004財務比率表\\' class=\\'link_black\\' href=\\'StockFinDetail.asp?RPT_CAT=XX_M_YEAR&LAST_RPT_CAT=XX_M_YEAR&STOCK_ID=2330&QRY_TIME=2004\\' target=\\'_self\\'>20.4</a></nobr></td><td><nobr><a title=\\'查看2004財務比率表\\' class=\\'link_black\\' href=\\'StockFinDetail.asp?RPT_CAT=XX_M_YEAR&LAST_RPT_CAT=XX_M_YEAR&STOCK_ID=2330&QRY_TIME=2004\\' target=\\'_self\\'>3.97</a></nobr></td><td><nobr><a title=\\'查看2004財務比率表\\' class=\\'link_red\\' href=\\'StockFinDetail.asp?RPT_CAT=XX_M_YEAR&LAST_RPT_CAT=XX_M_YEAR&STOCK_ID=2330&QRY_TIME=2004\\' target=\\'_self\\'>+1.64</a></nobr></td><td><nobr><a title=\\'查看2004資產負債表\\' class=\\'link_black\\' href=\\'StockFinDetail.asp?RPT_CAT=BS_M_YEAR&LAST_RPT_CAT=BS_M_YEAR&STOCK_ID=2330&QRY_TIME=2004\\' target=\\'_self\\'>17.19</a></nobr></td></tr><tr id=\\'row14\\' align=\\'center\\' bgcolor=\\'white\\' height=\\'23px\\'  OnMouseOver=\"ChgBGColor([\\'rowh14\\',\\'row14\\'],\\'#FFF0DA\\');\"  OnMouseOut=\"ChgBGColor([\\'rowh14\\',\\'row14\\'],\\'white\\');\"><td><nobr>2003</nobr></td><td><nobr><a title=\\'查看2003資產負債表\\' class=\\'link_black\\' href=\\'StockFinDetail.asp?RPT_CAT=BS_M_YEAR&LAST_RPT_CAT=BS_M_YEAR&STOCK_ID=2330&QRY_TIME=2003\\' target=\\'_self\\'>2,027</a></nobr></td><td><nobr><a title=\\'查看2003財報評分\\' class=\\'link_red\\' href=\\'StockFinGrade.asp?STOCK_ID=2330&QRY_TIME=2003&RPT_CAT=M_YEAR\\' target=\\'_self\\'>79</a></nobr></td><td><nobr><a title=\\'查看個股日K線圖\\' class=\\'link_black\\' href=\\'ShowK_Chart.asp?STOCK_ID=2330&CHT_NM=%E5%80%8B%E8%82%A1K%E7%B7%9A%E5%9C%96&CHT_CAT=%E6%97%A5%E7%B7%9A%E5%9C%96&CHT_CAT2=DATE\\' target=\\'_self\\'>63.5</a></nobr></td><td><nobr><a title=\\'查看個股日K線圖\\' class=\\'link_black\\' href=\\'ShowK_Chart.asp?STOCK_ID=2330&CHT_NM=%E5%80%8B%E8%82%A1K%E7%B7%9A%E5%9C%96&CHT_CAT=%E6%97%A5%E7%B7%9A%E5%9C%96&CHT_CAT2=DATE\\' target=\\'_self\\'>56.4</a></nobr></td><td><nobr><a title=\\'查看個股日K線圖\\' class=\\'link_red\\' href=\\'ShowK_Chart.asp?STOCK_ID=2330&CHT_NM=%E5%80%8B%E8%82%A1K%E7%B7%9A%E5%9C%96&CHT_CAT=%E6%97%A5%E7%B7%9A%E5%9C%96&CHT_CAT2=DATE\\' target=\\'_self\\'>+20.9</a></nobr></td><td><nobr><a title=\\'查看個股日K線圖\\' class=\\'link_red\\' href=\\'ShowK_Chart.asp?STOCK_ID=2330&CHT_NM=%E5%80%8B%E8%82%A1K%E7%B7%9A%E5%9C%96&CHT_CAT=%E6%97%A5%E7%B7%9A%E5%9C%96&CHT_CAT2=DATE\\' target=\\'_self\\'>+49.1</a></nobr></td><td><nobr><a title=\\'查看2003損益表\\' class=\\'link_black\\' href=\\'StockFinDetail.asp?RPT_CAT=IS_M_YEAR&LAST_RPT_CAT=IS_M_YEAR&STOCK_ID=2330&QRY_TIME=2003\\' target=\\'_self\\'>2,030</a></nobr></td><td><nobr><a title=\\'查看2003損益表\\' class=\\'link_black\\' href=\\'StockFinDetail.asp?RPT_CAT=IS_M_YEAR&LAST_RPT_CAT=IS_M_YEAR&STOCK_ID=2330&QRY_TIME=2003\\' target=\\'_self\\'>749</a></nobr></td><td><nobr><a title=\\'查看2003損益表\\' class=\\'link_black\\' href=\\'StockFinDetail.asp?RPT_CAT=IS_M_YEAR&LAST_RPT_CAT=IS_M_YEAR&STOCK_ID=2330&QRY_TIME=2003\\' target=\\'_self\\'>513</a></nobr></td><td><nobr><a title=\\'查看2003損益表\\' class=\\'link_green\\' href=\\'StockFinDetail.asp?RPT_CAT=IS_M_YEAR&LAST_RPT_CAT=IS_M_YEAR&STOCK_ID=2330&QRY_TIME=2003\\' target=\\'_self\\'>-1.22</a></nobr></td><td><nobr><a title=\\'查看2003損益表\\' class=\\'link_black\\' href=\\'StockFinDetail.asp?RPT_CAT=IS_M_YEAR&LAST_RPT_CAT=IS_M_YEAR&STOCK_ID=2330&QRY_TIME=2003\\' target=\\'_self\\'>473</a></nobr></td><td><nobr><a title=\\'查看2003財務比率表\\' class=\\'link_black\\' href=\\'StockFinDetail.asp?RPT_CAT=XX_M_YEAR&LAST_RPT_CAT=XX_M_YEAR&STOCK_ID=2330&QRY_TIME=2003\\' target=\\'_self\\'>36.9</a></nobr></td><td><nobr><a title=\\'查看2003財務比率表\\' class=\\'link_black\\' href=\\'StockFinDetail.asp?RPT_CAT=XX_M_YEAR&LAST_RPT_CAT=XX_M_YEAR&STOCK_ID=2330&QRY_TIME=2003\\' target=\\'_self\\'>25.3</a></nobr></td><td><nobr><a title=\\'查看2003財務比率表\\' class=\\'link_green\\' href=\\'StockFinDetail.asp?RPT_CAT=XX_M_YEAR&LAST_RPT_CAT=XX_M_YEAR&STOCK_ID=2330&QRY_TIME=2003\\' target=\\'_self\\'>-0.06</a></nobr></td><td><nobr><a title=\\'查看2003財務比率表\\' class=\\'link_black\\' href=\\'StockFinDetail.asp?RPT_CAT=XX_M_YEAR&LAST_RPT_CAT=XX_M_YEAR&STOCK_ID=2330&QRY_TIME=2003\\' target=\\'_self\\'>23.3</a></nobr></td><td><nobr><a title=\\'查看2003財務比率表\\' class=\\'link_black\\' href=\\'StockFinDetail.asp?RPT_CAT=XX_M_YEAR&LAST_RPT_CAT=XX_M_YEAR&STOCK_ID=2330&QRY_TIME=2003\\' target=\\'_self\\'>15.1</a></nobr></td><td><nobr><a title=\\'查看2003財務比率表\\' class=\\'link_black\\' href=\\'StockFinDetail.asp?RPT_CAT=XX_M_YEAR&LAST_RPT_CAT=XX_M_YEAR&STOCK_ID=2330&QRY_TIME=2003\\' target=\\'_self\\'>11.8</a></nobr></td><td><nobr><a title=\\'查看2003財務比率表\\' class=\\'link_black\\' href=\\'StockFinDetail.asp?RPT_CAT=XX_M_YEAR&LAST_RPT_CAT=XX_M_YEAR&STOCK_ID=2330&QRY_TIME=2003\\' target=\\'_self\\'>2.33</a></nobr></td><td><nobr><a title=\\'查看2003財務比率表\\' class=\\'link_red\\' href=\\'StockFinDetail.asp?RPT_CAT=XX_M_YEAR&LAST_RPT_CAT=XX_M_YEAR&STOCK_ID=2330&QRY_TIME=2003\\' target=\\'_self\\'>+1.19</a></nobr></td><td><nobr><a title=\\'查看2003資產負債表\\' class=\\'link_black\\' href=\\'StockFinDetail.asp?RPT_CAT=BS_M_YEAR&LAST_RPT_CAT=BS_M_YEAR&STOCK_ID=2330&QRY_TIME=2003\\' target=\\'_self\\'>16.24</a></nobr></td></tr><tr id=\\'row15\\' align=\\'center\\' bgcolor=\\'#EBF7FF\\' height=\\'23px\\'  OnMouseOver=\"ChgBGColor([\\'rowh15\\',\\'row15\\'],\\'#FFF0DA\\');\"  OnMouseOut=\"ChgBGColor([\\'rowh15\\',\\'row15\\'],\\'#EBF7FF\\');\"><td><nobr>2002</nobr></td><td><nobr><a title=\\'查看2002資產負債表\\' class=\\'link_black\\' href=\\'StockFinDetail.asp?RPT_CAT=BS_M_YEAR&LAST_RPT_CAT=BS_M_YEAR&STOCK_ID=2330&QRY_TIME=2002\\' target=\\'_self\\'>1,862</a></nobr></td><td><nobr><a title=\\'查看2002財報評分\\' class=\\'link_black\\' href=\\'StockFinGrade.asp?STOCK_ID=2330&QRY_TIME=2002&RPT_CAT=M_YEAR\\' target=\\'_self\\'>66</a></nobr></td><td><nobr><a title=\\'查看個股日K線圖\\' class=\\'link_black\\' href=\\'ShowK_Chart.asp?STOCK_ID=2330&CHT_NM=%E5%80%8B%E8%82%A1K%E7%B7%9A%E5%9C%96&CHT_CAT=%E6%97%A5%E7%B7%9A%E5%9C%96&CHT_CAT2=DATE\\' target=\\'_self\\'>42.6</a></nobr></td><td><nobr><a title=\\'查看個股日K線圖\\' class=\\'link_black\\' href=\\'ShowK_Chart.asp?STOCK_ID=2330&CHT_NM=%E5%80%8B%E8%82%A1K%E7%B7%9A%E5%9C%96&CHT_CAT=%E6%97%A5%E7%B7%9A%E5%9C%96&CHT_CAT2=DATE\\' target=\\'_self\\'>67.4</a></nobr></td><td><nobr><a title=\\'查看個股日K線圖\\' class=\\'link_green\\' href=\\'ShowK_Chart.asp?STOCK_ID=2330&CHT_NM=%E5%80%8B%E8%82%A1K%E7%B7%9A%E5%9C%96&CHT_CAT=%E6%97%A5%E7%B7%9A%E5%9C%96&CHT_CAT2=DATE\\' target=\\'_self\\'>-44.9</a></nobr></td><td><nobr><a title=\\'查看個股日K線圖\\' class=\\'link_green\\' href=\\'ShowK_Chart.asp?STOCK_ID=2330&CHT_NM=%E5%80%8B%E8%82%A1K%E7%B7%9A%E5%9C%96&CHT_CAT=%E6%97%A5%E7%B7%9A%E5%9C%96&CHT_CAT2=DATE\\' target=\\'_self\\'>-51.3</a></nobr></td><td><nobr><a title=\\'查看2002損益表\\' class=\\'link_black\\' href=\\'StockFinDetail.asp?RPT_CAT=IS_M_YEAR&LAST_RPT_CAT=IS_M_YEAR&STOCK_ID=2330&QRY_TIME=2002\\' target=\\'_self\\'>1,623</a></nobr></td><td><nobr><a title=\\'查看2002損益表\\' class=\\'link_black\\' href=\\'StockFinDetail.asp?RPT_CAT=IS_M_YEAR&LAST_RPT_CAT=IS_M_YEAR&STOCK_ID=2330&QRY_TIME=2002\\' target=\\'_self\\'>523</a></nobr></td><td><nobr><a title=\\'查看2002損益表\\' class=\\'link_black\\' href=\\'StockFinDetail.asp?RPT_CAT=IS_M_YEAR&LAST_RPT_CAT=IS_M_YEAR&STOCK_ID=2330&QRY_TIME=2002\\' target=\\'_self\\'>316</a></nobr></td><td><nobr><a title=\\'查看2002損益表\\' class=\\'link_green\\' href=\\'StockFinDetail.asp?RPT_CAT=IS_M_YEAR&LAST_RPT_CAT=IS_M_YEAR&STOCK_ID=2330&QRY_TIME=2002\\' target=\\'_self\\'>-43.7</a></nobr></td><td><nobr><a title=\\'查看2002損益表\\' class=\\'link_black\\' href=\\'StockFinDetail.asp?RPT_CAT=IS_M_YEAR&LAST_RPT_CAT=IS_M_YEAR&STOCK_ID=2330&QRY_TIME=2002\\' target=\\'_self\\'>216</a></nobr></td><td><nobr><a title=\\'查看2002財務比率表\\' class=\\'link_black\\' href=\\'StockFinDetail.asp?RPT_CAT=XX_M_YEAR&LAST_RPT_CAT=XX_M_YEAR&STOCK_ID=2330&QRY_TIME=2002\\' target=\\'_self\\'>32.2</a></nobr></td><td><nobr><a title=\\'查看2002財務比率表\\' class=\\'link_black\\' href=\\'StockFinDetail.asp?RPT_CAT=XX_M_YEAR&LAST_RPT_CAT=XX_M_YEAR&STOCK_ID=2330&QRY_TIME=2002\\' target=\\'_self\\'>19.5</a></nobr></td><td><nobr><a title=\\'查看2002財務比率表\\' class=\\'link_green\\' href=\\'StockFinDetail.asp?RPT_CAT=XX_M_YEAR&LAST_RPT_CAT=XX_M_YEAR&STOCK_ID=2330&QRY_TIME=2002\\' target=\\'_self\\'>-2.69</a></nobr></td><td><nobr><a title=\\'查看2002財務比率表\\' class=\\'link_black\\' href=\\'StockFinDetail.asp?RPT_CAT=XX_M_YEAR&LAST_RPT_CAT=XX_M_YEAR&STOCK_ID=2330&QRY_TIME=2002\\' target=\\'_self\\'>13.3</a></nobr></td><td><nobr><a title=\\'查看2002財務比率表\\' class=\\'link_black\\' href=\\'StockFinDetail.asp?RPT_CAT=XX_M_YEAR&LAST_RPT_CAT=XX_M_YEAR&STOCK_ID=2330&QRY_TIME=2002\\' target=\\'_self\\'>7.54</a></nobr></td><td><nobr><a title=\\'查看2002財務比率表\\' class=\\'link_black\\' href=\\'StockFinDetail.asp?RPT_CAT=XX_M_YEAR&LAST_RPT_CAT=XX_M_YEAR&STOCK_ID=2330&QRY_TIME=2002\\' target=\\'_self\\'>5.71</a></nobr></td><td><nobr><a title=\\'查看2002財務比率表\\' class=\\'link_black\\' href=\\'StockFinDetail.asp?RPT_CAT=XX_M_YEAR&LAST_RPT_CAT=XX_M_YEAR&STOCK_ID=2330&QRY_TIME=2002\\' target=\\'_self\\'>1.14</a></nobr></td><td><nobr><a title=\\'查看2002財務比率表\\' class=\\'link_red\\' href=\\'StockFinDetail.asp?RPT_CAT=XX_M_YEAR&LAST_RPT_CAT=XX_M_YEAR&STOCK_ID=2330&QRY_TIME=2002\\' target=\\'_self\\'>+0.31</a></nobr></td><td><nobr><a title=\\'查看2002資產負債表\\' class=\\'link_black\\' href=\\'StockFinDetail.asp?RPT_CAT=BS_M_YEAR&LAST_RPT_CAT=BS_M_YEAR&STOCK_ID=2330&QRY_TIME=2002\\' target=\\'_self\\'>14.85</a></nobr></td></tr><tr id=\\'row16\\' align=\\'center\\' bgcolor=\\'white\\' height=\\'23px\\'  OnMouseOver=\"ChgBGColor([\\'rowh16\\',\\'row16\\'],\\'#FFF0DA\\');\"  OnMouseOut=\"ChgBGColor([\\'rowh16\\',\\'row16\\'],\\'white\\');\"><td><nobr>2001</nobr></td><td><nobr><a title=\\'查看2001資產負債表\\' class=\\'link_black\\' href=\\'StockFinDetail.asp?RPT_CAT=BS_M_YEAR&LAST_RPT_CAT=BS_M_YEAR&STOCK_ID=2330&QRY_TIME=2001\\' target=\\'_self\\'>1,683</a></nobr></td><td><nobr><a title=\\'查看2001財報評分\\' class=\\'link_black\\' href=\\'StockFinGrade.asp?STOCK_ID=2330&QRY_TIME=2001&RPT_CAT=M_YEAR\\' target=\\'_self\\'>60</a></nobr></td><td><nobr><a title=\\'查看個股日K線圖\\' class=\\'link_black\\' href=\\'ShowK_Chart.asp?STOCK_ID=2330&CHT_NM=%E5%80%8B%E8%82%A1K%E7%B7%9A%E5%9C%96&CHT_CAT=%E6%97%A5%E7%B7%9A%E5%9C%96&CHT_CAT2=DATE\\' target=\\'_self\\'>87.5</a></nobr></td><td><nobr><a title=\\'查看個股日K線圖\\' class=\\'link_black\\' href=\\'ShowK_Chart.asp?STOCK_ID=2330&CHT_NM=%E5%80%8B%E8%82%A1K%E7%B7%9A%E5%9C%96&CHT_CAT=%E6%97%A5%E7%B7%9A%E5%9C%96&CHT_CAT2=DATE\\' target=\\'_self\\'>77.7</a></nobr></td><td><nobr><a title=\\'查看個股日K線圖\\' class=\\'link_red\\' href=\\'ShowK_Chart.asp?STOCK_ID=2330&CHT_NM=%E5%80%8B%E8%82%A1K%E7%B7%9A%E5%9C%96&CHT_CAT=%E6%97%A5%E7%B7%9A%E5%9C%96&CHT_CAT2=DATE\\' target=\\'_self\\'>+9</a></nobr></td><td><nobr><a title=\\'查看個股日K線圖\\' class=\\'link_red\\' href=\\'ShowK_Chart.asp?STOCK_ID=2330&CHT_NM=%E5%80%8B%E8%82%A1K%E7%B7%9A%E5%9C%96&CHT_CAT=%E6%97%A5%E7%B7%9A%E5%9C%96&CHT_CAT2=DATE\\' target=\\'_self\\'>+11.5</a></nobr></td><td><nobr><a title=\\'查看2001損益表\\' class=\\'link_black\\' href=\\'StockFinDetail.asp?RPT_CAT=IS_M_YEAR&LAST_RPT_CAT=IS_M_YEAR&STOCK_ID=2330&QRY_TIME=2001\\' target=\\'_self\\'>1,259</a></nobr></td><td><nobr><a title=\\'查看2001損益表\\' class=\\'link_black\\' href=\\'StockFinDetail.asp?RPT_CAT=IS_M_YEAR&LAST_RPT_CAT=IS_M_YEAR&STOCK_ID=2330&QRY_TIME=2001\\' target=\\'_self\\'>337</a></nobr></td><td><nobr><a title=\\'查看2001損益表\\' class=\\'link_black\\' href=\\'StockFinDetail.asp?RPT_CAT=IS_M_YEAR&LAST_RPT_CAT=IS_M_YEAR&STOCK_ID=2330&QRY_TIME=2001\\' target=\\'_self\\'>128</a></nobr></td><td><nobr><a title=\\'查看2001損益表\\' class=\\'link_green\\' href=\\'StockFinDetail.asp?RPT_CAT=IS_M_YEAR&LAST_RPT_CAT=IS_M_YEAR&STOCK_ID=2330&QRY_TIME=2001\\' target=\\'_self\\'>-19.9</a></nobr></td><td><nobr><a title=\\'查看2001損益表\\' class=\\'link_black\\' href=\\'StockFinDetail.asp?RPT_CAT=IS_M_YEAR&LAST_RPT_CAT=IS_M_YEAR&STOCK_ID=2330&QRY_TIME=2001\\' target=\\'_self\\'>145</a></nobr></td><td><nobr><a title=\\'查看2001財務比率表\\' class=\\'link_black\\' href=\\'StockFinDetail.asp?RPT_CAT=XX_M_YEAR&LAST_RPT_CAT=XX_M_YEAR&STOCK_ID=2330&QRY_TIME=2001\\' target=\\'_self\\'>26.7</a></nobr></td><td><nobr><a title=\\'查看2001財務比率表\\' class=\\'link_black\\' href=\\'StockFinDetail.asp?RPT_CAT=XX_M_YEAR&LAST_RPT_CAT=XX_M_YEAR&STOCK_ID=2330&QRY_TIME=2001\\' target=\\'_self\\'>10.2</a></nobr></td><td><nobr><a title=\\'查看2001財務比率表\\' class=\\'link_green\\' href=\\'StockFinDetail.asp?RPT_CAT=XX_M_YEAR&LAST_RPT_CAT=XX_M_YEAR&STOCK_ID=2330&QRY_TIME=2001\\' target=\\'_self\\'>-1.58</a></nobr></td><td><nobr><a title=\\'查看2001財務比率表\\' class=\\'link_black\\' href=\\'StockFinDetail.asp?RPT_CAT=XX_M_YEAR&LAST_RPT_CAT=XX_M_YEAR&STOCK_ID=2330&QRY_TIME=2001\\' target=\\'_self\\'>11.5</a></nobr></td><td><nobr><a title=\\'查看2001財務比率表\\' class=\\'link_black\\' href=\\'StockFinDetail.asp?RPT_CAT=XX_M_YEAR&LAST_RPT_CAT=XX_M_YEAR&STOCK_ID=2330&QRY_TIME=2001\\' target=\\'_self\\'>5.37</a></nobr></td><td><nobr><a title=\\'查看2001財務比率表\\' class=\\'link_black\\' href=\\'StockFinDetail.asp?RPT_CAT=XX_M_YEAR&LAST_RPT_CAT=XX_M_YEAR&STOCK_ID=2330&QRY_TIME=2001\\' target=\\'_self\\'>3.93</a></nobr></td><td><nobr><a title=\\'查看2001財務比率表\\' class=\\'link_black\\' href=\\'StockFinDetail.asp?RPT_CAT=XX_M_YEAR&LAST_RPT_CAT=XX_M_YEAR&STOCK_ID=2330&QRY_TIME=2001\\' target=\\'_self\\'>0.83</a></nobr></td><td><nobr><a title=\\'查看2001財務比率表\\' class=\\'link_green\\' href=\\'StockFinDetail.asp?RPT_CAT=XX_M_YEAR&LAST_RPT_CAT=XX_M_YEAR&STOCK_ID=2330&QRY_TIME=2001\\' target=\\'_self\\'>-4.88</a></nobr></td><td><nobr><a title=\\'查看2001資產負債表\\' class=\\'link_black\\' href=\\'StockFinDetail.asp?RPT_CAT=BS_M_YEAR&LAST_RPT_CAT=BS_M_YEAR&STOCK_ID=2330&QRY_TIME=2001\\' target=\\'_self\\'>15.29</a></nobr></td></tr><tr id=\\'row17\\' align=\\'center\\' bgcolor=\\'#EBF7FF\\' height=\\'23px\\'  OnMouseOver=\"ChgBGColor([\\'rowh17\\',\\'row17\\'],\\'#FFF0DA\\');\"  OnMouseOut=\"ChgBGColor([\\'rowh17\\',\\'row17\\'],\\'#EBF7FF\\');\"><td><nobr>2000</nobr></td><td><nobr><a title=\\'查看2000資產負債表\\' class=\\'link_black\\' href=\\'StockFinDetail.asp?RPT_CAT=BS_M_YEAR&LAST_RPT_CAT=BS_M_YEAR&STOCK_ID=2330&QRY_TIME=2000\\' target=\\'_self\\'>1,169</a></nobr></td><td><nobr><a title=\\'查看2000財報評分\\' class=\\'link_red\\' href=\\'StockFinGrade.asp?STOCK_ID=2330&QRY_TIME=2000&RPT_CAT=M_YEAR\\' target=\\'_self\\'>92</a></nobr></td><td><nobr><a title=\\'查看個股日K線圖\\' class=\\'link_black\\' href=\\'ShowK_Chart.asp?STOCK_ID=2330&CHT_NM=%E5%80%8B%E8%82%A1K%E7%B7%9A%E5%9C%96&CHT_CAT=%E6%97%A5%E7%B7%9A%E5%9C%96&CHT_CAT2=DATE\\' target=\\'_self\\'>78.5</a></nobr></td><td><nobr><a title=\\'查看個股日K線圖\\' class=\\'link_black\\' href=\\'ShowK_Chart.asp?STOCK_ID=2330&CHT_NM=%E5%80%8B%E8%82%A1K%E7%B7%9A%E5%9C%96&CHT_CAT=%E6%97%A5%E7%B7%9A%E5%9C%96&CHT_CAT2=DATE\\' target=\\'_self\\'>147</a></nobr></td><td><nobr><a title=\\'查看個股日K線圖\\' class=\\'link_green\\' href=\\'ShowK_Chart.asp?STOCK_ID=2330&CHT_NM=%E5%80%8B%E8%82%A1K%E7%B7%9A%E5%9C%96&CHT_CAT=%E6%97%A5%E7%B7%9A%E5%9C%96&CHT_CAT2=DATE\\' target=\\'_self\\'>-88.5</a></nobr></td><td><nobr><a title=\\'查看個股日K線圖\\' class=\\'link_green\\' href=\\'ShowK_Chart.asp?STOCK_ID=2330&CHT_NM=%E5%80%8B%E8%82%A1K%E7%B7%9A%E5%9C%96&CHT_CAT=%E6%97%A5%E7%B7%9A%E5%9C%96&CHT_CAT2=DATE\\' target=\\'_self\\'>-53</a></nobr></td><td><nobr><a title=\\'查看2000損益表\\' class=\\'link_black\\' href=\\'StockFinDetail.asp?RPT_CAT=IS_M_YEAR&LAST_RPT_CAT=IS_M_YEAR&STOCK_ID=2330&QRY_TIME=2000\\' target=\\'_self\\'>1,662</a></nobr></td><td><nobr><a title=\\'查看2000損益表\\' class=\\'link_black\\' href=\\'StockFinDetail.asp?RPT_CAT=IS_M_YEAR&LAST_RPT_CAT=IS_M_YEAR&STOCK_ID=2330&QRY_TIME=2000\\' target=\\'_self\\'>765</a></nobr></td><td><nobr><a title=\\'查看2000損益表\\' class=\\'link_black\\' href=\\'StockFinDetail.asp?RPT_CAT=IS_M_YEAR&LAST_RPT_CAT=IS_M_YEAR&STOCK_ID=2330&QRY_TIME=2000\\' target=\\'_self\\'>613</a></nobr></td><td><nobr><a title=\\'查看2000損益表\\' class=\\'link_black\\' href=\\'StockFinDetail.asp?RPT_CAT=IS_M_YEAR&LAST_RPT_CAT=IS_M_YEAR&STOCK_ID=2330&QRY_TIME=2000\\' target=\\'_self\\'>26.1</a></nobr></td><td><nobr><a title=\\'查看2000損益表\\' class=\\'link_black\\' href=\\'StockFinDetail.asp?RPT_CAT=IS_M_YEAR&LAST_RPT_CAT=IS_M_YEAR&STOCK_ID=2330&QRY_TIME=2000\\' target=\\'_self\\'>651</a></nobr></td><td><nobr><a title=\\'查看2000財務比率表\\' class=\\'link_black\\' href=\\'StockFinDetail.asp?RPT_CAT=XX_M_YEAR&LAST_RPT_CAT=XX_M_YEAR&STOCK_ID=2330&QRY_TIME=2000\\' target=\\'_self\\'>46</a></nobr></td><td><nobr><a title=\\'查看2000財務比率表\\' class=\\'link_black\\' href=\\'StockFinDetail.asp?RPT_CAT=XX_M_YEAR&LAST_RPT_CAT=XX_M_YEAR&STOCK_ID=2330&QRY_TIME=2000\\' target=\\'_self\\'>36.9</a></nobr></td><td><nobr><a title=\\'查看2000財務比率表\\' class=\\'link_black\\' href=\\'StockFinDetail.asp?RPT_CAT=XX_M_YEAR&LAST_RPT_CAT=XX_M_YEAR&STOCK_ID=2330&QRY_TIME=2000\\' target=\\'_self\\'>1.57</a></nobr></td><td><nobr><a title=\\'查看2000財務比率表\\' class=\\'link_black\\' href=\\'StockFinDetail.asp?RPT_CAT=XX_M_YEAR&LAST_RPT_CAT=XX_M_YEAR&STOCK_ID=2330&QRY_TIME=2000\\' target=\\'_self\\'>39.2</a></nobr></td><td><nobr><a title=\\'查看2000財務比率表\\' class=\\'link_black\\' href=\\'StockFinDetail.asp?RPT_CAT=XX_M_YEAR&LAST_RPT_CAT=XX_M_YEAR&STOCK_ID=2330&QRY_TIME=2000\\' target=\\'_self\\'>34</a></nobr></td><td><nobr><a title=\\'查看2000財務比率表\\' class=\\'link_black\\' href=\\'StockFinDetail.asp?RPT_CAT=XX_M_YEAR&LAST_RPT_CAT=XX_M_YEAR&STOCK_ID=2330&QRY_TIME=2000\\' target=\\'_self\\'>23.5</a></nobr></td><td><nobr><a title=\\'查看2000財務比率表\\' class=\\'link_black\\' href=\\'StockFinDetail.asp?RPT_CAT=XX_M_YEAR&LAST_RPT_CAT=XX_M_YEAR&STOCK_ID=2330&QRY_TIME=2000\\' target=\\'_self\\'>5.71</a></nobr></td><td><nobr><a title=\\'查看2000財務比率表\\' class=\\'link_red\\' href=\\'StockFinDetail.asp?RPT_CAT=XX_M_YEAR&LAST_RPT_CAT=XX_M_YEAR&STOCK_ID=2330&QRY_TIME=2000\\' target=\\'_self\\'>+2.47</a></nobr></td><td><nobr><a title=\\'查看2000資產負債表\\' class=\\'link_black\\' href=\\'StockFinDetail.asp?RPT_CAT=BS_M_YEAR&LAST_RPT_CAT=BS_M_YEAR&STOCK_ID=2330&QRY_TIME=2000\\' target=\\'_self\\'>20.15</a></nobr></td></tr><thead><tr align=\\'center\\' bgcolor=\\'#cde2e5\\' height=\\'23px\\'><td rowspan=\\'2\\'><nobr>年度</nobr></td><td rowspan=\\'2\\'><nobr>股本<br>(億)</nobr></td><td rowspan=\\'2\\'><nobr>財報<br>評分</nobr></td><td colspan=\\'4\\'><nobr>年度股價(元)</nobr></td><td colspan=\\'5\\'><nobr>獲利金額(億)</nobr></td><td colspan=\\'4\\'><nobr>獲利率(%)</nobr></td><td rowspan=\\'2\\'><nobr>ROE<br>(%)</nobr></td><td rowspan=\\'2\\'><nobr>ROA<br>(%)</nobr></td><td colspan=\\'2\\'><nobr>EPS(元)</nobr></td><td rowspan=\\'2\\'><nobr>BPS<br>(元)</nobr></td></tr><tr align=\\'center\\' bgcolor=\\'#cde2e5\\' height=\\'40px\\'><td><nobr>收盤</nobr></td><td title=\\'年度平均收盤價\\'><nobr>平均</nobr></td><td><nobr>漲跌</nobr></td><td><nobr>漲跌<br>(%)</nobr></td><td><nobr>營業<br>收入</nobr></td><td><nobr>營業<br>毛利</nobr></td><td><nobr>營業<br>利益</nobr></td><td><nobr>業外<br>損益</nobr></td><td><nobr>稅後<br>淨利</nobr></td><td><nobr>營業<br>毛利</nobr></td><td><nobr>營業<br>利益</nobr></td><td><nobr>業外<br>損益</nobr></td><td><nobr>稅後<br>淨利</nobr></td><td><nobr>稅後<br>EPS</nobr></td><td><nobr>成長<br>(元)</nobr></td></tr></thead><tr id=\\'row18\\' align=\\'center\\' bgcolor=\\'white\\' height=\\'23px\\'  OnMouseOver=\"ChgBGColor([\\'rowh18\\',\\'row18\\'],\\'#FFF0DA\\');\"  OnMouseOut=\"ChgBGColor([\\'rowh18\\',\\'row18\\'],\\'white\\');\"><td><nobr>1999</nobr></td><td><nobr><a title=\\'查看1999資產負債表\\' class=\\'link_black\\' href=\\'StockFinDetail.asp?RPT_CAT=BS_M_YEAR&LAST_RPT_CAT=BS_M_YEAR&STOCK_ID=2330&QRY_TIME=1999\\' target=\\'_self\\'>767</a></nobr></td><td><nobr><a title=\\'查看1999財報評分\\' class=\\'link_red\\' href=\\'StockFinGrade.asp?STOCK_ID=2330&QRY_TIME=1999&RPT_CAT=M_YEAR\\' target=\\'_self\\'>84</a></nobr></td><td><nobr><a title=\\'查看個股日K線圖\\' class=\\'link_black\\' href=\\'ShowK_Chart.asp?STOCK_ID=2330&CHT_NM=%E5%80%8B%E8%82%A1K%E7%B7%9A%E5%9C%96&CHT_CAT=%E6%97%A5%E7%B7%9A%E5%9C%96&CHT_CAT2=DATE\\' target=\\'_self\\'>167</a></nobr></td><td><nobr><a title=\\'查看個股日K線圖\\' class=\\'link_black\\' href=\\'ShowK_Chart.asp?STOCK_ID=2330&CHT_NM=%E5%80%8B%E8%82%A1K%E7%B7%9A%E5%9C%96&CHT_CAT=%E6%97%A5%E7%B7%9A%E5%9C%96&CHT_CAT2=DATE\\' target=\\'_self\\'>120</a></nobr></td><td><nobr><a title=\\'查看個股日K線圖\\' class=\\'link_red\\' href=\\'ShowK_Chart.asp?STOCK_ID=2330&CHT_NM=%E5%80%8B%E8%82%A1K%E7%B7%9A%E5%9C%96&CHT_CAT=%E6%97%A5%E7%B7%9A%E5%9C%96&CHT_CAT2=DATE\\' target=\\'_self\\'>+96</a></nobr></td><td><nobr><a title=\\'查看個股日K線圖\\' class=\\'link_red\\' href=\\'ShowK_Chart.asp?STOCK_ID=2330&CHT_NM=%E5%80%8B%E8%82%A1K%E7%B7%9A%E5%9C%96&CHT_CAT=%E6%97%A5%E7%B7%9A%E5%9C%96&CHT_CAT2=DATE\\' target=\\'_self\\'>+135</a></nobr></td><td><nobr><a title=\\'查看1999損益表\\' class=\\'link_black\\' href=\\'StockFinDetail.asp?RPT_CAT=IS_M_YEAR&LAST_RPT_CAT=IS_M_YEAR&STOCK_ID=2330&QRY_TIME=1999\\' target=\\'_self\\'>731</a></nobr></td><td><nobr><a title=\\'查看1999損益表\\' class=\\'link_black\\' href=\\'StockFinDetail.asp?RPT_CAT=IS_M_YEAR&LAST_RPT_CAT=IS_M_YEAR&STOCK_ID=2330&QRY_TIME=1999\\' target=\\'_self\\'>315</a></nobr></td><td><nobr><a title=\\'查看1999損益表\\' class=\\'link_black\\' href=\\'StockFinDetail.asp?RPT_CAT=IS_M_YEAR&LAST_RPT_CAT=IS_M_YEAR&STOCK_ID=2330&QRY_TIME=1999\\' target=\\'_self\\'>248</a></nobr></td><td><nobr><a title=\\'查看1999損益表\\' class=\\'link_green\\' href=\\'StockFinDetail.asp?RPT_CAT=IS_M_YEAR&LAST_RPT_CAT=IS_M_YEAR&STOCK_ID=2330&QRY_TIME=1999\\' target=\\'_self\\'>-11.7</a></nobr></td><td><nobr><a title=\\'查看1999損益表\\' class=\\'link_black\\' href=\\'StockFinDetail.asp?RPT_CAT=IS_M_YEAR&LAST_RPT_CAT=IS_M_YEAR&STOCK_ID=2330&QRY_TIME=1999\\' target=\\'_self\\'>246</a></nobr></td><td><nobr><a title=\\'查看1999財務比率表\\' class=\\'link_black\\' href=\\'StockFinDetail.asp?RPT_CAT=XX_M_YEAR&LAST_RPT_CAT=XX_M_YEAR&STOCK_ID=2330&QRY_TIME=1999\\' target=\\'_self\\'>43.1</a></nobr></td><td><nobr><a title=\\'查看1999財務比率表\\' class=\\'link_black\\' href=\\'StockFinDetail.asp?RPT_CAT=XX_M_YEAR&LAST_RPT_CAT=XX_M_YEAR&STOCK_ID=2330&QRY_TIME=1999\\' target=\\'_self\\'>34</a></nobr></td><td><nobr><a title=\\'查看1999財務比率表\\' class=\\'link_green\\' href=\\'StockFinDetail.asp?RPT_CAT=XX_M_YEAR&LAST_RPT_CAT=XX_M_YEAR&STOCK_ID=2330&QRY_TIME=1999\\' target=\\'_self\\'>-1.6</a></nobr></td><td><nobr><a title=\\'查看1999財務比率表\\' class=\\'link_black\\' href=\\'StockFinDetail.asp?RPT_CAT=XX_M_YEAR&LAST_RPT_CAT=XX_M_YEAR&STOCK_ID=2330&QRY_TIME=1999\\' target=\\'_self\\'>33.6</a></nobr></td><td><nobr><a title=\\'查看1999財務比率表\\' class=\\'link_black\\' href=\\'StockFinDetail.asp?RPT_CAT=XX_M_YEAR&LAST_RPT_CAT=XX_M_YEAR&STOCK_ID=2330&QRY_TIME=1999\\' target=\\'_self\\'>24</a></nobr></td><td><nobr><a title=\\'查看1999財務比率表\\' class=\\'link_black\\' href=\\'StockFinDetail.asp?RPT_CAT=XX_M_YEAR&LAST_RPT_CAT=XX_M_YEAR&STOCK_ID=2330&QRY_TIME=1999\\' target=\\'_self\\'>15.1</a></nobr></td><td><nobr><a title=\\'查看1999財務比率表\\' class=\\'link_black\\' href=\\'StockFinDetail.asp?RPT_CAT=XX_M_YEAR&LAST_RPT_CAT=XX_M_YEAR&STOCK_ID=2330&QRY_TIME=1999\\' target=\\'_self\\'>3.24</a></nobr></td><td><nobr><a title=\\'查看1999財務比率表\\' class=\\'link_red\\' href=\\'StockFinDetail.asp?RPT_CAT=XX_M_YEAR&LAST_RPT_CAT=XX_M_YEAR&STOCK_ID=2330&QRY_TIME=1999\\' target=\\'_self\\'>+0.7</a></nobr></td><td><nobr><a title=\\'查看1999資產負債表\\' class=\\'link_black\\' href=\\'StockFinDetail.asp?RPT_CAT=BS_M_YEAR&LAST_RPT_CAT=BS_M_YEAR&STOCK_ID=2330&QRY_TIME=1999\\' target=\\'_self\\'>15.74</a></nobr></td></tr><tr id=\\'row19\\' align=\\'center\\' bgcolor=\\'#EBF7FF\\' height=\\'23px\\'  OnMouseOver=\"ChgBGColor([\\'rowh19\\',\\'row19\\'],\\'#FFF0DA\\');\"  OnMouseOut=\"ChgBGColor([\\'rowh19\\',\\'row19\\'],\\'#EBF7FF\\');\"><td><nobr>1998</nobr></td><td><nobr><a title=\\'查看1998資產負債表\\' class=\\'link_black\\' href=\\'StockFinDetail.asp?RPT_CAT=BS_M_YEAR&LAST_RPT_CAT=BS_M_YEAR&STOCK_ID=2330&QRY_TIME=1998\\' target=\\'_self\\'>605</a></nobr></td><td><nobr><a title=\\'查看1998財報評分\\' class=\\'link_red\\' href=\\'StockFinGrade.asp?STOCK_ID=2330&QRY_TIME=1998&RPT_CAT=M_YEAR\\' target=\\'_self\\'>71</a></nobr></td><td><nobr><a title=\\'查看個股日K線圖\\' class=\\'link_black\\' href=\\'ShowK_Chart.asp?STOCK_ID=2330&CHT_NM=%E5%80%8B%E8%82%A1K%E7%B7%9A%E5%9C%96&CHT_CAT=%E6%97%A5%E7%B7%9A%E5%9C%96&CHT_CAT2=DATE\\' target=\\'_self\\'>71</a></nobr></td><td><nobr><a title=\\'查看個股日K線圖\\' class=\\'link_black\\' href=\\'ShowK_Chart.asp?STOCK_ID=2330&CHT_NM=%E5%80%8B%E8%82%A1K%E7%B7%9A%E5%9C%96&CHT_CAT=%E6%97%A5%E7%B7%9A%E5%9C%96&CHT_CAT2=DATE\\' target=\\'_self\\'>101</a></nobr></td><td><nobr><a title=\\'查看個股日K線圖\\' class=\\'link_green\\' href=\\'ShowK_Chart.asp?STOCK_ID=2330&CHT_NM=%E5%80%8B%E8%82%A1K%E7%B7%9A%E5%9C%96&CHT_CAT=%E6%97%A5%E7%B7%9A%E5%9C%96&CHT_CAT2=DATE\\' target=\\'_self\\'>-41</a></nobr></td><td><nobr><a title=\\'查看個股日K線圖\\' class=\\'link_green\\' href=\\'ShowK_Chart.asp?STOCK_ID=2330&CHT_NM=%E5%80%8B%E8%82%A1K%E7%B7%9A%E5%9C%96&CHT_CAT=%E6%97%A5%E7%B7%9A%E5%9C%96&CHT_CAT2=DATE\\' target=\\'_self\\'>-36.6</a></nobr></td><td><nobr><a title=\\'查看1998損益表\\' class=\\'link_black\\' href=\\'StockFinDetail.asp?RPT_CAT=IS_M_YEAR&LAST_RPT_CAT=IS_M_YEAR&STOCK_ID=2330&QRY_TIME=1998\\' target=\\'_self\\'>504</a></nobr></td><td><nobr><a title=\\'查看1998損益表\\' class=\\'link_black\\' href=\\'StockFinDetail.asp?RPT_CAT=IS_M_YEAR&LAST_RPT_CAT=IS_M_YEAR&STOCK_ID=2330&QRY_TIME=1998\\' target=\\'_self\\'>193</a></nobr></td><td><nobr><a title=\\'查看1998損益表\\' class=\\'link_black\\' href=\\'StockFinDetail.asp?RPT_CAT=IS_M_YEAR&LAST_RPT_CAT=IS_M_YEAR&STOCK_ID=2330&QRY_TIME=1998\\' target=\\'_self\\'>138</a></nobr></td><td><nobr><a title=\\'查看1998損益表\\' class=\\'link_green\\' href=\\'StockFinDetail.asp?RPT_CAT=IS_M_YEAR&LAST_RPT_CAT=IS_M_YEAR&STOCK_ID=2330&QRY_TIME=1998\\' target=\\'_self\\'>-11.4</a></nobr></td><td><nobr><a title=\\'查看1998損益表\\' class=\\'link_black\\' href=\\'StockFinDetail.asp?RPT_CAT=IS_M_YEAR&LAST_RPT_CAT=IS_M_YEAR&STOCK_ID=2330&QRY_TIME=1998\\' target=\\'_self\\'>153</a></nobr></td><td><nobr><a title=\\'查看1998財務比率表\\' class=\\'link_black\\' href=\\'StockFinDetail.asp?RPT_CAT=XX_M_YEAR&LAST_RPT_CAT=XX_M_YEAR&STOCK_ID=2330&QRY_TIME=1998\\' target=\\'_self\\'>38.4</a></nobr></td><td><nobr><a title=\\'查看1998財務比率表\\' class=\\'link_black\\' href=\\'StockFinDetail.asp?RPT_CAT=XX_M_YEAR&LAST_RPT_CAT=XX_M_YEAR&STOCK_ID=2330&QRY_TIME=1998\\' target=\\'_self\\'>27.4</a></nobr></td><td><nobr><a title=\\'查看1998財務比率表\\' class=\\'link_green\\' href=\\'StockFinDetail.asp?RPT_CAT=XX_M_YEAR&LAST_RPT_CAT=XX_M_YEAR&STOCK_ID=2330&QRY_TIME=1998\\' target=\\'_self\\'>-2.27</a></nobr></td><td><nobr><a title=\\'查看1998財務比率表\\' class=\\'link_black\\' href=\\'StockFinDetail.asp?RPT_CAT=XX_M_YEAR&LAST_RPT_CAT=XX_M_YEAR&STOCK_ID=2330&QRY_TIME=1998\\' target=\\'_self\\'>30.4</a></nobr></td><td><nobr><a title=\\'查看1998財務比率表\\' class=\\'link_black\\' href=\\'StockFinDetail.asp?RPT_CAT=XX_M_YEAR&LAST_RPT_CAT=XX_M_YEAR&STOCK_ID=2330&QRY_TIME=1998\\' target=\\'_self\\'>20</a></nobr></td><td><nobr><a title=\\'查看1998財務比率表\\' class=\\'link_black\\' href=\\'StockFinDetail.asp?RPT_CAT=XX_M_YEAR&LAST_RPT_CAT=XX_M_YEAR&STOCK_ID=2330&QRY_TIME=1998\\' target=\\'_self\\'>11.6</a></nobr></td><td><nobr><a title=\\'查看1998財務比率表\\' class=\\'link_black\\' href=\\'StockFinDetail.asp?RPT_CAT=XX_M_YEAR&LAST_RPT_CAT=XX_M_YEAR&STOCK_ID=2330&QRY_TIME=1998\\' target=\\'_self\\'>2.54</a></nobr></td><td><nobr><a title=\\'查看1998財務比率表\\' class=\\'link_green\\' href=\\'StockFinDetail.asp?RPT_CAT=XX_M_YEAR&LAST_RPT_CAT=XX_M_YEAR&STOCK_ID=2330&QRY_TIME=1998\\' target=\\'_self\\'>-1.86</a></nobr></td><td><nobr><a title=\\'查看1998資產負債表\\' class=\\'link_black\\' href=\\'StockFinDetail.asp?RPT_CAT=BS_M_YEAR&LAST_RPT_CAT=BS_M_YEAR&STOCK_ID=2330&QRY_TIME=1998\\' target=\\'_self\\'>13.9</a></nobr></td></tr><tr id=\\'row20\\' align=\\'center\\' bgcolor=\\'white\\' height=\\'23px\\'  OnMouseOver=\"ChgBGColor([\\'rowh20\\',\\'row20\\'],\\'#FFF0DA\\');\"  OnMouseOut=\"ChgBGColor([\\'rowh20\\',\\'row20\\'],\\'white\\');\"><td><nobr>1997</nobr></td><td><nobr><a title=\\'查看1997資產負債表\\' class=\\'link_black\\' href=\\'StockFinDetail.asp?RPT_CAT=BS_M_YEAR&LAST_RPT_CAT=BS_M_YEAR&STOCK_ID=2330&QRY_TIME=1997\\' target=\\'_self\\'>408</a></nobr></td><td><nobr><a title=\\'查看1997財報評分\\' class=\\'link_red\\' href=\\'StockFinGrade.asp?STOCK_ID=2330&QRY_TIME=1997&RPT_CAT=M_YEAR\\' target=\\'_self\\'>84</a></nobr></td><td><nobr><a title=\\'查看個股日K線圖\\' class=\\'link_black\\' href=\\'ShowK_Chart.asp?STOCK_ID=2330&CHT_NM=%E5%80%8B%E8%82%A1K%E7%B7%9A%E5%9C%96&CHT_CAT=%E6%97%A5%E7%B7%9A%E5%9C%96&CHT_CAT2=DATE\\' target=\\'_self\\'>112</a></nobr></td><td><nobr><a title=\\'查看個股日K線圖\\' class=\\'link_black\\' href=\\'ShowK_Chart.asp?STOCK_ID=2330&CHT_NM=%E5%80%8B%E8%82%A1K%E7%B7%9A%E5%9C%96&CHT_CAT=%E6%97%A5%E7%B7%9A%E5%9C%96&CHT_CAT2=DATE\\' target=\\'_self\\'>109</a></nobr></td><td><nobr><a title=\\'查看個股日K線圖\\' class=\\'link_red\\' href=\\'ShowK_Chart.asp?STOCK_ID=2330&CHT_NM=%E5%80%8B%E8%82%A1K%E7%B7%9A%E5%9C%96&CHT_CAT=%E6%97%A5%E7%B7%9A%E5%9C%96&CHT_CAT2=DATE\\' target=\\'_self\\'>+55.5</a></nobr></td><td><nobr><a title=\\'查看個股日K線圖\\' class=\\'link_red\\' href=\\'ShowK_Chart.asp?STOCK_ID=2330&CHT_NM=%E5%80%8B%E8%82%A1K%E7%B7%9A%E5%9C%96&CHT_CAT=%E6%97%A5%E7%B7%9A%E5%9C%96&CHT_CAT2=DATE\\' target=\\'_self\\'>+98.2</a></nobr></td><td><nobr><a title=\\'查看1997損益表\\' class=\\'link_black\\' href=\\'StockFinDetail.asp?RPT_CAT=IS_M_YEAR&LAST_RPT_CAT=IS_M_YEAR&STOCK_ID=2330&QRY_TIME=1997\\' target=\\'_self\\'>439</a></nobr></td><td><nobr><a title=\\'查看1997損益表\\' class=\\'link_black\\' href=\\'StockFinDetail.asp?RPT_CAT=IS_M_YEAR&LAST_RPT_CAT=IS_M_YEAR&STOCK_ID=2330&QRY_TIME=1997\\' target=\\'_self\\'>211</a></nobr></td><td><nobr><a title=\\'查看1997損益表\\' class=\\'link_black\\' href=\\'StockFinDetail.asp?RPT_CAT=IS_M_YEAR&LAST_RPT_CAT=IS_M_YEAR&STOCK_ID=2330&QRY_TIME=1997\\' target=\\'_self\\'>149</a></nobr></td><td><nobr><a title=\\'查看1997損益表\\' class=\\'link_black\\' href=\\'StockFinDetail.asp?RPT_CAT=IS_M_YEAR&LAST_RPT_CAT=IS_M_YEAR&STOCK_ID=2330&QRY_TIME=1997\\' target=\\'_self\\'>4</a></nobr></td><td><nobr><a title=\\'查看1997損益表\\' class=\\'link_black\\' href=\\'StockFinDetail.asp?RPT_CAT=IS_M_YEAR&LAST_RPT_CAT=IS_M_YEAR&STOCK_ID=2330&QRY_TIME=1997\\' target=\\'_self\\'>180</a></nobr></td><td><nobr><a title=\\'查看1997財務比率表\\' class=\\'link_black\\' href=\\'StockFinDetail.asp?RPT_CAT=XX_M_YEAR&LAST_RPT_CAT=XX_M_YEAR&STOCK_ID=2330&QRY_TIME=1997\\' target=\\'_self\\'>48</a></nobr></td><td><nobr><a title=\\'查看1997財務比率表\\' class=\\'link_black\\' href=\\'StockFinDetail.asp?RPT_CAT=XX_M_YEAR&LAST_RPT_CAT=XX_M_YEAR&STOCK_ID=2330&QRY_TIME=1997\\' target=\\'_self\\'>34</a></nobr></td><td><nobr><a title=\\'查看1997財務比率表\\' class=\\'link_black\\' href=\\'StockFinDetail.asp?RPT_CAT=XX_M_YEAR&LAST_RPT_CAT=XX_M_YEAR&STOCK_ID=2330&QRY_TIME=1997\\' target=\\'_self\\'>0.91</a></nobr></td><td><nobr><a title=\\'查看1997財務比率表\\' class=\\'link_black\\' href=\\'StockFinDetail.asp?RPT_CAT=XX_M_YEAR&LAST_RPT_CAT=XX_M_YEAR&STOCK_ID=2330&QRY_TIME=1997\\' target=\\'_self\\'>40.9</a></nobr></td><td><nobr><a title=\\'查看1997財務比率表\\' class=\\'link_black\\' href=\\'StockFinDetail.asp?RPT_CAT=XX_M_YEAR&LAST_RPT_CAT=XX_M_YEAR&STOCK_ID=2330&QRY_TIME=1997\\' target=\\'_self\\'>29.6</a></nobr></td><td><nobr><a title=\\'查看1997財務比率表\\' class=\\'link_black\\' href=\\'StockFinDetail.asp?RPT_CAT=XX_M_YEAR&LAST_RPT_CAT=XX_M_YEAR&STOCK_ID=2330&QRY_TIME=1997\\' target=\\'_self\\'>17.7</a></nobr></td><td><nobr><a title=\\'查看1997財務比率表\\' class=\\'link_black\\' href=\\'StockFinDetail.asp?RPT_CAT=XX_M_YEAR&LAST_RPT_CAT=XX_M_YEAR&STOCK_ID=2330&QRY_TIME=1997\\' target=\\'_self\\'>4.4</a></nobr></td><td><nobr><a title=\\'查看1997財務比率表\\' class=\\'link_green\\' href=\\'StockFinDetail.asp?RPT_CAT=XX_M_YEAR&LAST_RPT_CAT=XX_M_YEAR&STOCK_ID=2330&QRY_TIME=1997\\' target=\\'_self\\'>-2.91</a></nobr></td><td><nobr><a title=\\'查看1997資產負債表\\' class=\\'link_black\\' href=\\'StockFinDetail.asp?RPT_CAT=BS_M_YEAR&LAST_RPT_CAT=BS_M_YEAR&STOCK_ID=2330&QRY_TIME=1997\\' target=\\'_self\\'>17</a></nobr></td></tr><tr id=\\'row21\\' align=\\'center\\' bgcolor=\\'#EBF7FF\\' height=\\'23px\\'  OnMouseOver=\"ChgBGColor([\\'rowh21\\',\\'row21\\'],\\'#FFF0DA\\');\"  OnMouseOut=\"ChgBGColor([\\'rowh21\\',\\'row21\\'],\\'#EBF7FF\\');\"><td><nobr>1996</nobr></td><td><nobr><a title=\\'查看1996資產負債表\\' class=\\'link_black\\' href=\\'StockFinDetail.asp?RPT_CAT=BS_M_YEAR&LAST_RPT_CAT=BS_M_YEAR&STOCK_ID=2330&QRY_TIME=1996\\' target=\\'_self\\'>265</a></nobr></td><td><nobr><a title=\\'查看1996財報評分\\' class=\\'link_red\\' href=\\'StockFinGrade.asp?STOCK_ID=2330&QRY_TIME=1996&RPT_CAT=M_YEAR\\' target=\\'_self\\'>94</a></nobr></td><td><nobr><a title=\\'查看個股日K線圖\\' class=\\'link_black\\' href=\\'ShowK_Chart.asp?STOCK_ID=2330&CHT_NM=%E5%80%8B%E8%82%A1K%E7%B7%9A%E5%9C%96&CHT_CAT=%E6%97%A5%E7%B7%9A%E5%9C%96&CHT_CAT2=DATE\\' target=\\'_self\\'>56.5</a></nobr></td><td><nobr><a title=\\'查看個股日K線圖\\' class=\\'link_black\\' href=\\'ShowK_Chart.asp?STOCK_ID=2330&CHT_NM=%E5%80%8B%E8%82%A1K%E7%B7%9A%E5%9C%96&CHT_CAT=%E6%97%A5%E7%B7%9A%E5%9C%96&CHT_CAT2=DATE\\' target=\\'_self\\'>63.8</a></nobr></td><td><nobr><a title=\\'查看個股日K線圖\\' class=\\'link_green\\' href=\\'ShowK_Chart.asp?STOCK_ID=2330&CHT_NM=%E5%80%8B%E8%82%A1K%E7%B7%9A%E5%9C%96&CHT_CAT=%E6%97%A5%E7%B7%9A%E5%9C%96&CHT_CAT2=DATE\\' target=\\'_self\\'>-28.5</a></nobr></td><td><nobr><a title=\\'查看個股日K線圖\\' class=\\'link_green\\' href=\\'ShowK_Chart.asp?STOCK_ID=2330&CHT_NM=%E5%80%8B%E8%82%A1K%E7%B7%9A%E5%9C%96&CHT_CAT=%E6%97%A5%E7%B7%9A%E5%9C%96&CHT_CAT2=DATE\\' target=\\'_self\\'>-33.5</a></nobr></td><td><nobr><a title=\\'查看1996損益表\\' class=\\'link_black\\' href=\\'StockFinDetail.asp?RPT_CAT=IS_M_YEAR&LAST_RPT_CAT=IS_M_YEAR&STOCK_ID=2330&QRY_TIME=1996\\' target=\\'_self\\'>394</a></nobr></td><td><nobr><a title=\\'查看1996損益表\\' class=\\'link_black\\' href=\\'StockFinDetail.asp?RPT_CAT=IS_M_YEAR&LAST_RPT_CAT=IS_M_YEAR&STOCK_ID=2330&QRY_TIME=1996\\' target=\\'_self\\'>220</a></nobr></td><td><nobr><a title=\\'查看1996損益表\\' class=\\'link_black\\' href=\\'StockFinDetail.asp?RPT_CAT=IS_M_YEAR&LAST_RPT_CAT=IS_M_YEAR&STOCK_ID=2330&QRY_TIME=1996\\' target=\\'_self\\'>182</a></nobr></td><td><nobr><a title=\\'查看1996損益表\\' class=\\'link_black\\' href=\\'StockFinDetail.asp?RPT_CAT=IS_M_YEAR&LAST_RPT_CAT=IS_M_YEAR&STOCK_ID=2330&QRY_TIME=1996\\' target=\\'_self\\'>8.32</a></nobr></td><td><nobr><a title=\\'查看1996損益表\\' class=\\'link_black\\' href=\\'StockFinDetail.asp?RPT_CAT=IS_M_YEAR&LAST_RPT_CAT=IS_M_YEAR&STOCK_ID=2330&QRY_TIME=1996\\' target=\\'_self\\'>194</a></nobr></td><td><nobr><a title=\\'查看1996財務比率表\\' class=\\'link_black\\' href=\\'StockFinDetail.asp?RPT_CAT=XX_M_YEAR&LAST_RPT_CAT=XX_M_YEAR&STOCK_ID=2330&QRY_TIME=1996\\' target=\\'_self\\'>55.7</a></nobr></td><td><nobr><a title=\\'查看1996財務比率表\\' class=\\'link_black\\' href=\\'StockFinDetail.asp?RPT_CAT=XX_M_YEAR&LAST_RPT_CAT=XX_M_YEAR&STOCK_ID=2330&QRY_TIME=1996\\' target=\\'_self\\'>46.2</a></nobr></td><td><nobr><a title=\\'查看1996財務比率表\\' class=\\'link_black\\' href=\\'StockFinDetail.asp?RPT_CAT=XX_M_YEAR&LAST_RPT_CAT=XX_M_YEAR&STOCK_ID=2330&QRY_TIME=1996\\' target=\\'_self\\'>2.11</a></nobr></td><td><nobr><a title=\\'查看1996財務比率表\\' class=\\'link_black\\' href=\\'StockFinDetail.asp?RPT_CAT=XX_M_YEAR&LAST_RPT_CAT=XX_M_YEAR&STOCK_ID=2330&QRY_TIME=1996\\' target=\\'_self\\'>49.2</a></nobr></td><td><nobr><a title=\\'查看1996財務比率表\\' class=\\'link_black\\' href=\\'StockFinDetail.asp?RPT_CAT=XX_M_YEAR&LAST_RPT_CAT=XX_M_YEAR&STOCK_ID=2330&QRY_TIME=1996\\' target=\\'_self\\'>37.2</a></nobr></td><td><nobr><a title=\\'查看1996財務比率表\\' class=\\'link_black\\' href=\\'StockFinDetail.asp?RPT_CAT=XX_M_YEAR&LAST_RPT_CAT=XX_M_YEAR&STOCK_ID=2330&QRY_TIME=1996\\' target=\\'_self\\'>24.6</a></nobr></td><td><nobr><a title=\\'查看1996財務比率表\\' class=\\'link_black\\' href=\\'StockFinDetail.asp?RPT_CAT=XX_M_YEAR&LAST_RPT_CAT=XX_M_YEAR&STOCK_ID=2330&QRY_TIME=1996\\' target=\\'_self\\'>7.31</a></nobr></td><td><nobr><a title=\\'查看1996財務比率表\\' class=\\'link_green\\' href=\\'StockFinDetail.asp?RPT_CAT=XX_M_YEAR&LAST_RPT_CAT=XX_M_YEAR&STOCK_ID=2330&QRY_TIME=1996\\' target=\\'_self\\'>-3.17</a></nobr></td><td><nobr><a title=\\'查看1996資產負債表\\' class=\\'link_black\\' href=\\'StockFinDetail.asp?RPT_CAT=BS_M_YEAR&LAST_RPT_CAT=BS_M_YEAR&STOCK_ID=2330&QRY_TIME=1996\\' target=\\'_self\\'>19.63</a></nobr></td></tr><tr id=\\'row22\\' align=\\'center\\' bgcolor=\\'white\\' height=\\'23px\\'  OnMouseOver=\"ChgBGColor([\\'rowh22\\',\\'row22\\'],\\'#FFF0DA\\');\"  OnMouseOut=\"ChgBGColor([\\'rowh22\\',\\'row22\\'],\\'white\\');\"><td><nobr>1995</nobr></td><td><nobr><a title=\\'查看1995資產負債表\\' class=\\'link_black\\' href=\\'StockFinDetail.asp?RPT_CAT=BS_M_YEAR&LAST_RPT_CAT=BS_M_YEAR&STOCK_ID=2330&QRY_TIME=1995\\' target=\\'_self\\'>144</a></nobr></td><td><nobr>-</nobr></td><td><nobr><a title=\\'查看個股日K線圖\\' class=\\'link_black\\' href=\\'ShowK_Chart.asp?STOCK_ID=2330&CHT_NM=%E5%80%8B%E8%82%A1K%E7%B7%9A%E5%9C%96&CHT_CAT=%E6%97%A5%E7%B7%9A%E5%9C%96&CHT_CAT2=DATE\\' target=\\'_self\\'>85</a></nobr></td><td><nobr><a title=\\'查看個股日K線圖\\' class=\\'link_black\\' href=\\'ShowK_Chart.asp?STOCK_ID=2330&CHT_NM=%E5%80%8B%E8%82%A1K%E7%B7%9A%E5%9C%96&CHT_CAT=%E6%97%A5%E7%B7%9A%E5%9C%96&CHT_CAT2=DATE\\' target=\\'_self\\'>128</a></nobr></td><td><nobr><a title=\\'查看個股日K線圖\\' class=\\'link_green\\' href=\\'ShowK_Chart.asp?STOCK_ID=2330&CHT_NM=%E5%80%8B%E8%82%A1K%E7%B7%9A%E5%9C%96&CHT_CAT=%E6%97%A5%E7%B7%9A%E5%9C%96&CHT_CAT2=DATE\\' target=\\'_self\\'>-72</a></nobr></td><td><nobr><a title=\\'查看個股日K線圖\\' class=\\'link_green\\' href=\\'ShowK_Chart.asp?STOCK_ID=2330&CHT_NM=%E5%80%8B%E8%82%A1K%E7%B7%9A%E5%9C%96&CHT_CAT=%E6%97%A5%E7%B7%9A%E5%9C%96&CHT_CAT2=DATE\\' target=\\'_self\\'>-45.9</a></nobr></td><td><nobr>-</nobr></td><td><nobr>-</nobr></td><td><nobr>-</nobr></td><td><nobr>-</nobr></td><td><nobr><a title=\\'查看1995損益表\\' class=\\'link_black\\' href=\\'StockFinDetail.asp?RPT_CAT=IS_M_YEAR&LAST_RPT_CAT=IS_M_YEAR&STOCK_ID=2330&QRY_TIME=1995\\' target=\\'_self\\'>151</a></nobr></td><td><nobr>-</nobr></td><td><nobr>-</nobr></td><td><nobr>-</nobr></td><td><nobr>-</nobr></td><td><nobr>-</nobr></td><td><nobr>-</nobr></td><td><nobr><a title=\\'查看1995財務比率表\\' class=\\'link_black\\' href=\\'StockFinDetail.asp?RPT_CAT=XX_M_YEAR&LAST_RPT_CAT=XX_M_YEAR&STOCK_ID=2330&QRY_TIME=1995\\' target=\\'_self\\'>10.48</a></nobr></td><td><nobr><a title=\\'查看1995財務比率表\\' class=\\'link_green\\' href=\\'StockFinDetail.asp?RPT_CAT=XX_M_YEAR&LAST_RPT_CAT=XX_M_YEAR&STOCK_ID=2330&QRY_TIME=1995\\' target=\\'_self\\'>-0.38</a></nobr></td><td><nobr><a title=\\'查看1995資產負債表\\' class=\\'link_black\\' href=\\'StockFinDetail.asp?RPT_CAT=BS_M_YEAR&LAST_RPT_CAT=BS_M_YEAR&STOCK_ID=2330&QRY_TIME=1995\\' target=\\'_self\\'>23.34</a></nobr></td></tr><tr id=\\'row23\\' align=\\'center\\' bgcolor=\\'#EBF7FF\\' height=\\'23px\\'  OnMouseOver=\"ChgBGColor([\\'rowh23\\',\\'row23\\'],\\'#FFF0DA\\');\"  OnMouseOut=\"ChgBGColor([\\'rowh23\\',\\'row23\\'],\\'#EBF7FF\\');\"><td><nobr>1994</nobr></td><td><nobr><a title=\\'查看1994資產負債表\\' class=\\'link_black\\' href=\\'StockFinDetail.asp?RPT_CAT=BS_M_YEAR&LAST_RPT_CAT=BS_M_YEAR&STOCK_ID=2330&QRY_TIME=1994\\' target=\\'_self\\'>78</a></nobr></td><td><nobr>-</nobr></td><td><nobr><a title=\\'查看個股日K線圖\\' class=\\'link_black\\' href=\\'ShowK_Chart.asp?STOCK_ID=2330&CHT_NM=%E5%80%8B%E8%82%A1K%E7%B7%9A%E5%9C%96&CHT_CAT=%E6%97%A5%E7%B7%9A%E5%9C%96&CHT_CAT2=DATE\\' target=\\'_self\\'>157</a></nobr></td><td><nobr><a title=\\'查看個股日K線圖\\' class=\\'link_black\\' href=\\'ShowK_Chart.asp?STOCK_ID=2330&CHT_NM=%E5%80%8B%E8%82%A1K%E7%B7%9A%E5%9C%96&CHT_CAT=%E6%97%A5%E7%B7%9A%E5%9C%96&CHT_CAT2=DATE\\' target=\\'_self\\'>159</a></nobr></td><td><nobr><a title=\\'查看個股日K線圖\\' class=\\'link_red\\' href=\\'ShowK_Chart.asp?STOCK_ID=2330&CHT_NM=%E5%80%8B%E8%82%A1K%E7%B7%9A%E5%9C%96&CHT_CAT=%E6%97%A5%E7%B7%9A%E5%9C%96&CHT_CAT2=DATE\\' target=\\'_self\\'>+61</a></nobr></td><td><nobr><a title=\\'查看個股日K線圖\\' class=\\'link_red\\' href=\\'ShowK_Chart.asp?STOCK_ID=2330&CHT_NM=%E5%80%8B%E8%82%A1K%E7%B7%9A%E5%9C%96&CHT_CAT=%E6%97%A5%E7%B7%9A%E5%9C%96&CHT_CAT2=DATE\\' target=\\'_self\\'>+63.5</a></nobr></td><td><nobr>-</nobr></td><td><nobr>-</nobr></td><td><nobr>-</nobr></td><td><nobr>-</nobr></td><td><nobr><a title=\\'查看1994損益表\\' class=\\'link_black\\' href=\\'StockFinDetail.asp?RPT_CAT=IS_M_YEAR&LAST_RPT_CAT=IS_M_YEAR&STOCK_ID=2330&QRY_TIME=1994\\' target=\\'_self\\'>84.7</a></nobr></td><td><nobr>-</nobr></td><td><nobr>-</nobr></td><td><nobr>-</nobr></td><td><nobr>-</nobr></td><td><nobr>-</nobr></td><td><nobr>-</nobr></td><td><nobr><a title=\\'查看1994財務比率表\\' class=\\'link_black\\' href=\\'StockFinDetail.asp?RPT_CAT=XX_M_YEAR&LAST_RPT_CAT=XX_M_YEAR&STOCK_ID=2330&QRY_TIME=1994\\' target=\\'_self\\'>10.86</a></nobr></td><td><nobr><a title=\\'查看1994財務比率表\\' class=\\'link_red\\' href=\\'StockFinDetail.asp?RPT_CAT=XX_M_YEAR&LAST_RPT_CAT=XX_M_YEAR&STOCK_ID=2330&QRY_TIME=1994\\' target=\\'_self\\'>+3.89</a></nobr></td><td><nobr><a title=\\'查看1994資產負債表\\' class=\\'link_black\\' href=\\'StockFinDetail.asp?RPT_CAT=BS_M_YEAR&LAST_RPT_CAT=BS_M_YEAR&STOCK_ID=2330&QRY_TIME=1994\\' target=\\'_self\\'>24.14</a></nobr></td></tr><tr id=\\'row24\\' align=\\'center\\' bgcolor=\\'white\\' height=\\'23px\\'  OnMouseOver=\"ChgBGColor([\\'rowh24\\',\\'row24\\'],\\'#FFF0DA\\');\"  OnMouseOut=\"ChgBGColor([\\'rowh24\\',\\'row24\\'],\\'white\\');\"><td><nobr>1993</nobr></td><td><nobr><a title=\\'查看1993資產負債表\\' class=\\'link_black\\' href=\\'StockFinDetail.asp?RPT_CAT=BS_M_YEAR&LAST_RPT_CAT=BS_M_YEAR&STOCK_ID=2330&QRY_TIME=1993\\' target=\\'_self\\'>60.8</a></nobr></td><td><nobr>-</nobr></td><td><nobr>-</nobr></td><td><nobr>-</nobr></td><td><nobr>-</nobr></td><td><nobr>-</nobr></td><td><nobr>-</nobr></td><td><nobr>-</nobr></td><td><nobr>-</nobr></td><td><nobr>-</nobr></td><td><nobr><a title=\\'查看1993損益表\\' class=\\'link_black\\' href=\\'StockFinDetail.asp?RPT_CAT=IS_M_YEAR&LAST_RPT_CAT=IS_M_YEAR&STOCK_ID=2330&QRY_TIME=1993\\' target=\\'_self\\'>42.5</a></nobr></td><td><nobr>-</nobr></td><td><nobr>-</nobr></td><td><nobr>-</nobr></td><td><nobr>-</nobr></td><td><nobr>-</nobr></td><td><nobr>-</nobr></td><td><nobr><a title=\\'查看1993財務比率表\\' class=\\'link_black\\' href=\\'StockFinDetail.asp?RPT_CAT=XX_M_YEAR&LAST_RPT_CAT=XX_M_YEAR&STOCK_ID=2330&QRY_TIME=1993\\' target=\\'_self\\'>6.98</a></nobr></td><td><nobr><a title=\\'查看1993財務比率表\\' class=\\'link_red\\' href=\\'StockFinDetail.asp?RPT_CAT=XX_M_YEAR&LAST_RPT_CAT=XX_M_YEAR&STOCK_ID=2330&QRY_TIME=1993\\' target=\\'_self\\'>+4.89</a></nobr></td><td><nobr><a title=\\'查看1993資產負債表\\' class=\\'link_black\\' href=\\'StockFinDetail.asp?RPT_CAT=BS_M_YEAR&LAST_RPT_CAT=BS_M_YEAR&STOCK_ID=2330&QRY_TIME=1993\\' target=\\'_self\\'>18.25</a></nobr></td></tr><tr id=\\'row25\\' align=\\'center\\' bgcolor=\\'#EBF7FF\\' height=\\'23px\\'  OnMouseOver=\"ChgBGColor([\\'rowh25\\',\\'row25\\'],\\'#FFF0DA\\');\"  OnMouseOut=\"ChgBGColor([\\'rowh25\\',\\'row25\\'],\\'#EBF7FF\\');\"><td><nobr>1992</nobr></td><td><nobr><a title=\\'查看1992資產負債表\\' class=\\'link_black\\' href=\\'StockFinDetail.asp?RPT_CAT=BS_M_YEAR&LAST_RPT_CAT=BS_M_YEAR&STOCK_ID=2330&QRY_TIME=1992\\' target=\\'_self\\'>55.1</a></nobr></td><td><nobr>-</nobr></td><td><nobr>-</nobr></td><td><nobr>-</nobr></td><td><nobr>-</nobr></td><td><nobr>-</nobr></td><td><nobr>-</nobr></td><td><nobr>-</nobr></td><td><nobr>-</nobr></td><td><nobr>-</nobr></td><td><nobr><a title=\\'查看1992損益表\\' class=\\'link_black\\' href=\\'StockFinDetail.asp?RPT_CAT=IS_M_YEAR&LAST_RPT_CAT=IS_M_YEAR&STOCK_ID=2330&QRY_TIME=1992\\' target=\\'_self\\'>11.5</a></nobr></td><td><nobr>-</nobr></td><td><nobr>-</nobr></td><td><nobr>-</nobr></td><td><nobr>-</nobr></td><td><nobr>-</nobr></td><td><nobr>-</nobr></td><td><nobr><a title=\\'查看1992財務比率表\\' class=\\'link_black\\' href=\\'StockFinDetail.asp?RPT_CAT=XX_M_YEAR&LAST_RPT_CAT=XX_M_YEAR&STOCK_ID=2330&QRY_TIME=1992\\' target=\\'_self\\'>2.09</a></nobr></td><td><nobr><a title=\\'查看1992財務比率表\\' class=\\'link_red\\' href=\\'StockFinDetail.asp?RPT_CAT=XX_M_YEAR&LAST_RPT_CAT=XX_M_YEAR&STOCK_ID=2330&QRY_TIME=1992\\' target=\\'_self\\'>+0.99</a></nobr></td><td><nobr><a title=\\'查看1992資產負債表\\' class=\\'link_black\\' href=\\'StockFinDetail.asp?RPT_CAT=BS_M_YEAR&LAST_RPT_CAT=BS_M_YEAR&STOCK_ID=2330&QRY_TIME=1992\\' target=\\'_self\\'>12.82</a></nobr></td></tr><tr id=\\'row26\\' align=\\'center\\' bgcolor=\\'white\\' height=\\'23px\\'  OnMouseOver=\"ChgBGColor([\\'rowh26\\',\\'row26\\'],\\'#FFF0DA\\');\"  OnMouseOut=\"ChgBGColor([\\'rowh26\\',\\'row26\\'],\\'white\\');\"><td><nobr>1991</nobr></td><td><nobr><a title=\\'查看1991資產負債表\\' class=\\'link_black\\' href=\\'StockFinDetail.asp?RPT_CAT=BS_M_YEAR&LAST_RPT_CAT=BS_M_YEAR&STOCK_ID=2330&QRY_TIME=1991\\' target=\\'_self\\'>47.4</a></nobr></td><td><nobr>-</nobr></td><td><nobr>-</nobr></td><td><nobr>-</nobr></td><td><nobr>-</nobr></td><td><nobr>-</nobr></td><td><nobr>-</nobr></td><td><nobr>-</nobr></td><td><nobr>-</nobr></td><td><nobr>-</nobr></td><td><nobr><a title=\\'查看1991損益表\\' class=\\'link_black\\' href=\\'StockFinDetail.asp?RPT_CAT=IS_M_YEAR&LAST_RPT_CAT=IS_M_YEAR&STOCK_ID=2330&QRY_TIME=1991\\' target=\\'_self\\'>5.25</a></nobr></td><td><nobr>-</nobr></td><td><nobr>-</nobr></td><td><nobr>-</nobr></td><td><nobr>-</nobr></td><td><nobr>-</nobr></td><td><nobr>-</nobr></td><td><nobr><a title=\\'查看1991財務比率表\\' class=\\'link_black\\' href=\\'StockFinDetail.asp?RPT_CAT=XX_M_YEAR&LAST_RPT_CAT=XX_M_YEAR&STOCK_ID=2330&QRY_TIME=1991\\' target=\\'_self\\'>1.11</a></nobr></td><td><nobr>-</nobr></td><td><nobr><a title=\\'查看1991資產負債表\\' class=\\'link_black\\' href=\\'StockFinDetail.asp?RPT_CAT=BS_M_YEAR&LAST_RPT_CAT=BS_M_YEAR&STOCK_ID=2330&QRY_TIME=1991\\' target=\\'_self\\'>11.54</a></nobr></td></tr></table></div></div><p style=\\'margin-top:4px;margin-bottom:0px;font-size:9pt;color:gray;\\'>* 本表之單季或累季 ROE/ROA 皆以全年預估值顯示, 請使用者注意。</p></div>\\r\\n          </td>\\r\\n        </tr>\\r\\n      </table>\\r\\n    </td>\\r\\n  </tr>\\r\\n</table>\\r\\n\\r\\n<!-- 顯示頁尾廣告 -->\\r\\n\\r\\n\\r\\n<!-- 版權及責任宣告 -->\\r\\n<table class=\\'none_tbl\\' width=\\'1000px\\' align=\\'center\\'><tr><td><hr></td></tr></table><table class=\\'none_tbl\\' width=\\'1000px\\' style=\\'font-size: 9pt;color:gray;\\' align=\\'center\\'>  <tr>    <td>      <p style=\\'margin-top: 0px; margin-bottom: 3px\\'>股豐資訊有限公司&nbsp;版權所有&nbsp;&copy;&nbsp;2012-2017 Good Information Co., Ltd. All Rights Reserved. <nobr>(<a target=\\'_self\\' class=\\'link_blue\\' href=\\'ServiceTerms.asp\\'>服務條款</a>&nbsp;|&nbsp;<a target=\\'_self\\' class=\\'link_blue\\' href=\\'Privacy.asp\\'>隱私權政策</a>)</nobr></p>      <p style=\\'margin-top: 0px; margin-bottom: 3px\\'>本網站所有資料僅供參考，如使用者依本資料交易發生交易損失需自行負責，股豐資訊有限公司&nbsp;對資料內容錯誤、更新延誤或傳輸中斷不負任何責任。</p><p style=\\'margin-top: 0px; margin-bottom: 3px\\'><a class=\\'link_blue\\' target=\\'_blank\\' href=\\'http://www.ettoday.net/\\'>ETtoday東森新聞雲</a>&nbsp;相關新聞標題與內容均來自原網站之RSS服務，著作權與智慧財產權均屬原網站及原作者所有，本網站僅提供新聞聯播，不主張任何權利。</p></td></tr></table><br/>\\r\\n\\r\\n</body>\\r\\n\\r\\n<script type=\"text/javascript\">\\r\\n\\tsetTimeout(function(){\\r\\n\\t\\tIMG_LOADING.style.display = \\'none\\';\\r\\n\\t\\tInitStockChart({CanvasID:\\'StockCanvas\\'});\\r\\n\\t\\tRepaintAD();\\r\\n\\t},300);\\r\\n\\tShowStickyAD(StickyAD, RealPosY(StickyAD) - RealPosY(StickyAD.parentElement));\\r\\n</script>\\r\\n\\r\\n</html>\\r\\n\\r\\n'"
      ]
     },
     "execution_count": 58,
     "metadata": {},
     "output_type": "execute_result"
    }
   ],
   "source": [
    "res.encoding = 'utf-8'\n",
    "res.text"
   ]
  },
  {
   "cell_type": "code",
   "execution_count": 59,
   "metadata": {
    "collapsed": true
   },
   "outputs": [],
   "source": [
    "dfs= pandas.read_html(res.text)"
   ]
  },
  {
   "cell_type": "code",
   "execution_count": 60,
   "metadata": {
    "collapsed": false
   },
   "outputs": [
    {
     "data": {
      "text/plain": [
       "list"
      ]
     },
     "execution_count": 60,
     "metadata": {},
     "output_type": "execute_result"
    }
   ],
   "source": [
    "type(dfs)"
   ]
  },
  {
   "cell_type": "code",
   "execution_count": 61,
   "metadata": {
    "collapsed": false
   },
   "outputs": [
    {
     "data": {
      "text/plain": [
       "18"
      ]
     },
     "execution_count": 61,
     "metadata": {},
     "output_type": "execute_result"
    }
   ],
   "source": [
    "len(dfs)"
   ]
  },
  {
   "cell_type": "code",
   "execution_count": 62,
   "metadata": {
    "collapsed": false
   },
   "outputs": [
    {
     "data": {
      "text/html": [
       "<div>\n",
       "<table border=\"1\" class=\"dataframe\">\n",
       "  <thead>\n",
       "    <tr style=\"text-align: right;\">\n",
       "      <th></th>\n",
       "      <th>0</th>\n",
       "      <th>1</th>\n",
       "      <th>2</th>\n",
       "      <th>3</th>\n",
       "      <th>4</th>\n",
       "      <th>5</th>\n",
       "      <th>6</th>\n",
       "      <th>7</th>\n",
       "      <th>8</th>\n",
       "      <th>9</th>\n",
       "      <th>...</th>\n",
       "      <th>11</th>\n",
       "      <th>12</th>\n",
       "      <th>13</th>\n",
       "      <th>14</th>\n",
       "      <th>15</th>\n",
       "      <th>16</th>\n",
       "      <th>17</th>\n",
       "      <th>18</th>\n",
       "      <th>19</th>\n",
       "      <th>20</th>\n",
       "    </tr>\n",
       "  </thead>\n",
       "  <tbody>\n",
       "    <tr>\n",
       "      <th>0</th>\n",
       "      <td>17Q2</td>\n",
       "      <td>2593</td>\n",
       "      <td>94</td>\n",
       "      <td>241.0</td>\n",
       "      <td>206.0</td>\n",
       "      <td>59.5</td>\n",
       "      <td>32.8</td>\n",
       "      <td>4478</td>\n",
       "      <td>2302</td>\n",
       "      <td>1786</td>\n",
       "      <td>...</td>\n",
       "      <td>1539</td>\n",
       "      <td>51.4</td>\n",
       "      <td>39.9</td>\n",
       "      <td>1.19</td>\n",
       "      <td>34.4</td>\n",
       "      <td>22.5(年估)</td>\n",
       "      <td>15.9(年估)</td>\n",
       "      <td>5.94</td>\n",
       "      <td>0.65</td>\n",
       "      <td>51.74</td>\n",
       "    </tr>\n",
       "    <tr>\n",
       "      <th>1</th>\n",
       "      <td>2016</td>\n",
       "      <td>2593</td>\n",
       "      <td>91</td>\n",
       "      <td>181.5</td>\n",
       "      <td>166.0</td>\n",
       "      <td>38.5</td>\n",
       "      <td>26.9</td>\n",
       "      <td>9479</td>\n",
       "      <td>4748</td>\n",
       "      <td>3780</td>\n",
       "      <td>...</td>\n",
       "      <td>3342</td>\n",
       "      <td>50.1</td>\n",
       "      <td>39.9</td>\n",
       "      <td>0.84</td>\n",
       "      <td>35.3</td>\n",
       "      <td>25.6</td>\n",
       "      <td>18.9</td>\n",
       "      <td>12.89</td>\n",
       "      <td>1.07</td>\n",
       "      <td>53.58</td>\n",
       "    </tr>\n",
       "    <tr>\n",
       "      <th>2</th>\n",
       "      <td>2015</td>\n",
       "      <td>2593</td>\n",
       "      <td>94</td>\n",
       "      <td>143.0</td>\n",
       "      <td>140.0</td>\n",
       "      <td>2.0</td>\n",
       "      <td>1.4</td>\n",
       "      <td>8435</td>\n",
       "      <td>4104</td>\n",
       "      <td>3200</td>\n",
       "      <td>...</td>\n",
       "      <td>3066</td>\n",
       "      <td>48.7</td>\n",
       "      <td>37.9</td>\n",
       "      <td>3.60</td>\n",
       "      <td>36.3</td>\n",
       "      <td>27</td>\n",
       "      <td>19.4</td>\n",
       "      <td>11.82</td>\n",
       "      <td>1.64</td>\n",
       "      <td>47.11</td>\n",
       "    </tr>\n",
       "  </tbody>\n",
       "</table>\n",
       "<p>3 rows × 21 columns</p>\n",
       "</div>"
      ],
      "text/plain": [
       "     0     1   2      3      4     5     6     7     8     9   ...      11  \\\n",
       "0  17Q2  2593  94  241.0  206.0  59.5  32.8  4478  2302  1786  ...    1539   \n",
       "1  2016  2593  91  181.5  166.0  38.5  26.9  9479  4748  3780  ...    3342   \n",
       "2  2015  2593  94  143.0  140.0   2.0   1.4  8435  4104  3200  ...    3066   \n",
       "\n",
       "     12    13    14    15        16        17     18    19     20  \n",
       "0  51.4  39.9  1.19  34.4  22.5(年估)  15.9(年估)   5.94  0.65  51.74  \n",
       "1  50.1  39.9  0.84  35.3      25.6      18.9  12.89  1.07  53.58  \n",
       "2  48.7  37.9  3.60  36.3        27      19.4  11.82  1.64  47.11  \n",
       "\n",
       "[3 rows x 21 columns]"
      ]
     },
     "execution_count": 62,
     "metadata": {},
     "output_type": "execute_result"
    }
   ],
   "source": [
    "dfs[16].head(3)"
   ]
  },
  {
   "cell_type": "code",
   "execution_count": 73,
   "metadata": {
    "collapsed": false
   },
   "outputs": [
    {
     "data": {
      "text/html": [
       "<div>\n",
       "<table border=\"1\" class=\"dataframe\">\n",
       "  <thead>\n",
       "    <tr style=\"text-align: right;\">\n",
       "      <th></th>\n",
       "      <th>0</th>\n",
       "    </tr>\n",
       "  </thead>\n",
       "  <tbody>\n",
       "    <tr>\n",
       "      <th>0</th>\n",
       "      <td>股豐資訊有限公司 版權所有 © 2012-2017 Good Information Co....</td>\n",
       "    </tr>\n",
       "  </tbody>\n",
       "</table>\n",
       "</div>"
      ],
      "text/plain": [
       "                                                   0\n",
       "0  股豐資訊有限公司 版權所有 © 2012-2017 Good Information Co...."
      ]
     },
     "execution_count": 73,
     "metadata": {},
     "output_type": "execute_result"
    }
   ],
   "source": [
    "dfs[17].head(3)"
   ]
  },
  {
   "cell_type": "code",
   "execution_count": 74,
   "metadata": {
    "collapsed": true
   },
   "outputs": [],
   "source": [
    "tw2330=dfs[16]"
   ]
  },
  {
   "cell_type": "code",
   "execution_count": 75,
   "metadata": {
    "collapsed": true
   },
   "outputs": [],
   "source": [
    "tw2330.to_html('tw2330.html')"
   ]
  },
  {
   "cell_type": "code",
   "execution_count": 83,
   "metadata": {
    "collapsed": false
   },
   "outputs": [],
   "source": [
    "import numpy\n",
    "orders['date']=pandas.to_datetime(orders['Time'].dt.date)"
   ]
  },
  {
   "cell_type": "code",
   "execution_count": 85,
   "metadata": {
    "collapsed": false
   },
   "outputs": [],
   "source": [
    "#orders['date']\n",
    "a = (orders['Time']-orders['date'])"
   ]
  },
  {
   "cell_type": "code",
   "execution_count": 86,
   "metadata": {
    "collapsed": false
   },
   "outputs": [
    {
     "data": {
      "text/html": [
       "<div>\n",
       "<table border=\"1\" class=\"dataframe\">\n",
       "  <thead>\n",
       "    <tr style=\"text-align: right;\">\n",
       "      <th></th>\n",
       "      <th>Time</th>\n",
       "      <th>Action</th>\n",
       "      <th>User</th>\n",
       "      <th>Product</th>\n",
       "      <th>Quantity</th>\n",
       "      <th>Price</th>\n",
       "      <th>date</th>\n",
       "      <th>tiemgroup</th>\n",
       "    </tr>\n",
       "  </thead>\n",
       "  <tbody>\n",
       "    <tr>\n",
       "      <th>0</th>\n",
       "      <td>2015-07-01 00:00:01</td>\n",
       "      <td>order</td>\n",
       "      <td>U312622727</td>\n",
       "      <td>P0006944501</td>\n",
       "      <td>1</td>\n",
       "      <td>1069.0</td>\n",
       "      <td>2015-07-01</td>\n",
       "      <td>300.0</td>\n",
       "    </tr>\n",
       "    <tr>\n",
       "      <th>1</th>\n",
       "      <td>2015-07-01 00:00:03</td>\n",
       "      <td>order</td>\n",
       "      <td>U239012343</td>\n",
       "      <td>P0006018073</td>\n",
       "      <td>1</td>\n",
       "      <td>1680.0</td>\n",
       "      <td>2015-07-01</td>\n",
       "      <td>300.0</td>\n",
       "    </tr>\n",
       "    <tr>\n",
       "      <th>2</th>\n",
       "      <td>2015-07-01 00:00:19</td>\n",
       "      <td>order</td>\n",
       "      <td>U10007697373</td>\n",
       "      <td>P0002267974</td>\n",
       "      <td>1</td>\n",
       "      <td>285.0</td>\n",
       "      <td>2015-07-01</td>\n",
       "      <td>300.0</td>\n",
       "    </tr>\n",
       "    <tr>\n",
       "      <th>3</th>\n",
       "      <td>2015-07-01 00:01:10</td>\n",
       "      <td>order</td>\n",
       "      <td>U296328517</td>\n",
       "      <td>P0016144236</td>\n",
       "      <td>1</td>\n",
       "      <td>550.0</td>\n",
       "      <td>2015-07-01</td>\n",
       "      <td>300.0</td>\n",
       "    </tr>\n",
       "    <tr>\n",
       "      <th>4</th>\n",
       "      <td>2015-07-01 00:01:36</td>\n",
       "      <td>order</td>\n",
       "      <td>U300884570</td>\n",
       "      <td>P0014516980122</td>\n",
       "      <td>1</td>\n",
       "      <td>249.0</td>\n",
       "      <td>2015-07-01</td>\n",
       "      <td>300.0</td>\n",
       "    </tr>\n",
       "  </tbody>\n",
       "</table>\n",
       "</div>"
      ],
      "text/plain": [
       "                 Time Action          User         Product  Quantity   Price  \\\n",
       "0 2015-07-01 00:00:01  order    U312622727     P0006944501         1  1069.0   \n",
       "1 2015-07-01 00:00:03  order    U239012343     P0006018073         1  1680.0   \n",
       "2 2015-07-01 00:00:19  order  U10007697373     P0002267974         1   285.0   \n",
       "3 2015-07-01 00:01:10  order    U296328517     P0016144236         1   550.0   \n",
       "4 2015-07-01 00:01:36  order    U300884570  P0014516980122         1   249.0   \n",
       "\n",
       "        date  tiemgroup  \n",
       "0 2015-07-01      300.0  \n",
       "1 2015-07-01      300.0  \n",
       "2 2015-07-01      300.0  \n",
       "3 2015-07-01      300.0  \n",
       "4 2015-07-01      300.0  "
      ]
     },
     "execution_count": 86,
     "metadata": {},
     "output_type": "execute_result"
    }
   ],
   "source": [
    "import math\n",
    "orders['tiemgroup'] = numpy.ceil(a.dt.total_seconds()/300)*300\n",
    "orders.head()"
   ]
  },
  {
   "cell_type": "code",
   "execution_count": 87,
   "metadata": {
    "collapsed": true
   },
   "outputs": [],
   "source": [
    "orders['Time2']=orders['date']+pandas.to_timedelta(orders['tiemgroup'], unit='s')"
   ]
  },
  {
   "cell_type": "code",
   "execution_count": 88,
   "metadata": {
    "collapsed": false
   },
   "outputs": [
    {
     "data": {
      "text/html": [
       "<div>\n",
       "<table border=\"1\" class=\"dataframe\">\n",
       "  <thead>\n",
       "    <tr style=\"text-align: right;\">\n",
       "      <th></th>\n",
       "      <th>Time</th>\n",
       "      <th>Action</th>\n",
       "      <th>User</th>\n",
       "      <th>Product</th>\n",
       "      <th>Quantity</th>\n",
       "      <th>Price</th>\n",
       "      <th>date</th>\n",
       "      <th>tiemgroup</th>\n",
       "      <th>Time2</th>\n",
       "    </tr>\n",
       "  </thead>\n",
       "  <tbody>\n",
       "    <tr>\n",
       "      <th>0</th>\n",
       "      <td>2015-07-01 00:00:01</td>\n",
       "      <td>order</td>\n",
       "      <td>U312622727</td>\n",
       "      <td>P0006944501</td>\n",
       "      <td>1</td>\n",
       "      <td>1069.0</td>\n",
       "      <td>2015-07-01</td>\n",
       "      <td>300.0</td>\n",
       "      <td>2015-07-01 00:05:00</td>\n",
       "    </tr>\n",
       "    <tr>\n",
       "      <th>1</th>\n",
       "      <td>2015-07-01 00:00:03</td>\n",
       "      <td>order</td>\n",
       "      <td>U239012343</td>\n",
       "      <td>P0006018073</td>\n",
       "      <td>1</td>\n",
       "      <td>1680.0</td>\n",
       "      <td>2015-07-01</td>\n",
       "      <td>300.0</td>\n",
       "      <td>2015-07-01 00:05:00</td>\n",
       "    </tr>\n",
       "    <tr>\n",
       "      <th>2</th>\n",
       "      <td>2015-07-01 00:00:19</td>\n",
       "      <td>order</td>\n",
       "      <td>U10007697373</td>\n",
       "      <td>P0002267974</td>\n",
       "      <td>1</td>\n",
       "      <td>285.0</td>\n",
       "      <td>2015-07-01</td>\n",
       "      <td>300.0</td>\n",
       "      <td>2015-07-01 00:05:00</td>\n",
       "    </tr>\n",
       "  </tbody>\n",
       "</table>\n",
       "</div>"
      ],
      "text/plain": [
       "                 Time Action          User      Product  Quantity   Price  \\\n",
       "0 2015-07-01 00:00:01  order    U312622727  P0006944501         1  1069.0   \n",
       "1 2015-07-01 00:00:03  order    U239012343  P0006018073         1  1680.0   \n",
       "2 2015-07-01 00:00:19  order  U10007697373  P0002267974         1   285.0   \n",
       "\n",
       "        date  tiemgroup               Time2  \n",
       "0 2015-07-01      300.0 2015-07-01 00:05:00  \n",
       "1 2015-07-01      300.0 2015-07-01 00:05:00  \n",
       "2 2015-07-01      300.0 2015-07-01 00:05:00  "
      ]
     },
     "execution_count": 88,
     "metadata": {},
     "output_type": "execute_result"
    }
   ],
   "source": [
    "orders.head(3)"
   ]
  },
  {
   "cell_type": "code",
   "execution_count": 91,
   "metadata": {
    "collapsed": false
   },
   "outputs": [
    {
     "name": "stdout",
     "output_type": "stream",
     "text": [
      "('3.8.11',)\n"
     ]
    }
   ],
   "source": [
    "import sqlite3\n",
    "con = sqlite3.connect('test.sqlite')\n",
    "cur = con.cursor()\n",
    "cur.execute('SELECT SQLITE_VERSION()')\n",
    "data = cur.fetchone()\n",
    "print(data)\n",
    "con.close()"
   ]
  },
  {
   "cell_type": "code",
   "execution_count": 92,
   "metadata": {
    "collapsed": false
   },
   "outputs": [
    {
     "name": "stdout",
     "output_type": "stream",
     "text": [
      "('3.8.11',)\n"
     ]
    }
   ],
   "source": [
    "import sqlite3\n",
    "with sqlite3.connect('test.sqlite') as con:\n",
    "    cur = con.cursor()\n",
    "    cur.execute('SELECT SQLITE_VERSION()')\n",
    "    data = cur.fetchone()\n",
    "    print(data)\n"
   ]
  },
  {
   "cell_type": "code",
   "execution_count": 96,
   "metadata": {
    "collapsed": false
   },
   "outputs": [
    {
     "name": "stdout",
     "output_type": "stream",
     "text": [
      "[('0912173381', 'United State'), ('0928375018', 'Tokyo Japan'), ('0957209108', 'Taipei')]\n"
     ]
    }
   ],
   "source": [
    "import sqlite3\n",
    "with sqlite3.connect('test.sqlite') as con:\n",
    "    cur = con.cursor()\n",
    "    cur.execute(\"DROP TABLE IF EXISTS PhoneAddress\")\n",
    "    cur.execute(\"CREATE TABLE PhoneAddress(phone CHAR(10) PRIMARY KEY, address TEXT, name TEXT unique, age INT NOT NULL)\")\n",
    "    cur.execute(\"INSERT INTO PhoneAddress VALUES('0912173381','United State','John Doe',53)\")\n",
    "    cur.execute(\"INSERT INTO PhoneAddress VALUES('0928375018','Tokyo Japan','MuMu Cat',6)\")\n",
    "    cur.execute(\"INSERT INTO PhoneAddress VALUES('0957209108','Taipei','Richard',29)\")\n",
    "    cur.execute(\"SELECT phone,address FROM PhoneAddress\")\n",
    "    data = cur.fetchall()\n",
    "    print(data)"
   ]
  },
  {
   "cell_type": "code",
   "execution_count": 97,
   "metadata": {
    "collapsed": false
   },
   "outputs": [
    {
     "name": "stdout",
     "output_type": "stream",
     "text": [
      "FETCHONE\n",
      "('0912173381', 'United State')\n",
      "FETCHALL\n",
      "[('0928375018', 'Tokyo Japan'), ('0957209108', 'Taipei')]\n"
     ]
    }
   ],
   "source": [
    "import sqlite3\n",
    "with sqlite3.connect('test.sqlite') as con:\n",
    "    cur = con.cursor()\n",
    "    cur.execute(\"DROP TABLE IF EXISTS PhoneAddress\")\n",
    "    cur.execute(\"CREATE TABLE PhoneAddress(phone CHAR(10) PRIMARY KEY, address TEXT, name TEXT unique, age INT NOT NULL)\")\n",
    "    cur.execute(\"INSERT INTO PhoneAddress VALUES('0912173381','United State','John Doe',53)\")\n",
    "    cur.execute(\"INSERT INTO PhoneAddress VALUES('0928375018','Tokyo Japan','MuMu Cat',6)\")\n",
    "    cur.execute(\"INSERT INTO PhoneAddress VALUES('0957209108','Taipei','Richard',29)\")\n",
    "    cur.execute(\"SELECT phone,address FROM PhoneAddress\")\n",
    "    print('FETCHONE')\n",
    "    data = cur.fetchone()\n",
    "    print(data)\n",
    "    \n",
    "    print('FETCHALL')\n",
    "    data = cur.fetchall()\n",
    "    print(data)"
   ]
  },
  {
   "cell_type": "code",
   "execution_count": 100,
   "metadata": {
    "collapsed": false
   },
   "outputs": [
    {
     "data": {
      "text/html": [
       "<div>\n",
       "<table border=\"1\" class=\"dataframe\">\n",
       "  <thead>\n",
       "    <tr style=\"text-align: right;\">\n",
       "      <th></th>\n",
       "      <th>age</th>\n",
       "      <th>gender</th>\n",
       "      <th>name</th>\n",
       "    </tr>\n",
       "  </thead>\n",
       "  <tbody>\n",
       "    <tr>\n",
       "      <th>0</th>\n",
       "      <td>23</td>\n",
       "      <td>F</td>\n",
       "      <td>Mary</td>\n",
       "    </tr>\n",
       "    <tr>\n",
       "      <th>1</th>\n",
       "      <td>33</td>\n",
       "      <td>M</td>\n",
       "      <td>John</td>\n",
       "    </tr>\n",
       "  </tbody>\n",
       "</table>\n",
       "</div>"
      ],
      "text/plain": [
       "   age gender  name\n",
       "0   23      F  Mary\n",
       "1   33      M  John"
      ]
     },
     "execution_count": 100,
     "metadata": {},
     "output_type": "execute_result"
    }
   ],
   "source": [
    "import pandas\n",
    "employee = [{'name':'Mary','age':23,'gender':'F'},{'name':'John','age':33,'gender':'M'}]\n",
    "df = pandas.DataFrame(employee)\n",
    "df"
   ]
  },
  {
   "cell_type": "code",
   "execution_count": 102,
   "metadata": {
    "collapsed": false
   },
   "outputs": [],
   "source": [
    "with sqlite3.connect('test.sqlite') as db:\n",
    "    df.to_sql(name='employee', index=False, con=db, if_exists='replace')"
   ]
  },
  {
   "cell_type": "code",
   "execution_count": 103,
   "metadata": {
    "collapsed": true
   },
   "outputs": [],
   "source": [
    "df = pandas.read_csv('https://raw.githubusercontent.com/ywchiu/tibamepy/master/data/rent_591_sample.csv', index_col=0)"
   ]
  },
  {
   "cell_type": "code",
   "execution_count": 104,
   "metadata": {
    "collapsed": false
   },
   "outputs": [
    {
     "data": {
      "text/html": [
       "<div>\n",
       "<table border=\"1\" class=\"dataframe\">\n",
       "  <thead>\n",
       "    <tr style=\"text-align: right;\">\n",
       "      <th></th>\n",
       "      <th>detail_url</th>\n",
       "      <th>search_date</th>\n",
       "      <th>title</th>\n",
       "      <th>address</th>\n",
       "      <th>floor_info</th>\n",
       "      <th>price</th>\n",
       "      <th>layout</th>\n",
       "      <th>building_area</th>\n",
       "      <th>building_use</th>\n",
       "      <th>latitude</th>\n",
       "      <th>longitude</th>\n",
       "    </tr>\n",
       "    <tr>\n",
       "      <th>﻿</th>\n",
       "      <th></th>\n",
       "      <th></th>\n",
       "      <th></th>\n",
       "      <th></th>\n",
       "      <th></th>\n",
       "      <th></th>\n",
       "      <th></th>\n",
       "      <th></th>\n",
       "      <th></th>\n",
       "      <th></th>\n",
       "      <th></th>\n",
       "    </tr>\n",
       "  </thead>\n",
       "  <tbody>\n",
       "    <tr>\n",
       "      <th>0</th>\n",
       "      <td>https://rent.591.com.tw/rent-detail-1050934.html</td>\n",
       "      <td>2017-05-14</td>\n",
       "      <td>套房出租-近東方學院(六~八月可入住)</td>\n",
       "      <td>高雄市湖內區民生街</td>\n",
       "      <td>3F/3F</td>\n",
       "      <td>4,500元/月</td>\n",
       "      <td>NaN</td>\n",
       "      <td>6.0</td>\n",
       "      <td>透天厝/獨立套房</td>\n",
       "      <td>22.878436</td>\n",
       "      <td>120.250810</td>\n",
       "    </tr>\n",
       "    <tr>\n",
       "      <th>1</th>\n",
       "      <td>https://rent.591.com.tw/rent-detail-1008046.html</td>\n",
       "      <td>2017-05-14</td>\n",
       "      <td>好房子【聰明的你、妳快來租吧】</td>\n",
       "      <td>新北市蘆洲區長安街</td>\n",
       "      <td>4F/5F</td>\n",
       "      <td>7,500元/月</td>\n",
       "      <td>NaN</td>\n",
       "      <td>10.0</td>\n",
       "      <td>透天厝/獨立套房</td>\n",
       "      <td>25.081558</td>\n",
       "      <td>121.461868</td>\n",
       "    </tr>\n",
       "    <tr>\n",
       "      <th>2</th>\n",
       "      <td>https://rent.591.com.tw/rent-detail-1586266.html</td>\n",
       "      <td>2017-05-12</td>\n",
       "      <td>陽台大套房(獨立洗衣機)近頂溪捷運站</td>\n",
       "      <td>新北市永和區中山路一段</td>\n",
       "      <td>8F/12F</td>\n",
       "      <td>11,000元/月</td>\n",
       "      <td>NaN</td>\n",
       "      <td>8.0</td>\n",
       "      <td>電梯大樓/分租套房</td>\n",
       "      <td>25.010293</td>\n",
       "      <td>121.511328</td>\n",
       "    </tr>\n",
       "    <tr>\n",
       "      <th>3</th>\n",
       "      <td>https://rent.591.com.tw/rent-detail-1699948.html</td>\n",
       "      <td>2017-05-13</td>\n",
       "      <td>火車站附近~~優質套房</td>\n",
       "      <td>屏東縣潮州鎮六合路</td>\n",
       "      <td>3F/3F</td>\n",
       "      <td>5,000元/月</td>\n",
       "      <td>NaN</td>\n",
       "      <td>8.0</td>\n",
       "      <td>透天厝/獨立套房</td>\n",
       "      <td>22.551346</td>\n",
       "      <td>120.538032</td>\n",
       "    </tr>\n",
       "    <tr>\n",
       "      <th>4</th>\n",
       "      <td>https://rent.591.com.tw/rent-detail-1404725.html</td>\n",
       "      <td>2017-05-12</td>\n",
       "      <td>觀音四維路優質陽台套房</td>\n",
       "      <td>桃園市觀音區四維路</td>\n",
       "      <td>4F/5F</td>\n",
       "      <td>5,000元/月</td>\n",
       "      <td>NaN</td>\n",
       "      <td>7.0</td>\n",
       "      <td>透天厝/分租套房</td>\n",
       "      <td>25.043652</td>\n",
       "      <td>121.141518</td>\n",
       "    </tr>\n",
       "  </tbody>\n",
       "</table>\n",
       "</div>"
      ],
      "text/plain": [
       "                                         detail_url search_date  \\\n",
       "﻿                                                                 \n",
       "0  https://rent.591.com.tw/rent-detail-1050934.html  2017-05-14   \n",
       "1  https://rent.591.com.tw/rent-detail-1008046.html  2017-05-14   \n",
       "2  https://rent.591.com.tw/rent-detail-1586266.html  2017-05-12   \n",
       "3  https://rent.591.com.tw/rent-detail-1699948.html  2017-05-13   \n",
       "4  https://rent.591.com.tw/rent-detail-1404725.html  2017-05-12   \n",
       "\n",
       "                 title      address floor_info      price layout  \\\n",
       "﻿                                                                  \n",
       "0  套房出租-近東方學院(六~八月可入住)    高雄市湖內區民生街      3F/3F   4,500元/月    NaN   \n",
       "1      好房子【聰明的你、妳快來租吧】    新北市蘆洲區長安街      4F/5F   7,500元/月    NaN   \n",
       "2   陽台大套房(獨立洗衣機)近頂溪捷運站  新北市永和區中山路一段     8F/12F  11,000元/月    NaN   \n",
       "3          火車站附近~~優質套房    屏東縣潮州鎮六合路      3F/3F   5,000元/月    NaN   \n",
       "4          觀音四維路優質陽台套房    桃園市觀音區四維路      4F/5F   5,000元/月    NaN   \n",
       "\n",
       "   building_area building_use   latitude   longitude  \n",
       "﻿                                                     \n",
       "0            6.0     透天厝/獨立套房  22.878436  120.250810  \n",
       "1           10.0     透天厝/獨立套房  25.081558  121.461868  \n",
       "2            8.0    電梯大樓/分租套房  25.010293  121.511328  \n",
       "3            8.0     透天厝/獨立套房  22.551346  120.538032  \n",
       "4            7.0     透天厝/分租套房  25.043652  121.141518  "
      ]
     },
     "execution_count": 104,
     "metadata": {},
     "output_type": "execute_result"
    }
   ],
   "source": [
    "df.head()"
   ]
  },
  {
   "cell_type": "code",
   "execution_count": 105,
   "metadata": {
    "collapsed": true
   },
   "outputs": [],
   "source": [
    "def normalizePrice(ele):\n",
    "    res = int(ele.replace('元/月','').replace(',',''))\n",
    "    return res\n",
    "\n",
    "df['price']=df['price'].map(normalizePrice)"
   ]
  },
  {
   "cell_type": "code",
   "execution_count": 106,
   "metadata": {
    "collapsed": true
   },
   "outputs": [
    {
     "data": {
      "text/plain": [
       "﻿\n",
       "0          4500\n",
       "1          7500\n",
       "2         11000\n",
       "3          5000\n",
       "4          5000\n",
       "5         22000\n",
       "6          6500\n",
       "7          3000\n",
       "8          6800\n",
       "9         17000\n",
       "10        10000\n",
       "11        10000\n",
       "12        16000\n",
       "13         7500\n",
       "14        11000\n",
       "15        25000\n",
       "16        15000\n",
       "17        23000\n",
       "18         3000\n",
       "19         3900\n",
       "20        70000\n",
       "21         5000\n",
       "22         7000\n",
       "23         5500\n",
       "24         6000\n",
       "25         5400\n",
       "26        50000\n",
       "27         3200\n",
       "28        39000\n",
       "29         6500\n",
       "          ...  \n",
       "70285     12800\n",
       "70286      9500\n",
       "70287      5000\n",
       "70288     14000\n",
       "70289     14000\n",
       "70290     16000\n",
       "70291     24000\n",
       "70292      7500\n",
       "70293     20000\n",
       "70294     15000\n",
       "70295     12000\n",
       "70296     25000\n",
       "70297      9000\n",
       "70298      4000\n",
       "70299      7800\n",
       "70300      5800\n",
       "70301      5000\n",
       "70302    170000\n",
       "70303      4200\n",
       "70304      8500\n",
       "70305      5800\n",
       "70306    135000\n",
       "70307      6499\n",
       "70308      8000\n",
       "70309      6799\n",
       "70310     13500\n",
       "70311      8800\n",
       "70312      5999\n",
       "70313      3300\n",
       "70314     17000\n",
       "Name: price, dtype: int64"
      ]
     },
     "execution_count": 106,
     "metadata": {},
     "output_type": "execute_result"
    }
   ],
   "source": [
    "df['price']"
   ]
  },
  {
   "cell_type": "code",
   "execution_count": 107,
   "metadata": {
    "collapsed": true
   },
   "outputs": [
    {
     "data": {
      "text/html": [
       "<div>\n",
       "<table border=\"1\" class=\"dataframe\">\n",
       "  <thead>\n",
       "    <tr style=\"text-align: right;\">\n",
       "      <th></th>\n",
       "      <th>detail_url</th>\n",
       "      <th>search_date</th>\n",
       "      <th>title</th>\n",
       "      <th>address</th>\n",
       "      <th>floor_info</th>\n",
       "      <th>price</th>\n",
       "      <th>layout</th>\n",
       "      <th>building_area</th>\n",
       "      <th>building_use</th>\n",
       "    </tr>\n",
       "    <tr>\n",
       "      <th>﻿</th>\n",
       "      <th></th>\n",
       "      <th></th>\n",
       "      <th></th>\n",
       "      <th></th>\n",
       "      <th></th>\n",
       "      <th></th>\n",
       "      <th></th>\n",
       "      <th></th>\n",
       "      <th></th>\n",
       "    </tr>\n",
       "  </thead>\n",
       "  <tbody>\n",
       "    <tr>\n",
       "      <th>0</th>\n",
       "      <td>https://rent.591.com.tw/rent-detail-1050934.html</td>\n",
       "      <td>2017-05-14</td>\n",
       "      <td>套房出租-近東方學院(六~八月可入住)</td>\n",
       "      <td>高雄市湖內區民生街</td>\n",
       "      <td>3F/3F</td>\n",
       "      <td>4500</td>\n",
       "      <td>NaN</td>\n",
       "      <td>6.00</td>\n",
       "      <td>透天厝/獨立套房</td>\n",
       "    </tr>\n",
       "    <tr>\n",
       "      <th>1</th>\n",
       "      <td>https://rent.591.com.tw/rent-detail-1008046.html</td>\n",
       "      <td>2017-05-14</td>\n",
       "      <td>好房子【聰明的你、妳快來租吧】</td>\n",
       "      <td>新北市蘆洲區長安街</td>\n",
       "      <td>4F/5F</td>\n",
       "      <td>7500</td>\n",
       "      <td>NaN</td>\n",
       "      <td>10.00</td>\n",
       "      <td>透天厝/獨立套房</td>\n",
       "    </tr>\n",
       "    <tr>\n",
       "      <th>2</th>\n",
       "      <td>https://rent.591.com.tw/rent-detail-1586266.html</td>\n",
       "      <td>2017-05-12</td>\n",
       "      <td>陽台大套房(獨立洗衣機)近頂溪捷運站</td>\n",
       "      <td>新北市永和區中山路一段</td>\n",
       "      <td>8F/12F</td>\n",
       "      <td>11000</td>\n",
       "      <td>NaN</td>\n",
       "      <td>8.00</td>\n",
       "      <td>電梯大樓/分租套房</td>\n",
       "    </tr>\n",
       "    <tr>\n",
       "      <th>3</th>\n",
       "      <td>https://rent.591.com.tw/rent-detail-1699948.html</td>\n",
       "      <td>2017-05-13</td>\n",
       "      <td>火車站附近~~優質套房</td>\n",
       "      <td>屏東縣潮州鎮六合路</td>\n",
       "      <td>3F/3F</td>\n",
       "      <td>5000</td>\n",
       "      <td>NaN</td>\n",
       "      <td>8.00</td>\n",
       "      <td>透天厝/獨立套房</td>\n",
       "    </tr>\n",
       "    <tr>\n",
       "      <th>4</th>\n",
       "      <td>https://rent.591.com.tw/rent-detail-1404725.html</td>\n",
       "      <td>2017-05-12</td>\n",
       "      <td>觀音四維路優質陽台套房</td>\n",
       "      <td>桃園市觀音區四維路</td>\n",
       "      <td>4F/5F</td>\n",
       "      <td>5000</td>\n",
       "      <td>NaN</td>\n",
       "      <td>7.00</td>\n",
       "      <td>透天厝/分租套房</td>\n",
       "    </tr>\n",
       "    <tr>\n",
       "      <th>5</th>\n",
       "      <td>https://rent.591.com.tw/rent-detail-1633388.html</td>\n",
       "      <td>2017-05-12</td>\n",
       "      <td>近捷運，採光佳，有景觀，全新家電裝潢</td>\n",
       "      <td>新北市淡水區民族路</td>\n",
       "      <td>9F/11F</td>\n",
       "      <td>22000</td>\n",
       "      <td>2房1廳1衛1陽臺</td>\n",
       "      <td>24.00</td>\n",
       "      <td>電梯大樓/整層住家</td>\n",
       "    </tr>\n",
       "    <tr>\n",
       "      <th>6</th>\n",
       "      <td>https://rent.591.com.tw/rent-detail-1299940.html</td>\n",
       "      <td>2017-05-14</td>\n",
       "      <td>近明新、台元/全新完工/飯店式電梯套房</td>\n",
       "      <td>新竹縣新豐鄉康樂路一段</td>\n",
       "      <td>3F/5F</td>\n",
       "      <td>6500</td>\n",
       "      <td>NaN</td>\n",
       "      <td>7.00</td>\n",
       "      <td>電梯大樓/雅房</td>\n",
       "    </tr>\n",
       "    <tr>\n",
       "      <th>7</th>\n",
       "      <td>https://rent.591.com.tw/rent-detail-1051432.html</td>\n",
       "      <td>2017-05-14</td>\n",
       "      <td>附網路電視包水費!離逢甲商圈近</td>\n",
       "      <td>台中市西屯區西屯路二段</td>\n",
       "      <td>3F/5F</td>\n",
       "      <td>3000</td>\n",
       "      <td>NaN</td>\n",
       "      <td>4.00</td>\n",
       "      <td>透天厝/雅房</td>\n",
       "    </tr>\n",
       "    <tr>\n",
       "      <th>8</th>\n",
       "      <td>https://rent.591.com.tw/rent-detail-2039449.html</td>\n",
       "      <td>2017-05-13</td>\n",
       "      <td>逢甲大學-有陽台的套房(獨立水電錶)</td>\n",
       "      <td>台中市西屯區至善路</td>\n",
       "      <td>10F/14F</td>\n",
       "      <td>6800</td>\n",
       "      <td>NaN</td>\n",
       "      <td>9.00</td>\n",
       "      <td>電梯大樓/獨立套房</td>\n",
       "    </tr>\n",
       "    <tr>\n",
       "      <th>9</th>\n",
       "      <td>https://rent.591.com.tw/rent-detail-1245175.html</td>\n",
       "      <td>2017-05-14</td>\n",
       "      <td>大衛營優質社區管理好，交通便利、裝潢佳</td>\n",
       "      <td>基隆市安樂區樂利三街</td>\n",
       "      <td>14F/18F</td>\n",
       "      <td>17000</td>\n",
       "      <td>2房1廳2衛2陽臺</td>\n",
       "      <td>32.00</td>\n",
       "      <td>電梯大樓/整層住家</td>\n",
       "    </tr>\n",
       "    <tr>\n",
       "      <th>10</th>\n",
       "      <td>https://rent.591.com.tw/rent-detail-1902990.html</td>\n",
       "      <td>2017-05-12</td>\n",
       "      <td>絕美煙波美裝潢套房出租</td>\n",
       "      <td>新竹市東區明湖路</td>\n",
       "      <td>3F/8F</td>\n",
       "      <td>10000</td>\n",
       "      <td>NaN</td>\n",
       "      <td>10.50</td>\n",
       "      <td>電梯大樓/獨立套房</td>\n",
       "    </tr>\n",
       "    <tr>\n",
       "      <th>11</th>\n",
       "      <td>https://rent.591.com.tw/rent-detail-1944741.html</td>\n",
       "      <td>2017-05-14</td>\n",
       "      <td>政大靜巷優質(女)套房，可住雙人</td>\n",
       "      <td>台北市文山區指南路二段</td>\n",
       "      <td>5F/5F</td>\n",
       "      <td>10000</td>\n",
       "      <td>NaN</td>\n",
       "      <td>6.00</td>\n",
       "      <td>公寓/獨立套房</td>\n",
       "    </tr>\n",
       "    <tr>\n",
       "      <th>12</th>\n",
       "      <td>https://rent.591.com.tw/rent-detail-1548846.html</td>\n",
       "      <td>2017-05-14</td>\n",
       "      <td>5樓透天近北新國中\\\\\\'四維國小\\\\\\'財神廟</td>\n",
       "      <td>台中市北屯區瀋陽路三段</td>\n",
       "      <td>1F/5F</td>\n",
       "      <td>16000</td>\n",
       "      <td>NaN</td>\n",
       "      <td>19.00</td>\n",
       "      <td>透天厝/辦公</td>\n",
       "    </tr>\n",
       "    <tr>\n",
       "      <th>13</th>\n",
       "      <td>https://rent.591.com.tw/rent-detail-2042141.html</td>\n",
       "      <td>2017-05-14</td>\n",
       "      <td>家樂福夜市附近，雅房出租2房2廳</td>\n",
       "      <td>嘉義市西區興業西路</td>\n",
       "      <td>7F/8F</td>\n",
       "      <td>7500</td>\n",
       "      <td>2房2廳1衛1陽臺</td>\n",
       "      <td>24.00</td>\n",
       "      <td>電梯大樓/整層住家</td>\n",
       "    </tr>\n",
       "    <tr>\n",
       "      <th>14</th>\n",
       "      <td>https://rent.591.com.tw/rent-detail-1326087.html</td>\n",
       "      <td>2017-05-13</td>\n",
       "      <td>七張捷運站旁大馬路邊獨立式套房</td>\n",
       "      <td>新北市新店區寶橋路</td>\n",
       "      <td>3F/7F</td>\n",
       "      <td>11000</td>\n",
       "      <td>NaN</td>\n",
       "      <td>10.00</td>\n",
       "      <td>電梯大樓/獨立套房</td>\n",
       "    </tr>\n",
       "    <tr>\n",
       "      <th>15</th>\n",
       "      <td>https://rent.591.com.tw/rent-detail-2037235.html</td>\n",
       "      <td>2017-05-14</td>\n",
       "      <td>台北市北投新民路捷運溫泉78坪雙拼美廈</td>\n",
       "      <td>台北市北投區新民路</td>\n",
       "      <td>2F/9F</td>\n",
       "      <td>25000</td>\n",
       "      <td>4房3廳3衛3陽臺</td>\n",
       "      <td>78.00</td>\n",
       "      <td>電梯大樓/整層住家</td>\n",
       "    </tr>\n",
       "    <tr>\n",
       "      <th>16</th>\n",
       "      <td>https://rent.591.com.tw/rent-detail-2226232.html</td>\n",
       "      <td>2017-05-13</td>\n",
       "      <td>出海口海景高樓層溫馨房</td>\n",
       "      <td>新北市淡水區中正東路一段</td>\n",
       "      <td>19F/21F</td>\n",
       "      <td>15000</td>\n",
       "      <td>1房1廳1衛0陽臺</td>\n",
       "      <td>18.01</td>\n",
       "      <td>電梯大樓/整層住家</td>\n",
       "    </tr>\n",
       "    <tr>\n",
       "      <th>17</th>\n",
       "      <td>https://rent.591.com.tw/rent-detail-1601466.html</td>\n",
       "      <td>2017-05-15</td>\n",
       "      <td>新四房兩廳鄰合晶科技歡迎分租</td>\n",
       "      <td>桃園市楊梅區蘋果路</td>\n",
       "      <td>整棟/3F</td>\n",
       "      <td>23000</td>\n",
       "      <td>4房2廳2衛3陽臺</td>\n",
       "      <td>48.00</td>\n",
       "      <td>透天厝/住辦</td>\n",
       "    </tr>\n",
       "    <tr>\n",
       "      <th>18</th>\n",
       "      <td>https://rent.591.com.tw/rent-detail-2107855.html</td>\n",
       "      <td>2017-05-09</td>\n",
       "      <td>嘉義大學附近,交通便利</td>\n",
       "      <td>嘉義市東區學府路</td>\n",
       "      <td>1F/2F</td>\n",
       "      <td>3000</td>\n",
       "      <td>NaN</td>\n",
       "      <td>5.00</td>\n",
       "      <td>透天厝/獨立套房</td>\n",
       "    </tr>\n",
       "    <tr>\n",
       "      <th>19</th>\n",
       "      <td>https://rent.591.com.tw/rent-detail-2031537.html</td>\n",
       "      <td>2017-05-15</td>\n",
       "      <td>近台東大學優質平價套房</td>\n",
       "      <td>台東縣台東市豐盛路</td>\n",
       "      <td>1F/2F</td>\n",
       "      <td>3900</td>\n",
       "      <td>NaN</td>\n",
       "      <td>5.00</td>\n",
       "      <td>透天厝/獨立套房</td>\n",
       "    </tr>\n",
       "    <tr>\n",
       "      <th>20</th>\n",
       "      <td>https://rent.591.com.tw/rent-detail-1954040.html</td>\n",
       "      <td>2017-05-13</td>\n",
       "      <td>小巨捷運敦化學區樓中樓可三代同堂兼辦公</td>\n",
       "      <td>台北市松山區北寧路</td>\n",
       "      <td>5F/7F</td>\n",
       "      <td>70000</td>\n",
       "      <td>7房2廳2衛1陽臺</td>\n",
       "      <td>66.35</td>\n",
       "      <td>電梯大樓/整層住家</td>\n",
       "    </tr>\n",
       "    <tr>\n",
       "      <th>21</th>\n",
       "      <td>https://rent.591.com.tw/rent-detail-2206861.html</td>\n",
       "      <td>2017-05-15</td>\n",
       "      <td>全新裝潢，高級衛浴乾濕分離單人套房</td>\n",
       "      <td>彰化縣彰化市民族路</td>\n",
       "      <td>3F/4F</td>\n",
       "      <td>5000</td>\n",
       "      <td>NaN</td>\n",
       "      <td>5.00</td>\n",
       "      <td>透天厝/獨立套房</td>\n",
       "    </tr>\n",
       "    <tr>\n",
       "      <th>22</th>\n",
       "      <td>https://rent.591.com.tw/rent-detail-1392595.html</td>\n",
       "      <td>2017-05-13</td>\n",
       "      <td>台北東京*套房自租</td>\n",
       "      <td>桃園市桃園區大有路</td>\n",
       "      <td>12F/17F</td>\n",
       "      <td>7000</td>\n",
       "      <td>NaN</td>\n",
       "      <td>10.00</td>\n",
       "      <td>電梯大樓/獨立套房</td>\n",
       "    </tr>\n",
       "    <tr>\n",
       "      <th>23</th>\n",
       "      <td>https://rent.591.com.tw/rent-detail-2259478.html</td>\n",
       "      <td>2017-05-13</td>\n",
       "      <td>市區中心獨立套房(近市區.銀行.學校)</td>\n",
       "      <td>台中市后里區民生路</td>\n",
       "      <td>2F/3F</td>\n",
       "      <td>5500</td>\n",
       "      <td>NaN</td>\n",
       "      <td>8.00</td>\n",
       "      <td>透天厝/獨立套房</td>\n",
       "    </tr>\n",
       "    <tr>\n",
       "      <th>24</th>\n",
       "      <td>https://rent.591.com.tw/rent-detail-2238354.html</td>\n",
       "      <td>2017-05-12</td>\n",
       "      <td>優質套房出租</td>\n",
       "      <td>新竹縣新豐鄉松林村</td>\n",
       "      <td>2F/4F</td>\n",
       "      <td>6000</td>\n",
       "      <td>NaN</td>\n",
       "      <td>8.00</td>\n",
       "      <td>透天厝/獨立套房</td>\n",
       "    </tr>\n",
       "    <tr>\n",
       "      <th>25</th>\n",
       "      <td>https://rent.591.com.tw/rent-detail-1891394.html</td>\n",
       "      <td>2017-05-13</td>\n",
       "      <td>成大暑期短/長mei0926108395</td>\n",
       "      <td>台南市東區光明街</td>\n",
       "      <td>1F/4F</td>\n",
       "      <td>5400</td>\n",
       "      <td>NaN</td>\n",
       "      <td>7.00</td>\n",
       "      <td>透天厝/獨立套房</td>\n",
       "    </tr>\n",
       "    <tr>\n",
       "      <th>26</th>\n",
       "      <td>https://rent.591.com.tw/rent-detail-2217774.html</td>\n",
       "      <td>2017-05-12</td>\n",
       "      <td>住辦，住家，店面</td>\n",
       "      <td>新竹縣竹北市新泰路</td>\n",
       "      <td>4F/9F</td>\n",
       "      <td>50000</td>\n",
       "      <td>3房2廳2衛0陽臺</td>\n",
       "      <td>45.00</td>\n",
       "      <td>透天厝/整層住家</td>\n",
       "    </tr>\n",
       "    <tr>\n",
       "      <th>27</th>\n",
       "      <td>https://rent.591.com.tw/rent-detail-2296316.html</td>\n",
       "      <td>2017-05-12</td>\n",
       "      <td>近新時代百貨精裝修電梯套房</td>\n",
       "      <td>台中市東區復興路四段</td>\n",
       "      <td>8F/10F</td>\n",
       "      <td>3200</td>\n",
       "      <td>NaN</td>\n",
       "      <td>5.00</td>\n",
       "      <td>電梯大樓/獨立套房</td>\n",
       "    </tr>\n",
       "    <tr>\n",
       "      <th>28</th>\n",
       "      <td>https://rent.591.com.tw/rent-detail-2030775.html</td>\n",
       "      <td>2017-05-12</td>\n",
       "      <td>健行路金店面-Ｔ路口紅綠燈下-具雙車位</td>\n",
       "      <td>桃園市桃園區健行路</td>\n",
       "      <td>1F/3F</td>\n",
       "      <td>39000</td>\n",
       "      <td>NaN</td>\n",
       "      <td>38.00</td>\n",
       "      <td>透天厝/店面</td>\n",
       "    </tr>\n",
       "    <tr>\n",
       "      <th>29</th>\n",
       "      <td>https://rent.591.com.tw/rent-detail-2227545.html</td>\n",
       "      <td>2017-05-14</td>\n",
       "      <td>全新優質套房出租..</td>\n",
       "      <td>台中市沙鹿區中山路</td>\n",
       "      <td>3F/4F</td>\n",
       "      <td>6500</td>\n",
       "      <td>NaN</td>\n",
       "      <td>10.00</td>\n",
       "      <td>透天厝/獨立套房</td>\n",
       "    </tr>\n",
       "    <tr>\n",
       "      <th>...</th>\n",
       "      <td>...</td>\n",
       "      <td>...</td>\n",
       "      <td>...</td>\n",
       "      <td>...</td>\n",
       "      <td>...</td>\n",
       "      <td>...</td>\n",
       "      <td>...</td>\n",
       "      <td>...</td>\n",
       "      <td>...</td>\n",
       "    </tr>\n",
       "    <tr>\n",
       "      <th>70285</th>\n",
       "      <td>https://rent.591.com.tw/rent-detail-5192824.html</td>\n",
       "      <td>2017-05-12</td>\n",
       "      <td>內壢美4房附部分家電</td>\n",
       "      <td>桃園市中壢區永華街</td>\n",
       "      <td>4F/4F</td>\n",
       "      <td>12800</td>\n",
       "      <td>4房2廳1衛0陽臺</td>\n",
       "      <td>30.00</td>\n",
       "      <td>公寓/整層住家</td>\n",
       "    </tr>\n",
       "    <tr>\n",
       "      <th>70286</th>\n",
       "      <td>https://rent.591.com.tw/rent-detail-5192828.html</td>\n",
       "      <td>2017-05-13</td>\n",
       "      <td>近公館捷運站景觀套房</td>\n",
       "      <td>台北市中正區汀洲路三段</td>\n",
       "      <td>5F/7F</td>\n",
       "      <td>9500</td>\n",
       "      <td>1房0廳1衛0陽臺</td>\n",
       "      <td>5.00</td>\n",
       "      <td>公寓/整層住家</td>\n",
       "    </tr>\n",
       "    <tr>\n",
       "      <th>70287</th>\n",
       "      <td>https://rent.591.com.tw/rent-detail-5192836.html</td>\n",
       "      <td>2017-05-13</td>\n",
       "      <td>近中原夜市，中原大學</td>\n",
       "      <td>桃園市中壢區大仁一街</td>\n",
       "      <td>2F/6F</td>\n",
       "      <td>5000</td>\n",
       "      <td>NaN</td>\n",
       "      <td>14.00</td>\n",
       "      <td>電梯大樓/獨立套房</td>\n",
       "    </tr>\n",
       "    <tr>\n",
       "      <th>70288</th>\n",
       "      <td>https://rent.591.com.tw/rent-detail-5192845.html</td>\n",
       "      <td>2017-05-12</td>\n",
       "      <td>全新屋況設備景觀宅附停車位及\\\\機車位</td>\n",
       "      <td>桃園市楊梅區金山街</td>\n",
       "      <td>7F/15F</td>\n",
       "      <td>14000</td>\n",
       "      <td>2房1廳1衛2陽臺</td>\n",
       "      <td>30.50</td>\n",
       "      <td>電梯大樓/整層住家</td>\n",
       "    </tr>\n",
       "    <tr>\n",
       "      <th>70289</th>\n",
       "      <td>https://rent.591.com.tw/rent-detail-5192846.html</td>\n",
       "      <td>2017-05-13</td>\n",
       "      <td>四維路北大路交叉旁~近西門街西大路林森路</td>\n",
       "      <td>新竹市東區中山路</td>\n",
       "      <td>7F/10F</td>\n",
       "      <td>14000</td>\n",
       "      <td>NaN</td>\n",
       "      <td>13.00</td>\n",
       "      <td>電梯大樓/獨立套房</td>\n",
       "    </tr>\n",
       "    <tr>\n",
       "      <th>70290</th>\n",
       "      <td>https://rent.591.com.tw/rent-detail-5192866.html</td>\n",
       "      <td>2017-05-13</td>\n",
       "      <td>振興路中華路三段交叉旁四維路近中華路二段</td>\n",
       "      <td>新竹市東區林森路</td>\n",
       "      <td>3F/10F</td>\n",
       "      <td>16000</td>\n",
       "      <td>NaN</td>\n",
       "      <td>15.00</td>\n",
       "      <td>電梯大樓/獨立套房</td>\n",
       "    </tr>\n",
       "    <tr>\n",
       "      <th>70291</th>\n",
       "      <td>https://rent.591.com.tw/rent-detail-5192869.html</td>\n",
       "      <td>2017-05-13</td>\n",
       "      <td>新竹租屋-園區優3房傢電全附平車超大露台</td>\n",
       "      <td>新竹市東區慈雲路</td>\n",
       "      <td>15F/16F</td>\n",
       "      <td>24000</td>\n",
       "      <td>3房2廳2衛2陽臺</td>\n",
       "      <td>55.00</td>\n",
       "      <td>電梯大樓/整層住家</td>\n",
       "    </tr>\n",
       "    <tr>\n",
       "      <th>70292</th>\n",
       "      <td>https://rent.591.com.tw/rent-detail-5192888.html</td>\n",
       "      <td>2017-05-12</td>\n",
       "      <td>全新中科逢甲電梯套房，獨洗獨曬多戶可選</td>\n",
       "      <td>台中市北屯區崇德十路二段</td>\n",
       "      <td>2F/5F</td>\n",
       "      <td>7500</td>\n",
       "      <td>NaN</td>\n",
       "      <td>5.50</td>\n",
       "      <td>別墅/獨立套房</td>\n",
       "    </tr>\n",
       "    <tr>\n",
       "      <th>70293</th>\n",
       "      <td>https://rent.591.com.tw/rent-detail-5192907.html</td>\n",
       "      <td>2017-05-12</td>\n",
       "      <td>近捷運新店站光明小吃街碧潭風景區大潤發</td>\n",
       "      <td>新北市新店區光明街</td>\n",
       "      <td>4F/5F</td>\n",
       "      <td>20000</td>\n",
       "      <td>2房1廳1衛1陽臺</td>\n",
       "      <td>20.00</td>\n",
       "      <td>公寓/整層住家</td>\n",
       "    </tr>\n",
       "    <tr>\n",
       "      <th>70294</th>\n",
       "      <td>https://rent.591.com.tw/rent-detail-5192912.html</td>\n",
       "      <td>2017-05-12</td>\n",
       "      <td>[捷運高鐵特區]宜誠青埔市-附家具洗衣機</td>\n",
       "      <td>桃園市大園區領航北路四段</td>\n",
       "      <td>9F/10F</td>\n",
       "      <td>15000</td>\n",
       "      <td>3房2廳2衛0陽臺</td>\n",
       "      <td>38.00</td>\n",
       "      <td>電梯大樓/整層住家</td>\n",
       "    </tr>\n",
       "    <tr>\n",
       "      <th>70295</th>\n",
       "      <td>https://rent.591.com.tw/rent-detail-5192922.html</td>\n",
       "      <td>2017-05-12</td>\n",
       "      <td>近雲科大精緻裝潢，全新傢俱家電也可售屋</td>\n",
       "      <td>雲林縣斗六市江厝路</td>\n",
       "      <td>4F/5F</td>\n",
       "      <td>12000</td>\n",
       "      <td>4房2廳2衛4陽臺</td>\n",
       "      <td>45.00</td>\n",
       "      <td>公寓/整層住家</td>\n",
       "    </tr>\n",
       "    <tr>\n",
       "      <th>70296</th>\n",
       "      <td>https://rent.591.com.tw/rent-detail-5192926.html</td>\n",
       "      <td>2017-05-12</td>\n",
       "      <td>首選大氣格局滿足挑剔的你</td>\n",
       "      <td>桃園市中壢區新生路三段</td>\n",
       "      <td>8F/15F</td>\n",
       "      <td>25000</td>\n",
       "      <td>3房2廳2衛2陽臺</td>\n",
       "      <td>30.00</td>\n",
       "      <td>電梯大樓/整層住家</td>\n",
       "    </tr>\n",
       "    <tr>\n",
       "      <th>70297</th>\n",
       "      <td>https://rent.591.com.tw/rent-detail-5192934.html</td>\n",
       "      <td>2017-05-12</td>\n",
       "      <td>近內科德明,獨立陽台雅房釋出</td>\n",
       "      <td>台北市內湖區環山路二段</td>\n",
       "      <td>5F/5F</td>\n",
       "      <td>9000</td>\n",
       "      <td>NaN</td>\n",
       "      <td>8.00</td>\n",
       "      <td>公寓/雅房</td>\n",
       "    </tr>\n",
       "    <tr>\n",
       "      <th>70298</th>\n",
       "      <td>https://rent.591.com.tw/rent-detail-5192942.html</td>\n",
       "      <td>2017-05-12</td>\n",
       "      <td>台南市佳里區雅房出租＊仲介勿擾＊</td>\n",
       "      <td>台南市佳里區塭仔內</td>\n",
       "      <td>2F/3F</td>\n",
       "      <td>4000</td>\n",
       "      <td>NaN</td>\n",
       "      <td>7.00</td>\n",
       "      <td>透天厝/雅房</td>\n",
       "    </tr>\n",
       "    <tr>\n",
       "      <th>70299</th>\n",
       "      <td>https://rent.591.com.tw/rent-detail-5192983.html</td>\n",
       "      <td>2017-05-12</td>\n",
       "      <td>屋況佳生活機能棒附家俱</td>\n",
       "      <td>新北市汐止區福德一路</td>\n",
       "      <td>5F/5F</td>\n",
       "      <td>7800</td>\n",
       "      <td>NaN</td>\n",
       "      <td>8.00</td>\n",
       "      <td>透天厝/獨立套房</td>\n",
       "    </tr>\n",
       "    <tr>\n",
       "      <th>70300</th>\n",
       "      <td>https://rent.591.com.tw/rent-detail-5192991.html</td>\n",
       "      <td>2017-05-12</td>\n",
       "      <td>文心西屯~五臟俱全簡潔套房《屋主自租》</td>\n",
       "      <td>台中市西屯區洛陽路</td>\n",
       "      <td>6F/6F</td>\n",
       "      <td>5800</td>\n",
       "      <td>NaN</td>\n",
       "      <td>5.00</td>\n",
       "      <td>公寓/獨立套房</td>\n",
       "    </tr>\n",
       "    <tr>\n",
       "      <th>70301</th>\n",
       "      <td>https://rent.591.com.tw/rent-detail-5193013.html</td>\n",
       "      <td>2017-05-12</td>\n",
       "      <td>中原大學、中原商圈、學生優惠</td>\n",
       "      <td>桃園市中壢區新中北路</td>\n",
       "      <td>5F/7F</td>\n",
       "      <td>5000</td>\n",
       "      <td>NaN</td>\n",
       "      <td>10.00</td>\n",
       "      <td>電梯大樓/獨立套房</td>\n",
       "    </tr>\n",
       "    <tr>\n",
       "      <th>70302</th>\n",
       "      <td>https://rent.591.com.tw/rent-detail-5193057.html</td>\n",
       "      <td>2017-05-12</td>\n",
       "      <td>近振興街磺溪名社區●2房超寬敞空間含車位</td>\n",
       "      <td>台北市北投區天母西路</td>\n",
       "      <td>3F/23F</td>\n",
       "      <td>170000</td>\n",
       "      <td>2房2廳3衛3陽臺</td>\n",
       "      <td>101.77</td>\n",
       "      <td>電梯大樓/整層住家</td>\n",
       "    </tr>\n",
       "    <tr>\n",
       "      <th>70303</th>\n",
       "      <td>https://rent.591.com.tw/rent-detail-5193064.html</td>\n",
       "      <td>2017-05-13</td>\n",
       "      <td>成大夢時代超值套房(包水、網路)</td>\n",
       "      <td>台南市東區東寧路</td>\n",
       "      <td>4F/5F</td>\n",
       "      <td>4200</td>\n",
       "      <td>NaN</td>\n",
       "      <td>6.00</td>\n",
       "      <td>透天厝/獨立套房</td>\n",
       "    </tr>\n",
       "    <tr>\n",
       "      <th>70304</th>\n",
       "      <td>https://rent.591.com.tw/rent-detail-5193073.html</td>\n",
       "      <td>2017-05-12</td>\n",
       "      <td>好山好水...棒啦!!</td>\n",
       "      <td>新北市汐止區汐萬路二段</td>\n",
       "      <td>15F/15F</td>\n",
       "      <td>8500</td>\n",
       "      <td>1房1廳1衛1陽臺</td>\n",
       "      <td>13.60</td>\n",
       "      <td>電梯大樓/整層住家</td>\n",
       "    </tr>\n",
       "    <tr>\n",
       "      <th>70305</th>\n",
       "      <td>https://rent.591.com.tw/rent-detail-5193089.html</td>\n",
       "      <td>2017-05-12</td>\n",
       "      <td>全新裝潢刷卡門禁近高應大步行2分上學</td>\n",
       "      <td>高雄市三民區建工路</td>\n",
       "      <td>3F/4F</td>\n",
       "      <td>5800</td>\n",
       "      <td>NaN</td>\n",
       "      <td>7.00</td>\n",
       "      <td>透天厝/獨立套房</td>\n",
       "    </tr>\n",
       "    <tr>\n",
       "      <th>70306</th>\n",
       "      <td>https://rent.591.com.tw/rent-detail-5193091.html</td>\n",
       "      <td>2017-05-12</td>\n",
       "      <td>租瑞光路隔間辦公室87519898進捷運</td>\n",
       "      <td>台北市內湖區瑞光路</td>\n",
       "      <td>8F/8F</td>\n",
       "      <td>135000</td>\n",
       "      <td>NaN</td>\n",
       "      <td>91.00</td>\n",
       "      <td>電梯大樓/辦公</td>\n",
       "    </tr>\n",
       "    <tr>\n",
       "      <th>70307</th>\n",
       "      <td>https://rent.591.com.tw/rent-detail-5193105.html</td>\n",
       "      <td>2017-05-13</td>\n",
       "      <td>運動套房❤貓奴首選❤陽台獨洗❤台電計費</td>\n",
       "      <td>台中市北區太原路三段</td>\n",
       "      <td>5F/6F</td>\n",
       "      <td>6499</td>\n",
       "      <td>NaN</td>\n",
       "      <td>10.00</td>\n",
       "      <td>公寓/獨立套房</td>\n",
       "    </tr>\n",
       "    <tr>\n",
       "      <th>70308</th>\n",
       "      <td>https://rent.591.com.tw/rent-detail-5193118.html</td>\n",
       "      <td>2017-05-12</td>\n",
       "      <td>斗六九老爺西廂平房</td>\n",
       "      <td>雲林縣斗六市久安中路</td>\n",
       "      <td>1F/1F</td>\n",
       "      <td>8000</td>\n",
       "      <td>3房2廳2衛0陽臺</td>\n",
       "      <td>50.00</td>\n",
       "      <td>透天厝/整層住家</td>\n",
       "    </tr>\n",
       "    <tr>\n",
       "      <th>70309</th>\n",
       "      <td>https://rent.591.com.tw/rent-detail-5193127.html</td>\n",
       "      <td>2017-05-12</td>\n",
       "      <td>東山套房❤陽台獨洗❤系統家具❤即刻入住</td>\n",
       "      <td>台中市北區太原路三段</td>\n",
       "      <td>3F/5F</td>\n",
       "      <td>6799</td>\n",
       "      <td>NaN</td>\n",
       "      <td>10.00</td>\n",
       "      <td>透天厝/獨立套房</td>\n",
       "    </tr>\n",
       "    <tr>\n",
       "      <th>70310</th>\n",
       "      <td>https://rent.591.com.tw/rent-detail-5193159.html</td>\n",
       "      <td>2017-05-12</td>\n",
       "      <td>民權路交叉近民族路民生路~遠東巨城百貨旁</td>\n",
       "      <td>新竹市東區中華路二段</td>\n",
       "      <td>5F/10F</td>\n",
       "      <td>13500</td>\n",
       "      <td>NaN</td>\n",
       "      <td>8.00</td>\n",
       "      <td>電梯大樓/獨立套房</td>\n",
       "    </tr>\n",
       "    <tr>\n",
       "      <th>70311</th>\n",
       "      <td>https://rent.591.com.tw/rent-detail-5193163.html</td>\n",
       "      <td>2017-05-12</td>\n",
       "      <td>愛河景觀大套房</td>\n",
       "      <td>高雄市前金區大同二路</td>\n",
       "      <td>10F/12F</td>\n",
       "      <td>8800</td>\n",
       "      <td>NaN</td>\n",
       "      <td>19.00</td>\n",
       "      <td>電梯大樓/獨立套房</td>\n",
       "    </tr>\n",
       "    <tr>\n",
       "      <th>70312</th>\n",
       "      <td>https://rent.591.com.tw/rent-detail-5193164.html</td>\n",
       "      <td>2017-05-12</td>\n",
       "      <td>全新未住~時尚單人床~歡迎入住逢甲</td>\n",
       "      <td>台中市西屯區福星路</td>\n",
       "      <td>2F/4F</td>\n",
       "      <td>5999</td>\n",
       "      <td>NaN</td>\n",
       "      <td>6.00</td>\n",
       "      <td>透天厝/獨立套房</td>\n",
       "    </tr>\n",
       "    <tr>\n",
       "      <th>70313</th>\n",
       "      <td>https://rent.591.com.tw/rent-detail-5193215.html</td>\n",
       "      <td>2017-05-12</td>\n",
       "      <td>＜超值學生雅房＞設備齊全！全都包！</td>\n",
       "      <td>高雄市大社區中華路</td>\n",
       "      <td>3F/3F</td>\n",
       "      <td>3300</td>\n",
       "      <td>NaN</td>\n",
       "      <td>5.00</td>\n",
       "      <td>透天厝/雅房</td>\n",
       "    </tr>\n",
       "    <tr>\n",
       "      <th>70314</th>\n",
       "      <td>https://rent.591.com.tw/rent-detail-5193225.html</td>\n",
       "      <td>2017-05-12</td>\n",
       "      <td>近捷運中山站【全新電梯小豪邸】獨立洗衣機</td>\n",
       "      <td>台北市大同區太原路</td>\n",
       "      <td>3F/20F</td>\n",
       "      <td>17000</td>\n",
       "      <td>NaN</td>\n",
       "      <td>10.00</td>\n",
       "      <td>電梯大樓/獨立套房</td>\n",
       "    </tr>\n",
       "  </tbody>\n",
       "</table>\n",
       "<p>70315 rows × 9 columns</p>\n",
       "</div>"
      ],
      "text/plain": [
       "                                             detail_url search_date  \\\n",
       "﻿                                                                     \n",
       "0      https://rent.591.com.tw/rent-detail-1050934.html  2017-05-14   \n",
       "1      https://rent.591.com.tw/rent-detail-1008046.html  2017-05-14   \n",
       "2      https://rent.591.com.tw/rent-detail-1586266.html  2017-05-12   \n",
       "3      https://rent.591.com.tw/rent-detail-1699948.html  2017-05-13   \n",
       "4      https://rent.591.com.tw/rent-detail-1404725.html  2017-05-12   \n",
       "5      https://rent.591.com.tw/rent-detail-1633388.html  2017-05-12   \n",
       "6      https://rent.591.com.tw/rent-detail-1299940.html  2017-05-14   \n",
       "7      https://rent.591.com.tw/rent-detail-1051432.html  2017-05-14   \n",
       "8      https://rent.591.com.tw/rent-detail-2039449.html  2017-05-13   \n",
       "9      https://rent.591.com.tw/rent-detail-1245175.html  2017-05-14   \n",
       "10     https://rent.591.com.tw/rent-detail-1902990.html  2017-05-12   \n",
       "11     https://rent.591.com.tw/rent-detail-1944741.html  2017-05-14   \n",
       "12     https://rent.591.com.tw/rent-detail-1548846.html  2017-05-14   \n",
       "13     https://rent.591.com.tw/rent-detail-2042141.html  2017-05-14   \n",
       "14     https://rent.591.com.tw/rent-detail-1326087.html  2017-05-13   \n",
       "15     https://rent.591.com.tw/rent-detail-2037235.html  2017-05-14   \n",
       "16     https://rent.591.com.tw/rent-detail-2226232.html  2017-05-13   \n",
       "17     https://rent.591.com.tw/rent-detail-1601466.html  2017-05-15   \n",
       "18     https://rent.591.com.tw/rent-detail-2107855.html  2017-05-09   \n",
       "19     https://rent.591.com.tw/rent-detail-2031537.html  2017-05-15   \n",
       "20     https://rent.591.com.tw/rent-detail-1954040.html  2017-05-13   \n",
       "21     https://rent.591.com.tw/rent-detail-2206861.html  2017-05-15   \n",
       "22     https://rent.591.com.tw/rent-detail-1392595.html  2017-05-13   \n",
       "23     https://rent.591.com.tw/rent-detail-2259478.html  2017-05-13   \n",
       "24     https://rent.591.com.tw/rent-detail-2238354.html  2017-05-12   \n",
       "25     https://rent.591.com.tw/rent-detail-1891394.html  2017-05-13   \n",
       "26     https://rent.591.com.tw/rent-detail-2217774.html  2017-05-12   \n",
       "27     https://rent.591.com.tw/rent-detail-2296316.html  2017-05-12   \n",
       "28     https://rent.591.com.tw/rent-detail-2030775.html  2017-05-12   \n",
       "29     https://rent.591.com.tw/rent-detail-2227545.html  2017-05-14   \n",
       "...                                                 ...         ...   \n",
       "70285  https://rent.591.com.tw/rent-detail-5192824.html  2017-05-12   \n",
       "70286  https://rent.591.com.tw/rent-detail-5192828.html  2017-05-13   \n",
       "70287  https://rent.591.com.tw/rent-detail-5192836.html  2017-05-13   \n",
       "70288  https://rent.591.com.tw/rent-detail-5192845.html  2017-05-12   \n",
       "70289  https://rent.591.com.tw/rent-detail-5192846.html  2017-05-13   \n",
       "70290  https://rent.591.com.tw/rent-detail-5192866.html  2017-05-13   \n",
       "70291  https://rent.591.com.tw/rent-detail-5192869.html  2017-05-13   \n",
       "70292  https://rent.591.com.tw/rent-detail-5192888.html  2017-05-12   \n",
       "70293  https://rent.591.com.tw/rent-detail-5192907.html  2017-05-12   \n",
       "70294  https://rent.591.com.tw/rent-detail-5192912.html  2017-05-12   \n",
       "70295  https://rent.591.com.tw/rent-detail-5192922.html  2017-05-12   \n",
       "70296  https://rent.591.com.tw/rent-detail-5192926.html  2017-05-12   \n",
       "70297  https://rent.591.com.tw/rent-detail-5192934.html  2017-05-12   \n",
       "70298  https://rent.591.com.tw/rent-detail-5192942.html  2017-05-12   \n",
       "70299  https://rent.591.com.tw/rent-detail-5192983.html  2017-05-12   \n",
       "70300  https://rent.591.com.tw/rent-detail-5192991.html  2017-05-12   \n",
       "70301  https://rent.591.com.tw/rent-detail-5193013.html  2017-05-12   \n",
       "70302  https://rent.591.com.tw/rent-detail-5193057.html  2017-05-12   \n",
       "70303  https://rent.591.com.tw/rent-detail-5193064.html  2017-05-13   \n",
       "70304  https://rent.591.com.tw/rent-detail-5193073.html  2017-05-12   \n",
       "70305  https://rent.591.com.tw/rent-detail-5193089.html  2017-05-12   \n",
       "70306  https://rent.591.com.tw/rent-detail-5193091.html  2017-05-12   \n",
       "70307  https://rent.591.com.tw/rent-detail-5193105.html  2017-05-13   \n",
       "70308  https://rent.591.com.tw/rent-detail-5193118.html  2017-05-12   \n",
       "70309  https://rent.591.com.tw/rent-detail-5193127.html  2017-05-12   \n",
       "70310  https://rent.591.com.tw/rent-detail-5193159.html  2017-05-12   \n",
       "70311  https://rent.591.com.tw/rent-detail-5193163.html  2017-05-12   \n",
       "70312  https://rent.591.com.tw/rent-detail-5193164.html  2017-05-12   \n",
       "70313  https://rent.591.com.tw/rent-detail-5193215.html  2017-05-12   \n",
       "70314  https://rent.591.com.tw/rent-detail-5193225.html  2017-05-12   \n",
       "\n",
       "                          title       address floor_info   price     layout  \\\n",
       "﻿                                                                             \n",
       "0           套房出租-近東方學院(六~八月可入住)     高雄市湖內區民生街      3F/3F    4500        NaN   \n",
       "1               好房子【聰明的你、妳快來租吧】     新北市蘆洲區長安街      4F/5F    7500        NaN   \n",
       "2            陽台大套房(獨立洗衣機)近頂溪捷運站   新北市永和區中山路一段     8F/12F   11000        NaN   \n",
       "3                   火車站附近~~優質套房     屏東縣潮州鎮六合路      3F/3F    5000        NaN   \n",
       "4                   觀音四維路優質陽台套房     桃園市觀音區四維路      4F/5F    5000        NaN   \n",
       "5            近捷運，採光佳，有景觀，全新家電裝潢     新北市淡水區民族路     9F/11F   22000  2房1廳1衛1陽臺   \n",
       "6           近明新、台元/全新完工/飯店式電梯套房   新竹縣新豐鄉康樂路一段      3F/5F    6500        NaN   \n",
       "7               附網路電視包水費!離逢甲商圈近   台中市西屯區西屯路二段      3F/5F    3000        NaN   \n",
       "8            逢甲大學-有陽台的套房(獨立水電錶)     台中市西屯區至善路    10F/14F    6800        NaN   \n",
       "9           大衛營優質社區管理好，交通便利、裝潢佳    基隆市安樂區樂利三街    14F/18F   17000  2房1廳2衛2陽臺   \n",
       "10                  絕美煙波美裝潢套房出租      新竹市東區明湖路      3F/8F   10000        NaN   \n",
       "11             政大靜巷優質(女)套房，可住雙人   台北市文山區指南路二段      5F/5F   10000        NaN   \n",
       "12     5樓透天近北新國中\\\\\\'四維國小\\\\\\'財神廟   台中市北屯區瀋陽路三段      1F/5F   16000        NaN   \n",
       "13             家樂福夜市附近，雅房出租2房2廳     嘉義市西區興業西路      7F/8F    7500  2房2廳1衛1陽臺   \n",
       "14              七張捷運站旁大馬路邊獨立式套房     新北市新店區寶橋路      3F/7F   11000        NaN   \n",
       "15          台北市北投新民路捷運溫泉78坪雙拼美廈     台北市北投區新民路      2F/9F   25000  4房3廳3衛3陽臺   \n",
       "16                  出海口海景高樓層溫馨房  新北市淡水區中正東路一段    19F/21F   15000  1房1廳1衛0陽臺   \n",
       "17               新四房兩廳鄰合晶科技歡迎分租     桃園市楊梅區蘋果路      整棟/3F   23000  4房2廳2衛3陽臺   \n",
       "18                  嘉義大學附近,交通便利      嘉義市東區學府路      1F/2F    3000        NaN   \n",
       "19                  近台東大學優質平價套房     台東縣台東市豐盛路      1F/2F    3900        NaN   \n",
       "20          小巨捷運敦化學區樓中樓可三代同堂兼辦公     台北市松山區北寧路      5F/7F   70000  7房2廳2衛1陽臺   \n",
       "21            全新裝潢，高級衛浴乾濕分離單人套房     彰化縣彰化市民族路      3F/4F    5000        NaN   \n",
       "22                    台北東京*套房自租     桃園市桃園區大有路    12F/17F    7000        NaN   \n",
       "23          市區中心獨立套房(近市區.銀行.學校)     台中市后里區民生路      2F/3F    5500        NaN   \n",
       "24                       優質套房出租     新竹縣新豐鄉松林村      2F/4F    6000        NaN   \n",
       "25         成大暑期短/長mei0926108395      台南市東區光明街      1F/4F    5400        NaN   \n",
       "26                     住辦，住家，店面     新竹縣竹北市新泰路      4F/9F   50000  3房2廳2衛0陽臺   \n",
       "27                近新時代百貨精裝修電梯套房    台中市東區復興路四段     8F/10F    3200        NaN   \n",
       "28          健行路金店面-Ｔ路口紅綠燈下-具雙車位     桃園市桃園區健行路      1F/3F   39000        NaN   \n",
       "29                   全新優質套房出租..     台中市沙鹿區中山路      3F/4F    6500        NaN   \n",
       "...                         ...           ...        ...     ...        ...   \n",
       "70285                內壢美4房附部分家電     桃園市中壢區永華街      4F/4F   12800  4房2廳1衛0陽臺   \n",
       "70286                近公館捷運站景觀套房   台北市中正區汀洲路三段      5F/7F    9500  1房0廳1衛0陽臺   \n",
       "70287                近中原夜市，中原大學    桃園市中壢區大仁一街      2F/6F    5000        NaN   \n",
       "70288       全新屋況設備景觀宅附停車位及\\\\機車位     桃園市楊梅區金山街     7F/15F   14000  2房1廳1衛2陽臺   \n",
       "70289      四維路北大路交叉旁~近西門街西大路林森路      新竹市東區中山路     7F/10F   14000        NaN   \n",
       "70290      振興路中華路三段交叉旁四維路近中華路二段      新竹市東區林森路     3F/10F   16000        NaN   \n",
       "70291      新竹租屋-園區優3房傢電全附平車超大露台      新竹市東區慈雲路    15F/16F   24000  3房2廳2衛2陽臺   \n",
       "70292       全新中科逢甲電梯套房，獨洗獨曬多戶可選  台中市北屯區崇德十路二段      2F/5F    7500        NaN   \n",
       "70293       近捷運新店站光明小吃街碧潭風景區大潤發     新北市新店區光明街      4F/5F   20000  2房1廳1衛1陽臺   \n",
       "70294      [捷運高鐵特區]宜誠青埔市-附家具洗衣機  桃園市大園區領航北路四段     9F/10F   15000  3房2廳2衛0陽臺   \n",
       "70295       近雲科大精緻裝潢，全新傢俱家電也可售屋     雲林縣斗六市江厝路      4F/5F   12000  4房2廳2衛4陽臺   \n",
       "70296              首選大氣格局滿足挑剔的你   桃園市中壢區新生路三段     8F/15F   25000  3房2廳2衛2陽臺   \n",
       "70297            近內科德明,獨立陽台雅房釋出   台北市內湖區環山路二段      5F/5F    9000        NaN   \n",
       "70298          台南市佳里區雅房出租＊仲介勿擾＊     台南市佳里區塭仔內      2F/3F    4000        NaN   \n",
       "70299               屋況佳生活機能棒附家俱    新北市汐止區福德一路      5F/5F    7800        NaN   \n",
       "70300       文心西屯~五臟俱全簡潔套房《屋主自租》     台中市西屯區洛陽路      6F/6F    5800        NaN   \n",
       "70301            中原大學、中原商圈、學生優惠    桃園市中壢區新中北路      5F/7F    5000        NaN   \n",
       "70302      近振興街磺溪名社區●2房超寬敞空間含車位    台北市北投區天母西路     3F/23F  170000  2房2廳3衛3陽臺   \n",
       "70303          成大夢時代超值套房(包水、網路)      台南市東區東寧路      4F/5F    4200        NaN   \n",
       "70304               好山好水...棒啦!!   新北市汐止區汐萬路二段    15F/15F    8500  1房1廳1衛1陽臺   \n",
       "70305        全新裝潢刷卡門禁近高應大步行2分上學     高雄市三民區建工路      3F/4F    5800        NaN   \n",
       "70306      租瑞光路隔間辦公室87519898進捷運     台北市內湖區瑞光路      8F/8F  135000        NaN   \n",
       "70307       運動套房❤貓奴首選❤陽台獨洗❤台電計費    台中市北區太原路三段      5F/6F    6499        NaN   \n",
       "70308                 斗六九老爺西廂平房    雲林縣斗六市久安中路      1F/1F    8000  3房2廳2衛0陽臺   \n",
       "70309       東山套房❤陽台獨洗❤系統家具❤即刻入住    台中市北區太原路三段      3F/5F    6799        NaN   \n",
       "70310      民權路交叉近民族路民生路~遠東巨城百貨旁    新竹市東區中華路二段     5F/10F   13500        NaN   \n",
       "70311                   愛河景觀大套房    高雄市前金區大同二路    10F/12F    8800        NaN   \n",
       "70312         全新未住~時尚單人床~歡迎入住逢甲     台中市西屯區福星路      2F/4F    5999        NaN   \n",
       "70313         ＜超值學生雅房＞設備齊全！全都包！     高雄市大社區中華路      3F/3F    3300        NaN   \n",
       "70314      近捷運中山站【全新電梯小豪邸】獨立洗衣機     台北市大同區太原路     3F/20F   17000        NaN   \n",
       "\n",
       "       building_area building_use  \n",
       "﻿                                  \n",
       "0               6.00     透天厝/獨立套房  \n",
       "1              10.00     透天厝/獨立套房  \n",
       "2               8.00    電梯大樓/分租套房  \n",
       "3               8.00     透天厝/獨立套房  \n",
       "4               7.00     透天厝/分租套房  \n",
       "5              24.00    電梯大樓/整層住家  \n",
       "6               7.00      電梯大樓/雅房  \n",
       "7               4.00       透天厝/雅房  \n",
       "8               9.00    電梯大樓/獨立套房  \n",
       "9              32.00    電梯大樓/整層住家  \n",
       "10             10.50    電梯大樓/獨立套房  \n",
       "11              6.00      公寓/獨立套房  \n",
       "12             19.00       透天厝/辦公  \n",
       "13             24.00    電梯大樓/整層住家  \n",
       "14             10.00    電梯大樓/獨立套房  \n",
       "15             78.00    電梯大樓/整層住家  \n",
       "16             18.01    電梯大樓/整層住家  \n",
       "17             48.00       透天厝/住辦  \n",
       "18              5.00     透天厝/獨立套房  \n",
       "19              5.00     透天厝/獨立套房  \n",
       "20             66.35    電梯大樓/整層住家  \n",
       "21              5.00     透天厝/獨立套房  \n",
       "22             10.00    電梯大樓/獨立套房  \n",
       "23              8.00     透天厝/獨立套房  \n",
       "24              8.00     透天厝/獨立套房  \n",
       "25              7.00     透天厝/獨立套房  \n",
       "26             45.00     透天厝/整層住家  \n",
       "27              5.00    電梯大樓/獨立套房  \n",
       "28             38.00       透天厝/店面  \n",
       "29             10.00     透天厝/獨立套房  \n",
       "...              ...          ...  \n",
       "70285          30.00      公寓/整層住家  \n",
       "70286           5.00      公寓/整層住家  \n",
       "70287          14.00    電梯大樓/獨立套房  \n",
       "70288          30.50    電梯大樓/整層住家  \n",
       "70289          13.00    電梯大樓/獨立套房  \n",
       "70290          15.00    電梯大樓/獨立套房  \n",
       "70291          55.00    電梯大樓/整層住家  \n",
       "70292           5.50      別墅/獨立套房  \n",
       "70293          20.00      公寓/整層住家  \n",
       "70294          38.00    電梯大樓/整層住家  \n",
       "70295          45.00      公寓/整層住家  \n",
       "70296          30.00    電梯大樓/整層住家  \n",
       "70297           8.00        公寓/雅房  \n",
       "70298           7.00       透天厝/雅房  \n",
       "70299           8.00     透天厝/獨立套房  \n",
       "70300           5.00      公寓/獨立套房  \n",
       "70301          10.00    電梯大樓/獨立套房  \n",
       "70302         101.77    電梯大樓/整層住家  \n",
       "70303           6.00     透天厝/獨立套房  \n",
       "70304          13.60    電梯大樓/整層住家  \n",
       "70305           7.00     透天厝/獨立套房  \n",
       "70306          91.00      電梯大樓/辦公  \n",
       "70307          10.00      公寓/獨立套房  \n",
       "70308          50.00     透天厝/整層住家  \n",
       "70309          10.00     透天厝/獨立套房  \n",
       "70310           8.00    電梯大樓/獨立套房  \n",
       "70311          19.00    電梯大樓/獨立套房  \n",
       "70312           6.00     透天厝/獨立套房  \n",
       "70313           5.00       透天厝/雅房  \n",
       "70314          10.00    電梯大樓/獨立套房  \n",
       "\n",
       "[70315 rows x 9 columns]"
      ]
     },
     "execution_count": 107,
     "metadata": {},
     "output_type": "execute_result"
    }
   ],
   "source": [
    "df=df[['detail_url','search_date','title','address','floor_info','price','layout','building_area','building_use']]\n",
    "df"
   ]
  },
  {
   "cell_type": "code",
   "execution_count": 108,
   "metadata": {
    "collapsed": true
   },
   "outputs": [],
   "source": [
    "df['btype']=df['building_use'].map(lambda e:str(e).split('/')[0])\n",
    "df['buse'] =df['building_use'].map(lambda e:str(e).split('/')[1] if len(str(e).split('/'))>1 else None)"
   ]
  },
  {
   "cell_type": "code",
   "execution_count": 109,
   "metadata": {
    "collapsed": false
   },
   "outputs": [
    {
     "data": {
      "text/html": [
       "<div>\n",
       "<table border=\"1\" class=\"dataframe\">\n",
       "  <thead>\n",
       "    <tr style=\"text-align: right;\">\n",
       "      <th></th>\n",
       "      <th>detail_url</th>\n",
       "      <th>search_date</th>\n",
       "      <th>title</th>\n",
       "      <th>address</th>\n",
       "      <th>floor_info</th>\n",
       "      <th>price</th>\n",
       "      <th>layout</th>\n",
       "      <th>building_area</th>\n",
       "      <th>building_use</th>\n",
       "      <th>btype</th>\n",
       "      <th>buse</th>\n",
       "    </tr>\n",
       "    <tr>\n",
       "      <th>﻿</th>\n",
       "      <th></th>\n",
       "      <th></th>\n",
       "      <th></th>\n",
       "      <th></th>\n",
       "      <th></th>\n",
       "      <th></th>\n",
       "      <th></th>\n",
       "      <th></th>\n",
       "      <th></th>\n",
       "      <th></th>\n",
       "      <th></th>\n",
       "    </tr>\n",
       "  </thead>\n",
       "  <tbody>\n",
       "    <tr>\n",
       "      <th>0</th>\n",
       "      <td>https://rent.591.com.tw/rent-detail-1050934.html</td>\n",
       "      <td>2017-05-14</td>\n",
       "      <td>套房出租-近東方學院(六~八月可入住)</td>\n",
       "      <td>高雄市湖內區民生街</td>\n",
       "      <td>3F/3F</td>\n",
       "      <td>4500</td>\n",
       "      <td>NaN</td>\n",
       "      <td>6.0</td>\n",
       "      <td>透天厝/獨立套房</td>\n",
       "      <td>透天厝</td>\n",
       "      <td>獨立套房</td>\n",
       "    </tr>\n",
       "    <tr>\n",
       "      <th>1</th>\n",
       "      <td>https://rent.591.com.tw/rent-detail-1008046.html</td>\n",
       "      <td>2017-05-14</td>\n",
       "      <td>好房子【聰明的你、妳快來租吧】</td>\n",
       "      <td>新北市蘆洲區長安街</td>\n",
       "      <td>4F/5F</td>\n",
       "      <td>7500</td>\n",
       "      <td>NaN</td>\n",
       "      <td>10.0</td>\n",
       "      <td>透天厝/獨立套房</td>\n",
       "      <td>透天厝</td>\n",
       "      <td>獨立套房</td>\n",
       "    </tr>\n",
       "    <tr>\n",
       "      <th>2</th>\n",
       "      <td>https://rent.591.com.tw/rent-detail-1586266.html</td>\n",
       "      <td>2017-05-12</td>\n",
       "      <td>陽台大套房(獨立洗衣機)近頂溪捷運站</td>\n",
       "      <td>新北市永和區中山路一段</td>\n",
       "      <td>8F/12F</td>\n",
       "      <td>11000</td>\n",
       "      <td>NaN</td>\n",
       "      <td>8.0</td>\n",
       "      <td>電梯大樓/分租套房</td>\n",
       "      <td>電梯大樓</td>\n",
       "      <td>分租套房</td>\n",
       "    </tr>\n",
       "    <tr>\n",
       "      <th>3</th>\n",
       "      <td>https://rent.591.com.tw/rent-detail-1699948.html</td>\n",
       "      <td>2017-05-13</td>\n",
       "      <td>火車站附近~~優質套房</td>\n",
       "      <td>屏東縣潮州鎮六合路</td>\n",
       "      <td>3F/3F</td>\n",
       "      <td>5000</td>\n",
       "      <td>NaN</td>\n",
       "      <td>8.0</td>\n",
       "      <td>透天厝/獨立套房</td>\n",
       "      <td>透天厝</td>\n",
       "      <td>獨立套房</td>\n",
       "    </tr>\n",
       "    <tr>\n",
       "      <th>4</th>\n",
       "      <td>https://rent.591.com.tw/rent-detail-1404725.html</td>\n",
       "      <td>2017-05-12</td>\n",
       "      <td>觀音四維路優質陽台套房</td>\n",
       "      <td>桃園市觀音區四維路</td>\n",
       "      <td>4F/5F</td>\n",
       "      <td>5000</td>\n",
       "      <td>NaN</td>\n",
       "      <td>7.0</td>\n",
       "      <td>透天厝/分租套房</td>\n",
       "      <td>透天厝</td>\n",
       "      <td>分租套房</td>\n",
       "    </tr>\n",
       "  </tbody>\n",
       "</table>\n",
       "</div>"
      ],
      "text/plain": [
       "                                         detail_url search_date  \\\n",
       "﻿                                                                 \n",
       "0  https://rent.591.com.tw/rent-detail-1050934.html  2017-05-14   \n",
       "1  https://rent.591.com.tw/rent-detail-1008046.html  2017-05-14   \n",
       "2  https://rent.591.com.tw/rent-detail-1586266.html  2017-05-12   \n",
       "3  https://rent.591.com.tw/rent-detail-1699948.html  2017-05-13   \n",
       "4  https://rent.591.com.tw/rent-detail-1404725.html  2017-05-12   \n",
       "\n",
       "                 title      address floor_info  price layout  building_area  \\\n",
       "﻿                                                                             \n",
       "0  套房出租-近東方學院(六~八月可入住)    高雄市湖內區民生街      3F/3F   4500    NaN            6.0   \n",
       "1      好房子【聰明的你、妳快來租吧】    新北市蘆洲區長安街      4F/5F   7500    NaN           10.0   \n",
       "2   陽台大套房(獨立洗衣機)近頂溪捷運站  新北市永和區中山路一段     8F/12F  11000    NaN            8.0   \n",
       "3          火車站附近~~優質套房    屏東縣潮州鎮六合路      3F/3F   5000    NaN            8.0   \n",
       "4          觀音四維路優質陽台套房    桃園市觀音區四維路      4F/5F   5000    NaN            7.0   \n",
       "\n",
       "  building_use btype  buse  \n",
       "﻿                           \n",
       "0     透天厝/獨立套房   透天厝  獨立套房  \n",
       "1     透天厝/獨立套房   透天厝  獨立套房  \n",
       "2    電梯大樓/分租套房  電梯大樓  分租套房  \n",
       "3     透天厝/獨立套房   透天厝  獨立套房  \n",
       "4     透天厝/分租套房   透天厝  分租套房  "
      ]
     },
     "execution_count": 109,
     "metadata": {},
     "output_type": "execute_result"
    }
   ],
   "source": [
    "df.head()"
   ]
  },
  {
   "cell_type": "code",
   "execution_count": 112,
   "metadata": {
    "collapsed": false
   },
   "outputs": [],
   "source": [
    "import sqlite3 as lite\n",
    "import pandas\n",
    "with lite.connect('house.sqlite') as db:\n",
    "    df.to_sql('rent91', con=db, index= None, if_exists='replace')"
   ]
  },
  {
   "cell_type": "code",
   "execution_count": 114,
   "metadata": {
    "collapsed": false
   },
   "outputs": [
    {
     "data": {
      "text/html": [
       "<div>\n",
       "<table border=\"1\" class=\"dataframe\">\n",
       "  <thead>\n",
       "    <tr style=\"text-align: right;\">\n",
       "      <th></th>\n",
       "      <th>title</th>\n",
       "      <th>detail_url</th>\n",
       "      <th>price</th>\n",
       "    </tr>\n",
       "  </thead>\n",
       "  <tbody>\n",
       "    <tr>\n",
       "      <th>0</th>\n",
       "      <td>樹林區俊英街</td>\n",
       "      <td>https://rent.591.com.tw/rent-detail-5133302.html</td>\n",
       "      <td>12750000</td>\n",
       "    </tr>\n",
       "    <tr>\n",
       "      <th>1</th>\n",
       "      <td>★彈性坪數、樓層可調整★市府捷運頂級商辦</td>\n",
       "      <td>https://rent.591.com.tw/rent-detail-5047313.html</td>\n",
       "      <td>9579496</td>\n",
       "    </tr>\n",
       "    <tr>\n",
       "      <th>2</th>\n",
       "      <td>內湖土地短租5年4000坪方正四面臨路</td>\n",
       "      <td>https://rent.591.com.tw/rent-detail-5191373.html</td>\n",
       "      <td>8000000</td>\n",
       "    </tr>\n",
       "  </tbody>\n",
       "</table>\n",
       "</div>"
      ],
      "text/plain": [
       "                  title                                        detail_url  \\\n",
       "0                樹林區俊英街  https://rent.591.com.tw/rent-detail-5133302.html   \n",
       "1  ★彈性坪數、樓層可調整★市府捷運頂級商辦  https://rent.591.com.tw/rent-detail-5047313.html   \n",
       "2   內湖土地短租5年4000坪方正四面臨路  https://rent.591.com.tw/rent-detail-5191373.html   \n",
       "\n",
       "      price  \n",
       "0  12750000  \n",
       "1   9579496  \n",
       "2   8000000  "
      ]
     },
     "execution_count": 114,
     "metadata": {},
     "output_type": "execute_result"
    }
   ],
   "source": [
    "with lite.connect('house.sqlite') as db:\n",
    "    res = pandas.read_sql_query('select title, detail_url, price from rent91 order by price desc limit 3', con=db)\n",
    "res    "
   ]
  },
  {
   "cell_type": "code",
   "execution_count": 115,
   "metadata": {
    "collapsed": false
   },
   "outputs": [
    {
     "data": {
      "text/html": [
       "<div>\n",
       "<table border=\"1\" class=\"dataframe\">\n",
       "  <thead>\n",
       "    <tr style=\"text-align: right;\">\n",
       "      <th></th>\n",
       "      <th>detail_url</th>\n",
       "      <th>search_date</th>\n",
       "      <th>title</th>\n",
       "      <th>address</th>\n",
       "      <th>floor_info</th>\n",
       "      <th>price</th>\n",
       "      <th>layout</th>\n",
       "      <th>building_area</th>\n",
       "      <th>building_use</th>\n",
       "      <th>btype</th>\n",
       "      <th>buse</th>\n",
       "    </tr>\n",
       "    <tr>\n",
       "      <th>﻿</th>\n",
       "      <th></th>\n",
       "      <th></th>\n",
       "      <th></th>\n",
       "      <th></th>\n",
       "      <th></th>\n",
       "      <th></th>\n",
       "      <th></th>\n",
       "      <th></th>\n",
       "      <th></th>\n",
       "      <th></th>\n",
       "      <th></th>\n",
       "    </tr>\n",
       "  </thead>\n",
       "  <tbody>\n",
       "    <tr>\n",
       "      <th>0</th>\n",
       "      <td>https://rent.591.com.tw/rent-detail-1050934.html</td>\n",
       "      <td>2017-05-14</td>\n",
       "      <td>套房出租-近東方學院(六~八月可入住)</td>\n",
       "      <td>高雄市湖內區民生街</td>\n",
       "      <td>3F/3F</td>\n",
       "      <td>4500</td>\n",
       "      <td>NaN</td>\n",
       "      <td>6.0</td>\n",
       "      <td>透天厝/獨立套房</td>\n",
       "      <td>透天厝</td>\n",
       "      <td>獨立套房</td>\n",
       "    </tr>\n",
       "    <tr>\n",
       "      <th>1</th>\n",
       "      <td>https://rent.591.com.tw/rent-detail-1008046.html</td>\n",
       "      <td>2017-05-14</td>\n",
       "      <td>好房子【聰明的你、妳快來租吧】</td>\n",
       "      <td>新北市蘆洲區長安街</td>\n",
       "      <td>4F/5F</td>\n",
       "      <td>7500</td>\n",
       "      <td>NaN</td>\n",
       "      <td>10.0</td>\n",
       "      <td>透天厝/獨立套房</td>\n",
       "      <td>透天厝</td>\n",
       "      <td>獨立套房</td>\n",
       "    </tr>\n",
       "    <tr>\n",
       "      <th>2</th>\n",
       "      <td>https://rent.591.com.tw/rent-detail-1586266.html</td>\n",
       "      <td>2017-05-12</td>\n",
       "      <td>陽台大套房(獨立洗衣機)近頂溪捷運站</td>\n",
       "      <td>新北市永和區中山路一段</td>\n",
       "      <td>8F/12F</td>\n",
       "      <td>11000</td>\n",
       "      <td>NaN</td>\n",
       "      <td>8.0</td>\n",
       "      <td>電梯大樓/分租套房</td>\n",
       "      <td>電梯大樓</td>\n",
       "      <td>分租套房</td>\n",
       "    </tr>\n",
       "  </tbody>\n",
       "</table>\n",
       "</div>"
      ],
      "text/plain": [
       "                                         detail_url search_date  \\\n",
       "﻿                                                                 \n",
       "0  https://rent.591.com.tw/rent-detail-1050934.html  2017-05-14   \n",
       "1  https://rent.591.com.tw/rent-detail-1008046.html  2017-05-14   \n",
       "2  https://rent.591.com.tw/rent-detail-1586266.html  2017-05-12   \n",
       "\n",
       "                 title      address floor_info  price layout  building_area  \\\n",
       "﻿                                                                             \n",
       "0  套房出租-近東方學院(六~八月可入住)    高雄市湖內區民生街      3F/3F   4500    NaN            6.0   \n",
       "1      好房子【聰明的你、妳快來租吧】    新北市蘆洲區長安街      4F/5F   7500    NaN           10.0   \n",
       "2   陽台大套房(獨立洗衣機)近頂溪捷運站  新北市永和區中山路一段     8F/12F  11000    NaN            8.0   \n",
       "\n",
       "  building_use btype  buse  \n",
       "﻿                           \n",
       "0     透天厝/獨立套房   透天厝  獨立套房  \n",
       "1     透天厝/獨立套房   透天厝  獨立套房  \n",
       "2    電梯大樓/分租套房  電梯大樓  分租套房  "
      ]
     },
     "execution_count": 115,
     "metadata": {},
     "output_type": "execute_result"
    }
   ],
   "source": [
    "df.head(3)"
   ]
  },
  {
   "cell_type": "code",
   "execution_count": 116,
   "metadata": {
    "collapsed": false
   },
   "outputs": [
    {
     "data": {
      "text/html": [
       "<div>\n",
       "<table border=\"1\" class=\"dataframe\">\n",
       "  <thead>\n",
       "    <tr style=\"text-align: right;\">\n",
       "      <th></th>\n",
       "      <th>detail_url</th>\n",
       "      <th>search_date</th>\n",
       "      <th>title</th>\n",
       "      <th>address</th>\n",
       "      <th>floor_info</th>\n",
       "      <th>price</th>\n",
       "      <th>layout</th>\n",
       "      <th>building_area</th>\n",
       "      <th>building_use</th>\n",
       "      <th>btype</th>\n",
       "      <th>buse</th>\n",
       "    </tr>\n",
       "    <tr>\n",
       "      <th>﻿</th>\n",
       "      <th></th>\n",
       "      <th></th>\n",
       "      <th></th>\n",
       "      <th></th>\n",
       "      <th></th>\n",
       "      <th></th>\n",
       "      <th></th>\n",
       "      <th></th>\n",
       "      <th></th>\n",
       "      <th></th>\n",
       "      <th></th>\n",
       "    </tr>\n",
       "  </thead>\n",
       "  <tbody>\n",
       "    <tr>\n",
       "      <th>2</th>\n",
       "      <td>https://rent.591.com.tw/rent-detail-1586266.html</td>\n",
       "      <td>2017-05-12</td>\n",
       "      <td>陽台大套房(獨立洗衣機)近頂溪捷運站</td>\n",
       "      <td>新北市永和區中山路一段</td>\n",
       "      <td>8F/12F</td>\n",
       "      <td>11000</td>\n",
       "      <td>NaN</td>\n",
       "      <td>8.0</td>\n",
       "      <td>電梯大樓/分租套房</td>\n",
       "      <td>電梯大樓</td>\n",
       "      <td>分租套房</td>\n",
       "    </tr>\n",
       "    <tr>\n",
       "      <th>5</th>\n",
       "      <td>https://rent.591.com.tw/rent-detail-1633388.html</td>\n",
       "      <td>2017-05-12</td>\n",
       "      <td>近捷運，採光佳，有景觀，全新家電裝潢</td>\n",
       "      <td>新北市淡水區民族路</td>\n",
       "      <td>9F/11F</td>\n",
       "      <td>22000</td>\n",
       "      <td>2房1廳1衛1陽臺</td>\n",
       "      <td>24.0</td>\n",
       "      <td>電梯大樓/整層住家</td>\n",
       "      <td>電梯大樓</td>\n",
       "      <td>整層住家</td>\n",
       "    </tr>\n",
       "    <tr>\n",
       "      <th>9</th>\n",
       "      <td>https://rent.591.com.tw/rent-detail-1245175.html</td>\n",
       "      <td>2017-05-14</td>\n",
       "      <td>大衛營優質社區管理好，交通便利、裝潢佳</td>\n",
       "      <td>基隆市安樂區樂利三街</td>\n",
       "      <td>14F/18F</td>\n",
       "      <td>17000</td>\n",
       "      <td>2房1廳2衛2陽臺</td>\n",
       "      <td>32.0</td>\n",
       "      <td>電梯大樓/整層住家</td>\n",
       "      <td>電梯大樓</td>\n",
       "      <td>整層住家</td>\n",
       "    </tr>\n",
       "  </tbody>\n",
       "</table>\n",
       "</div>"
      ],
      "text/plain": [
       "                                         detail_url search_date  \\\n",
       "﻿                                                                 \n",
       "2  https://rent.591.com.tw/rent-detail-1586266.html  2017-05-12   \n",
       "5  https://rent.591.com.tw/rent-detail-1633388.html  2017-05-12   \n",
       "9  https://rent.591.com.tw/rent-detail-1245175.html  2017-05-14   \n",
       "\n",
       "                 title      address floor_info  price     layout  \\\n",
       "﻿                                                                  \n",
       "2   陽台大套房(獨立洗衣機)近頂溪捷運站  新北市永和區中山路一段     8F/12F  11000        NaN   \n",
       "5   近捷運，採光佳，有景觀，全新家電裝潢    新北市淡水區民族路     9F/11F  22000  2房1廳1衛1陽臺   \n",
       "9  大衛營優質社區管理好，交通便利、裝潢佳   基隆市安樂區樂利三街    14F/18F  17000  2房1廳2衛2陽臺   \n",
       "\n",
       "   building_area building_use btype  buse  \n",
       "﻿                                          \n",
       "2            8.0    電梯大樓/分租套房  電梯大樓  分租套房  \n",
       "5           24.0    電梯大樓/整層住家  電梯大樓  整層住家  \n",
       "9           32.0    電梯大樓/整層住家  電梯大樓  整層住家  "
      ]
     },
     "execution_count": 116,
     "metadata": {},
     "output_type": "execute_result"
    }
   ],
   "source": [
    "df[df['price'] > 10000].head(3)"
   ]
  },
  {
   "cell_type": "code",
   "execution_count": 121,
   "metadata": {
    "collapsed": false
   },
   "outputs": [
    {
     "data": {
      "text/html": [
       "<div>\n",
       "<table border=\"1\" class=\"dataframe\">\n",
       "  <thead>\n",
       "    <tr style=\"text-align: right;\">\n",
       "      <th></th>\n",
       "      <th>title</th>\n",
       "      <th>building_area</th>\n",
       "      <th>price</th>\n",
       "    </tr>\n",
       "    <tr>\n",
       "      <th>﻿</th>\n",
       "      <th></th>\n",
       "      <th></th>\n",
       "      <th></th>\n",
       "    </tr>\n",
       "  </thead>\n",
       "  <tbody>\n",
       "    <tr>\n",
       "      <th>0</th>\n",
       "      <td>套房出租-近東方學院(六~八月可入住)</td>\n",
       "      <td>6.0</td>\n",
       "      <td>4500</td>\n",
       "    </tr>\n",
       "    <tr>\n",
       "      <th>1</th>\n",
       "      <td>好房子【聰明的你、妳快來租吧】</td>\n",
       "      <td>10.0</td>\n",
       "      <td>7500</td>\n",
       "    </tr>\n",
       "    <tr>\n",
       "      <th>2</th>\n",
       "      <td>陽台大套房(獨立洗衣機)近頂溪捷運站</td>\n",
       "      <td>8.0</td>\n",
       "      <td>11000</td>\n",
       "    </tr>\n",
       "  </tbody>\n",
       "</table>\n",
       "</div>"
      ],
      "text/plain": [
       "                 title  building_area  price\n",
       "﻿                                           \n",
       "0  套房出租-近東方學院(六~八月可入住)            6.0   4500\n",
       "1      好房子【聰明的你、妳快來租吧】           10.0   7500\n",
       "2   陽台大套房(獨立洗衣機)近頂溪捷運站            8.0  11000"
      ]
     },
     "execution_count": 121,
     "metadata": {},
     "output_type": "execute_result"
    }
   ],
   "source": [
    "df.loc[:,['title','building_area','price']].head(3)\n",
    "#df[['title','building_area','price']].head(3)"
   ]
  },
  {
   "cell_type": "code",
   "execution_count": 118,
   "metadata": {
    "collapsed": false,
    "scrolled": true
   },
   "outputs": [
    {
     "data": {
      "text/html": [
       "<div>\n",
       "<table border=\"1\" class=\"dataframe\">\n",
       "  <thead>\n",
       "    <tr style=\"text-align: right;\">\n",
       "      <th></th>\n",
       "      <th>title</th>\n",
       "      <th>building_area</th>\n",
       "      <th>price</th>\n",
       "    </tr>\n",
       "    <tr>\n",
       "      <th>﻿</th>\n",
       "      <th></th>\n",
       "      <th></th>\n",
       "      <th></th>\n",
       "    </tr>\n",
       "  </thead>\n",
       "  <tbody>\n",
       "    <tr>\n",
       "      <th>31658</th>\n",
       "      <td>樹林區俊英街</td>\n",
       "      <td>16.00</td>\n",
       "      <td>12750000</td>\n",
       "    </tr>\n",
       "    <tr>\n",
       "      <th>9815</th>\n",
       "      <td>★彈性坪數、樓層可調整★市府捷運頂級商辦</td>\n",
       "      <td>2520.92</td>\n",
       "      <td>9579496</td>\n",
       "    </tr>\n",
       "    <tr>\n",
       "      <th>69807</th>\n",
       "      <td>內湖土地短租5年4000坪方正四面臨路</td>\n",
       "      <td>4000.00</td>\n",
       "      <td>8000000</td>\n",
       "    </tr>\n",
       "  </tbody>\n",
       "</table>\n",
       "</div>"
      ],
      "text/plain": [
       "                      title  building_area     price\n",
       "﻿                                                   \n",
       "31658                樹林區俊英街          16.00  12750000\n",
       "9815   ★彈性坪數、樓層可調整★市府捷運頂級商辦        2520.92   9579496\n",
       "69807   內湖土地短租5年4000坪方正四面臨路        4000.00   8000000"
      ]
     },
     "execution_count": 118,
     "metadata": {},
     "output_type": "execute_result"
    }
   ],
   "source": [
    "df.sort_values('price', ascending=False)[['title','building_area','price']].head(3)"
   ]
  },
  {
   "cell_type": "code",
   "execution_count": 122,
   "metadata": {
    "collapsed": false
   },
   "outputs": [
    {
     "data": {
      "text/plain": [
       "btype\n",
       "nan      84789.830692\n",
       "倉庫       25248.425926\n",
       "公寓       16350.106894\n",
       "其他        5700.000000\n",
       "別墅       25951.827907\n",
       "廠房       76662.857143\n",
       "廠辦      100681.818182\n",
       "透天厝      17622.803203\n",
       "電梯大樓     47822.119324\n",
       "Name: price, dtype: float64"
      ]
     },
     "execution_count": 122,
     "metadata": {},
     "output_type": "execute_result"
    }
   ],
   "source": [
    "df.groupby('btype')['price'].mean()"
   ]
  },
  {
   "cell_type": "code",
   "execution_count": 123,
   "metadata": {
    "collapsed": false
   },
   "outputs": [
    {
     "data": {
      "text/plain": [
       "btype\n",
       "nan      84789.830692\n",
       "倉庫       25248.425926\n",
       "公寓       16350.106894\n",
       "別墅       25951.827907\n",
       "廠房       76662.857143\n",
       "廠辦      100681.818182\n",
       "透天厝      17622.803203\n",
       "電梯大樓     47822.119324\n",
       "Name: price, dtype: float64"
      ]
     },
     "execution_count": 123,
     "metadata": {},
     "output_type": "execute_result"
    }
   ],
   "source": [
    "avg_price = df.groupby('btype')['price'].mean()\n",
    "avg_price[avg_price > 10000]"
   ]
  },
  {
   "cell_type": "code",
   "execution_count": 124,
   "metadata": {
    "collapsed": false
   },
   "outputs": [
    {
     "name": "stdout",
     "output_type": "stream",
     "text": [
      "Requirement already satisfied (use --upgrade to upgrade): pandas_datareader in c:\\users\\allen\\anaconda3\\lib\\site-packages\n",
      "Requirement already satisfied (use --upgrade to upgrade): requests>=2.3.0 in c:\\users\\allen\\anaconda3\\lib\\site-packages (from pandas_datareader)\n",
      "Requirement already satisfied (use --upgrade to upgrade): requests-ftp in c:\\users\\allen\\anaconda3\\lib\\site-packages (from pandas_datareader)\n",
      "Requirement already satisfied (use --upgrade to upgrade): requests-file in c:\\users\\allen\\anaconda3\\lib\\site-packages (from pandas_datareader)\n",
      "Requirement already satisfied (use --upgrade to upgrade): pandas>=0.17.0 in c:\\users\\allen\\anaconda3\\lib\\site-packages (from pandas_datareader)\n",
      "Requirement already satisfied (use --upgrade to upgrade): six in c:\\users\\allen\\anaconda3\\lib\\site-packages (from requests-file->pandas_datareader)\n",
      "Requirement already satisfied (use --upgrade to upgrade): python-dateutil>=2 in c:\\users\\allen\\anaconda3\\lib\\site-packages (from pandas>=0.17.0->pandas_datareader)\n",
      "Requirement already satisfied (use --upgrade to upgrade): pytz>=2011k in c:\\users\\allen\\anaconda3\\lib\\site-packages (from pandas>=0.17.0->pandas_datareader)\n",
      "Requirement already satisfied (use --upgrade to upgrade): numpy>=1.7.0 in c:\\users\\allen\\anaconda3\\lib\\site-packages (from pandas>=0.17.0->pandas_datareader)\n"
     ]
    }
   ],
   "source": [
    "! pip install pandas_datareader"
   ]
  },
  {
   "cell_type": "code",
   "execution_count": 125,
   "metadata": {
    "collapsed": false
   },
   "outputs": [
    {
     "data": {
      "text/html": [
       "<div>\n",
       "<table border=\"1\" class=\"dataframe\">\n",
       "  <thead>\n",
       "    <tr style=\"text-align: right;\">\n",
       "      <th></th>\n",
       "      <th>Open</th>\n",
       "      <th>High</th>\n",
       "      <th>Low</th>\n",
       "      <th>Close</th>\n",
       "      <th>Adj Close</th>\n",
       "      <th>Volume</th>\n",
       "    </tr>\n",
       "    <tr>\n",
       "      <th>Date</th>\n",
       "      <th></th>\n",
       "      <th></th>\n",
       "      <th></th>\n",
       "      <th></th>\n",
       "      <th></th>\n",
       "      <th></th>\n",
       "    </tr>\n",
       "  </thead>\n",
       "  <tbody>\n",
       "    <tr>\n",
       "      <th>2017-11-02</th>\n",
       "      <td>166.600006</td>\n",
       "      <td>168.500000</td>\n",
       "      <td>165.279999</td>\n",
       "      <td>168.110001</td>\n",
       "      <td>168.110001</td>\n",
       "      <td>41393400</td>\n",
       "    </tr>\n",
       "    <tr>\n",
       "      <th>2017-11-03</th>\n",
       "      <td>174.000000</td>\n",
       "      <td>174.259995</td>\n",
       "      <td>171.119995</td>\n",
       "      <td>172.500000</td>\n",
       "      <td>172.500000</td>\n",
       "      <td>59398600</td>\n",
       "    </tr>\n",
       "    <tr>\n",
       "      <th>2017-11-06</th>\n",
       "      <td>172.369995</td>\n",
       "      <td>174.990005</td>\n",
       "      <td>171.720001</td>\n",
       "      <td>174.250000</td>\n",
       "      <td>174.250000</td>\n",
       "      <td>35026300</td>\n",
       "    </tr>\n",
       "    <tr>\n",
       "      <th>2017-11-07</th>\n",
       "      <td>173.910004</td>\n",
       "      <td>175.250000</td>\n",
       "      <td>173.600006</td>\n",
       "      <td>174.809998</td>\n",
       "      <td>174.809998</td>\n",
       "      <td>24361500</td>\n",
       "    </tr>\n",
       "    <tr>\n",
       "      <th>2017-11-08</th>\n",
       "      <td>174.660004</td>\n",
       "      <td>176.240005</td>\n",
       "      <td>174.330002</td>\n",
       "      <td>176.240005</td>\n",
       "      <td>176.240005</td>\n",
       "      <td>24249500</td>\n",
       "    </tr>\n",
       "  </tbody>\n",
       "</table>\n",
       "</div>"
      ],
      "text/plain": [
       "                  Open        High         Low       Close   Adj Close  \\\n",
       "Date                                                                     \n",
       "2017-11-02  166.600006  168.500000  165.279999  168.110001  168.110001   \n",
       "2017-11-03  174.000000  174.259995  171.119995  172.500000  172.500000   \n",
       "2017-11-06  172.369995  174.990005  171.720001  174.250000  174.250000   \n",
       "2017-11-07  173.910004  175.250000  173.600006  174.809998  174.809998   \n",
       "2017-11-08  174.660004  176.240005  174.330002  176.240005  176.240005   \n",
       "\n",
       "              Volume  \n",
       "Date                  \n",
       "2017-11-02  41393400  \n",
       "2017-11-03  59398600  \n",
       "2017-11-06  35026300  \n",
       "2017-11-07  24361500  \n",
       "2017-11-08  24249500  "
      ]
     },
     "execution_count": 125,
     "metadata": {},
     "output_type": "execute_result"
    }
   ],
   "source": [
    "import pandas_datareader\n",
    "df = pandas_datareader.get_data_yahoo('AAPL', start='2014-01-01')\n",
    "df.tail()"
   ]
  },
  {
   "cell_type": "code",
   "execution_count": 126,
   "metadata": {
    "collapsed": false
   },
   "outputs": [
    {
     "name": "stdout",
     "output_type": "stream",
     "text": [
      "Populating the interactive namespace from numpy and matplotlib\n"
     ]
    },
    {
     "data": {
      "image/png": "[encoded data removed]",
      "text/plain": [
       "<matplotlib.figure.Figure at 0x8bb9518>"
      ]
     },
     "metadata": {},
     "output_type": "display_data"
    }
   ],
   "source": [
    "%pylab inline\n",
    "df['Close'].plot(kind = 'line', figsize = [10,5], title='AAPL', grid=True, legend=True)\n",
    "pylab.savefig('AAPL.png')"
   ]
  },
  {
   "cell_type": "code",
   "execution_count": 127,
   "metadata": {
    "collapsed": true
   },
   "outputs": [],
   "source": [
    "df['mvg30']=df['Close'].rolling(window=30).mean()\n",
    "df['mvg60']=df['Close'].rolling(window=60).mean()"
   ]
  },
  {
   "cell_type": "code",
   "execution_count": 129,
   "metadata": {
    "collapsed": false
   },
   "outputs": [
    {
     "data": {
      "text/plain": [
       "<matplotlib.axes._subplots.AxesSubplot at 0x98f5cc0>"
      ]
     },
     "execution_count": 129,
     "metadata": {},
     "output_type": "execute_result"
    },
    {
     "data": {
      "image/png": "[encoded data removed]",
      "text/plain": [
       "<matplotlib.figure.Figure at 0x98f7940>"
      ]
     },
     "metadata": {},
     "output_type": "display_data"
    }
   ],
   "source": [
    "df[['Close','mvg30','mvg60']].plot(kind = 'line', title='AAPL', figsize=[10,5], grid=True, legend=True)"
   ]
  },
  {
   "cell_type": "code",
   "execution_count": 130,
   "metadata": {
    "collapsed": false
   },
   "outputs": [
    {
     "data": {
      "text/plain": [
       "<matplotlib.axes._subplots.AxesSubplot at 0x9917278>"
      ]
     },
     "execution_count": 130,
     "metadata": {},
     "output_type": "execute_result"
    },
    {
     "data": {
      "image/png": "[encoded data removed]",
      "text/plain": [
       "<matplotlib.figure.Figure at 0x99163c8>"
      ]
     },
     "metadata": {},
     "output_type": "display_data"
    }
   ],
   "source": [
    "df.ix[df.index >='2017-10-01','Volume'].plot(kind='bar',figsize=[10,5],title='AAPL',legend=True)"
   ]
  },
  {
   "cell_type": "code",
   "execution_count": 134,
   "metadata": {
    "collapsed": false
   },
   "outputs": [
    {
     "data": {
      "text/plain": [
       "<matplotlib.axes._subplots.AxesSubplot at 0x999a0b8>"
      ]
     },
     "execution_count": 134,
     "metadata": {},
     "output_type": "execute_result"
    },
    {
     "data": {
      "image/png": "[encoded data removed]",
      "text/plain": [
       "<matplotlib.figure.Figure at 0x999fa58>"
      ]
     },
     "metadata": {},
     "output_type": "display_data"
    }
   ],
   "source": [
    "df['diff']=df['Close']-df['Open']\n",
    "df['rise']=df['diff']>0\n",
    "df['fall']=df['diff']<0\n",
    "df[['rise','fall']].sum().plot(kind='pie', startangle=90, counterclock=False, legend=True, figsize=[5,5])"
   ]
  },
  {
   "cell_type": "code",
   "execution_count": 135,
   "metadata": {
    "collapsed": false
   },
   "outputs": [
    {
     "data": {
      "text/plain": [
       "<matplotlib.axes._subplots.AxesSubplot at 0x99762b0>"
      ]
     },
     "execution_count": 135,
     "metadata": {},
     "output_type": "execute_result"
    },
    {
     "data": {
      "image/png": "[encoded data removed]",
      "text/plain": [
       "<matplotlib.figure.Figure at 0x991ef28>"
      ]
     },
     "metadata": {},
     "output_type": "display_data"
    }
   ],
   "source": [
    "df['Close'].plot(kind='hist')"
   ]
  },
  {
   "cell_type": "code",
   "execution_count": 136,
   "metadata": {
    "collapsed": false
   },
   "outputs": [
    {
     "data": {
      "text/plain": [
       "<matplotlib.axes._subplots.AxesSubplot at 0x99b6208>"
      ]
     },
     "execution_count": 136,
     "metadata": {},
     "output_type": "execute_result"
    },
    {
     "data": {
      "image/png": "[encoded data removed]",
      "text/plain": [
       "<matplotlib.figure.Figure at 0x99d50b8>"
      ]
     },
     "metadata": {},
     "output_type": "display_data"
    }
   ],
   "source": [
    "df['ret']=df['Close'].pct_change(1)\n",
    "df['ret'].plot(kind='hist', bins=50, xlim=[-0.1,0.1])"
   ]
  },
  {
   "cell_type": "code",
   "execution_count": 139,
   "metadata": {
    "collapsed": false
   },
   "outputs": [],
   "source": [
    "import pandas_datareader\n",
    "df2 = pandas_datareader.get_data_yahoo('2498.TW', start = '2010-01-01')"
   ]
  },
  {
   "cell_type": "code",
   "execution_count": 141,
   "metadata": {
    "collapsed": false
   },
   "outputs": [
    {
     "data": {
      "text/plain": [
       "<matplotlib.axes._subplots.AxesSubplot at 0xa152160>"
      ]
     },
     "execution_count": 141,
     "metadata": {},
     "output_type": "execute_result"
    },
    {
     "data": {
      "image/png": "[encoded data removed]",
      "text/plain": [
       "<matplotlib.figure.Figure at 0xa165cf8>"
      ]
     },
     "metadata": {},
     "output_type": "display_data"
    }
   ],
   "source": [
    "df2['ret']=df2['Close'].pct_change(1)\n",
    "df2['ret'].plot(kind='hist', bins=50, xlim=[-0.1,0.1])"
   ]
  },
  {
   "cell_type": "code",
   "execution_count": 142,
   "metadata": {
    "collapsed": false
   },
   "outputs": [
    {
     "data": {
      "text/plain": [
       "<matplotlib.axes._subplots.AxesSubplot at 0xa1c7400>"
      ]
     },
     "execution_count": 142,
     "metadata": {},
     "output_type": "execute_result"
    },
    {
     "data": {
      "image/png": "[encoded data removed]",
      "text/plain": [
       "<matplotlib.figure.Figure at 0xa143c88>"
      ]
     },
     "metadata": {},
     "output_type": "display_data"
    }
   ],
   "source": [
    "df['Close'].plot(kind='box')"
   ]
  },
  {
   "cell_type": "code",
   "execution_count": 146,
   "metadata": {
    "collapsed": false
   },
   "outputs": [
    {
     "data": {
      "text/plain": [
       "27.0"
      ]
     },
     "execution_count": 146,
     "metadata": {},
     "output_type": "execute_result"
    }
   ],
   "source": [
    "temp = numpy.array([20,30,25,27,29,16,18,32])\n",
    "temp.mean()\n",
    "\n",
    "temp2 = numpy.array([20,30,25,27,29,16,18,32,999])\n",
    "temp2.mean()\n",
    "temp2.sort()\n",
    "temp2\n",
    "numpy.median(temp2)"
   ]
  },
  {
   "cell_type": "code",
   "execution_count": 147,
   "metadata": {
    "collapsed": false
   },
   "outputs": [
    {
     "data": {
      "text/plain": [
       "<matplotlib.axes._subplots.AxesSubplot at 0xa1fd278>"
      ]
     },
     "execution_count": 147,
     "metadata": {},
     "output_type": "execute_result"
    },
    {
     "data": {
      "image/png": "[encoded data removed]",
      "text/plain": [
       "<matplotlib.figure.Figure at 0xa1e0b38>"
      ]
     },
     "metadata": {},
     "output_type": "display_data"
    }
   ],
   "source": [
    "pandas.Series(temp2).plot(kind='box')"
   ]
  },
  {
   "cell_type": "code",
   "execution_count": 149,
   "metadata": {
    "collapsed": false
   },
   "outputs": [
    {
     "data": {
      "text/plain": [
       "<matplotlib.axes._subplots.AxesSubplot at 0xa224eb8>"
      ]
     },
     "execution_count": 149,
     "metadata": {},
     "output_type": "execute_result"
    },
    {
     "data": {
      "image/png": "[encoded data removed]",
      "text/plain": [
       "<matplotlib.figure.Figure at 0xa239eb8>"
      ]
     },
     "metadata": {},
     "output_type": "display_data"
    }
   ],
   "source": [
    "pandas.Series(temp2[temp2<100]).plot(kind='box')"
   ]
  },
  {
   "cell_type": "code",
   "execution_count": 152,
   "metadata": {
    "collapsed": true
   },
   "outputs": [],
   "source": [
    "import pandas_datareader\n",
    "df = pandas_datareader.get_data_yahoo(['FB','AAPL','AMZN','MSFT','GOOG'], start='2014-01-01')['Close']"
   ]
  },
  {
   "cell_type": "code",
   "execution_count": 153,
   "metadata": {
    "collapsed": false
   },
   "outputs": [
    {
     "data": {
      "text/html": [
       "<div>\n",
       "<table border=\"1\" class=\"dataframe\">\n",
       "  <thead>\n",
       "    <tr style=\"text-align: right;\">\n",
       "      <th></th>\n",
       "      <th>AAPL</th>\n",
       "      <th>AMZN</th>\n",
       "      <th>FB</th>\n",
       "      <th>GOOG</th>\n",
       "      <th>MSFT</th>\n",
       "    </tr>\n",
       "    <tr>\n",
       "      <th>Date</th>\n",
       "      <th></th>\n",
       "      <th></th>\n",
       "      <th></th>\n",
       "      <th></th>\n",
       "      <th></th>\n",
       "    </tr>\n",
       "  </thead>\n",
       "  <tbody>\n",
       "    <tr>\n",
       "      <th>2017-11-09</th>\n",
       "      <td>175.880005</td>\n",
       "      <td>1129.130005</td>\n",
       "      <td>179.300003</td>\n",
       "      <td>1031.260010</td>\n",
       "      <td>84.089996</td>\n",
       "    </tr>\n",
       "    <tr>\n",
       "      <th>2017-11-08</th>\n",
       "      <td>176.240005</td>\n",
       "      <td>1132.880005</td>\n",
       "      <td>179.559998</td>\n",
       "      <td>1039.849976</td>\n",
       "      <td>84.559998</td>\n",
       "    </tr>\n",
       "    <tr>\n",
       "      <th>2017-11-07</th>\n",
       "      <td>174.809998</td>\n",
       "      <td>1123.170044</td>\n",
       "      <td>180.250000</td>\n",
       "      <td>1033.329956</td>\n",
       "      <td>84.269997</td>\n",
       "    </tr>\n",
       "    <tr>\n",
       "      <th>2017-11-06</th>\n",
       "      <td>174.250000</td>\n",
       "      <td>1120.660034</td>\n",
       "      <td>180.169998</td>\n",
       "      <td>1025.900024</td>\n",
       "      <td>84.470001</td>\n",
       "    </tr>\n",
       "    <tr>\n",
       "      <th>2017-11-03</th>\n",
       "      <td>172.500000</td>\n",
       "      <td>1111.599976</td>\n",
       "      <td>178.919998</td>\n",
       "      <td>1032.479980</td>\n",
       "      <td>84.139999</td>\n",
       "    </tr>\n",
       "  </tbody>\n",
       "</table>\n",
       "</div>"
      ],
      "text/plain": [
       "                  AAPL         AMZN          FB         GOOG       MSFT\n",
       "Date                                                                   \n",
       "2017-11-09  175.880005  1129.130005  179.300003  1031.260010  84.089996\n",
       "2017-11-08  176.240005  1132.880005  179.559998  1039.849976  84.559998\n",
       "2017-11-07  174.809998  1123.170044  180.250000  1033.329956  84.269997\n",
       "2017-11-06  174.250000  1120.660034  180.169998  1025.900024  84.470001\n",
       "2017-11-03  172.500000  1111.599976  178.919998  1032.479980  84.139999"
      ]
     },
     "execution_count": 153,
     "metadata": {},
     "output_type": "execute_result"
    }
   ],
   "source": [
    "df.head()"
   ]
  },
  {
   "cell_type": "code",
   "execution_count": 156,
   "metadata": {
    "collapsed": false
   },
   "outputs": [
    {
     "name": "stdout",
     "output_type": "stream",
     "text": [
      "Populating the interactive namespace from numpy and matplotlib\n"
     ]
    },
    {
     "data": {
      "text/plain": [
       "<matplotlib.axes._subplots.AxesSubplot at 0xa11fb00>"
      ]
     },
     "execution_count": 156,
     "metadata": {},
     "output_type": "execute_result"
    },
    {
     "data": {
      "image/png": "[encoded data removed]",
      "text/plain": [
       "<matplotlib.figure.Figure at 0xa2452b0>"
      ]
     },
     "metadata": {},
     "output_type": "display_data"
    }
   ],
   "source": [
    "%pylab inline\n",
    "df.plot(kind='line')"
   ]
  },
  {
   "cell_type": "code",
   "execution_count": 158,
   "metadata": {
    "collapsed": false
   },
   "outputs": [
    {
     "data": {
      "text/plain": [
       "<matplotlib.axes._subplots.AxesSubplot at 0xa28f630>"
      ]
     },
     "execution_count": 158,
     "metadata": {},
     "output_type": "execute_result"
    },
    {
     "data": {
      "image/png": "[encoded data removed]",
      "text/plain": [
       "<matplotlib.figure.Figure at 0xa2948d0>"
      ]
     },
     "metadata": {},
     "output_type": "display_data"
    }
   ],
   "source": [
    "rets = df.pct_change(1)\n",
    "rets.plot(kind='scatter', x='GOOG', y='MSFT')"
   ]
  },
  {
   "cell_type": "code",
   "execution_count": 159,
   "metadata": {
    "collapsed": false
   },
   "outputs": [
    {
     "data": {
      "text/html": [
       "<div>\n",
       "<table border=\"1\" class=\"dataframe\">\n",
       "  <thead>\n",
       "    <tr style=\"text-align: right;\">\n",
       "      <th></th>\n",
       "      <th>AAPL</th>\n",
       "      <th>AMZN</th>\n",
       "      <th>FB</th>\n",
       "      <th>GOOG</th>\n",
       "      <th>MSFT</th>\n",
       "    </tr>\n",
       "  </thead>\n",
       "  <tbody>\n",
       "    <tr>\n",
       "      <th>AAPL</th>\n",
       "      <td>1.000000</td>\n",
       "      <td>0.338913</td>\n",
       "      <td>0.392102</td>\n",
       "      <td>0.388830</td>\n",
       "      <td>0.442604</td>\n",
       "    </tr>\n",
       "    <tr>\n",
       "      <th>AMZN</th>\n",
       "      <td>0.338913</td>\n",
       "      <td>1.000000</td>\n",
       "      <td>0.529470</td>\n",
       "      <td>0.572782</td>\n",
       "      <td>0.424658</td>\n",
       "    </tr>\n",
       "    <tr>\n",
       "      <th>FB</th>\n",
       "      <td>0.392102</td>\n",
       "      <td>0.529470</td>\n",
       "      <td>1.000000</td>\n",
       "      <td>0.598458</td>\n",
       "      <td>0.432638</td>\n",
       "    </tr>\n",
       "    <tr>\n",
       "      <th>GOOG</th>\n",
       "      <td>0.388830</td>\n",
       "      <td>0.572782</td>\n",
       "      <td>0.598458</td>\n",
       "      <td>1.000000</td>\n",
       "      <td>0.571865</td>\n",
       "    </tr>\n",
       "    <tr>\n",
       "      <th>MSFT</th>\n",
       "      <td>0.442604</td>\n",
       "      <td>0.424658</td>\n",
       "      <td>0.432638</td>\n",
       "      <td>0.571865</td>\n",
       "      <td>1.000000</td>\n",
       "    </tr>\n",
       "  </tbody>\n",
       "</table>\n",
       "</div>"
      ],
      "text/plain": [
       "          AAPL      AMZN        FB      GOOG      MSFT\n",
       "AAPL  1.000000  0.338913  0.392102  0.388830  0.442604\n",
       "AMZN  0.338913  1.000000  0.529470  0.572782  0.424658\n",
       "FB    0.392102  0.529470  1.000000  0.598458  0.432638\n",
       "GOOG  0.388830  0.572782  0.598458  1.000000  0.571865\n",
       "MSFT  0.442604  0.424658  0.432638  0.571865  1.000000"
      ]
     },
     "execution_count": 159,
     "metadata": {},
     "output_type": "execute_result"
    }
   ],
   "source": [
    "corr = rets.corr()\n",
    "corr"
   ]
  },
  {
   "cell_type": "code",
   "execution_count": 164,
   "metadata": {
    "collapsed": false
   },
   "outputs": [
    {
     "data": {
      "text/plain": [
       "([<matplotlib.axis.YTick at 0xa371518>,\n",
       "  <matplotlib.axis.YTick at 0xa370e48>,\n",
       "  <matplotlib.axis.YTick at 0xa373828>,\n",
       "  <matplotlib.axis.YTick at 0xa38a240>,\n",
       "  <matplotlib.axis.YTick at 0xa39d9b0>],\n",
       " <a list of 5 Text yticklabel objects>)"
      ]
     },
     "execution_count": 164,
     "metadata": {},
     "output_type": "execute_result"
    },
    {
     "data": {
      "image/png": "[encoded data removed]",
      "text/plain": [
       "<matplotlib.figure.Figure at 0xa367b38>"
      ]
     },
     "metadata": {},
     "output_type": "display_data"
    }
   ],
   "source": [
    "plt.imshow(corr,cmap='hot',interpolation='none')\n",
    "plt.colorbar()\n",
    "plt.xticks(range(len(corr)), corr.columns)\n",
    "plt.yticks(range(len(corr)), corr.columns)"
   ]
  },
  {
   "cell_type": "code",
   "execution_count": 165,
   "metadata": {
    "collapsed": false
   },
   "outputs": [
    {
     "data": {
      "text/html": [
       "<div>\n",
       "<table border=\"1\" class=\"dataframe\">\n",
       "  <thead>\n",
       "    <tr style=\"text-align: right;\">\n",
       "      <th></th>\n",
       "      <th>1101.TW</th>\n",
       "      <th>1102.TW</th>\n",
       "      <th>2317.TW</th>\n",
       "      <th>2330.TW</th>\n",
       "      <th>2454.TW</th>\n",
       "      <th>2498.TW</th>\n",
       "      <th>AAPL</th>\n",
       "    </tr>\n",
       "    <tr>\n",
       "      <th>Date</th>\n",
       "      <th></th>\n",
       "      <th></th>\n",
       "      <th></th>\n",
       "      <th></th>\n",
       "      <th></th>\n",
       "      <th></th>\n",
       "      <th></th>\n",
       "    </tr>\n",
       "  </thead>\n",
       "  <tbody>\n",
       "    <tr>\n",
       "      <th>2015-12-31</th>\n",
       "      <td>NaN</td>\n",
       "      <td>NaN</td>\n",
       "      <td>NaN</td>\n",
       "      <td>NaN</td>\n",
       "      <td>NaN</td>\n",
       "      <td>NaN</td>\n",
       "      <td>105.260002</td>\n",
       "    </tr>\n",
       "    <tr>\n",
       "      <th>2016-01-04</th>\n",
       "      <td>26.150000</td>\n",
       "      <td>26.250000</td>\n",
       "      <td>71.818199</td>\n",
       "      <td>139.5</td>\n",
       "      <td>245.0</td>\n",
       "      <td>79.000000</td>\n",
       "      <td>105.349998</td>\n",
       "    </tr>\n",
       "    <tr>\n",
       "      <th>2016-01-05</th>\n",
       "      <td>26.400000</td>\n",
       "      <td>26.000000</td>\n",
       "      <td>71.909103</td>\n",
       "      <td>138.0</td>\n",
       "      <td>242.5</td>\n",
       "      <td>77.800003</td>\n",
       "      <td>102.709999</td>\n",
       "    </tr>\n",
       "    <tr>\n",
       "      <th>2016-01-06</th>\n",
       "      <td>26.049999</td>\n",
       "      <td>25.950001</td>\n",
       "      <td>71.818199</td>\n",
       "      <td>135.5</td>\n",
       "      <td>227.0</td>\n",
       "      <td>76.800003</td>\n",
       "      <td>100.699997</td>\n",
       "    </tr>\n",
       "    <tr>\n",
       "      <th>2016-01-07</th>\n",
       "      <td>27.350000</td>\n",
       "      <td>26.150000</td>\n",
       "      <td>71.181801</td>\n",
       "      <td>133.0</td>\n",
       "      <td>206.0</td>\n",
       "      <td>77.000000</td>\n",
       "      <td>96.449997</td>\n",
       "    </tr>\n",
       "  </tbody>\n",
       "</table>\n",
       "</div>"
      ],
      "text/plain": [
       "              1101.TW    1102.TW    2317.TW  2330.TW  2454.TW    2498.TW  \\\n",
       "Date                                                                       \n",
       "2015-12-31        NaN        NaN        NaN      NaN      NaN        NaN   \n",
       "2016-01-04  26.150000  26.250000  71.818199    139.5    245.0  79.000000   \n",
       "2016-01-05  26.400000  26.000000  71.909103    138.0    242.5  77.800003   \n",
       "2016-01-06  26.049999  25.950001  71.818199    135.5    227.0  76.800003   \n",
       "2016-01-07  27.350000  26.150000  71.181801    133.0    206.0  77.000000   \n",
       "\n",
       "                  AAPL  \n",
       "Date                    \n",
       "2015-12-31  105.260002  \n",
       "2016-01-04  105.349998  \n",
       "2016-01-05  102.709999  \n",
       "2016-01-06  100.699997  \n",
       "2016-01-07   96.449997  "
      ]
     },
     "execution_count": 165,
     "metadata": {},
     "output_type": "execute_result"
    }
   ],
   "source": [
    "import pandas_datareader\n",
    "df = pandas_datareader.get_data_yahoo(['1101.TW','1102.TW','2498.TW','2454.TW','2317.TW','2330.TW','AAPL'], start='2016-01-01')['Close']\n",
    "df.head()"
   ]
  },
  {
   "cell_type": "code",
   "execution_count": 166,
   "metadata": {
    "collapsed": false
   },
   "outputs": [
    {
     "data": {
      "text/html": [
       "<div>\n",
       "<table border=\"1\" class=\"dataframe\">\n",
       "  <thead>\n",
       "    <tr style=\"text-align: right;\">\n",
       "      <th></th>\n",
       "      <th>1101.TW</th>\n",
       "      <th>1102.TW</th>\n",
       "      <th>2317.TW</th>\n",
       "      <th>2330.TW</th>\n",
       "      <th>2454.TW</th>\n",
       "      <th>2498.TW</th>\n",
       "      <th>AAPL</th>\n",
       "    </tr>\n",
       "  </thead>\n",
       "  <tbody>\n",
       "    <tr>\n",
       "      <th>1101.TW</th>\n",
       "      <td>1.000000</td>\n",
       "      <td>0.466961</td>\n",
       "      <td>0.273654</td>\n",
       "      <td>0.305718</td>\n",
       "      <td>0.159746</td>\n",
       "      <td>0.134890</td>\n",
       "      <td>-0.042659</td>\n",
       "    </tr>\n",
       "    <tr>\n",
       "      <th>1102.TW</th>\n",
       "      <td>0.466961</td>\n",
       "      <td>1.000000</td>\n",
       "      <td>0.249553</td>\n",
       "      <td>0.236215</td>\n",
       "      <td>0.178368</td>\n",
       "      <td>0.142390</td>\n",
       "      <td>-0.015211</td>\n",
       "    </tr>\n",
       "    <tr>\n",
       "      <th>2317.TW</th>\n",
       "      <td>0.273654</td>\n",
       "      <td>0.249553</td>\n",
       "      <td>1.000000</td>\n",
       "      <td>0.442172</td>\n",
       "      <td>0.279474</td>\n",
       "      <td>0.110426</td>\n",
       "      <td>0.104565</td>\n",
       "    </tr>\n",
       "    <tr>\n",
       "      <th>2330.TW</th>\n",
       "      <td>0.305718</td>\n",
       "      <td>0.236215</td>\n",
       "      <td>0.442172</td>\n",
       "      <td>1.000000</td>\n",
       "      <td>0.414761</td>\n",
       "      <td>0.298097</td>\n",
       "      <td>0.148391</td>\n",
       "    </tr>\n",
       "    <tr>\n",
       "      <th>2454.TW</th>\n",
       "      <td>0.159746</td>\n",
       "      <td>0.178368</td>\n",
       "      <td>0.279474</td>\n",
       "      <td>0.414761</td>\n",
       "      <td>1.000000</td>\n",
       "      <td>0.226068</td>\n",
       "      <td>0.084007</td>\n",
       "    </tr>\n",
       "    <tr>\n",
       "      <th>2498.TW</th>\n",
       "      <td>0.134890</td>\n",
       "      <td>0.142390</td>\n",
       "      <td>0.110426</td>\n",
       "      <td>0.298097</td>\n",
       "      <td>0.226068</td>\n",
       "      <td>1.000000</td>\n",
       "      <td>-0.004230</td>\n",
       "    </tr>\n",
       "    <tr>\n",
       "      <th>AAPL</th>\n",
       "      <td>-0.042659</td>\n",
       "      <td>-0.015211</td>\n",
       "      <td>0.104565</td>\n",
       "      <td>0.148391</td>\n",
       "      <td>0.084007</td>\n",
       "      <td>-0.004230</td>\n",
       "      <td>1.000000</td>\n",
       "    </tr>\n",
       "  </tbody>\n",
       "</table>\n",
       "</div>"
      ],
      "text/plain": [
       "          1101.TW   1102.TW   2317.TW   2330.TW   2454.TW   2498.TW      AAPL\n",
       "1101.TW  1.000000  0.466961  0.273654  0.305718  0.159746  0.134890 -0.042659\n",
       "1102.TW  0.466961  1.000000  0.249553  0.236215  0.178368  0.142390 -0.015211\n",
       "2317.TW  0.273654  0.249553  1.000000  0.442172  0.279474  0.110426  0.104565\n",
       "2330.TW  0.305718  0.236215  0.442172  1.000000  0.414761  0.298097  0.148391\n",
       "2454.TW  0.159746  0.178368  0.279474  0.414761  1.000000  0.226068  0.084007\n",
       "2498.TW  0.134890  0.142390  0.110426  0.298097  0.226068  1.000000 -0.004230\n",
       "AAPL    -0.042659 -0.015211  0.104565  0.148391  0.084007 -0.004230  1.000000"
      ]
     },
     "execution_count": 166,
     "metadata": {},
     "output_type": "execute_result"
    }
   ],
   "source": [
    "rets = df.pct_change(1)\n",
    "corr = rets.corr()\n",
    "corr"
   ]
  },
  {
   "cell_type": "code",
   "execution_count": 175,
   "metadata": {
    "collapsed": false
   },
   "outputs": [
    {
     "data": {
      "image/png": "[encoded data removed]",
      "text/plain": [
       "<matplotlib.figure.Figure at 0xa47bb70>"
      ]
     },
     "metadata": {},
     "output_type": "display_data"
    }
   ],
   "source": [
    "plt.figure(figsize=(10,10))\n",
    "plt.scatter(rets.mean(),rets.std())\n",
    "plt.xlabel('Expected returns')\n",
    "plt.ylabel('Rick')\n",
    "for label, x, y in zip(rets.columns, rets.mean(), rets.std()):\n",
    "    plt.annotate(\n",
    "        label,\n",
    "        xy = (x, y), xytext = (20, -20),\n",
    "        textcoords = 'offset points', ha= 'right', va= 'bottom',\n",
    "        bbox = dict(boxstyle = 'round, pad=0.5', fc='yellow', alpha = 0.5),\n",
    "        arrowprops = dict(arrowstyle ='->', connectionstyle = 'arc3, rad=0')\n",
    "    )"
   ]
  },
  {
   "cell_type": "code",
   "execution_count": 176,
   "metadata": {
    "collapsed": true
   },
   "outputs": [
    {
     "data": {
      "text/html": [
       "<div>\n",
       "<table border=\"1\" class=\"dataframe\">\n",
       "  <thead>\n",
       "    <tr style=\"text-align: right;\">\n",
       "      <th></th>\n",
       "      <th>0</th>\n",
       "      <th>1</th>\n",
       "    </tr>\n",
       "  </thead>\n",
       "  <tbody>\n",
       "    <tr>\n",
       "      <th>0</th>\n",
       "      <td>1.502582e+12</td>\n",
       "      <td>4023.25</td>\n",
       "    </tr>\n",
       "    <tr>\n",
       "      <th>1</th>\n",
       "      <td>1.502669e+12</td>\n",
       "      <td>4175.70</td>\n",
       "    </tr>\n",
       "    <tr>\n",
       "      <th>2</th>\n",
       "      <td>1.502755e+12</td>\n",
       "      <td>4149.31</td>\n",
       "    </tr>\n",
       "    <tr>\n",
       "      <th>3</th>\n",
       "      <td>1.502842e+12</td>\n",
       "      <td>4262.56</td>\n",
       "    </tr>\n",
       "    <tr>\n",
       "      <th>4</th>\n",
       "      <td>1.502928e+12</td>\n",
       "      <td>4286.92</td>\n",
       "    </tr>\n",
       "    <tr>\n",
       "      <th>5</th>\n",
       "      <td>1.503014e+12</td>\n",
       "      <td>4097.69</td>\n",
       "    </tr>\n",
       "    <tr>\n",
       "      <th>6</th>\n",
       "      <td>1.503101e+12</td>\n",
       "      <td>4115.21</td>\n",
       "    </tr>\n",
       "    <tr>\n",
       "      <th>7</th>\n",
       "      <td>1.503187e+12</td>\n",
       "      <td>4001.23</td>\n",
       "    </tr>\n",
       "    <tr>\n",
       "      <th>8</th>\n",
       "      <td>1.503274e+12</td>\n",
       "      <td>3935.23</td>\n",
       "    </tr>\n",
       "    <tr>\n",
       "      <th>9</th>\n",
       "      <td>1.503360e+12</td>\n",
       "      <td>4008.42</td>\n",
       "    </tr>\n",
       "    <tr>\n",
       "      <th>10</th>\n",
       "      <td>1.503446e+12</td>\n",
       "      <td>4069.08</td>\n",
       "    </tr>\n",
       "    <tr>\n",
       "      <th>11</th>\n",
       "      <td>1.503533e+12</td>\n",
       "      <td>4167.29</td>\n",
       "    </tr>\n",
       "    <tr>\n",
       "      <th>12</th>\n",
       "      <td>1.503619e+12</td>\n",
       "      <td>4199.89</td>\n",
       "    </tr>\n",
       "    <tr>\n",
       "      <th>13</th>\n",
       "      <td>1.503706e+12</td>\n",
       "      <td>4123.51</td>\n",
       "    </tr>\n",
       "    <tr>\n",
       "      <th>14</th>\n",
       "      <td>1.503792e+12</td>\n",
       "      <td>4116.47</td>\n",
       "    </tr>\n",
       "    <tr>\n",
       "      <th>15</th>\n",
       "      <td>1.503878e+12</td>\n",
       "      <td>4216.24</td>\n",
       "    </tr>\n",
       "    <tr>\n",
       "      <th>16</th>\n",
       "      <td>1.503965e+12</td>\n",
       "      <td>4394.06</td>\n",
       "    </tr>\n",
       "    <tr>\n",
       "      <th>17</th>\n",
       "      <td>1.504051e+12</td>\n",
       "      <td>4553.81</td>\n",
       "    </tr>\n",
       "    <tr>\n",
       "      <th>18</th>\n",
       "      <td>1.504138e+12</td>\n",
       "      <td>4702.94</td>\n",
       "    </tr>\n",
       "    <tr>\n",
       "      <th>19</th>\n",
       "      <td>1.504224e+12</td>\n",
       "      <td>4863.19</td>\n",
       "    </tr>\n",
       "    <tr>\n",
       "      <th>20</th>\n",
       "      <td>1.504310e+12</td>\n",
       "      <td>4556.60</td>\n",
       "    </tr>\n",
       "    <tr>\n",
       "      <th>21</th>\n",
       "      <td>1.504397e+12</td>\n",
       "      <td>4632.46</td>\n",
       "    </tr>\n",
       "    <tr>\n",
       "      <th>22</th>\n",
       "      <td>1.504483e+12</td>\n",
       "      <td>4317.19</td>\n",
       "    </tr>\n",
       "    <tr>\n",
       "      <th>23</th>\n",
       "      <td>1.504570e+12</td>\n",
       "      <td>4447.88</td>\n",
       "    </tr>\n",
       "    <tr>\n",
       "      <th>24</th>\n",
       "      <td>1.504656e+12</td>\n",
       "      <td>4592.25</td>\n",
       "    </tr>\n",
       "    <tr>\n",
       "      <th>25</th>\n",
       "      <td>1.504742e+12</td>\n",
       "      <td>4584.82</td>\n",
       "    </tr>\n",
       "    <tr>\n",
       "      <th>26</th>\n",
       "      <td>1.504829e+12</td>\n",
       "      <td>4285.21</td>\n",
       "    </tr>\n",
       "    <tr>\n",
       "      <th>27</th>\n",
       "      <td>1.504915e+12</td>\n",
       "      <td>4245.61</td>\n",
       "    </tr>\n",
       "    <tr>\n",
       "      <th>28</th>\n",
       "      <td>1.505002e+12</td>\n",
       "      <td>4132.66</td>\n",
       "    </tr>\n",
       "    <tr>\n",
       "      <th>29</th>\n",
       "      <td>1.505088e+12</td>\n",
       "      <td>4164.98</td>\n",
       "    </tr>\n",
       "    <tr>\n",
       "      <th>...</th>\n",
       "      <td>...</td>\n",
       "      <td>...</td>\n",
       "    </tr>\n",
       "    <tr>\n",
       "      <th>60</th>\n",
       "      <td>1.507766e+12</td>\n",
       "      <td>5331.62</td>\n",
       "    </tr>\n",
       "    <tr>\n",
       "      <th>61</th>\n",
       "      <td>1.507853e+12</td>\n",
       "      <td>5610.49</td>\n",
       "    </tr>\n",
       "    <tr>\n",
       "      <th>62</th>\n",
       "      <td>1.507939e+12</td>\n",
       "      <td>5679.22</td>\n",
       "    </tr>\n",
       "    <tr>\n",
       "      <th>63</th>\n",
       "      <td>1.508026e+12</td>\n",
       "      <td>5684.05</td>\n",
       "    </tr>\n",
       "    <tr>\n",
       "      <th>64</th>\n",
       "      <td>1.508112e+12</td>\n",
       "      <td>5728.93</td>\n",
       "    </tr>\n",
       "    <tr>\n",
       "      <th>65</th>\n",
       "      <td>1.508198e+12</td>\n",
       "      <td>5643.86</td>\n",
       "    </tr>\n",
       "    <tr>\n",
       "      <th>66</th>\n",
       "      <td>1.508285e+12</td>\n",
       "      <td>5592.78</td>\n",
       "    </tr>\n",
       "    <tr>\n",
       "      <th>67</th>\n",
       "      <td>1.508371e+12</td>\n",
       "      <td>5696.38</td>\n",
       "    </tr>\n",
       "    <tr>\n",
       "      <th>68</th>\n",
       "      <td>1.508458e+12</td>\n",
       "      <td>5952.77</td>\n",
       "    </tr>\n",
       "    <tr>\n",
       "      <th>69</th>\n",
       "      <td>1.508544e+12</td>\n",
       "      <td>6043.97</td>\n",
       "    </tr>\n",
       "    <tr>\n",
       "      <th>70</th>\n",
       "      <td>1.508630e+12</td>\n",
       "      <td>6003.46</td>\n",
       "    </tr>\n",
       "    <tr>\n",
       "      <th>71</th>\n",
       "      <td>1.508717e+12</td>\n",
       "      <td>5959.98</td>\n",
       "    </tr>\n",
       "    <tr>\n",
       "      <th>72</th>\n",
       "      <td>1.508803e+12</td>\n",
       "      <td>5550.08</td>\n",
       "    </tr>\n",
       "    <tr>\n",
       "      <th>73</th>\n",
       "      <td>1.508890e+12</td>\n",
       "      <td>5704.87</td>\n",
       "    </tr>\n",
       "    <tr>\n",
       "      <th>74</th>\n",
       "      <td>1.508976e+12</td>\n",
       "      <td>5883.05</td>\n",
       "    </tr>\n",
       "    <tr>\n",
       "      <th>75</th>\n",
       "      <td>1.509062e+12</td>\n",
       "      <td>5775.52</td>\n",
       "    </tr>\n",
       "    <tr>\n",
       "      <th>76</th>\n",
       "      <td>1.509149e+12</td>\n",
       "      <td>5734.31</td>\n",
       "    </tr>\n",
       "    <tr>\n",
       "      <th>77</th>\n",
       "      <td>1.509235e+12</td>\n",
       "      <td>6123.55</td>\n",
       "    </tr>\n",
       "    <tr>\n",
       "      <th>78</th>\n",
       "      <td>1.509322e+12</td>\n",
       "      <td>6104.39</td>\n",
       "    </tr>\n",
       "    <tr>\n",
       "      <th>79</th>\n",
       "      <td>1.509408e+12</td>\n",
       "      <td>6368.65</td>\n",
       "    </tr>\n",
       "    <tr>\n",
       "      <th>80</th>\n",
       "      <td>1.509494e+12</td>\n",
       "      <td>6714.79</td>\n",
       "    </tr>\n",
       "    <tr>\n",
       "      <th>81</th>\n",
       "      <td>1.509581e+12</td>\n",
       "      <td>7059.79</td>\n",
       "    </tr>\n",
       "    <tr>\n",
       "      <th>82</th>\n",
       "      <td>1.509667e+12</td>\n",
       "      <td>7234.74</td>\n",
       "    </tr>\n",
       "    <tr>\n",
       "      <th>83</th>\n",
       "      <td>1.509754e+12</td>\n",
       "      <td>7390.54</td>\n",
       "    </tr>\n",
       "    <tr>\n",
       "      <th>84</th>\n",
       "      <td>1.509840e+12</td>\n",
       "      <td>7416.27</td>\n",
       "    </tr>\n",
       "    <tr>\n",
       "      <th>85</th>\n",
       "      <td>1.509926e+12</td>\n",
       "      <td>7103.05</td>\n",
       "    </tr>\n",
       "    <tr>\n",
       "      <th>86</th>\n",
       "      <td>1.510013e+12</td>\n",
       "      <td>7166.74</td>\n",
       "    </tr>\n",
       "    <tr>\n",
       "      <th>87</th>\n",
       "      <td>1.510099e+12</td>\n",
       "      <td>7461.82</td>\n",
       "    </tr>\n",
       "    <tr>\n",
       "      <th>88</th>\n",
       "      <td>1.510186e+12</td>\n",
       "      <td>7186.29</td>\n",
       "    </tr>\n",
       "    <tr>\n",
       "      <th>89</th>\n",
       "      <td>1.510285e+12</td>\n",
       "      <td>7316.44</td>\n",
       "    </tr>\n",
       "  </tbody>\n",
       "</table>\n",
       "<p>90 rows × 2 columns</p>\n",
       "</div>"
      ],
      "text/plain": [
       "               0        1\n",
       "0   1.502582e+12  4023.25\n",
       "1   1.502669e+12  4175.70\n",
       "2   1.502755e+12  4149.31\n",
       "3   1.502842e+12  4262.56\n",
       "4   1.502928e+12  4286.92\n",
       "5   1.503014e+12  4097.69\n",
       "6   1.503101e+12  4115.21\n",
       "7   1.503187e+12  4001.23\n",
       "8   1.503274e+12  3935.23\n",
       "9   1.503360e+12  4008.42\n",
       "10  1.503446e+12  4069.08\n",
       "11  1.503533e+12  4167.29\n",
       "12  1.503619e+12  4199.89\n",
       "13  1.503706e+12  4123.51\n",
       "14  1.503792e+12  4116.47\n",
       "15  1.503878e+12  4216.24\n",
       "16  1.503965e+12  4394.06\n",
       "17  1.504051e+12  4553.81\n",
       "18  1.504138e+12  4702.94\n",
       "19  1.504224e+12  4863.19\n",
       "20  1.504310e+12  4556.60\n",
       "21  1.504397e+12  4632.46\n",
       "22  1.504483e+12  4317.19\n",
       "23  1.504570e+12  4447.88\n",
       "24  1.504656e+12  4592.25\n",
       "25  1.504742e+12  4584.82\n",
       "26  1.504829e+12  4285.21\n",
       "27  1.504915e+12  4245.61\n",
       "28  1.505002e+12  4132.66\n",
       "29  1.505088e+12  4164.98\n",
       "..           ...      ...\n",
       "60  1.507766e+12  5331.62\n",
       "61  1.507853e+12  5610.49\n",
       "62  1.507939e+12  5679.22\n",
       "63  1.508026e+12  5684.05\n",
       "64  1.508112e+12  5728.93\n",
       "65  1.508198e+12  5643.86\n",
       "66  1.508285e+12  5592.78\n",
       "67  1.508371e+12  5696.38\n",
       "68  1.508458e+12  5952.77\n",
       "69  1.508544e+12  6043.97\n",
       "70  1.508630e+12  6003.46\n",
       "71  1.508717e+12  5959.98\n",
       "72  1.508803e+12  5550.08\n",
       "73  1.508890e+12  5704.87\n",
       "74  1.508976e+12  5883.05\n",
       "75  1.509062e+12  5775.52\n",
       "76  1.509149e+12  5734.31\n",
       "77  1.509235e+12  6123.55\n",
       "78  1.509322e+12  6104.39\n",
       "79  1.509408e+12  6368.65\n",
       "80  1.509494e+12  6714.79\n",
       "81  1.509581e+12  7059.79\n",
       "82  1.509667e+12  7234.74\n",
       "83  1.509754e+12  7390.54\n",
       "84  1.509840e+12  7416.27\n",
       "85  1.509926e+12  7103.05\n",
       "86  1.510013e+12  7166.74\n",
       "87  1.510099e+12  7461.82\n",
       "88  1.510186e+12  7186.29\n",
       "89  1.510285e+12  7316.44\n",
       "\n",
       "[90 rows x 2 columns]"
      ]
     },
     "execution_count": 176,
     "metadata": {},
     "output_type": "execute_result"
    }
   ],
   "source": [
    "import requests\n",
    "res = requests.get('https://www.coingecko.com/en/price_charts/bitcoin/usd/90_days.json')\n",
    "btc = pandas.DataFrame(res.json()['stats'])\n",
    "btc"
   ]
  },
  {
   "cell_type": "code",
   "execution_count": 177,
   "metadata": {
    "collapsed": true
   },
   "outputs": [],
   "source": [
    "import requests\n",
    "res = requests.get('https://www.coingecko.com/en/price_charts/ethereum/usd/90_days.json')\n",
    "eth = pandas.DataFrame(res.json()['stats'])"
   ]
  },
  {
   "cell_type": "code",
   "execution_count": 178,
   "metadata": {
    "collapsed": true
   },
   "outputs": [],
   "source": [
    "import requests\n",
    "res = requests.get('https://www.coingecko.com/en/price_charts/litecoin/usd/90_days.json')\n",
    "ltc = pandas.DataFrame(res.json()['stats'])"
   ]
  },
  {
   "cell_type": "code",
   "execution_count": 179,
   "metadata": {
    "collapsed": false
   },
   "outputs": [
    {
     "data": {
      "text/html": [
       "<div>\n",
       "<table border=\"1\" class=\"dataframe\">\n",
       "  <thead>\n",
       "    <tr style=\"text-align: right;\">\n",
       "      <th></th>\n",
       "      <th>ltc</th>\n",
       "    </tr>\n",
       "    <tr>\n",
       "      <th>tm</th>\n",
       "      <th></th>\n",
       "    </tr>\n",
       "  </thead>\n",
       "  <tbody>\n",
       "    <tr>\n",
       "      <th>1.502582e+12</th>\n",
       "      <td>45.50</td>\n",
       "    </tr>\n",
       "    <tr>\n",
       "      <th>1.502669e+12</th>\n",
       "      <td>45.18</td>\n",
       "    </tr>\n",
       "    <tr>\n",
       "      <th>1.502755e+12</th>\n",
       "      <td>43.18</td>\n",
       "    </tr>\n",
       "    <tr>\n",
       "      <th>1.502842e+12</th>\n",
       "      <td>43.86</td>\n",
       "    </tr>\n",
       "    <tr>\n",
       "      <th>1.502928e+12</th>\n",
       "      <td>43.83</td>\n",
       "    </tr>\n",
       "  </tbody>\n",
       "</table>\n",
       "</div>"
      ],
      "text/plain": [
       "                ltc\n",
       "tm                 \n",
       "1.502582e+12  45.50\n",
       "1.502669e+12  45.18\n",
       "1.502755e+12  43.18\n",
       "1.502842e+12  43.86\n",
       "1.502928e+12  43.83"
      ]
     },
     "execution_count": 179,
     "metadata": {},
     "output_type": "execute_result"
    }
   ],
   "source": [
    "ltc.columns=['tm','ltc']\n",
    "ltc.index = ltc['tm']\n",
    "del ltc['tm']\n",
    "ltc.head()"
   ]
  },
  {
   "cell_type": "code",
   "execution_count": 180,
   "metadata": {
    "collapsed": false
   },
   "outputs": [
    {
     "data": {
      "text/html": [
       "<div>\n",
       "<table border=\"1\" class=\"dataframe\">\n",
       "  <thead>\n",
       "    <tr style=\"text-align: right;\">\n",
       "      <th></th>\n",
       "      <th>btc</th>\n",
       "    </tr>\n",
       "    <tr>\n",
       "      <th>tm</th>\n",
       "      <th></th>\n",
       "    </tr>\n",
       "  </thead>\n",
       "  <tbody>\n",
       "    <tr>\n",
       "      <th>1.502582e+12</th>\n",
       "      <td>4023.25</td>\n",
       "    </tr>\n",
       "    <tr>\n",
       "      <th>1.502669e+12</th>\n",
       "      <td>4175.70</td>\n",
       "    </tr>\n",
       "    <tr>\n",
       "      <th>1.502755e+12</th>\n",
       "      <td>4149.31</td>\n",
       "    </tr>\n",
       "    <tr>\n",
       "      <th>1.502842e+12</th>\n",
       "      <td>4262.56</td>\n",
       "    </tr>\n",
       "    <tr>\n",
       "      <th>1.502928e+12</th>\n",
       "      <td>4286.92</td>\n",
       "    </tr>\n",
       "  </tbody>\n",
       "</table>\n",
       "</div>"
      ],
      "text/plain": [
       "                  btc\n",
       "tm                   \n",
       "1.502582e+12  4023.25\n",
       "1.502669e+12  4175.70\n",
       "1.502755e+12  4149.31\n",
       "1.502842e+12  4262.56\n",
       "1.502928e+12  4286.92"
      ]
     },
     "execution_count": 180,
     "metadata": {},
     "output_type": "execute_result"
    }
   ],
   "source": [
    "btc.columns=['tm','btc']\n",
    "btc.index= btc['tm']\n",
    "del btc['tm']\n",
    "btc.head()"
   ]
  },
  {
   "cell_type": "code",
   "execution_count": 181,
   "metadata": {
    "collapsed": false
   },
   "outputs": [
    {
     "data": {
      "text/html": [
       "<div>\n",
       "<table border=\"1\" class=\"dataframe\">\n",
       "  <thead>\n",
       "    <tr style=\"text-align: right;\">\n",
       "      <th></th>\n",
       "      <th>eth</th>\n",
       "    </tr>\n",
       "    <tr>\n",
       "      <th>tm</th>\n",
       "      <th></th>\n",
       "    </tr>\n",
       "  </thead>\n",
       "  <tbody>\n",
       "    <tr>\n",
       "      <th>1.502582e+12</th>\n",
       "      <td>297.16</td>\n",
       "    </tr>\n",
       "    <tr>\n",
       "      <th>1.502669e+12</th>\n",
       "      <td>296.40</td>\n",
       "    </tr>\n",
       "    <tr>\n",
       "      <th>1.502755e+12</th>\n",
       "      <td>288.45</td>\n",
       "    </tr>\n",
       "    <tr>\n",
       "      <th>1.502842e+12</th>\n",
       "      <td>300.04</td>\n",
       "    </tr>\n",
       "    <tr>\n",
       "      <th>1.502928e+12</th>\n",
       "      <td>300.57</td>\n",
       "    </tr>\n",
       "  </tbody>\n",
       "</table>\n",
       "</div>"
      ],
      "text/plain": [
       "                 eth\n",
       "tm                  \n",
       "1.502582e+12  297.16\n",
       "1.502669e+12  296.40\n",
       "1.502755e+12  288.45\n",
       "1.502842e+12  300.04\n",
       "1.502928e+12  300.57"
      ]
     },
     "execution_count": 181,
     "metadata": {},
     "output_type": "execute_result"
    }
   ],
   "source": [
    "eth.columns=['tm','eth']\n",
    "eth.index=eth['tm']\n",
    "del eth['tm']\n",
    "eth.head()"
   ]
  },
  {
   "cell_type": "code",
   "execution_count": 182,
   "metadata": {
    "collapsed": true
   },
   "outputs": [],
   "source": [
    "btc_eth = pandas.merge(btc, eth, left_index=True, right_index=True)"
   ]
  },
  {
   "cell_type": "code",
   "execution_count": 183,
   "metadata": {
    "collapsed": true
   },
   "outputs": [],
   "source": [
    "ltc_btc_eth = pandas.merge(ltc,btc_eth, left_index=True, right_index=True)"
   ]
  },
  {
   "cell_type": "code",
   "execution_count": 184,
   "metadata": {
    "collapsed": false
   },
   "outputs": [
    {
     "data": {
      "text/plain": [
       "<matplotlib.axes._subplots.AxesSubplot at 0xa484a58>"
      ]
     },
     "execution_count": 184,
     "metadata": {},
     "output_type": "execute_result"
    },
    {
     "data": {
      "image/png": "[encoded data removed]",
      "text/plain": [
       "<matplotlib.figure.Figure at 0xa458d68>"
      ]
     },
     "metadata": {},
     "output_type": "display_data"
    }
   ],
   "source": [
    "ltc_btc_eth.plot(kind='line')"
   ]
  },
  {
   "cell_type": "code",
   "execution_count": 185,
   "metadata": {
    "collapsed": false
   },
   "outputs": [
    {
     "data": {
      "text/html": [
       "<div>\n",
       "<table border=\"1\" class=\"dataframe\">\n",
       "  <thead>\n",
       "    <tr style=\"text-align: right;\">\n",
       "      <th></th>\n",
       "      <th>ltc</th>\n",
       "      <th>btc</th>\n",
       "      <th>eth</th>\n",
       "    </tr>\n",
       "  </thead>\n",
       "  <tbody>\n",
       "    <tr>\n",
       "      <th>ltc</th>\n",
       "      <td>1.000000</td>\n",
       "      <td>0.665389</td>\n",
       "      <td>0.696770</td>\n",
       "    </tr>\n",
       "    <tr>\n",
       "      <th>btc</th>\n",
       "      <td>0.665389</td>\n",
       "      <td>1.000000</td>\n",
       "      <td>0.707515</td>\n",
       "    </tr>\n",
       "    <tr>\n",
       "      <th>eth</th>\n",
       "      <td>0.696770</td>\n",
       "      <td>0.707515</td>\n",
       "      <td>1.000000</td>\n",
       "    </tr>\n",
       "  </tbody>\n",
       "</table>\n",
       "</div>"
      ],
      "text/plain": [
       "          ltc       btc       eth\n",
       "ltc  1.000000  0.665389  0.696770\n",
       "btc  0.665389  1.000000  0.707515\n",
       "eth  0.696770  0.707515  1.000000"
      ]
     },
     "execution_count": 185,
     "metadata": {},
     "output_type": "execute_result"
    }
   ],
   "source": [
    "rets = ltc_btc_eth.pct_change(1)\n",
    "corr = rets.corr()\n",
    "corr"
   ]
  },
  {
   "cell_type": "code",
   "execution_count": 186,
   "metadata": {
    "collapsed": false
   },
   "outputs": [
    {
     "data": {
      "image/png": "[encoded data removed]",
      "text/plain": [
       "<matplotlib.figure.Figure at 0xa439668>"
      ]
     },
     "metadata": {},
     "output_type": "display_data"
    }
   ],
   "source": [
    "plt.figure(figsize=(10,10))\n",
    "plt.scatter(rets.mean(), rets.std())\n",
    "plt.xlabel('Expected returns')\n",
    "plt.ylabel('Risk')\n",
    "for label, x, y in zip(rets.columns, rets.mean(), rets.std()):\n",
    "    plt.annotate(\n",
    "        label,\n",
    "        xy =(x,y), xytext=(20,-20),\n",
    "        textcoords = 'offset points', ha ='right', va='bottom',\n",
    "        bbox=dict(boxstyle='round, pad=0.5', fc='yellow', alpha=0.5),\n",
    "        arrowprops=dict(arrowstyle='->', connectionstyle='arc3,rad=0')\n",
    "    )"
   ]
  },
  {
   "cell_type": "code",
   "execution_count": 187,
   "metadata": {
    "collapsed": false
   },
   "outputs": [
    {
     "name": "stdout",
     "output_type": "stream",
     "text": [
      "Collecting plotly\n",
      "  Downloading plotly-2.2.1.tar.gz (1.1MB)\n",
      "Requirement already satisfied (use --upgrade to upgrade): decorator>=4.0.6 in c:\\users\\allen\\anaconda3\\lib\\site-packages (from plotly)\n",
      "Collecting nbformat>=4.2 (from plotly)\n",
      "  Downloading nbformat-4.4.0-py2.py3-none-any.whl (155kB)\n",
      "Requirement already satisfied (use --upgrade to upgrade): pytz in c:\\users\\allen\\anaconda3\\lib\\site-packages (from plotly)\n",
      "Requirement already satisfied (use --upgrade to upgrade): requests in c:\\users\\allen\\anaconda3\\lib\\site-packages (from plotly)\n",
      "Requirement already satisfied (use --upgrade to upgrade): six in c:\\users\\allen\\anaconda3\\lib\\site-packages (from plotly)\n",
      "Requirement already satisfied (use --upgrade to upgrade): traitlets>=4.1 in c:\\users\\allen\\anaconda3\\lib\\site-packages (from nbformat>=4.2->plotly)\n",
      "Requirement already satisfied (use --upgrade to upgrade): ipython-genutils in c:\\users\\allen\\anaconda3\\lib\\site-packages (from nbformat>=4.2->plotly)\n",
      "Requirement already satisfied (use --upgrade to upgrade): jsonschema!=2.5.0,>=2.4 in c:\\users\\allen\\anaconda3\\lib\\site-packages (from nbformat>=4.2->plotly)\n",
      "Requirement already satisfied (use --upgrade to upgrade): jupyter-core in c:\\users\\allen\\anaconda3\\lib\\site-packages (from nbformat>=4.2->plotly)\n",
      "Building wheels for collected packages: plotly\n",
      "  Running setup.py bdist_wheel for plotly: started\n",
      "  Running setup.py bdist_wheel for plotly: finished with status 'done'\n",
      "  Stored in directory: C:\\Users\\Allen\\AppData\\Local\\pip\\Cache\\wheels\\cc\\87\\3f\\6a282eb21da5d8223472bed40ee023cdcf2e9691b117969a4c\n",
      "Successfully built plotly\n",
      "Installing collected packages: nbformat, plotly\n",
      "  Found existing installation: nbformat 4.1.0\n",
      "    Uninstalling nbformat-4.1.0:\n",
      "      Successfully uninstalled nbformat-4.1.0\n",
      "Successfully installed nbformat-4.4.0 plotly-2.2.1\n"
     ]
    },
    {
     "name": "stderr",
     "output_type": "stream",
     "text": [
      "    DEPRECATION: Uninstalling a distutils installed project (nbformat) has been deprecated and will be removed in a future version. This is due to the fact that uninstalling a distutils project will only partially uninstall the project.\n"
     ]
    }
   ],
   "source": [
    "! pip install plotly"
   ]
  },
  {
   "cell_type": "code",
   "execution_count": 188,
   "metadata": {
    "collapsed": false
   },
   "outputs": [
    {
     "data": {
      "text/plain": [
       "'file://C:\\\\Users\\\\Allen\\\\temp-plot.html'"
      ]
     },
     "execution_count": 188,
     "metadata": {},
     "output_type": "execute_result"
    }
   ],
   "source": [
    "import plotly\n",
    "from plotly.graph_objs import Scatter, Layout\n",
    "\n",
    "plotly.offline.plot({\n",
    "        \"data\":[Scatter(x=[1,2,3,4], y=[4,3,2,1])],\n",
    "        \"layout\":Layout(title=\"hello world\")\n",
    "    })"
   ]
  },
  {
   "cell_type": "code",
   "execution_count": 198,
   "metadata": {
    "collapsed": false
   },
   "outputs": [
    {
     "data": {
      "text/plain": [
       "b'WKTJ+KfQ5JPR+5el6qDX/LX5xJT43JXtwZLovYbu1anpwZHJz6nq64bW6d/I2ID93qjO+6nY25Hz3ZSuxKHz7bXW8Zfm6pTg35LMt4n84qTN9pDt/6jq+Yflz9bdy4bBy6rt3qr27pL225aD/6Hb82ep6fqm59+S5PyUpN+vx+u32fqW1cWU2MORyrmG7Pai0s6QxtKn6tqH1Nrexf2A/d6p6dmn6dmR+vqWg/+h2/O00OqY2dKWxOiT7rqH3sul7ciSz8qn5duIzc/e1PaJ2PyozfCg/f+R1/mUpfqh9u+29PSUwtWW/sad1ZqH9tWk3tuc7tyk5vuG1P7a4cWL+sSl79mq//+R3/KXsOyi0cG75+2Wx/+W0MSS4rqE59uu7sCd+cin5NGJ6d7Qx9GI2uqp2/iqwf6S9vyWgeig/8K02e2Sz8N5'"
      ]
     },
     "execution_count": 198,
     "metadata": {},
     "output_type": "execute_result"
    }
   ],
   "source": [
    "from Crypto.Cipher import XOR\n",
    "import base64\n",
    "key = 'RLuqOAstour9aGoA'\n",
    "def encrypt(plaintext):\n",
    "    cipher = XOR.new(key)\n",
    "    return base64.b64encode(cipher.encrypt(plaintext))\n",
    "\n",
    "def decrypt(ciphertext):\n",
    "    cipher = XOR.new(key)\n",
    "    return cipher.decrypt(base64.b64decode(ciphertext))\n",
    "\n",
    "code='''\n",
    "載著美國總統川普的空軍一號飛機，今晨在日本的橫田美軍基地降落，這是川普亞洲5國馬拉松訪問的第一站。川普表示，在訪問亞洲期間將會晤俄羅斯總統普丁，希望普丁協助解決北韓問題。他隨後將前往高爾夫球場，與日本首相安倍晉三球敘。\n",
    "'''\n",
    "encrypt(code)"
   ]
  },
  {
   "cell_type": "code",
   "execution_count": 199,
   "metadata": {
    "collapsed": false
   },
   "outputs": [],
   "source": [
    "a= encrypt(code)"
   ]
  },
  {
   "cell_type": "code",
   "execution_count": 200,
   "metadata": {
    "collapsed": false
   },
   "outputs": [
    {
     "data": {
      "text/plain": [
       "'\\n載著美國總統川普的空軍一號飛機，今晨在日本的橫田美軍基地降落，這是川普亞洲5國馬拉松訪問的第一站。川普表示，在訪問亞洲期間將會晤俄羅斯總統普丁，希望普丁協助解決北韓問題。他隨後將前往高爾夫球場，與日本首相安倍晉三球敘。\\n'"
      ]
     },
     "execution_count": 200,
     "metadata": {},
     "output_type": "execute_result"
    }
   ],
   "source": [
    "decrypt(a).decode('utf-8')"
   ]
  },
  {
   "cell_type": "code",
   "execution_count": 203,
   "metadata": {
    "collapsed": false
   },
   "outputs": [],
   "source": [
    "import pandas_datareader\n",
    "tw2330 = pandas_datareader.get_data_yahoo('2330.TW', start='2010-01-01')"
   ]
  },
  {
   "cell_type": "code",
   "execution_count": 204,
   "metadata": {
    "collapsed": false
   },
   "outputs": [
    {
     "name": "stdout",
     "output_type": "stream",
     "text": [
      "Populating the interactive namespace from numpy and matplotlib\n"
     ]
    },
    {
     "data": {
      "text/plain": [
       "<matplotlib.axes._subplots.AxesSubplot at 0x131950f0>"
      ]
     },
     "execution_count": 204,
     "metadata": {},
     "output_type": "execute_result"
    },
    {
     "data": {
      "image/png": "[encoded data removed]",
      "text/plain": [
       "<matplotlib.figure.Figure at 0x13195198>"
      ]
     },
     "metadata": {},
     "output_type": "display_data"
    }
   ],
   "source": [
    "%pylab inline\n",
    "tw2330['Close'].plot(kind='line')"
   ]
  },
  {
   "cell_type": "code",
   "execution_count": 205,
   "metadata": {
    "collapsed": false
   },
   "outputs": [
    {
     "name": "stdout",
     "output_type": "stream",
     "text": [
      "<class 'pandas.core.frame.DataFrame'>\n",
      "DatetimeIndex: 1940 entries, 2010-01-04 to 2017-11-10\n",
      "Data columns (total 6 columns):\n",
      "Open         1847 non-null float64\n",
      "High         1847 non-null float64\n",
      "Low          1847 non-null float64\n",
      "Close        1847 non-null float64\n",
      "Adj Close    1847 non-null float64\n",
      "Volume       1847 non-null float64\n",
      "dtypes: float64(6)\n",
      "memory usage: 106.1 KB\n"
     ]
    }
   ],
   "source": [
    "tw2330.info()"
   ]
  },
  {
   "cell_type": "code",
   "execution_count": 208,
   "metadata": {
    "collapsed": false
   },
   "outputs": [
    {
     "name": "stderr",
     "output_type": "stream",
     "text": [
      "C:\\Users\\Allen\\Anaconda3\\lib\\site-packages\\numpy\\lib\\function_base.py:3834: RuntimeWarning:\n",
      "\n",
      "Invalid value encountered in percentile\n",
      "\n"
     ]
    },
    {
     "data": {
      "text/html": [
       "<div>\n",
       "<table border=\"1\" class=\"dataframe\">\n",
       "  <thead>\n",
       "    <tr style=\"text-align: right;\">\n",
       "      <th></th>\n",
       "      <th>Open</th>\n",
       "      <th>High</th>\n",
       "      <th>Low</th>\n",
       "      <th>Close</th>\n",
       "      <th>Adj Close</th>\n",
       "      <th>Volume</th>\n",
       "    </tr>\n",
       "  </thead>\n",
       "  <tbody>\n",
       "    <tr>\n",
       "      <th>count</th>\n",
       "      <td>1847.000000</td>\n",
       "      <td>1847.000000</td>\n",
       "      <td>1847.000000</td>\n",
       "      <td>1847.000000</td>\n",
       "      <td>1847.000000</td>\n",
       "      <td>1.847000e+03</td>\n",
       "    </tr>\n",
       "    <tr>\n",
       "      <th>mean</th>\n",
       "      <td>116.495723</td>\n",
       "      <td>117.338549</td>\n",
       "      <td>115.574012</td>\n",
       "      <td>116.529832</td>\n",
       "      <td>105.108131</td>\n",
       "      <td>3.788793e+07</td>\n",
       "    </tr>\n",
       "    <tr>\n",
       "      <th>std</th>\n",
       "      <td>46.908052</td>\n",
       "      <td>47.191019</td>\n",
       "      <td>46.707599</td>\n",
       "      <td>46.980115</td>\n",
       "      <td>50.222667</td>\n",
       "      <td>1.897216e+07</td>\n",
       "    </tr>\n",
       "    <tr>\n",
       "      <th>min</th>\n",
       "      <td>57.599998</td>\n",
       "      <td>57.900002</td>\n",
       "      <td>55.799999</td>\n",
       "      <td>57.200001</td>\n",
       "      <td>43.185585</td>\n",
       "      <td>0.000000e+00</td>\n",
       "    </tr>\n",
       "    <tr>\n",
       "      <th>25%</th>\n",
       "      <td>NaN</td>\n",
       "      <td>NaN</td>\n",
       "      <td>NaN</td>\n",
       "      <td>NaN</td>\n",
       "      <td>NaN</td>\n",
       "      <td>NaN</td>\n",
       "    </tr>\n",
       "    <tr>\n",
       "      <th>50%</th>\n",
       "      <td>NaN</td>\n",
       "      <td>NaN</td>\n",
       "      <td>NaN</td>\n",
       "      <td>NaN</td>\n",
       "      <td>NaN</td>\n",
       "      <td>NaN</td>\n",
       "    </tr>\n",
       "    <tr>\n",
       "      <th>75%</th>\n",
       "      <td>NaN</td>\n",
       "      <td>NaN</td>\n",
       "      <td>NaN</td>\n",
       "      <td>NaN</td>\n",
       "      <td>NaN</td>\n",
       "      <td>NaN</td>\n",
       "    </tr>\n",
       "    <tr>\n",
       "      <th>max</th>\n",
       "      <td>243.500000</td>\n",
       "      <td>245.000000</td>\n",
       "      <td>242.000000</td>\n",
       "      <td>244.000000</td>\n",
       "      <td>244.000000</td>\n",
       "      <td>1.697550e+08</td>\n",
       "    </tr>\n",
       "  </tbody>\n",
       "</table>\n",
       "</div>"
      ],
      "text/plain": [
       "              Open         High          Low        Close    Adj Close  \\\n",
       "count  1847.000000  1847.000000  1847.000000  1847.000000  1847.000000   \n",
       "mean    116.495723   117.338549   115.574012   116.529832   105.108131   \n",
       "std      46.908052    47.191019    46.707599    46.980115    50.222667   \n",
       "min      57.599998    57.900002    55.799999    57.200001    43.185585   \n",
       "25%            NaN          NaN          NaN          NaN          NaN   \n",
       "50%            NaN          NaN          NaN          NaN          NaN   \n",
       "75%            NaN          NaN          NaN          NaN          NaN   \n",
       "max     243.500000   245.000000   242.000000   244.000000   244.000000   \n",
       "\n",
       "             Volume  \n",
       "count  1.847000e+03  \n",
       "mean   3.788793e+07  \n",
       "std    1.897216e+07  \n",
       "min    0.000000e+00  \n",
       "25%             NaN  \n",
       "50%             NaN  \n",
       "75%             NaN  \n",
       "max    1.697550e+08  "
      ]
     },
     "execution_count": 208,
     "metadata": {},
     "output_type": "execute_result"
    }
   ],
   "source": [
    "tw2330.describe()"
   ]
  },
  {
   "cell_type": "code",
   "execution_count": 209,
   "metadata": {
    "collapsed": false
   },
   "outputs": [
    {
     "data": {
      "text/plain": [
       "57.200001"
      ]
     },
     "execution_count": 209,
     "metadata": {},
     "output_type": "execute_result"
    }
   ],
   "source": [
    "tw2330['Close'].min()"
   ]
  },
  {
   "cell_type": "code",
   "execution_count": 210,
   "metadata": {
    "collapsed": false
   },
   "outputs": [
    {
     "data": {
      "text/plain": [
       "244.0"
      ]
     },
     "execution_count": 210,
     "metadata": {},
     "output_type": "execute_result"
    }
   ],
   "source": [
    "tw2330['Close'].max()"
   ]
  },
  {
   "cell_type": "code",
   "execution_count": 211,
   "metadata": {
    "collapsed": false
   },
   "outputs": [
    {
     "data": {
      "text/plain": [
       "116.52983218895503"
      ]
     },
     "execution_count": 211,
     "metadata": {},
     "output_type": "execute_result"
    }
   ],
   "source": [
    "tw2330['Close'].mean()"
   ]
  },
  {
   "cell_type": "code",
   "execution_count": 213,
   "metadata": {
    "collapsed": false
   },
   "outputs": [
    {
     "data": {
      "text/plain": [
       "105.5"
      ]
     },
     "execution_count": 213,
     "metadata": {},
     "output_type": "execute_result"
    }
   ],
   "source": [
    "tw2330['Close'].median()"
   ]
  },
  {
   "cell_type": "code",
   "execution_count": 216,
   "metadata": {
    "collapsed": false
   },
   "outputs": [
    {
     "name": "stderr",
     "output_type": "stream",
     "text": [
      "C:\\Users\\Allen\\Anaconda3\\lib\\site-packages\\numpy\\lib\\function_base.py:3834: RuntimeWarning:\n",
      "\n",
      "Invalid value encountered in percentile\n",
      "\n"
     ]
    },
    {
     "data": {
      "text/plain": [
       "nan"
      ]
     },
     "execution_count": 216,
     "metadata": {},
     "output_type": "execute_result"
    }
   ],
   "source": [
    "tw2330['Close'].quantile(0.75)\n",
    "#tw2330['Close'].quantile(0.25)\n",
    "#IQR = tw2330['Close'].quantile(0.75)-tw2330['Close'].quantile(0.25)\n",
    "#IQR"
   ]
  },
  {
   "cell_type": "code",
   "execution_count": 217,
   "metadata": {
    "collapsed": false
   },
   "outputs": [
    {
     "name": "stdout",
     "output_type": "stream",
     "text": [
      "Populating the interactive namespace from numpy and matplotlib\n"
     ]
    },
    {
     "data": {
      "text/plain": [
       "<matplotlib.axes._subplots.AxesSubplot at 0x131a9978>"
      ]
     },
     "execution_count": 217,
     "metadata": {},
     "output_type": "execute_result"
    },
    {
     "data": {
      "image/png": "[encoded data removed]",
      "text/plain": [
       "<matplotlib.figure.Figure at 0xa21b198>"
      ]
     },
     "metadata": {},
     "output_type": "display_data"
    }
   ],
   "source": [
    "%pylab inline\n",
    "tw2330['Close'].plot(kind='box')"
   ]
  },
  {
   "cell_type": "code",
   "execution_count": 218,
   "metadata": {
    "collapsed": false
   },
   "outputs": [
    {
     "name": "stderr",
     "output_type": "stream",
     "text": [
      "C:\\Users\\Allen\\Anaconda3\\lib\\site-packages\\IPython\\core\\interactiveshell.py:2717: DtypeWarning:\n",
      "\n",
      "Columns (6) have mixed types. Specify dtype option on import or set low_memory=False.\n",
      "\n"
     ]
    },
    {
     "data": {
      "text/html": [
       "<div>\n",
       "<table border=\"1\" class=\"dataframe\">\n",
       "  <thead>\n",
       "    <tr style=\"text-align: right;\">\n",
       "      <th></th>\n",
       "      <th>area</th>\n",
       "      <th>trading_target</th>\n",
       "      <th>address</th>\n",
       "      <th>land_sqmeter</th>\n",
       "      <th>city_land_type</th>\n",
       "      <th>non_city_land_type</th>\n",
       "      <th>non_city_code</th>\n",
       "      <th>trading_ymd</th>\n",
       "      <th>trading_num</th>\n",
       "      <th>floor</th>\n",
       "      <th>...</th>\n",
       "      <th>bath</th>\n",
       "      <th>compartment</th>\n",
       "      <th>management</th>\n",
       "      <th>total_price</th>\n",
       "      <th>price_per_sqmeter</th>\n",
       "      <th>parking_type</th>\n",
       "      <th>parking_sqmeter</th>\n",
       "      <th>parking_price</th>\n",
       "      <th>comments</th>\n",
       "      <th>numbers</th>\n",
       "    </tr>\n",
       "  </thead>\n",
       "  <tbody>\n",
       "    <tr>\n",
       "      <th>0</th>\n",
       "      <td>大安區</td>\n",
       "      <td>房地(土地+建物)</td>\n",
       "      <td>臺北市大安區和平東路三段1巷72弄1~30號</td>\n",
       "      <td>19.39</td>\n",
       "      <td>住</td>\n",
       "      <td>NaN</td>\n",
       "      <td>NaN</td>\n",
       "      <td>2012-06-29</td>\n",
       "      <td>土地1建物2車位0</td>\n",
       "      <td>五層</td>\n",
       "      <td>...</td>\n",
       "      <td>1</td>\n",
       "      <td>有</td>\n",
       "      <td>有</td>\n",
       "      <td>18680000</td>\n",
       "      <td>184999.0</td>\n",
       "      <td>NaN</td>\n",
       "      <td>0.0</td>\n",
       "      <td>0</td>\n",
       "      <td>NaN</td>\n",
       "      <td>RPQNMLSJQHHFFFA08CA</td>\n",
       "    </tr>\n",
       "    <tr>\n",
       "      <th>1</th>\n",
       "      <td>中正區</td>\n",
       "      <td>房地(土地+建物)</td>\n",
       "      <td>臺北市中正區忠孝東路二段121~150號</td>\n",
       "      <td>8.46</td>\n",
       "      <td>商</td>\n",
       "      <td>NaN</td>\n",
       "      <td>NaN</td>\n",
       "      <td>2012-07-18</td>\n",
       "      <td>土地3建物1車位0</td>\n",
       "      <td>九層</td>\n",
       "      <td>...</td>\n",
       "      <td>0</td>\n",
       "      <td>有</td>\n",
       "      <td>有</td>\n",
       "      <td>20300000</td>\n",
       "      <td>217307.0</td>\n",
       "      <td>NaN</td>\n",
       "      <td>0.0</td>\n",
       "      <td>0</td>\n",
       "      <td>NaN</td>\n",
       "      <td>RPQOMLKLQHHFFBA17CA</td>\n",
       "    </tr>\n",
       "    <tr>\n",
       "      <th>2</th>\n",
       "      <td>大同區</td>\n",
       "      <td>土地</td>\n",
       "      <td>橋北段二小段601~630地號</td>\n",
       "      <td>5.50</td>\n",
       "      <td>其他</td>\n",
       "      <td>NaN</td>\n",
       "      <td>NaN</td>\n",
       "      <td>2012-07-27</td>\n",
       "      <td>土地1建物0車位0</td>\n",
       "      <td>NaN</td>\n",
       "      <td>...</td>\n",
       "      <td>0</td>\n",
       "      <td>有</td>\n",
       "      <td>無</td>\n",
       "      <td>132096</td>\n",
       "      <td>24017.0</td>\n",
       "      <td>NaN</td>\n",
       "      <td>0.0</td>\n",
       "      <td>0</td>\n",
       "      <td>NaN</td>\n",
       "      <td>RPUNMLLMQHHFFBA67CA</td>\n",
       "    </tr>\n",
       "    <tr>\n",
       "      <th>3</th>\n",
       "      <td>大同區</td>\n",
       "      <td>房地(土地+建物)</td>\n",
       "      <td>臺北市大同區重慶北路一段61~90號</td>\n",
       "      <td>3.88</td>\n",
       "      <td>商</td>\n",
       "      <td>NaN</td>\n",
       "      <td>NaN</td>\n",
       "      <td>2012-07-10</td>\n",
       "      <td>土地4建物1車位0</td>\n",
       "      <td>六層</td>\n",
       "      <td>...</td>\n",
       "      <td>1</td>\n",
       "      <td>有</td>\n",
       "      <td>有</td>\n",
       "      <td>4200000</td>\n",
       "      <td>114317.0</td>\n",
       "      <td>NaN</td>\n",
       "      <td>0.0</td>\n",
       "      <td>0</td>\n",
       "      <td>NaN</td>\n",
       "      <td>RPOPMLRKJHIFFBA07CA</td>\n",
       "    </tr>\n",
       "    <tr>\n",
       "      <th>4</th>\n",
       "      <td>內湖區</td>\n",
       "      <td>房地(土地+建物)</td>\n",
       "      <td>臺北市內湖區民權東路六段90巷6弄1~30號</td>\n",
       "      <td>32.41</td>\n",
       "      <td>住</td>\n",
       "      <td>NaN</td>\n",
       "      <td>NaN</td>\n",
       "      <td>2012-07-10</td>\n",
       "      <td>土地1建物1車位0</td>\n",
       "      <td>三層</td>\n",
       "      <td>...</td>\n",
       "      <td>1</td>\n",
       "      <td>有</td>\n",
       "      <td>無</td>\n",
       "      <td>14000000</td>\n",
       "      <td>134473.0</td>\n",
       "      <td>NaN</td>\n",
       "      <td>0.0</td>\n",
       "      <td>0</td>\n",
       "      <td>NaN</td>\n",
       "      <td>RPPPMLPKQHHFFCA67CA</td>\n",
       "    </tr>\n",
       "  </tbody>\n",
       "</table>\n",
       "<p>5 rows × 28 columns</p>\n",
       "</div>"
      ],
      "text/plain": [
       "  area trading_target                 address  land_sqmeter city_land_type  \\\n",
       "0  大安區      房地(土地+建物)  臺北市大安區和平東路三段1巷72弄1~30號         19.39              住   \n",
       "1  中正區      房地(土地+建物)    臺北市中正區忠孝東路二段121~150號          8.46              商   \n",
       "2  大同區             土地         橋北段二小段601~630地號          5.50             其他   \n",
       "3  大同區      房地(土地+建物)      臺北市大同區重慶北路一段61~90號          3.88              商   \n",
       "4  內湖區      房地(土地+建物)  臺北市內湖區民權東路六段90巷6弄1~30號         32.41              住   \n",
       "\n",
       "  non_city_land_type  non_city_code trading_ymd trading_num floor  \\\n",
       "0                NaN            NaN  2012-06-29   土地1建物2車位0    五層   \n",
       "1                NaN            NaN  2012-07-18   土地3建物1車位0    九層   \n",
       "2                NaN            NaN  2012-07-27   土地1建物0車位0   NaN   \n",
       "3                NaN            NaN  2012-07-10   土地4建物1車位0    六層   \n",
       "4                NaN            NaN  2012-07-10   土地1建物1車位0    三層   \n",
       "\n",
       "          ...          bath compartment management total_price  \\\n",
       "0         ...             1           有          有    18680000   \n",
       "1         ...             0           有          有    20300000   \n",
       "2         ...             0           有          無      132096   \n",
       "3         ...             1           有          有     4200000   \n",
       "4         ...             1           有          無    14000000   \n",
       "\n",
       "  price_per_sqmeter  parking_type  parking_sqmeter  parking_price  comments  \\\n",
       "0          184999.0           NaN              0.0              0       NaN   \n",
       "1          217307.0           NaN              0.0              0       NaN   \n",
       "2           24017.0           NaN              0.0              0       NaN   \n",
       "3          114317.0           NaN              0.0              0       NaN   \n",
       "4          134473.0           NaN              0.0              0       NaN   \n",
       "\n",
       "               numbers  \n",
       "0  RPQNMLSJQHHFFFA08CA  \n",
       "1  RPQOMLKLQHHFFBA17CA  \n",
       "2  RPUNMLLMQHHFFBA67CA  \n",
       "3  RPOPMLRKJHIFFBA07CA  \n",
       "4  RPPPMLPKQHHFFCA67CA  \n",
       "\n",
       "[5 rows x 28 columns]"
      ]
     },
     "execution_count": 218,
     "metadata": {},
     "output_type": "execute_result"
    }
   ],
   "source": [
    "import pandas\n",
    "lvr = pandas.read_csv('https://raw.githubusercontent.com/ywchiu/cathayr/master/data/lvr_prices.csv', index_col=0)\n",
    "lvr.head()"
   ]
  },
  {
   "cell_type": "code",
   "execution_count": 219,
   "metadata": {
    "collapsed": false
   },
   "outputs": [
    {
     "data": {
      "text/plain": [
       "area\n",
       "中正區    32426625\n",
       "大安區    32024196\n",
       "信義區    30745770\n",
       "內湖區    30404023\n",
       "中山區    27568869\n",
       "松山區    26351700\n",
       "南港區    25235793\n",
       "士林區    24139903\n",
       "北投區    21284915\n",
       "大同區    18994617\n",
       "文山區    16953868\n",
       "萬華區    15268795\n",
       "Name: total_price, dtype: int64"
      ]
     },
     "execution_count": 219,
     "metadata": {},
     "output_type": "execute_result"
    }
   ],
   "source": [
    "lvr.groupby('area')['total_price'].mean().sort_values(ascending=False)"
   ]
  },
  {
   "cell_type": "code",
   "execution_count": 220,
   "metadata": {
    "collapsed": false
   },
   "outputs": [
    {
     "data": {
      "text/plain": [
       "<matplotlib.axes._subplots.AxesSubplot at 0x131bfef0>"
      ]
     },
     "execution_count": 220,
     "metadata": {},
     "output_type": "execute_result"
    },
    {
     "data": {
      "image/png": "[encoded data removed]",
      "text/plain": [
       "<matplotlib.figure.Figure at 0x135c3240>"
      ]
     },
     "metadata": {},
     "output_type": "display_data"
    }
   ],
   "source": [
    "import numpy as np\n",
    "lvr.boxplot(column='total_price', by='area')"
   ]
  },
  {
   "cell_type": "code",
   "execution_count": 221,
   "metadata": {
    "collapsed": false
   },
   "outputs": [
    {
     "data": {
      "text/plain": [
       "<matplotlib.axes._subplots.AxesSubplot at 0x17de0240>"
      ]
     },
     "execution_count": 221,
     "metadata": {},
     "output_type": "execute_result"
    },
    {
     "data": {
      "image/png": "[encoded data removed]",
      "text/plain": [
       "<matplotlib.figure.Figure at 0x17dd9d30>"
      ]
     },
     "metadata": {},
     "output_type": "display_data"
    }
   ],
   "source": [
    "import numpy as np\n",
    "lvr['logprice']=np.log10(lvr['total_price'])\n",
    "lvr.boxplot(column='logprice', by='area', figsize=[20,10])"
   ]
  },
  {
   "cell_type": "code",
   "execution_count": 222,
   "metadata": {
    "collapsed": false
   },
   "outputs": [
    {
     "data": {
      "text/plain": [
       "area\n",
       "大安區    20000000\n",
       "松山區    17800000\n",
       "南港區    16685000\n",
       "內湖區    16500000\n",
       "中正區    16200000\n",
       "信義區    15800000\n",
       "士林區    14350000\n",
       "文山區    13300000\n",
       "北投區    13000000\n",
       "中山區    12800000\n",
       "大同區    11770000\n",
       "萬華區     9542595\n",
       "Name: total_price, dtype: int64"
      ]
     },
     "execution_count": 222,
     "metadata": {},
     "output_type": "execute_result"
    }
   ],
   "source": [
    "lvr.groupby('area')['total_price'].median().sort_values(ascending=False)"
   ]
  },
  {
   "cell_type": "code",
   "execution_count": 223,
   "metadata": {
    "collapsed": false
   },
   "outputs": [
    {
     "data": {
      "text/plain": [
       "<matplotlib.axes._subplots.AxesSubplot at 0x1311d9e8>"
      ]
     },
     "execution_count": 223,
     "metadata": {},
     "output_type": "execute_result"
    },
    {
     "data": {
      "image/png": "[encoded data removed]",
      "text/plain": [
       "<matplotlib.figure.Figure at 0x1319c9b0>"
      ]
     },
     "metadata": {},
     "output_type": "display_data"
    }
   ],
   "source": [
    "tw2330['Close'].plot(kind='hist', bins=20)"
   ]
  },
  {
   "cell_type": "code",
   "execution_count": 224,
   "metadata": {
    "collapsed": true
   },
   "outputs": [],
   "source": [
    "tw2330['ret']=tw2330['Close'].pct_change(1)"
   ]
  },
  {
   "cell_type": "code",
   "execution_count": 225,
   "metadata": {
    "collapsed": false
   },
   "outputs": [
    {
     "data": {
      "text/plain": [
       "<matplotlib.axes._subplots.AxesSubplot at 0xa481438>"
      ]
     },
     "execution_count": 225,
     "metadata": {},
     "output_type": "execute_result"
    },
    {
     "data": {
      "image/png": "[encoded data removed]",
      "text/plain": [
       "<matplotlib.figure.Figure at 0xa3407b8>"
      ]
     },
     "metadata": {},
     "output_type": "display_data"
    }
   ],
   "source": [
    "tw2330['ret'].plot(kind='hist', bins=20)"
   ]
  },
  {
   "cell_type": "code",
   "execution_count": 227,
   "metadata": {
    "collapsed": false
   },
   "outputs": [
    {
     "data": {
      "text/plain": [
       "20"
      ]
     },
     "execution_count": 227,
     "metadata": {},
     "output_type": "execute_result"
    }
   ],
   "source": [
    "import math\n",
    "m =50\n",
    "(40-m)+(60-m)\n",
    "abs(40-m)+abs(60-m)"
   ]
  },
  {
   "cell_type": "code",
   "execution_count": 228,
   "metadata": {
    "collapsed": false
   },
   "outputs": [
    {
     "data": {
      "text/plain": [
       "2207.131193548"
      ]
     },
     "execution_count": 228,
     "metadata": {},
     "output_type": "execute_result"
    }
   ],
   "source": [
    "tw2330['Close'].var()"
   ]
  },
  {
   "cell_type": "code",
   "execution_count": 230,
   "metadata": {
    "collapsed": false
   },
   "outputs": [
    {
     "data": {
      "text/plain": [
       "2207.131193548"
      ]
     },
     "execution_count": 230,
     "metadata": {},
     "output_type": "execute_result"
    }
   ],
   "source": [
    "tw2330['Close'].std() **2"
   ]
  },
  {
   "cell_type": "code",
   "execution_count": 238,
   "metadata": {
    "collapsed": false
   },
   "outputs": [],
   "source": [
    "df = pandas_datareader.get_data_yahoo(['^TWII','2317.TW'])['Close']"
   ]
  },
  {
   "cell_type": "code",
   "execution_count": 239,
   "metadata": {
    "collapsed": false
   },
   "outputs": [
    {
     "data": {
      "text/html": [
       "<div>\n",
       "<table border=\"1\" class=\"dataframe\">\n",
       "  <thead>\n",
       "    <tr style=\"text-align: right;\">\n",
       "      <th></th>\n",
       "      <th>2317.TW</th>\n",
       "      <th>^TWII</th>\n",
       "    </tr>\n",
       "    <tr>\n",
       "      <th>Date</th>\n",
       "      <th></th>\n",
       "      <th></th>\n",
       "    </tr>\n",
       "  </thead>\n",
       "  <tbody>\n",
       "    <tr>\n",
       "      <th>2017-11-10</th>\n",
       "      <td>107.5</td>\n",
       "      <td>10732.669922</td>\n",
       "    </tr>\n",
       "    <tr>\n",
       "      <th>2017-11-09</th>\n",
       "      <td>108.5</td>\n",
       "      <td>10743.269531</td>\n",
       "    </tr>\n",
       "    <tr>\n",
       "      <th>2017-11-08</th>\n",
       "      <td>111.0</td>\n",
       "      <td>10818.990234</td>\n",
       "    </tr>\n",
       "    <tr>\n",
       "      <th>2017-11-07</th>\n",
       "      <td>112.0</td>\n",
       "      <td>10840.339844</td>\n",
       "    </tr>\n",
       "    <tr>\n",
       "      <th>2017-11-06</th>\n",
       "      <td>113.0</td>\n",
       "      <td>10786.190430</td>\n",
       "    </tr>\n",
       "  </tbody>\n",
       "</table>\n",
       "</div>"
      ],
      "text/plain": [
       "            2317.TW         ^TWII\n",
       "Date                             \n",
       "2017-11-10    107.5  10732.669922\n",
       "2017-11-09    108.5  10743.269531\n",
       "2017-11-08    111.0  10818.990234\n",
       "2017-11-07    112.0  10840.339844\n",
       "2017-11-06    113.0  10786.190430"
      ]
     },
     "execution_count": 239,
     "metadata": {},
     "output_type": "execute_result"
    }
   ],
   "source": [
    "df.head()"
   ]
  },
  {
   "cell_type": "code",
   "execution_count": 240,
   "metadata": {
    "collapsed": false
   },
   "outputs": [
    {
     "data": {
      "text/html": [
       "<div>\n",
       "<table border=\"1\" class=\"dataframe\">\n",
       "  <thead>\n",
       "    <tr style=\"text-align: right;\">\n",
       "      <th></th>\n",
       "      <th>2317.TW</th>\n",
       "      <th>^TWII</th>\n",
       "    </tr>\n",
       "  </thead>\n",
       "  <tbody>\n",
       "    <tr>\n",
       "      <th>2317.TW</th>\n",
       "      <td>239.075796</td>\n",
       "      <td>11498.026609</td>\n",
       "    </tr>\n",
       "    <tr>\n",
       "      <th>^TWII</th>\n",
       "      <td>11498.026609</td>\n",
       "      <td>783532.427843</td>\n",
       "    </tr>\n",
       "  </tbody>\n",
       "</table>\n",
       "</div>"
      ],
      "text/plain": [
       "              2317.TW          ^TWII\n",
       "2317.TW    239.075796   11498.026609\n",
       "^TWII    11498.026609  783532.427843"
      ]
     },
     "execution_count": 240,
     "metadata": {},
     "output_type": "execute_result"
    }
   ],
   "source": [
    "df.cov()"
   ]
  },
  {
   "cell_type": "code",
   "execution_count": 241,
   "metadata": {
    "collapsed": false
   },
   "outputs": [
    {
     "data": {
      "text/html": [
       "<div>\n",
       "<table border=\"1\" class=\"dataframe\">\n",
       "  <thead>\n",
       "    <tr style=\"text-align: right;\">\n",
       "      <th></th>\n",
       "      <th>2317.TW</th>\n",
       "      <th>^TWII</th>\n",
       "    </tr>\n",
       "  </thead>\n",
       "  <tbody>\n",
       "    <tr>\n",
       "      <th>2317.TW</th>\n",
       "      <td>1.000000</td>\n",
       "      <td>0.839272</td>\n",
       "    </tr>\n",
       "    <tr>\n",
       "      <th>^TWII</th>\n",
       "      <td>0.839272</td>\n",
       "      <td>1.000000</td>\n",
       "    </tr>\n",
       "  </tbody>\n",
       "</table>\n",
       "</div>"
      ],
      "text/plain": [
       "          2317.TW     ^TWII\n",
       "2317.TW  1.000000  0.839272\n",
       "^TWII    0.839272  1.000000"
      ]
     },
     "execution_count": 241,
     "metadata": {},
     "output_type": "execute_result"
    }
   ],
   "source": [
    "df.corr()"
   ]
  },
  {
   "cell_type": "code",
   "execution_count": 242,
   "metadata": {
    "collapsed": false
   },
   "outputs": [
    {
     "data": {
      "text/plain": [
       "array([31, 31,  7,  6, 14, 13])"
      ]
     },
     "execution_count": 242,
     "metadata": {},
     "output_type": "execute_result"
    }
   ],
   "source": [
    "np.random.choice(range(0,42), 6)"
   ]
  },
  {
   "cell_type": "code",
   "execution_count": 244,
   "metadata": {
    "collapsed": false
   },
   "outputs": [],
   "source": [
    "tw2330['ret']= tw2330['Close'].pct_change(1)"
   ]
  },
  {
   "cell_type": "code",
   "execution_count": 247,
   "metadata": {
    "collapsed": false
   },
   "outputs": [
    {
     "data": {
      "text/plain": [
       "0.00041929774241130426"
      ]
     },
     "execution_count": 247,
     "metadata": {},
     "output_type": "execute_result"
    }
   ],
   "source": [
    "import numpy as np\n",
    "np.random.seed(10)\n",
    "tw2330 = tw2330[tw2330['ret'].notnull()]\n",
    "sample_size=100\n",
    "sample=np.random.choice(a=tw2330['ret'], size=sample_size)\n",
    "sample_mean=sample.mean()\n",
    "sample_mean"
   ]
  },
  {
   "cell_type": "code",
   "execution_count": null,
   "metadata": {
    "collapsed": true
   },
   "outputs": [],
   "source": []
  },
  {
   "cell_type": "code",
   "execution_count": 246,
   "metadata": {
    "collapsed": false
   },
   "outputs": [
    {
     "data": {
      "text/html": [
       "<div>\n",
       "<table border=\"1\" class=\"dataframe\">\n",
       "  <thead>\n",
       "    <tr style=\"text-align: right;\">\n",
       "      <th></th>\n",
       "      <th>Open</th>\n",
       "      <th>High</th>\n",
       "      <th>Low</th>\n",
       "      <th>Close</th>\n",
       "      <th>Adj Close</th>\n",
       "      <th>Volume</th>\n",
       "      <th>ret</th>\n",
       "    </tr>\n",
       "    <tr>\n",
       "      <th>Date</th>\n",
       "      <th></th>\n",
       "      <th></th>\n",
       "      <th></th>\n",
       "      <th></th>\n",
       "      <th></th>\n",
       "      <th></th>\n",
       "      <th></th>\n",
       "    </tr>\n",
       "  </thead>\n",
       "  <tbody>\n",
       "    <tr>\n",
       "      <th>2010-01-05</th>\n",
       "      <td>65.000000</td>\n",
       "      <td>65.099998</td>\n",
       "      <td>63.900002</td>\n",
       "      <td>64.500000</td>\n",
       "      <td>48.697025</td>\n",
       "      <td>37138000.0</td>\n",
       "      <td>-0.006163</td>\n",
       "    </tr>\n",
       "    <tr>\n",
       "      <th>2010-01-06</th>\n",
       "      <td>64.500000</td>\n",
       "      <td>64.900002</td>\n",
       "      <td>63.700001</td>\n",
       "      <td>64.900002</td>\n",
       "      <td>48.999027</td>\n",
       "      <td>49261000.0</td>\n",
       "      <td>0.006202</td>\n",
       "    </tr>\n",
       "    <tr>\n",
       "      <th>2010-01-07</th>\n",
       "      <td>64.900002</td>\n",
       "      <td>65.000000</td>\n",
       "      <td>64.199997</td>\n",
       "      <td>64.199997</td>\n",
       "      <td>48.470528</td>\n",
       "      <td>42134000.0</td>\n",
       "      <td>-0.010786</td>\n",
       "    </tr>\n",
       "    <tr>\n",
       "      <th>2010-01-08</th>\n",
       "      <td>63.500000</td>\n",
       "      <td>64.300003</td>\n",
       "      <td>63.500000</td>\n",
       "      <td>64.000000</td>\n",
       "      <td>48.319534</td>\n",
       "      <td>46076000.0</td>\n",
       "      <td>-0.003115</td>\n",
       "    </tr>\n",
       "    <tr>\n",
       "      <th>2010-01-11</th>\n",
       "      <td>64.000000</td>\n",
       "      <td>64.900002</td>\n",
       "      <td>63.500000</td>\n",
       "      <td>64.500000</td>\n",
       "      <td>48.697025</td>\n",
       "      <td>36799000.0</td>\n",
       "      <td>0.007812</td>\n",
       "    </tr>\n",
       "    <tr>\n",
       "      <th>2010-01-12</th>\n",
       "      <td>64.400002</td>\n",
       "      <td>64.400002</td>\n",
       "      <td>63.299999</td>\n",
       "      <td>63.599998</td>\n",
       "      <td>48.017532</td>\n",
       "      <td>49853000.0</td>\n",
       "      <td>-0.013954</td>\n",
       "    </tr>\n",
       "    <tr>\n",
       "      <th>2010-01-13</th>\n",
       "      <td>63.000000</td>\n",
       "      <td>63.099998</td>\n",
       "      <td>62.599998</td>\n",
       "      <td>62.799999</td>\n",
       "      <td>47.413540</td>\n",
       "      <td>47976000.0</td>\n",
       "      <td>-0.012579</td>\n",
       "    </tr>\n",
       "    <tr>\n",
       "      <th>2010-01-14</th>\n",
       "      <td>63.599998</td>\n",
       "      <td>63.599998</td>\n",
       "      <td>63.000000</td>\n",
       "      <td>63.200001</td>\n",
       "      <td>47.715538</td>\n",
       "      <td>36149000.0</td>\n",
       "      <td>0.006369</td>\n",
       "    </tr>\n",
       "    <tr>\n",
       "      <th>2010-01-15</th>\n",
       "      <td>62.900002</td>\n",
       "      <td>63.500000</td>\n",
       "      <td>62.799999</td>\n",
       "      <td>63.500000</td>\n",
       "      <td>47.942036</td>\n",
       "      <td>47852000.0</td>\n",
       "      <td>0.004747</td>\n",
       "    </tr>\n",
       "    <tr>\n",
       "      <th>2010-01-18</th>\n",
       "      <td>62.799999</td>\n",
       "      <td>63.099998</td>\n",
       "      <td>62.799999</td>\n",
       "      <td>62.900002</td>\n",
       "      <td>47.489040</td>\n",
       "      <td>30136000.0</td>\n",
       "      <td>-0.009449</td>\n",
       "    </tr>\n",
       "    <tr>\n",
       "      <th>2010-01-19</th>\n",
       "      <td>63.000000</td>\n",
       "      <td>63.200001</td>\n",
       "      <td>62.000000</td>\n",
       "      <td>62.500000</td>\n",
       "      <td>47.187050</td>\n",
       "      <td>47202000.0</td>\n",
       "      <td>-0.006359</td>\n",
       "    </tr>\n",
       "    <tr>\n",
       "      <th>2010-01-20</th>\n",
       "      <td>62.900002</td>\n",
       "      <td>63.200001</td>\n",
       "      <td>62.200001</td>\n",
       "      <td>63.000000</td>\n",
       "      <td>47.564537</td>\n",
       "      <td>52281000.0</td>\n",
       "      <td>0.008000</td>\n",
       "    </tr>\n",
       "    <tr>\n",
       "      <th>2010-01-21</th>\n",
       "      <td>63.000000</td>\n",
       "      <td>63.000000</td>\n",
       "      <td>62.099998</td>\n",
       "      <td>62.599998</td>\n",
       "      <td>47.262543</td>\n",
       "      <td>24738000.0</td>\n",
       "      <td>-0.006349</td>\n",
       "    </tr>\n",
       "    <tr>\n",
       "      <th>2010-01-22</th>\n",
       "      <td>61.500000</td>\n",
       "      <td>61.700001</td>\n",
       "      <td>61.000000</td>\n",
       "      <td>61.099998</td>\n",
       "      <td>46.130051</td>\n",
       "      <td>63918000.0</td>\n",
       "      <td>-0.023962</td>\n",
       "    </tr>\n",
       "    <tr>\n",
       "      <th>2010-01-25</th>\n",
       "      <td>60.099998</td>\n",
       "      <td>60.799999</td>\n",
       "      <td>60.099998</td>\n",
       "      <td>60.400002</td>\n",
       "      <td>45.601563</td>\n",
       "      <td>62151000.0</td>\n",
       "      <td>-0.011457</td>\n",
       "    </tr>\n",
       "    <tr>\n",
       "      <th>2010-01-26</th>\n",
       "      <td>60.599998</td>\n",
       "      <td>61.200001</td>\n",
       "      <td>60.000000</td>\n",
       "      <td>60.099998</td>\n",
       "      <td>45.375061</td>\n",
       "      <td>79112000.0</td>\n",
       "      <td>-0.004967</td>\n",
       "    </tr>\n",
       "    <tr>\n",
       "      <th>2010-01-27</th>\n",
       "      <td>60.099998</td>\n",
       "      <td>60.400002</td>\n",
       "      <td>59.500000</td>\n",
       "      <td>59.599998</td>\n",
       "      <td>44.997562</td>\n",
       "      <td>52639000.0</td>\n",
       "      <td>-0.008319</td>\n",
       "    </tr>\n",
       "    <tr>\n",
       "      <th>2010-01-28</th>\n",
       "      <td>60.500000</td>\n",
       "      <td>61.500000</td>\n",
       "      <td>59.799999</td>\n",
       "      <td>60.000000</td>\n",
       "      <td>45.299561</td>\n",
       "      <td>43988000.0</td>\n",
       "      <td>0.006711</td>\n",
       "    </tr>\n",
       "    <tr>\n",
       "      <th>2010-01-29</th>\n",
       "      <td>60.099998</td>\n",
       "      <td>61.500000</td>\n",
       "      <td>59.400002</td>\n",
       "      <td>61.500000</td>\n",
       "      <td>46.432053</td>\n",
       "      <td>91560000.0</td>\n",
       "      <td>0.025000</td>\n",
       "    </tr>\n",
       "    <tr>\n",
       "      <th>2010-02-01</th>\n",
       "      <td>60.700001</td>\n",
       "      <td>60.700001</td>\n",
       "      <td>59.500000</td>\n",
       "      <td>59.799999</td>\n",
       "      <td>45.148560</td>\n",
       "      <td>75480000.0</td>\n",
       "      <td>-0.027642</td>\n",
       "    </tr>\n",
       "    <tr>\n",
       "      <th>2010-02-02</th>\n",
       "      <td>60.200001</td>\n",
       "      <td>60.400002</td>\n",
       "      <td>59.000000</td>\n",
       "      <td>59.000000</td>\n",
       "      <td>44.544571</td>\n",
       "      <td>65510000.0</td>\n",
       "      <td>-0.013378</td>\n",
       "    </tr>\n",
       "    <tr>\n",
       "      <th>2010-02-03</th>\n",
       "      <td>60.200001</td>\n",
       "      <td>60.299999</td>\n",
       "      <td>58.799999</td>\n",
       "      <td>59.799999</td>\n",
       "      <td>45.148560</td>\n",
       "      <td>42426000.0</td>\n",
       "      <td>0.013559</td>\n",
       "    </tr>\n",
       "    <tr>\n",
       "      <th>2010-02-04</th>\n",
       "      <td>60.000000</td>\n",
       "      <td>60.000000</td>\n",
       "      <td>59.000000</td>\n",
       "      <td>59.099998</td>\n",
       "      <td>44.620064</td>\n",
       "      <td>42564000.0</td>\n",
       "      <td>-0.011706</td>\n",
       "    </tr>\n",
       "    <tr>\n",
       "      <th>2010-02-05</th>\n",
       "      <td>57.599998</td>\n",
       "      <td>57.900002</td>\n",
       "      <td>57.200001</td>\n",
       "      <td>57.200001</td>\n",
       "      <td>43.185585</td>\n",
       "      <td>62227000.0</td>\n",
       "      <td>-0.032149</td>\n",
       "    </tr>\n",
       "    <tr>\n",
       "      <th>2010-02-08</th>\n",
       "      <td>58.000000</td>\n",
       "      <td>58.200001</td>\n",
       "      <td>57.000000</td>\n",
       "      <td>57.400002</td>\n",
       "      <td>43.336582</td>\n",
       "      <td>45247000.0</td>\n",
       "      <td>0.003497</td>\n",
       "    </tr>\n",
       "    <tr>\n",
       "      <th>2010-02-09</th>\n",
       "      <td>58.400002</td>\n",
       "      <td>59.200001</td>\n",
       "      <td>57.700001</td>\n",
       "      <td>58.599998</td>\n",
       "      <td>44.242569</td>\n",
       "      <td>45754000.0</td>\n",
       "      <td>0.020906</td>\n",
       "    </tr>\n",
       "    <tr>\n",
       "      <th>2010-02-10</th>\n",
       "      <td>59.000000</td>\n",
       "      <td>59.200001</td>\n",
       "      <td>58.200001</td>\n",
       "      <td>58.400002</td>\n",
       "      <td>44.091572</td>\n",
       "      <td>53679000.0</td>\n",
       "      <td>-0.003413</td>\n",
       "    </tr>\n",
       "    <tr>\n",
       "      <th>2010-02-22</th>\n",
       "      <td>60.500000</td>\n",
       "      <td>60.500000</td>\n",
       "      <td>59.000000</td>\n",
       "      <td>59.000000</td>\n",
       "      <td>44.544571</td>\n",
       "      <td>47519000.0</td>\n",
       "      <td>0.010274</td>\n",
       "    </tr>\n",
       "    <tr>\n",
       "      <th>2010-02-23</th>\n",
       "      <td>59.599998</td>\n",
       "      <td>59.900002</td>\n",
       "      <td>59.099998</td>\n",
       "      <td>59.799999</td>\n",
       "      <td>45.148560</td>\n",
       "      <td>50343000.0</td>\n",
       "      <td>0.013559</td>\n",
       "    </tr>\n",
       "    <tr>\n",
       "      <th>2010-02-24</th>\n",
       "      <td>59.200001</td>\n",
       "      <td>59.200001</td>\n",
       "      <td>58.400002</td>\n",
       "      <td>58.500000</td>\n",
       "      <td>44.167076</td>\n",
       "      <td>54884000.0</td>\n",
       "      <td>-0.021739</td>\n",
       "    </tr>\n",
       "    <tr>\n",
       "      <th>...</th>\n",
       "      <td>...</td>\n",
       "      <td>...</td>\n",
       "      <td>...</td>\n",
       "      <td>...</td>\n",
       "      <td>...</td>\n",
       "      <td>...</td>\n",
       "      <td>...</td>\n",
       "    </tr>\n",
       "    <tr>\n",
       "      <th>2017-09-27</th>\n",
       "      <td>217.500000</td>\n",
       "      <td>217.500000</td>\n",
       "      <td>215.000000</td>\n",
       "      <td>215.000000</td>\n",
       "      <td>215.000000</td>\n",
       "      <td>22590510.0</td>\n",
       "      <td>0.004673</td>\n",
       "    </tr>\n",
       "    <tr>\n",
       "      <th>2017-09-28</th>\n",
       "      <td>215.000000</td>\n",
       "      <td>216.000000</td>\n",
       "      <td>213.500000</td>\n",
       "      <td>214.000000</td>\n",
       "      <td>214.000000</td>\n",
       "      <td>31616062.0</td>\n",
       "      <td>-0.004651</td>\n",
       "    </tr>\n",
       "    <tr>\n",
       "      <th>2017-09-29</th>\n",
       "      <td>216.000000</td>\n",
       "      <td>217.500000</td>\n",
       "      <td>215.500000</td>\n",
       "      <td>216.500000</td>\n",
       "      <td>216.500000</td>\n",
       "      <td>21380708.0</td>\n",
       "      <td>0.011682</td>\n",
       "    </tr>\n",
       "    <tr>\n",
       "      <th>2017-10-02</th>\n",
       "      <td>219.500000</td>\n",
       "      <td>220.500000</td>\n",
       "      <td>218.500000</td>\n",
       "      <td>220.500000</td>\n",
       "      <td>220.500000</td>\n",
       "      <td>27983551.0</td>\n",
       "      <td>0.018476</td>\n",
       "    </tr>\n",
       "    <tr>\n",
       "      <th>2017-10-03</th>\n",
       "      <td>219.000000</td>\n",
       "      <td>223.000000</td>\n",
       "      <td>219.000000</td>\n",
       "      <td>222.500000</td>\n",
       "      <td>222.500000</td>\n",
       "      <td>36679938.0</td>\n",
       "      <td>0.009070</td>\n",
       "    </tr>\n",
       "    <tr>\n",
       "      <th>2017-10-05</th>\n",
       "      <td>222.500000</td>\n",
       "      <td>225.500000</td>\n",
       "      <td>222.000000</td>\n",
       "      <td>224.500000</td>\n",
       "      <td>224.500000</td>\n",
       "      <td>23349939.0</td>\n",
       "      <td>0.008989</td>\n",
       "    </tr>\n",
       "    <tr>\n",
       "      <th>2017-10-06</th>\n",
       "      <td>225.000000</td>\n",
       "      <td>225.500000</td>\n",
       "      <td>223.500000</td>\n",
       "      <td>224.500000</td>\n",
       "      <td>224.500000</td>\n",
       "      <td>15642516.0</td>\n",
       "      <td>0.000000</td>\n",
       "    </tr>\n",
       "    <tr>\n",
       "      <th>2017-10-11</th>\n",
       "      <td>224.500000</td>\n",
       "      <td>233.500000</td>\n",
       "      <td>224.500000</td>\n",
       "      <td>233.000000</td>\n",
       "      <td>233.000000</td>\n",
       "      <td>63667562.0</td>\n",
       "      <td>0.037862</td>\n",
       "    </tr>\n",
       "    <tr>\n",
       "      <th>2017-10-12</th>\n",
       "      <td>235.000000</td>\n",
       "      <td>237.500000</td>\n",
       "      <td>234.500000</td>\n",
       "      <td>237.500000</td>\n",
       "      <td>237.500000</td>\n",
       "      <td>42390186.0</td>\n",
       "      <td>0.019313</td>\n",
       "    </tr>\n",
       "    <tr>\n",
       "      <th>2017-10-13</th>\n",
       "      <td>237.500000</td>\n",
       "      <td>237.500000</td>\n",
       "      <td>234.500000</td>\n",
       "      <td>237.500000</td>\n",
       "      <td>237.500000</td>\n",
       "      <td>23145071.0</td>\n",
       "      <td>0.000000</td>\n",
       "    </tr>\n",
       "    <tr>\n",
       "      <th>2017-10-16</th>\n",
       "      <td>237.500000</td>\n",
       "      <td>238.000000</td>\n",
       "      <td>236.000000</td>\n",
       "      <td>238.000000</td>\n",
       "      <td>238.000000</td>\n",
       "      <td>19964072.0</td>\n",
       "      <td>0.002105</td>\n",
       "    </tr>\n",
       "    <tr>\n",
       "      <th>2017-10-17</th>\n",
       "      <td>238.000000</td>\n",
       "      <td>238.000000</td>\n",
       "      <td>235.000000</td>\n",
       "      <td>235.500000</td>\n",
       "      <td>235.500000</td>\n",
       "      <td>17652304.0</td>\n",
       "      <td>-0.010504</td>\n",
       "    </tr>\n",
       "    <tr>\n",
       "      <th>2017-10-18</th>\n",
       "      <td>239.500000</td>\n",
       "      <td>239.500000</td>\n",
       "      <td>237.000000</td>\n",
       "      <td>237.500000</td>\n",
       "      <td>237.500000</td>\n",
       "      <td>28886850.0</td>\n",
       "      <td>0.008493</td>\n",
       "    </tr>\n",
       "    <tr>\n",
       "      <th>2017-10-19</th>\n",
       "      <td>239.500000</td>\n",
       "      <td>241.500000</td>\n",
       "      <td>239.000000</td>\n",
       "      <td>239.000000</td>\n",
       "      <td>239.000000</td>\n",
       "      <td>23481776.0</td>\n",
       "      <td>0.006316</td>\n",
       "    </tr>\n",
       "    <tr>\n",
       "      <th>2017-10-20</th>\n",
       "      <td>238.000000</td>\n",
       "      <td>239.500000</td>\n",
       "      <td>237.500000</td>\n",
       "      <td>237.500000</td>\n",
       "      <td>237.500000</td>\n",
       "      <td>24722035.0</td>\n",
       "      <td>-0.006276</td>\n",
       "    </tr>\n",
       "    <tr>\n",
       "      <th>2017-10-23</th>\n",
       "      <td>239.000000</td>\n",
       "      <td>240.000000</td>\n",
       "      <td>238.500000</td>\n",
       "      <td>239.000000</td>\n",
       "      <td>239.000000</td>\n",
       "      <td>15772559.0</td>\n",
       "      <td>0.006316</td>\n",
       "    </tr>\n",
       "    <tr>\n",
       "      <th>2017-10-24</th>\n",
       "      <td>240.000000</td>\n",
       "      <td>240.000000</td>\n",
       "      <td>238.000000</td>\n",
       "      <td>238.000000</td>\n",
       "      <td>238.000000</td>\n",
       "      <td>14975093.0</td>\n",
       "      <td>-0.004184</td>\n",
       "    </tr>\n",
       "    <tr>\n",
       "      <th>2017-10-25</th>\n",
       "      <td>238.500000</td>\n",
       "      <td>239.000000</td>\n",
       "      <td>237.500000</td>\n",
       "      <td>238.000000</td>\n",
       "      <td>238.000000</td>\n",
       "      <td>16880187.0</td>\n",
       "      <td>0.000000</td>\n",
       "    </tr>\n",
       "    <tr>\n",
       "      <th>2017-10-26</th>\n",
       "      <td>237.000000</td>\n",
       "      <td>238.000000</td>\n",
       "      <td>236.000000</td>\n",
       "      <td>236.000000</td>\n",
       "      <td>236.000000</td>\n",
       "      <td>12959717.0</td>\n",
       "      <td>-0.008403</td>\n",
       "    </tr>\n",
       "    <tr>\n",
       "      <th>2017-10-27</th>\n",
       "      <td>237.500000</td>\n",
       "      <td>240.000000</td>\n",
       "      <td>237.500000</td>\n",
       "      <td>239.000000</td>\n",
       "      <td>239.000000</td>\n",
       "      <td>17773541.0</td>\n",
       "      <td>0.012712</td>\n",
       "    </tr>\n",
       "    <tr>\n",
       "      <th>2017-10-30</th>\n",
       "      <td>242.000000</td>\n",
       "      <td>245.000000</td>\n",
       "      <td>241.500000</td>\n",
       "      <td>243.000000</td>\n",
       "      <td>243.000000</td>\n",
       "      <td>27784990.0</td>\n",
       "      <td>0.016736</td>\n",
       "    </tr>\n",
       "    <tr>\n",
       "      <th>2017-10-31</th>\n",
       "      <td>243.500000</td>\n",
       "      <td>245.000000</td>\n",
       "      <td>241.500000</td>\n",
       "      <td>243.000000</td>\n",
       "      <td>243.000000</td>\n",
       "      <td>22582013.0</td>\n",
       "      <td>0.000000</td>\n",
       "    </tr>\n",
       "    <tr>\n",
       "      <th>2017-11-01</th>\n",
       "      <td>243.500000</td>\n",
       "      <td>245.000000</td>\n",
       "      <td>241.500000</td>\n",
       "      <td>242.500000</td>\n",
       "      <td>242.500000</td>\n",
       "      <td>20389054.0</td>\n",
       "      <td>-0.002058</td>\n",
       "    </tr>\n",
       "    <tr>\n",
       "      <th>2017-11-02</th>\n",
       "      <td>242.000000</td>\n",
       "      <td>242.500000</td>\n",
       "      <td>240.500000</td>\n",
       "      <td>241.000000</td>\n",
       "      <td>241.000000</td>\n",
       "      <td>15810342.0</td>\n",
       "      <td>-0.006186</td>\n",
       "    </tr>\n",
       "    <tr>\n",
       "      <th>2017-11-03</th>\n",
       "      <td>240.500000</td>\n",
       "      <td>241.000000</td>\n",
       "      <td>238.500000</td>\n",
       "      <td>239.000000</td>\n",
       "      <td>239.000000</td>\n",
       "      <td>16528682.0</td>\n",
       "      <td>-0.008299</td>\n",
       "    </tr>\n",
       "    <tr>\n",
       "      <th>2017-11-06</th>\n",
       "      <td>243.500000</td>\n",
       "      <td>244.000000</td>\n",
       "      <td>239.000000</td>\n",
       "      <td>239.500000</td>\n",
       "      <td>239.500000</td>\n",
       "      <td>21029415.0</td>\n",
       "      <td>0.002092</td>\n",
       "    </tr>\n",
       "    <tr>\n",
       "      <th>2017-11-07</th>\n",
       "      <td>242.000000</td>\n",
       "      <td>244.000000</td>\n",
       "      <td>241.500000</td>\n",
       "      <td>244.000000</td>\n",
       "      <td>244.000000</td>\n",
       "      <td>20200261.0</td>\n",
       "      <td>0.018789</td>\n",
       "    </tr>\n",
       "    <tr>\n",
       "      <th>2017-11-08</th>\n",
       "      <td>243.000000</td>\n",
       "      <td>243.500000</td>\n",
       "      <td>242.000000</td>\n",
       "      <td>242.500000</td>\n",
       "      <td>242.500000</td>\n",
       "      <td>14129103.0</td>\n",
       "      <td>-0.006148</td>\n",
       "    </tr>\n",
       "    <tr>\n",
       "      <th>2017-11-09</th>\n",
       "      <td>240.500000</td>\n",
       "      <td>243.000000</td>\n",
       "      <td>240.000000</td>\n",
       "      <td>241.000000</td>\n",
       "      <td>241.000000</td>\n",
       "      <td>20313949.0</td>\n",
       "      <td>-0.006186</td>\n",
       "    </tr>\n",
       "    <tr>\n",
       "      <th>2017-11-10</th>\n",
       "      <td>240.000000</td>\n",
       "      <td>242.000000</td>\n",
       "      <td>239.500000</td>\n",
       "      <td>240.500000</td>\n",
       "      <td>240.500000</td>\n",
       "      <td>14121296.0</td>\n",
       "      <td>-0.002075</td>\n",
       "    </tr>\n",
       "  </tbody>\n",
       "</table>\n",
       "<p>1846 rows × 7 columns</p>\n",
       "</div>"
      ],
      "text/plain": [
       "                  Open        High         Low       Close   Adj Close  \\\n",
       "Date                                                                     \n",
       "2010-01-05   65.000000   65.099998   63.900002   64.500000   48.697025   \n",
       "2010-01-06   64.500000   64.900002   63.700001   64.900002   48.999027   \n",
       "2010-01-07   64.900002   65.000000   64.199997   64.199997   48.470528   \n",
       "2010-01-08   63.500000   64.300003   63.500000   64.000000   48.319534   \n",
       "2010-01-11   64.000000   64.900002   63.500000   64.500000   48.697025   \n",
       "2010-01-12   64.400002   64.400002   63.299999   63.599998   48.017532   \n",
       "2010-01-13   63.000000   63.099998   62.599998   62.799999   47.413540   \n",
       "2010-01-14   63.599998   63.599998   63.000000   63.200001   47.715538   \n",
       "2010-01-15   62.900002   63.500000   62.799999   63.500000   47.942036   \n",
       "2010-01-18   62.799999   63.099998   62.799999   62.900002   47.489040   \n",
       "2010-01-19   63.000000   63.200001   62.000000   62.500000   47.187050   \n",
       "2010-01-20   62.900002   63.200001   62.200001   63.000000   47.564537   \n",
       "2010-01-21   63.000000   63.000000   62.099998   62.599998   47.262543   \n",
       "2010-01-22   61.500000   61.700001   61.000000   61.099998   46.130051   \n",
       "2010-01-25   60.099998   60.799999   60.099998   60.400002   45.601563   \n",
       "2010-01-26   60.599998   61.200001   60.000000   60.099998   45.375061   \n",
       "2010-01-27   60.099998   60.400002   59.500000   59.599998   44.997562   \n",
       "2010-01-28   60.500000   61.500000   59.799999   60.000000   45.299561   \n",
       "2010-01-29   60.099998   61.500000   59.400002   61.500000   46.432053   \n",
       "2010-02-01   60.700001   60.700001   59.500000   59.799999   45.148560   \n",
       "2010-02-02   60.200001   60.400002   59.000000   59.000000   44.544571   \n",
       "2010-02-03   60.200001   60.299999   58.799999   59.799999   45.148560   \n",
       "2010-02-04   60.000000   60.000000   59.000000   59.099998   44.620064   \n",
       "2010-02-05   57.599998   57.900002   57.200001   57.200001   43.185585   \n",
       "2010-02-08   58.000000   58.200001   57.000000   57.400002   43.336582   \n",
       "2010-02-09   58.400002   59.200001   57.700001   58.599998   44.242569   \n",
       "2010-02-10   59.000000   59.200001   58.200001   58.400002   44.091572   \n",
       "2010-02-22   60.500000   60.500000   59.000000   59.000000   44.544571   \n",
       "2010-02-23   59.599998   59.900002   59.099998   59.799999   45.148560   \n",
       "2010-02-24   59.200001   59.200001   58.400002   58.500000   44.167076   \n",
       "...                ...         ...         ...         ...         ...   \n",
       "2017-09-27  217.500000  217.500000  215.000000  215.000000  215.000000   \n",
       "2017-09-28  215.000000  216.000000  213.500000  214.000000  214.000000   \n",
       "2017-09-29  216.000000  217.500000  215.500000  216.500000  216.500000   \n",
       "2017-10-02  219.500000  220.500000  218.500000  220.500000  220.500000   \n",
       "2017-10-03  219.000000  223.000000  219.000000  222.500000  222.500000   \n",
       "2017-10-05  222.500000  225.500000  222.000000  224.500000  224.500000   \n",
       "2017-10-06  225.000000  225.500000  223.500000  224.500000  224.500000   \n",
       "2017-10-11  224.500000  233.500000  224.500000  233.000000  233.000000   \n",
       "2017-10-12  235.000000  237.500000  234.500000  237.500000  237.500000   \n",
       "2017-10-13  237.500000  237.500000  234.500000  237.500000  237.500000   \n",
       "2017-10-16  237.500000  238.000000  236.000000  238.000000  238.000000   \n",
       "2017-10-17  238.000000  238.000000  235.000000  235.500000  235.500000   \n",
       "2017-10-18  239.500000  239.500000  237.000000  237.500000  237.500000   \n",
       "2017-10-19  239.500000  241.500000  239.000000  239.000000  239.000000   \n",
       "2017-10-20  238.000000  239.500000  237.500000  237.500000  237.500000   \n",
       "2017-10-23  239.000000  240.000000  238.500000  239.000000  239.000000   \n",
       "2017-10-24  240.000000  240.000000  238.000000  238.000000  238.000000   \n",
       "2017-10-25  238.500000  239.000000  237.500000  238.000000  238.000000   \n",
       "2017-10-26  237.000000  238.000000  236.000000  236.000000  236.000000   \n",
       "2017-10-27  237.500000  240.000000  237.500000  239.000000  239.000000   \n",
       "2017-10-30  242.000000  245.000000  241.500000  243.000000  243.000000   \n",
       "2017-10-31  243.500000  245.000000  241.500000  243.000000  243.000000   \n",
       "2017-11-01  243.500000  245.000000  241.500000  242.500000  242.500000   \n",
       "2017-11-02  242.000000  242.500000  240.500000  241.000000  241.000000   \n",
       "2017-11-03  240.500000  241.000000  238.500000  239.000000  239.000000   \n",
       "2017-11-06  243.500000  244.000000  239.000000  239.500000  239.500000   \n",
       "2017-11-07  242.000000  244.000000  241.500000  244.000000  244.000000   \n",
       "2017-11-08  243.000000  243.500000  242.000000  242.500000  242.500000   \n",
       "2017-11-09  240.500000  243.000000  240.000000  241.000000  241.000000   \n",
       "2017-11-10  240.000000  242.000000  239.500000  240.500000  240.500000   \n",
       "\n",
       "                Volume       ret  \n",
       "Date                              \n",
       "2010-01-05  37138000.0 -0.006163  \n",
       "2010-01-06  49261000.0  0.006202  \n",
       "2010-01-07  42134000.0 -0.010786  \n",
       "2010-01-08  46076000.0 -0.003115  \n",
       "2010-01-11  36799000.0  0.007812  \n",
       "2010-01-12  49853000.0 -0.013954  \n",
       "2010-01-13  47976000.0 -0.012579  \n",
       "2010-01-14  36149000.0  0.006369  \n",
       "2010-01-15  47852000.0  0.004747  \n",
       "2010-01-18  30136000.0 -0.009449  \n",
       "2010-01-19  47202000.0 -0.006359  \n",
       "2010-01-20  52281000.0  0.008000  \n",
       "2010-01-21  24738000.0 -0.006349  \n",
       "2010-01-22  63918000.0 -0.023962  \n",
       "2010-01-25  62151000.0 -0.011457  \n",
       "2010-01-26  79112000.0 -0.004967  \n",
       "2010-01-27  52639000.0 -0.008319  \n",
       "2010-01-28  43988000.0  0.006711  \n",
       "2010-01-29  91560000.0  0.025000  \n",
       "2010-02-01  75480000.0 -0.027642  \n",
       "2010-02-02  65510000.0 -0.013378  \n",
       "2010-02-03  42426000.0  0.013559  \n",
       "2010-02-04  42564000.0 -0.011706  \n",
       "2010-02-05  62227000.0 -0.032149  \n",
       "2010-02-08  45247000.0  0.003497  \n",
       "2010-02-09  45754000.0  0.020906  \n",
       "2010-02-10  53679000.0 -0.003413  \n",
       "2010-02-22  47519000.0  0.010274  \n",
       "2010-02-23  50343000.0  0.013559  \n",
       "2010-02-24  54884000.0 -0.021739  \n",
       "...                ...       ...  \n",
       "2017-09-27  22590510.0  0.004673  \n",
       "2017-09-28  31616062.0 -0.004651  \n",
       "2017-09-29  21380708.0  0.011682  \n",
       "2017-10-02  27983551.0  0.018476  \n",
       "2017-10-03  36679938.0  0.009070  \n",
       "2017-10-05  23349939.0  0.008989  \n",
       "2017-10-06  15642516.0  0.000000  \n",
       "2017-10-11  63667562.0  0.037862  \n",
       "2017-10-12  42390186.0  0.019313  \n",
       "2017-10-13  23145071.0  0.000000  \n",
       "2017-10-16  19964072.0  0.002105  \n",
       "2017-10-17  17652304.0 -0.010504  \n",
       "2017-10-18  28886850.0  0.008493  \n",
       "2017-10-19  23481776.0  0.006316  \n",
       "2017-10-20  24722035.0 -0.006276  \n",
       "2017-10-23  15772559.0  0.006316  \n",
       "2017-10-24  14975093.0 -0.004184  \n",
       "2017-10-25  16880187.0  0.000000  \n",
       "2017-10-26  12959717.0 -0.008403  \n",
       "2017-10-27  17773541.0  0.012712  \n",
       "2017-10-30  27784990.0  0.016736  \n",
       "2017-10-31  22582013.0  0.000000  \n",
       "2017-11-01  20389054.0 -0.002058  \n",
       "2017-11-02  15810342.0 -0.006186  \n",
       "2017-11-03  16528682.0 -0.008299  \n",
       "2017-11-06  21029415.0  0.002092  \n",
       "2017-11-07  20200261.0  0.018789  \n",
       "2017-11-08  14129103.0 -0.006148  \n",
       "2017-11-09  20313949.0 -0.006186  \n",
       "2017-11-10  14121296.0 -0.002075  \n",
       "\n",
       "[1846 rows x 7 columns]"
      ]
     },
     "execution_count": 246,
     "metadata": {},
     "output_type": "execute_result"
    }
   ],
   "source": [
    "tw2330"
   ]
  },
  {
   "cell_type": "code",
   "execution_count": 248,
   "metadata": {
    "collapsed": false
   },
   "outputs": [
    {
     "data": {
      "text/plain": [
       "1.959963984540054"
      ]
     },
     "execution_count": 248,
     "metadata": {},
     "output_type": "execute_result"
    }
   ],
   "source": [
    "from scipy import stats\n",
    "z_critical=stats.norm.ppf(q=0.975)\n",
    "z_critical"
   ]
  },
  {
   "cell_type": "code",
   "execution_count": 249,
   "metadata": {
    "collapsed": false
   },
   "outputs": [
    {
     "data": {
      "text/plain": [
       "-1.9599639845400545"
      ]
     },
     "execution_count": 249,
     "metadata": {},
     "output_type": "execute_result"
    }
   ],
   "source": [
    "z_critical_2=stats.norm.ppf(q=0.025)\n",
    "z_critical_2"
   ]
  },
  {
   "cell_type": "code",
   "execution_count": 250,
   "metadata": {
    "collapsed": true
   },
   "outputs": [],
   "source": [
    "pop_stdev=tw2330['ret'].std()\n",
    "margin_of_error= z_critical*(pop_stdev/math.sqrt(sample_size))"
   ]
  },
  {
   "cell_type": "code",
   "execution_count": 251,
   "metadata": {
    "collapsed": false
   },
   "outputs": [
    {
     "data": {
      "text/plain": [
       "(-0.0024364645494930168, 0.0032750600343156252)"
      ]
     },
     "execution_count": 251,
     "metadata": {},
     "output_type": "execute_result"
    }
   ],
   "source": [
    "sample_mean-margin_of_error, sample_mean+margin_of_error"
   ]
  },
  {
   "cell_type": "code",
   "execution_count": 252,
   "metadata": {
    "collapsed": false
   },
   "outputs": [
    {
     "data": {
      "text/plain": [
       "0.0008158792936430888"
      ]
     },
     "execution_count": 252,
     "metadata": {},
     "output_type": "execute_result"
    }
   ],
   "source": [
    "tw2330['ret'].mean()"
   ]
  },
  {
   "cell_type": "code",
   "execution_count": 255,
   "metadata": {
    "collapsed": false
   },
   "outputs": [
    {
     "name": "stdout",
     "output_type": "stream",
     "text": [
      "0.22325177944\n"
     ]
    }
   ],
   "source": [
    "from scipy import stats \n",
    "one_sample_data=[15.48,4.4,5.81,6.07,5.19,3.25,4.41,5.05,11.63,8.99]\n",
    "one_sample = stats.ttest_1samp(one_sample_data,8)\n",
    "print(one_sample[1]/2)"
   ]
  }
 ],
 "metadata": {
  "kernelspec": {
   "display_name": "Python 3",
   "language": "python",
   "name": "python3"
  },
  "language_info": {
   "codemirror_mode": {
    "name": "ipython",
    "version": 3
   },
   "file_extension": ".py",
   "mimetype": "text/x-python",
   "name": "python",
   "nbconvert_exporter": "python",
   "pygments_lexer": "ipython3",
   "version": "3.5.2"
  }
 },
 "nbformat": 4,
 "nbformat_minor": 1
}
