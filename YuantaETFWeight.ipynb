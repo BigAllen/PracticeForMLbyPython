{
 "cells": [
  {
   "cell_type": "code",
   "execution_count": 1,
   "metadata": {
    "collapsed": false,
    "scrolled": true
   },
   "outputs": [
    {
     "data": {
      "text/plain": [
       "'[{\"code\":\"1101\",\"ym\":null,\"name\":\"台泥\",\"ename\":\"Taiwan Cement Corp.\",\"weights\":0.720000,\"qty\":8401066.0},{\"code\":\"1102\",\"ym\":null,\"name\":\"亞泥\",\"ename\":\"Asia Cement Corporation\",\"weights\":0.370000,\"qty\":5489210.0},{\"code\":\"1216\",\"ym\":null,\"name\":\"統一\",\"ename\":\"UNI-PRESIDENT ENTERPRISES CORP.\",\"weights\":1.830000,\"qty\":11345703.0},{\"code\":\"1301\",\"ym\":null,\"name\":\"台塑\",\"ename\":\"Formosa Plastics Corporation\",\"weights\":2.670000,\"qty\":11524358.0},{\"code\":\"1303\",\"ym\":null,\"name\":\"南亞\",\"ename\":\"NAN YA PLASTICS CORPORATION\",\"weights\":2.510000,\"qty\":13362586.0},{\"code\":\"1326\",\"ym\":null,\"name\":\"台化\",\"ename\":\"FORMOSA CHEMICALS & FIBRE CORPORATION\",\"weights\":1.910000,\"qty\":8102434.0},{\"code\":\"1402\",\"ym\":null,\"name\":\"遠東新\",\"ename\":\"Far Eastern New Century Corporation\",\"weights\":0.590000,\"qty\":9285670.0},{\"code\":\"2002\",\"ym\":null,\"name\":\"中鋼\",\"ename\":\"China Steel Corporation\",\"weights\":1.790000,\"qty\":29258225.0},{\"code\":\"2105\",\"ym\":null,\"name\":\"正新\",\"ename\":\"Cheng Shin Rubber Ind. Co. Ltd.\",\"weights\":0.590000,\"qty\":4339134.0},{\"code\":\"2207\",\"ym\":null,\"name\":\"和泰車\",\"ename\":\"HOTAI MOTOR CO.LTD.\",\"weights\":0.820000,\"qty\":955455.0},{\"code\":\"2301\",\"ym\":null,\"name\":\"光寶科\",\"ename\":\"LITE-ON TECHNOLOGY CORP.\",\"weights\":0.470000,\"qty\":5033501.0},{\"code\":\"2303\",\"ym\":null,\"name\":\"聯電\",\"ename\":\"UNITED MICROELECTRONICS CORP.\",\"weights\":1.120000,\"qty\":28023848.0},{\"code\":\"2308\",\"ym\":null,\"name\":\"台達電\",\"ename\":\"DELTA ELECTRONICS INC.\",\"weights\":1.760000,\"qty\":5113134.0},{\"code\":\"2311\",\"ym\":null,\"name\":\"日月光\",\"ename\":\"Advanced Semiconductor EngineeringInc.\",\"weights\":1.440000,\"qty\":15494186.0},{\"code\":\"2317\",\"ym\":null,\"name\":\"鴻海\",\"ename\":\"HON HAI PRECISION IND. CO. LTD.\",\"weights\":9.210000,\"qty\":35303818.0},{\"code\":\"2324\",\"ym\":null,\"name\":\"仁寶\",\"ename\":\"Compal Electronics Inc.\",\"weights\":0.500000,\"qty\":9763809.0},{\"code\":\"2325\",\"ym\":null,\"name\":\"矽品\",\"ename\":\"SILICONWARE PRECISION INDUSTRIES CO.LTD.\",\"weights\":0.630000,\"qty\":5215956.0},{\"code\":\"2330\",\"ym\":null,\"name\":\"台積電\",\"ename\":\"Taiwan Semiconductor Manufacturing Co. Ltd.\",\"weights\":33.990000,\"qty\":56830965.0},{\"code\":\"2354\",\"ym\":null,\"name\":\"鴻準\",\"ename\":\"FOXCONN TECHNOLOGY CO. LTD\",\"weights\":0.570000,\"qty\":2611720.0},{\"code\":\"2357\",\"ym\":null,\"name\":\"華碩\",\"ename\":\"ASUSTEK COMPUTER INC.\",\"weights\":1.160000,\"qty\":1669151.0},{\"code\":\"2382\",\"ym\":null,\"name\":\"廣達\",\"ename\":\"QUANTA COMPUTER INC.\",\"weights\":1.040000,\"qty\":6295977.0},{\"code\":\"2395\",\"ym\":null,\"name\":\"研華\",\"ename\":\"ADVANTECH Co. Ltd.\",\"weights\":0.440000,\"qty\":879540.0},{\"code\":\"2408\",\"ym\":null,\"name\":\"南亞科\",\"ename\":\"NANYA TECHNOLOGY CORPORATION\",\"weights\":0.350000,\"qty\":1718226.0},{\"code\":\"2409\",\"ym\":null,\"name\":\"友達\",\"ename\":\"AU Optronics Corp.\",\"weights\":0.660000,\"qty\":20829099.0},{\"code\":\"2412\",\"ym\":null,\"name\":\"中華電\",\"ename\":\"Chunghwa Telecom Co. Ltd\",\"weights\":2.310000,\"qty\":9001367.0},{\"code\":\"2454\",\"ym\":null,\"name\":\"聯發科\",\"ename\":\"MediaTek Inc.\",\"weights\":2.790000,\"qty\":3482866.0},{\"code\":\"2474\",\"ym\":null,\"name\":\"可成\",\"ename\":\"CATCHER TECHNOLOGY CO. LTD.\",\"weights\":1.430000,\"qty\":1747167.0},{\"code\":\"2633\",\"ym\":null,\"name\":\"台灣高鐵\",\"ename\":\"Taiwan High Speed Rail Corporation\",\"weights\":0.280000,\"qty\":4931083.0},{\"code\":\"2801\",\"ym\":null,\"name\":\"彰銀\",\"ename\":\"CHANG HWA COMMERCIAL BANK LTD.\",\"weights\":0.560000,\"qty\":13936137.0},{\"code\":\"2823\",\"ym\":null,\"name\":\"中壽\",\"ename\":\"CHINA LIFE INSURANCE COMPANY LTD.\",\"weights\":0.470000,\"qty\":6422032.0},{\"code\":\"2880\",\"ym\":null,\"name\":\"華南金\",\"ename\":\"HUA NAN FINANCIAL HOLDINGS CO.LTD.\",\"weights\":0.810000,\"qty\":19468290.0},{\"code\":\"2881\",\"ym\":null,\"name\":\"富邦金\",\"ename\":\"Fubon Financial Holding Co. Ltd.\",\"weights\":2.090000,\"qty\":17385767.0},{\"code\":\"2882\",\"ym\":null,\"name\":\"國泰金\",\"ename\":\"CATHAY FINANCIAL HOLDING CO. LTD.\",\"weights\":2.360000,\"qty\":18656551.0},{\"code\":\"2883\",\"ym\":null,\"name\":\"開發金\",\"ename\":\"CHINA DEVELOPMENT FINANCIAL HOLDING CORP.\",\"weights\":0.760000,\"qty\":32879166.0},{\"code\":\"2884\",\"ym\":null,\"name\":\"玉山金\",\"ename\":\"E.SUN FINANCIAL HOLDING COMPANYLTD.\",\"weights\":1.060000,\"qty\":22872204.0},{\"code\":\"2885\",\"ym\":null,\"name\":\"元大金\",\"ename\":\"Yuanta  Financial Holdings\",\"weights\":0.930000,\"qty\":27206768.0},{\"code\":\"2886\",\"ym\":null,\"name\":\"兆豐金\",\"ename\":\"Mega Financial Holding Company Ltd.\",\"weights\":1.520000,\"qty\":25764760.0},{\"code\":\"2887\",\"ym\":null,\"name\":\"台新金\",\"ename\":\"TAISHIN FINANCIAL HOLDING CO. LTD.\",\"weights\":0.750000,\"qty\":22425845.0},{\"code\":\"2890\",\"ym\":null,\"name\":\"永豐金\",\"ename\":\"SINOPAC  FINANCIAL HOLDINGS COMPANY LIMITED\",\"weights\":0.570000,\"qty\":24335694.0},{\"code\":\"2891\",\"ym\":null,\"name\":\"中信金\",\"ename\":\"CTBC FINANCIAL HOLDING CO. LTD.\",\"weights\":2.100000,\"qty\":42939361.0},{\"code\":\"2892\",\"ym\":null,\"name\":\"第一金\",\"ename\":\"First  Financial  Holding  Co.  Ltd.\",\"weights\":1.090000,\"qty\":22788318.0},{\"code\":\"2912\",\"ym\":null,\"name\":\"統一超\",\"ename\":\"PRESIDENT CHAIN STORE CORPORATION\",\"weights\":0.940000,\"qty\":1328809.0},{\"code\":\"3008\",\"ym\":null,\"name\":\"大立光\",\"ename\":\"LARGAN Precision Co.Ltd\",\"weights\":3.380000,\"qty\":242959.0},{\"code\":\"3045\",\"ym\":null,\"name\":\"台灣大\",\"ename\":\"TAIWAN  MOBILE  CO. LTD.\",\"weights\":1.020000,\"qty\":3771168.0},{\"code\":\"3481\",\"ym\":null,\"name\":\"群創\",\"ename\":\"INNOLUX CORPORATION\",\"weights\":0.670000,\"qty\":20371845.0},{\"code\":\"4904\",\"ym\":null,\"name\":\"遠傳\",\"ename\":\"Far EasTone Telecommunications Co. Ltd.\",\"weights\":0.680000,\"qty\":3781090.0},{\"code\":\"4938\",\"ym\":null,\"name\":\"和碩\",\"ename\":\"Pegatron Corporation\",\"weights\":0.800000,\"qty\":4671475.0},{\"code\":\"5880\",\"ym\":null,\"name\":\"合庫金\",\"ename\":\"Taiwan Cooperative Financial Holding Co.Ltd.\",\"weights\":0.850000,\"qty\":20806356.0},{\"code\":\"6505\",\"ym\":null,\"name\":\"台塑化\",\"ename\":\"Formosa Petrochemical Corp\",\"weights\":0.850000,\"qty\":3230155.0},{\"code\":\"9904\",\"ym\":null,\"name\":\"寶成\",\"ename\":\"Pou Chen Corporation\",\"weights\":0.590000,\"qty\":6280994.0}]'"
      ]
     },
     "execution_count": 1,
     "metadata": {},
     "output_type": "execute_result"
    }
   ],
   "source": [
    "import requests\n",
    "import pandas\n",
    "\n",
    "res = requests.get('http://www.yuantaetfs.com/api/StkWeights?date=&fundid=1066')\n",
    "#res.text"
   ]
  },
  {
   "cell_type": "code",
   "execution_count": 4,
   "metadata": {
    "collapsed": false
   },
   "outputs": [
    {
     "data": {
      "text/html": [
       "<div>\n",
       "<table border=\"1\" class=\"dataframe\">\n",
       "  <thead>\n",
       "    <tr style=\"text-align: right;\">\n",
       "      <th></th>\n",
       "      <th>code</th>\n",
       "      <th>ename</th>\n",
       "      <th>name</th>\n",
       "      <th>qty</th>\n",
       "      <th>weights</th>\n",
       "      <th>ym</th>\n",
       "    </tr>\n",
       "  </thead>\n",
       "  <tbody>\n",
       "    <tr>\n",
       "      <th>0</th>\n",
       "      <td>1101</td>\n",
       "      <td>Taiwan Cement Corp.</td>\n",
       "      <td>台泥</td>\n",
       "      <td>8401066</td>\n",
       "      <td>0.72</td>\n",
       "      <td>NaN</td>\n",
       "    </tr>\n",
       "    <tr>\n",
       "      <th>1</th>\n",
       "      <td>1102</td>\n",
       "      <td>Asia Cement Corporation</td>\n",
       "      <td>亞泥</td>\n",
       "      <td>5489210</td>\n",
       "      <td>0.37</td>\n",
       "      <td>NaN</td>\n",
       "    </tr>\n",
       "    <tr>\n",
       "      <th>2</th>\n",
       "      <td>1216</td>\n",
       "      <td>UNI-PRESIDENT ENTERPRISES CORP.</td>\n",
       "      <td>統一</td>\n",
       "      <td>11345703</td>\n",
       "      <td>1.83</td>\n",
       "      <td>NaN</td>\n",
       "    </tr>\n",
       "    <tr>\n",
       "      <th>3</th>\n",
       "      <td>1301</td>\n",
       "      <td>Formosa Plastics Corporation</td>\n",
       "      <td>台塑</td>\n",
       "      <td>11524358</td>\n",
       "      <td>2.67</td>\n",
       "      <td>NaN</td>\n",
       "    </tr>\n",
       "    <tr>\n",
       "      <th>4</th>\n",
       "      <td>1303</td>\n",
       "      <td>NAN YA PLASTICS CORPORATION</td>\n",
       "      <td>南亞</td>\n",
       "      <td>13362586</td>\n",
       "      <td>2.51</td>\n",
       "      <td>NaN</td>\n",
       "    </tr>\n",
       "  </tbody>\n",
       "</table>\n",
       "</div>"
      ],
      "text/plain": [
       "   code                            ename name       qty  weights  ym\n",
       "0  1101              Taiwan Cement Corp.   台泥   8401066     0.72 NaN\n",
       "1  1102          Asia Cement Corporation   亞泥   5489210     0.37 NaN\n",
       "2  1216  UNI-PRESIDENT ENTERPRISES CORP.   統一  11345703     1.83 NaN\n",
       "3  1301     Formosa Plastics Corporation   台塑  11524358     2.67 NaN\n",
       "4  1303      NAN YA PLASTICS CORPORATION   南亞  13362586     2.51 NaN"
      ]
     },
     "execution_count": 4,
     "metadata": {},
     "output_type": "execute_result"
    }
   ],
   "source": [
    "jd = pandas.read_json(res.text)\n",
    "jd.head()"
   ]
  }
 ],
 "metadata": {
  "kernelspec": {
   "display_name": "Python 3",
   "language": "python",
   "name": "python3"
  },
  "language_info": {
   "codemirror_mode": {
    "name": "ipython",
    "version": 3
   },
   "file_extension": ".py",
   "mimetype": "text/x-python",
   "name": "python",
   "nbconvert_exporter": "python",
   "pygments_lexer": "ipython3",
   "version": "3.5.2"
  }
 },
 "nbformat": 4,
 "nbformat_minor": 2
}
